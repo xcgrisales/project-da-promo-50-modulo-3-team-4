{
 "cells": [
  {
   "cell_type": "code",
   "execution_count": 5,
   "id": "42a0fa45",
   "metadata": {},
   "outputs": [],
   "source": [
    "# Importamos las librerías que necesitamos\n",
    "\n",
    "# Tratamiento de datos\n",
    "import pandas as pd\n",
    "import numpy as np\n",
    "\n",
    "# Visualización\n",
    "import matplotlib.pyplot as plt\n",
    "import seaborn as sns\n",
    "\n",
    "# Ocultamos las advertencias para evitar mensajes innecesarios\n",
    "import warnings\n",
    "warnings.filterwarnings(\"ignore\")\n",
    "\n",
    "# Configuración\n",
    "pd.set_option('display.max_columns', None) # para poder visualizar todas las columnas de los DataFrames"
   ]
  },
  {
   "cell_type": "code",
   "execution_count": 6,
   "id": "4b0c9acb",
   "metadata": {},
   "outputs": [
    {
     "data": {
      "application/vnd.microsoft.datawrangler.viewer.v0+json": {
       "columns": [
        {
         "name": "index",
         "rawType": "int64",
         "type": "integer"
        },
        {
         "name": "Unnamed: 0",
         "rawType": "int64",
         "type": "integer"
        },
        {
         "name": "age",
         "rawType": "object",
         "type": "string"
        },
        {
         "name": "attrition",
         "rawType": "object",
         "type": "string"
        },
        {
         "name": "businesstravel",
         "rawType": "object",
         "type": "unknown"
        },
        {
         "name": "dailyrate",
         "rawType": "float64",
         "type": "float"
        },
        {
         "name": "department",
         "rawType": "object",
         "type": "unknown"
        },
        {
         "name": "distancefromhome",
         "rawType": "int64",
         "type": "integer"
        },
        {
         "name": "education",
         "rawType": "int64",
         "type": "integer"
        },
        {
         "name": "educationfield",
         "rawType": "object",
         "type": "unknown"
        },
        {
         "name": "employeecount",
         "rawType": "int64",
         "type": "integer"
        },
        {
         "name": "employeenumber",
         "rawType": "int64",
         "type": "integer"
        },
        {
         "name": "environmentsatisfaction",
         "rawType": "int64",
         "type": "integer"
        },
        {
         "name": "gender",
         "rawType": "int64",
         "type": "integer"
        },
        {
         "name": "hourlyrate",
         "rawType": "float64",
         "type": "float"
        },
        {
         "name": "jobinvolvement",
         "rawType": "int64",
         "type": "integer"
        },
        {
         "name": "joblevel",
         "rawType": "int64",
         "type": "integer"
        },
        {
         "name": "jobrole",
         "rawType": "object",
         "type": "string"
        },
        {
         "name": "jobsatisfaction",
         "rawType": "int64",
         "type": "integer"
        },
        {
         "name": "maritalstatus",
         "rawType": "object",
         "type": "unknown"
        },
        {
         "name": "monthlyincome",
         "rawType": "object",
         "type": "unknown"
        },
        {
         "name": "monthlyrate",
         "rawType": "object",
         "type": "string"
        },
        {
         "name": "numcompaniesworked",
         "rawType": "int64",
         "type": "integer"
        },
        {
         "name": "over18",
         "rawType": "object",
         "type": "unknown"
        },
        {
         "name": "overtime",
         "rawType": "object",
         "type": "unknown"
        },
        {
         "name": "percentsalaryhike",
         "rawType": "int64",
         "type": "integer"
        },
        {
         "name": "performancerating",
         "rawType": "object",
         "type": "string"
        },
        {
         "name": "relationshipsatisfaction",
         "rawType": "int64",
         "type": "integer"
        },
        {
         "name": "standardhours",
         "rawType": "object",
         "type": "unknown"
        },
        {
         "name": "stockoptionlevel",
         "rawType": "int64",
         "type": "integer"
        },
        {
         "name": "totalworkingyears",
         "rawType": "object",
         "type": "unknown"
        },
        {
         "name": "trainingtimeslastyear",
         "rawType": "int64",
         "type": "integer"
        },
        {
         "name": "worklifebalance",
         "rawType": "object",
         "type": "unknown"
        },
        {
         "name": "yearsatcompany",
         "rawType": "int64",
         "type": "integer"
        },
        {
         "name": "yearsincurrentrole",
         "rawType": "object",
         "type": "unknown"
        },
        {
         "name": "yearssincelastpromotion",
         "rawType": "int64",
         "type": "integer"
        },
        {
         "name": "yearswithcurrmanager",
         "rawType": "int64",
         "type": "integer"
        },
        {
         "name": "sameasmonthlyincome",
         "rawType": "object",
         "type": "unknown"
        },
        {
         "name": "datebirth",
         "rawType": "int64",
         "type": "integer"
        },
        {
         "name": "salary",
         "rawType": "object",
         "type": "unknown"
        },
        {
         "name": "roledepartament",
         "rawType": "object",
         "type": "unknown"
        },
        {
         "name": "numberchildren",
         "rawType": "float64",
         "type": "float"
        },
        {
         "name": "remotework",
         "rawType": "object",
         "type": "string"
        }
       ],
       "ref": "40a3a67d-a91c-4da6-8c76-4e0676ef5577",
       "rows": [
        [
         "0",
         "0",
         "51",
         "No",
         null,
         "2015.7222222222224",
         null,
         "6",
         "3",
         null,
         "1",
         "1",
         "1",
         "0",
         null,
         "3",
         "5",
         " resEArch DIREcToR ",
         "3",
         null,
         "16280,83$",
         "42330,17$",
         "7",
         "Y",
         "No",
         "13",
         "3,0",
         "3",
         "Full Time",
         "0",
         null,
         "5",
         "3,0",
         "20",
         null,
         "15",
         "15",
         "16280,83$",
         "1972",
         "195370,00$",
         null,
         null,
         "Yes"
        ],
        [
         "1",
         "1",
         "52",
         "No",
         null,
         "2063.3888888888887",
         null,
         "1",
         "4",
         "Life Sciences",
         "1",
         "2",
         "3",
         "0",
         null,
         "2",
         "5",
         " ManAGeR ",
         "3",
         null,
         null,
         "43331,17$",
         "0",
         null,
         null,
         "14",
         "3,0",
         "1",
         null,
         "1",
         "34,0",
         "5",
         "3,0",
         "33",
         null,
         "11",
         "9",
         null,
         "1971",
         "199990,00$",
         null,
         null,
         "1"
        ],
        [
         "2",
         "2",
         "42",
         "No",
         "travel_rarely",
         "1984.253968253968",
         " Research & Development ",
         "4",
         "2",
         "Technical Degree",
         "1",
         "3",
         "3",
         "0",
         null,
         "3",
         "5",
         " ManaGER ",
         "4",
         "Married",
         null,
         "41669,33$",
         "1",
         null,
         "No",
         "11",
         "3,0",
         "4",
         null,
         "0",
         "22,0",
         "3",
         null,
         "22",
         null,
         "11",
         "15",
         null,
         "1981",
         "192320,00$",
         " ManaGER  -  Research & Development ",
         null,
         "1"
        ],
        [
         "3",
         "3",
         "47",
         "No",
         "travel_rarely",
         "1771.4047619047622",
         null,
         "2",
         "4",
         "Medical",
         "1",
         "4",
         "1",
         "1",
         null,
         "3",
         "4",
         " ReseArCH DIrECtOr ",
         "3",
         "Married",
         "14307,50$",
         "37199,50$",
         "3",
         "Y",
         null,
         "19",
         "3,0",
         "2",
         "Full Time",
         "2",
         null,
         "2",
         null,
         "20",
         null,
         "5",
         "6",
         "14307,50$",
         "1976",
         "171690,00$",
         null,
         null,
         "False"
        ],
        [
         "4",
         "4",
         "46",
         "No",
         null,
         "1582.7713464696226",
         null,
         "3",
         "3",
         "Technical Degree",
         "1",
         "5",
         "1",
         "1",
         null,
         "4",
         "4",
         " sAleS EXECUtIve ",
         "1",
         "Divorced",
         "12783,92$",
         "33238,20$",
         "2",
         "Y",
         "No",
         "12",
         "3,0",
         "4",
         null,
         "1",
         null,
         "5",
         "3,0",
         "19",
         null,
         "2",
         "8",
         "12783,92$",
         "1977",
         null,
         null,
         null,
         "0"
        ]
       ],
       "shape": {
        "columns": 42,
        "rows": 5
       }
      },
      "text/html": [
       "<div>\n",
       "<style scoped>\n",
       "    .dataframe tbody tr th:only-of-type {\n",
       "        vertical-align: middle;\n",
       "    }\n",
       "\n",
       "    .dataframe tbody tr th {\n",
       "        vertical-align: top;\n",
       "    }\n",
       "\n",
       "    .dataframe thead th {\n",
       "        text-align: right;\n",
       "    }\n",
       "</style>\n",
       "<table border=\"1\" class=\"dataframe\">\n",
       "  <thead>\n",
       "    <tr style=\"text-align: right;\">\n",
       "      <th></th>\n",
       "      <th>Unnamed: 0</th>\n",
       "      <th>age</th>\n",
       "      <th>attrition</th>\n",
       "      <th>businesstravel</th>\n",
       "      <th>dailyrate</th>\n",
       "      <th>department</th>\n",
       "      <th>distancefromhome</th>\n",
       "      <th>education</th>\n",
       "      <th>educationfield</th>\n",
       "      <th>employeecount</th>\n",
       "      <th>employeenumber</th>\n",
       "      <th>environmentsatisfaction</th>\n",
       "      <th>gender</th>\n",
       "      <th>hourlyrate</th>\n",
       "      <th>jobinvolvement</th>\n",
       "      <th>joblevel</th>\n",
       "      <th>jobrole</th>\n",
       "      <th>jobsatisfaction</th>\n",
       "      <th>maritalstatus</th>\n",
       "      <th>monthlyincome</th>\n",
       "      <th>monthlyrate</th>\n",
       "      <th>numcompaniesworked</th>\n",
       "      <th>over18</th>\n",
       "      <th>overtime</th>\n",
       "      <th>percentsalaryhike</th>\n",
       "      <th>performancerating</th>\n",
       "      <th>relationshipsatisfaction</th>\n",
       "      <th>standardhours</th>\n",
       "      <th>stockoptionlevel</th>\n",
       "      <th>totalworkingyears</th>\n",
       "      <th>trainingtimeslastyear</th>\n",
       "      <th>worklifebalance</th>\n",
       "      <th>yearsatcompany</th>\n",
       "      <th>yearsincurrentrole</th>\n",
       "      <th>yearssincelastpromotion</th>\n",
       "      <th>yearswithcurrmanager</th>\n",
       "      <th>sameasmonthlyincome</th>\n",
       "      <th>datebirth</th>\n",
       "      <th>salary</th>\n",
       "      <th>roledepartament</th>\n",
       "      <th>numberchildren</th>\n",
       "      <th>remotework</th>\n",
       "    </tr>\n",
       "  </thead>\n",
       "  <tbody>\n",
       "    <tr>\n",
       "      <th>0</th>\n",
       "      <td>0</td>\n",
       "      <td>51</td>\n",
       "      <td>No</td>\n",
       "      <td>NaN</td>\n",
       "      <td>2015.722222</td>\n",
       "      <td>NaN</td>\n",
       "      <td>6</td>\n",
       "      <td>3</td>\n",
       "      <td>NaN</td>\n",
       "      <td>1</td>\n",
       "      <td>1</td>\n",
       "      <td>1</td>\n",
       "      <td>0</td>\n",
       "      <td>NaN</td>\n",
       "      <td>3</td>\n",
       "      <td>5</td>\n",
       "      <td>resEArch DIREcToR</td>\n",
       "      <td>3</td>\n",
       "      <td>NaN</td>\n",
       "      <td>16280,83$</td>\n",
       "      <td>42330,17$</td>\n",
       "      <td>7</td>\n",
       "      <td>Y</td>\n",
       "      <td>No</td>\n",
       "      <td>13</td>\n",
       "      <td>3,0</td>\n",
       "      <td>3</td>\n",
       "      <td>Full Time</td>\n",
       "      <td>0</td>\n",
       "      <td>NaN</td>\n",
       "      <td>5</td>\n",
       "      <td>3,0</td>\n",
       "      <td>20</td>\n",
       "      <td>NaN</td>\n",
       "      <td>15</td>\n",
       "      <td>15</td>\n",
       "      <td>16280,83$</td>\n",
       "      <td>1972</td>\n",
       "      <td>195370,00$</td>\n",
       "      <td>NaN</td>\n",
       "      <td>NaN</td>\n",
       "      <td>Yes</td>\n",
       "    </tr>\n",
       "    <tr>\n",
       "      <th>1</th>\n",
       "      <td>1</td>\n",
       "      <td>52</td>\n",
       "      <td>No</td>\n",
       "      <td>NaN</td>\n",
       "      <td>2063.388889</td>\n",
       "      <td>NaN</td>\n",
       "      <td>1</td>\n",
       "      <td>4</td>\n",
       "      <td>Life Sciences</td>\n",
       "      <td>1</td>\n",
       "      <td>2</td>\n",
       "      <td>3</td>\n",
       "      <td>0</td>\n",
       "      <td>NaN</td>\n",
       "      <td>2</td>\n",
       "      <td>5</td>\n",
       "      <td>ManAGeR</td>\n",
       "      <td>3</td>\n",
       "      <td>NaN</td>\n",
       "      <td>NaN</td>\n",
       "      <td>43331,17$</td>\n",
       "      <td>0</td>\n",
       "      <td>NaN</td>\n",
       "      <td>NaN</td>\n",
       "      <td>14</td>\n",
       "      <td>3,0</td>\n",
       "      <td>1</td>\n",
       "      <td>NaN</td>\n",
       "      <td>1</td>\n",
       "      <td>34,0</td>\n",
       "      <td>5</td>\n",
       "      <td>3,0</td>\n",
       "      <td>33</td>\n",
       "      <td>NaN</td>\n",
       "      <td>11</td>\n",
       "      <td>9</td>\n",
       "      <td>NaN</td>\n",
       "      <td>1971</td>\n",
       "      <td>199990,00$</td>\n",
       "      <td>NaN</td>\n",
       "      <td>NaN</td>\n",
       "      <td>1</td>\n",
       "    </tr>\n",
       "    <tr>\n",
       "      <th>2</th>\n",
       "      <td>2</td>\n",
       "      <td>42</td>\n",
       "      <td>No</td>\n",
       "      <td>travel_rarely</td>\n",
       "      <td>1984.253968</td>\n",
       "      <td>Research &amp; Development</td>\n",
       "      <td>4</td>\n",
       "      <td>2</td>\n",
       "      <td>Technical Degree</td>\n",
       "      <td>1</td>\n",
       "      <td>3</td>\n",
       "      <td>3</td>\n",
       "      <td>0</td>\n",
       "      <td>NaN</td>\n",
       "      <td>3</td>\n",
       "      <td>5</td>\n",
       "      <td>ManaGER</td>\n",
       "      <td>4</td>\n",
       "      <td>Married</td>\n",
       "      <td>NaN</td>\n",
       "      <td>41669,33$</td>\n",
       "      <td>1</td>\n",
       "      <td>NaN</td>\n",
       "      <td>No</td>\n",
       "      <td>11</td>\n",
       "      <td>3,0</td>\n",
       "      <td>4</td>\n",
       "      <td>NaN</td>\n",
       "      <td>0</td>\n",
       "      <td>22,0</td>\n",
       "      <td>3</td>\n",
       "      <td>NaN</td>\n",
       "      <td>22</td>\n",
       "      <td>NaN</td>\n",
       "      <td>11</td>\n",
       "      <td>15</td>\n",
       "      <td>NaN</td>\n",
       "      <td>1981</td>\n",
       "      <td>192320,00$</td>\n",
       "      <td>ManaGER  -  Research &amp; Development</td>\n",
       "      <td>NaN</td>\n",
       "      <td>1</td>\n",
       "    </tr>\n",
       "    <tr>\n",
       "      <th>3</th>\n",
       "      <td>3</td>\n",
       "      <td>47</td>\n",
       "      <td>No</td>\n",
       "      <td>travel_rarely</td>\n",
       "      <td>1771.404762</td>\n",
       "      <td>NaN</td>\n",
       "      <td>2</td>\n",
       "      <td>4</td>\n",
       "      <td>Medical</td>\n",
       "      <td>1</td>\n",
       "      <td>4</td>\n",
       "      <td>1</td>\n",
       "      <td>1</td>\n",
       "      <td>NaN</td>\n",
       "      <td>3</td>\n",
       "      <td>4</td>\n",
       "      <td>ReseArCH DIrECtOr</td>\n",
       "      <td>3</td>\n",
       "      <td>Married</td>\n",
       "      <td>14307,50$</td>\n",
       "      <td>37199,50$</td>\n",
       "      <td>3</td>\n",
       "      <td>Y</td>\n",
       "      <td>NaN</td>\n",
       "      <td>19</td>\n",
       "      <td>3,0</td>\n",
       "      <td>2</td>\n",
       "      <td>Full Time</td>\n",
       "      <td>2</td>\n",
       "      <td>NaN</td>\n",
       "      <td>2</td>\n",
       "      <td>NaN</td>\n",
       "      <td>20</td>\n",
       "      <td>NaN</td>\n",
       "      <td>5</td>\n",
       "      <td>6</td>\n",
       "      <td>14307,50$</td>\n",
       "      <td>1976</td>\n",
       "      <td>171690,00$</td>\n",
       "      <td>NaN</td>\n",
       "      <td>NaN</td>\n",
       "      <td>False</td>\n",
       "    </tr>\n",
       "    <tr>\n",
       "      <th>4</th>\n",
       "      <td>4</td>\n",
       "      <td>46</td>\n",
       "      <td>No</td>\n",
       "      <td>NaN</td>\n",
       "      <td>1582.771346</td>\n",
       "      <td>NaN</td>\n",
       "      <td>3</td>\n",
       "      <td>3</td>\n",
       "      <td>Technical Degree</td>\n",
       "      <td>1</td>\n",
       "      <td>5</td>\n",
       "      <td>1</td>\n",
       "      <td>1</td>\n",
       "      <td>NaN</td>\n",
       "      <td>4</td>\n",
       "      <td>4</td>\n",
       "      <td>sAleS EXECUtIve</td>\n",
       "      <td>1</td>\n",
       "      <td>Divorced</td>\n",
       "      <td>12783,92$</td>\n",
       "      <td>33238,20$</td>\n",
       "      <td>2</td>\n",
       "      <td>Y</td>\n",
       "      <td>No</td>\n",
       "      <td>12</td>\n",
       "      <td>3,0</td>\n",
       "      <td>4</td>\n",
       "      <td>NaN</td>\n",
       "      <td>1</td>\n",
       "      <td>NaN</td>\n",
       "      <td>5</td>\n",
       "      <td>3,0</td>\n",
       "      <td>19</td>\n",
       "      <td>NaN</td>\n",
       "      <td>2</td>\n",
       "      <td>8</td>\n",
       "      <td>12783,92$</td>\n",
       "      <td>1977</td>\n",
       "      <td>NaN</td>\n",
       "      <td>NaN</td>\n",
       "      <td>NaN</td>\n",
       "      <td>0</td>\n",
       "    </tr>\n",
       "  </tbody>\n",
       "</table>\n",
       "</div>"
      ],
      "text/plain": [
       "   Unnamed: 0 age attrition businesstravel    dailyrate  \\\n",
       "0           0  51        No            NaN  2015.722222   \n",
       "1           1  52        No            NaN  2063.388889   \n",
       "2           2  42        No  travel_rarely  1984.253968   \n",
       "3           3  47        No  travel_rarely  1771.404762   \n",
       "4           4  46        No            NaN  1582.771346   \n",
       "\n",
       "                 department  distancefromhome  education    educationfield  \\\n",
       "0                       NaN                 6          3               NaN   \n",
       "1                       NaN                 1          4     Life Sciences   \n",
       "2   Research & Development                  4          2  Technical Degree   \n",
       "3                       NaN                 2          4           Medical   \n",
       "4                       NaN                 3          3  Technical Degree   \n",
       "\n",
       "   employeecount  employeenumber  environmentsatisfaction  gender  hourlyrate  \\\n",
       "0              1               1                        1       0         NaN   \n",
       "1              1               2                        3       0         NaN   \n",
       "2              1               3                        3       0         NaN   \n",
       "3              1               4                        1       1         NaN   \n",
       "4              1               5                        1       1         NaN   \n",
       "\n",
       "   jobinvolvement  joblevel              jobrole  jobsatisfaction  \\\n",
       "0               3         5   resEArch DIREcToR                 3   \n",
       "1               2         5             ManAGeR                 3   \n",
       "2               3         5             ManaGER                 4   \n",
       "3               3         4   ReseArCH DIrECtOr                 3   \n",
       "4               4         4     sAleS EXECUtIve                 1   \n",
       "\n",
       "  maritalstatus monthlyincome monthlyrate  numcompaniesworked over18 overtime  \\\n",
       "0           NaN     16280,83$   42330,17$                   7      Y       No   \n",
       "1           NaN           NaN   43331,17$                   0    NaN      NaN   \n",
       "2       Married           NaN   41669,33$                   1    NaN       No   \n",
       "3       Married     14307,50$   37199,50$                   3      Y      NaN   \n",
       "4      Divorced     12783,92$   33238,20$                   2      Y       No   \n",
       "\n",
       "   percentsalaryhike performancerating  relationshipsatisfaction  \\\n",
       "0                 13               3,0                         3   \n",
       "1                 14               3,0                         1   \n",
       "2                 11               3,0                         4   \n",
       "3                 19               3,0                         2   \n",
       "4                 12               3,0                         4   \n",
       "\n",
       "  standardhours  stockoptionlevel totalworkingyears  trainingtimeslastyear  \\\n",
       "0     Full Time                 0               NaN                      5   \n",
       "1           NaN                 1              34,0                      5   \n",
       "2           NaN                 0              22,0                      3   \n",
       "3     Full Time                 2               NaN                      2   \n",
       "4           NaN                 1               NaN                      5   \n",
       "\n",
       "  worklifebalance  yearsatcompany yearsincurrentrole  yearssincelastpromotion  \\\n",
       "0             3,0              20                NaN                       15   \n",
       "1             3,0              33                NaN                       11   \n",
       "2             NaN              22                NaN                       11   \n",
       "3             NaN              20                NaN                        5   \n",
       "4             3,0              19                NaN                        2   \n",
       "\n",
       "   yearswithcurrmanager sameasmonthlyincome  datebirth      salary  \\\n",
       "0                    15           16280,83$       1972  195370,00$   \n",
       "1                     9                 NaN       1971  199990,00$   \n",
       "2                    15                 NaN       1981  192320,00$   \n",
       "3                     6           14307,50$       1976  171690,00$   \n",
       "4                     8           12783,92$       1977         NaN   \n",
       "\n",
       "                        roledepartament  numberchildren remotework  \n",
       "0                                   NaN             NaN        Yes  \n",
       "1                                   NaN             NaN          1  \n",
       "2   ManaGER  -  Research & Development              NaN          1  \n",
       "3                                   NaN             NaN      False  \n",
       "4                                   NaN             NaN          0  "
      ]
     },
     "execution_count": 6,
     "metadata": {},
     "output_type": "execute_result"
    }
   ],
   "source": [
    "# Lo primero que hacemos es cargar el dataframe que vamos a usar\n",
    "df = pd.read_csv(\"spaces_hr_raw_data.csv\")\n",
    "df.head()"
   ]
  },
  {
   "cell_type": "code",
   "execution_count": 7,
   "id": "7136ca8a",
   "metadata": {},
   "outputs": [],
   "source": [
    "def shape(df):\n",
    "    print('Shape')\n",
    "    print(df.shape)\n",
    "    print(f\"The number of rows is {df.shape[0]}, and the number of columns is {df.shape[1]}\")\n",
    "    print('---------------------')\n",
    "    print('The columns are:')\n",
    "    print(df.columns)"
   ]
  },
  {
   "cell_type": "code",
   "execution_count": 8,
   "id": "889caa05",
   "metadata": {},
   "outputs": [
    {
     "name": "stdout",
     "output_type": "stream",
     "text": [
      "Shape\n",
      "(1678, 42)\n",
      "The number of rows is 1678, and the number of columns is 42\n",
      "---------------------\n",
      "The columns are:\n",
      "Index(['Unnamed: 0', 'age', 'attrition', 'businesstravel', 'dailyrate',\n",
      "       'department', 'distancefromhome', 'education', 'educationfield',\n",
      "       'employeecount', 'employeenumber', 'environmentsatisfaction', 'gender',\n",
      "       'hourlyrate', 'jobinvolvement', 'joblevel', 'jobrole',\n",
      "       'jobsatisfaction', 'maritalstatus', 'monthlyincome', 'monthlyrate',\n",
      "       'numcompaniesworked', 'over18', 'overtime', 'percentsalaryhike',\n",
      "       'performancerating', 'relationshipsatisfaction', 'standardhours',\n",
      "       'stockoptionlevel', 'totalworkingyears', 'trainingtimeslastyear',\n",
      "       'worklifebalance', 'yearsatcompany', 'yearsincurrentrole',\n",
      "       'yearssincelastpromotion', 'yearswithcurrmanager',\n",
      "       'sameasmonthlyincome', 'datebirth', 'salary', 'roledepartament',\n",
      "       'numberchildren', 'remotework'],\n",
      "      dtype='object')\n"
     ]
    }
   ],
   "source": [
    "shape(df)"
   ]
  },
  {
   "cell_type": "code",
   "execution_count": 9,
   "id": "39177932",
   "metadata": {},
   "outputs": [
    {
     "name": "stdout",
     "output_type": "stream",
     "text": [
      "<class 'pandas.core.frame.DataFrame'>\n",
      "RangeIndex: 1678 entries, 0 to 1677\n",
      "Data columns (total 42 columns):\n",
      " #   Column                    Non-Null Count  Dtype  \n",
      "---  ------                    --------------  -----  \n",
      " 0   Unnamed: 0                1678 non-null   int64  \n",
      " 1   age                       1678 non-null   object \n",
      " 2   attrition                 1678 non-null   object \n",
      " 3   businesstravel            877 non-null    object \n",
      " 4   dailyrate                 1678 non-null   float64\n",
      " 5   department                312 non-null    object \n",
      " 6   distancefromhome          1678 non-null   int64  \n",
      " 7   education                 1678 non-null   int64  \n",
      " 8   educationfield            904 non-null    object \n",
      " 9   employeecount             1678 non-null   int64  \n",
      " 10  employeenumber            1678 non-null   int64  \n",
      " 11  environmentsatisfaction   1678 non-null   int64  \n",
      " 12  gender                    1678 non-null   int64  \n",
      " 13  hourlyrate                411 non-null    float64\n",
      " 14  jobinvolvement            1678 non-null   int64  \n",
      " 15  joblevel                  1678 non-null   int64  \n",
      " 16  jobrole                   1678 non-null   object \n",
      " 17  jobsatisfaction           1678 non-null   int64  \n",
      " 18  maritalstatus             1003 non-null   object \n",
      " 19  monthlyincome             1189 non-null   object \n",
      " 20  monthlyrate               1678 non-null   object \n",
      " 21  numcompaniesworked        1678 non-null   int64  \n",
      " 22  over18                    740 non-null    object \n",
      " 23  overtime                  982 non-null    object \n",
      " 24  percentsalaryhike         1678 non-null   int64  \n",
      " 25  performancerating         1478 non-null   object \n",
      " 26  relationshipsatisfaction  1678 non-null   int64  \n",
      " 27  standardhours             1327 non-null   object \n",
      " 28  stockoptionlevel          1678 non-null   int64  \n",
      " 29  totalworkingyears         1129 non-null   object \n",
      " 30  trainingtimeslastyear     1678 non-null   int64  \n",
      " 31  worklifebalance           1564 non-null   object \n",
      " 32  yearsatcompany            1678 non-null   int64  \n",
      " 33  yearsincurrentrole        35 non-null     object \n",
      " 34  yearssincelastpromotion   1678 non-null   int64  \n",
      " 35  yearswithcurrmanager      1678 non-null   int64  \n",
      " 36  sameasmonthlyincome       1189 non-null   object \n",
      " 37  datebirth                 1678 non-null   int64  \n",
      " 38  salary                    1393 non-null   object \n",
      " 39  roledepartament           312 non-null    object \n",
      " 40  numberchildren            0 non-null      float64\n",
      " 41  remotework                1678 non-null   object \n",
      "dtypes: float64(3), int64(19), object(20)\n",
      "memory usage: 550.7+ KB\n"
     ]
    }
   ],
   "source": [
    "df.info()"
   ]
  },
  {
   "cell_type": "code",
   "execution_count": 10,
   "id": "b632bb17",
   "metadata": {},
   "outputs": [],
   "source": [
    "## Variables importantes: environmentsatisfaction, jobinvolvement\n",
    "# Variables explicativas: monthlyincome, overtime, worklifebalance, remotework, yearsatcompany, yearsincurrentrole, yearssincelastpromotion, percentsalaryhike, gender, salary, dailyrate, hourlyrate, standardhours\n",
    "#        numberchildren, businesstravel, distancefromhome, education, educationfield, age, trainingtimeslastyear, stockoptionlevel\n",
    "# Variables resultados: attrition, jobsatisfaction\n",
    "# Variables identificatorias: employeenumber"
   ]
  },
  {
   "cell_type": "code",
   "execution_count": 11,
   "id": "ea65e0cf",
   "metadata": {},
   "outputs": [
    {
     "data": {
      "text/plain": [
       "Index(['Unnamed: 0', 'age', 'attrition', 'businesstravel', 'dailyrate',\n",
       "       'department', 'distancefromhome', 'education', 'educationfield',\n",
       "       'employeecount', 'employeenumber', 'environmentsatisfaction', 'gender',\n",
       "       'hourlyrate', 'jobinvolvement', 'joblevel', 'jobrole',\n",
       "       'jobsatisfaction', 'maritalstatus', 'monthlyincome', 'monthlyrate',\n",
       "       'numcompaniesworked', 'over18', 'overtime', 'percentsalaryhike',\n",
       "       'performancerating', 'relationshipsatisfaction', 'standardhours',\n",
       "       'stockoptionlevel', 'totalworkingyears', 'trainingtimeslastyear',\n",
       "       'worklifebalance', 'yearsatcompany', 'yearsincurrentrole',\n",
       "       'yearssincelastpromotion', 'yearswithcurrmanager',\n",
       "       'sameasmonthlyincome', 'datebirth', 'salary', 'roledepartament',\n",
       "       'numberchildren', 'remotework'],\n",
       "      dtype='object')"
      ]
     },
     "execution_count": 11,
     "metadata": {},
     "output_type": "execute_result"
    }
   ],
   "source": [
    "df.columns"
   ]
  },
  {
   "cell_type": "code",
   "execution_count": 12,
   "id": "6069fb61",
   "metadata": {},
   "outputs": [
    {
     "data": {
      "application/vnd.microsoft.datawrangler.viewer.v0+json": {
       "columns": [
        {
         "name": "index",
         "rawType": "object",
         "type": "string"
        },
        {
         "name": "count",
         "rawType": "float64",
         "type": "float"
        },
        {
         "name": "mean",
         "rawType": "float64",
         "type": "float"
        },
        {
         "name": "std",
         "rawType": "float64",
         "type": "float"
        },
        {
         "name": "min",
         "rawType": "float64",
         "type": "float"
        },
        {
         "name": "25%",
         "rawType": "float64",
         "type": "float"
        },
        {
         "name": "50%",
         "rawType": "float64",
         "type": "float"
        },
        {
         "name": "75%",
         "rawType": "float64",
         "type": "float"
        },
        {
         "name": "max",
         "rawType": "float64",
         "type": "float"
        }
       ],
       "ref": "f568adee-949f-4dee-ae14-247f3644fc79",
       "rows": [
        [
         "Unnamed: 0",
         "1678.0",
         "838.5",
         "484.5411919193936",
         "0.0",
         "419.25",
         "838.5",
         "1257.75",
         "1677.0"
        ],
        [
         "dailyrate",
         "1678.0",
         "668.0797141758466",
         "470.7872977414673",
         "104.1031746031746",
         "290.03550973654063",
         "556.2566609977324",
         "971.9563492063493",
         "2063.3888888888887"
        ],
        [
         "distancefromhome",
         "1678.0",
         "4.5041716328963055",
         "14.652066324724254",
         "-49.0",
         "2.0",
         "5.0",
         "11.0",
         "29.0"
        ],
        [
         "education",
         "1678.0",
         "2.932657926102503",
         "1.0242702787086564",
         "1.0",
         "2.0",
         "3.0",
         "4.0",
         "5.0"
        ],
        [
         "employeecount",
         "1678.0",
         "1.0",
         "0.0",
         "1.0",
         "1.0",
         "1.0",
         "1.0",
         "1.0"
        ],
        [
         "employeenumber",
         "1678.0",
         "809.8599523241954",
         "467.0848671919138",
         "1.0",
         "403.25",
         "813.5",
         "1215.75",
         "1614.0"
        ],
        [
         "environmentsatisfaction",
         "1678.0",
         "4.264004767580453",
         "6.912695444705065",
         "1.0",
         "2.0",
         "3.0",
         "4.0",
         "49.0"
        ],
        [
         "gender",
         "1678.0",
         "0.398688915375447",
         "0.4897744577330694",
         "0.0",
         "0.0",
         "0.0",
         "1.0",
         "1.0"
        ],
        [
         "hourlyrate",
         "411.0",
         "83.14076792768908",
         "57.27210125953146",
         "13.012896825396826",
         "36.25443871706758",
         "69.53208262471655",
         "116.98710317460319",
         "255.96329365079364"
        ],
        [
         "jobinvolvement",
         "1678.0",
         "2.7407628128724673",
         "0.7103594224080388",
         "1.0",
         "2.0",
         "3.0",
         "3.0",
         "4.0"
        ],
        [
         "joblevel",
         "1678.0",
         "2.064362336114422",
         "1.0994249235903373",
         "1.0",
         "1.0",
         "2.0",
         "3.0",
         "5.0"
        ],
        [
         "jobsatisfaction",
         "1678.0",
         "2.743146603098927",
         "1.105171932577867",
         "1.0",
         "2.0",
         "3.0",
         "4.0",
         "4.0"
        ],
        [
         "numcompaniesworked",
         "1678.0",
         "2.6704410011918953",
         "2.5011331807067285",
         "0.0",
         "1.0",
         "2.0",
         "4.0",
         "9.0"
        ],
        [
         "percentsalaryhike",
         "1678.0",
         "15.15435041716329",
         "3.6496071330179443",
         "11.0",
         "12.0",
         "14.0",
         "18.0",
         "25.0"
        ],
        [
         "relationshipsatisfaction",
         "1678.0",
         "2.700238379022646",
         "1.0794938810138441",
         "1.0",
         "2.0",
         "3.0",
         "4.0",
         "4.0"
        ],
        [
         "stockoptionlevel",
         "1678.0",
         "0.7878426698450537",
         "0.8432523537941566",
         "0.0",
         "0.0",
         "1.0",
         "1.0",
         "3.0"
        ],
        [
         "trainingtimeslastyear",
         "1678.0",
         "2.795589988081049",
         "1.2886568485876653",
         "0.0",
         "2.0",
         "3.0",
         "3.0",
         "6.0"
        ],
        [
         "yearsatcompany",
         "1678.0",
         "7.124553039332539",
         "6.173836751600141",
         "0.0",
         "3.0",
         "5.0",
         "9.0",
         "40.0"
        ],
        [
         "yearssincelastpromotion",
         "1678.0",
         "2.2419547079856974",
         "3.246553733428978",
         "0.0",
         "0.0",
         "1.0",
         "3.0",
         "15.0"
        ],
        [
         "yearswithcurrmanager",
         "1678.0",
         "4.200238379022646",
         "3.5542243005250214",
         "0.0",
         "2.0",
         "3.0",
         "7.0",
         "17.0"
        ],
        [
         "datebirth",
         "1678.0",
         "1986.0470798569727",
         "9.154907534030492",
         "1963.0",
         "1980.0",
         "1987.0",
         "1993.0",
         "2005.0"
        ],
        [
         "numberchildren",
         "0.0",
         null,
         null,
         null,
         null,
         null,
         null,
         null
        ]
       ],
       "shape": {
        "columns": 8,
        "rows": 22
       }
      },
      "text/html": [
       "<div>\n",
       "<style scoped>\n",
       "    .dataframe tbody tr th:only-of-type {\n",
       "        vertical-align: middle;\n",
       "    }\n",
       "\n",
       "    .dataframe tbody tr th {\n",
       "        vertical-align: top;\n",
       "    }\n",
       "\n",
       "    .dataframe thead th {\n",
       "        text-align: right;\n",
       "    }\n",
       "</style>\n",
       "<table border=\"1\" class=\"dataframe\">\n",
       "  <thead>\n",
       "    <tr style=\"text-align: right;\">\n",
       "      <th></th>\n",
       "      <th>count</th>\n",
       "      <th>mean</th>\n",
       "      <th>std</th>\n",
       "      <th>min</th>\n",
       "      <th>25%</th>\n",
       "      <th>50%</th>\n",
       "      <th>75%</th>\n",
       "      <th>max</th>\n",
       "    </tr>\n",
       "  </thead>\n",
       "  <tbody>\n",
       "    <tr>\n",
       "      <th>Unnamed: 0</th>\n",
       "      <td>1678.0</td>\n",
       "      <td>838.500000</td>\n",
       "      <td>484.541192</td>\n",
       "      <td>0.000000</td>\n",
       "      <td>419.250000</td>\n",
       "      <td>838.500000</td>\n",
       "      <td>1257.750000</td>\n",
       "      <td>1677.000000</td>\n",
       "    </tr>\n",
       "    <tr>\n",
       "      <th>dailyrate</th>\n",
       "      <td>1678.0</td>\n",
       "      <td>668.079714</td>\n",
       "      <td>470.787298</td>\n",
       "      <td>104.103175</td>\n",
       "      <td>290.035510</td>\n",
       "      <td>556.256661</td>\n",
       "      <td>971.956349</td>\n",
       "      <td>2063.388889</td>\n",
       "    </tr>\n",
       "    <tr>\n",
       "      <th>distancefromhome</th>\n",
       "      <td>1678.0</td>\n",
       "      <td>4.504172</td>\n",
       "      <td>14.652066</td>\n",
       "      <td>-49.000000</td>\n",
       "      <td>2.000000</td>\n",
       "      <td>5.000000</td>\n",
       "      <td>11.000000</td>\n",
       "      <td>29.000000</td>\n",
       "    </tr>\n",
       "    <tr>\n",
       "      <th>education</th>\n",
       "      <td>1678.0</td>\n",
       "      <td>2.932658</td>\n",
       "      <td>1.024270</td>\n",
       "      <td>1.000000</td>\n",
       "      <td>2.000000</td>\n",
       "      <td>3.000000</td>\n",
       "      <td>4.000000</td>\n",
       "      <td>5.000000</td>\n",
       "    </tr>\n",
       "    <tr>\n",
       "      <th>employeecount</th>\n",
       "      <td>1678.0</td>\n",
       "      <td>1.000000</td>\n",
       "      <td>0.000000</td>\n",
       "      <td>1.000000</td>\n",
       "      <td>1.000000</td>\n",
       "      <td>1.000000</td>\n",
       "      <td>1.000000</td>\n",
       "      <td>1.000000</td>\n",
       "    </tr>\n",
       "    <tr>\n",
       "      <th>employeenumber</th>\n",
       "      <td>1678.0</td>\n",
       "      <td>809.859952</td>\n",
       "      <td>467.084867</td>\n",
       "      <td>1.000000</td>\n",
       "      <td>403.250000</td>\n",
       "      <td>813.500000</td>\n",
       "      <td>1215.750000</td>\n",
       "      <td>1614.000000</td>\n",
       "    </tr>\n",
       "    <tr>\n",
       "      <th>environmentsatisfaction</th>\n",
       "      <td>1678.0</td>\n",
       "      <td>4.264005</td>\n",
       "      <td>6.912695</td>\n",
       "      <td>1.000000</td>\n",
       "      <td>2.000000</td>\n",
       "      <td>3.000000</td>\n",
       "      <td>4.000000</td>\n",
       "      <td>49.000000</td>\n",
       "    </tr>\n",
       "    <tr>\n",
       "      <th>gender</th>\n",
       "      <td>1678.0</td>\n",
       "      <td>0.398689</td>\n",
       "      <td>0.489774</td>\n",
       "      <td>0.000000</td>\n",
       "      <td>0.000000</td>\n",
       "      <td>0.000000</td>\n",
       "      <td>1.000000</td>\n",
       "      <td>1.000000</td>\n",
       "    </tr>\n",
       "    <tr>\n",
       "      <th>hourlyrate</th>\n",
       "      <td>411.0</td>\n",
       "      <td>83.140768</td>\n",
       "      <td>57.272101</td>\n",
       "      <td>13.012897</td>\n",
       "      <td>36.254439</td>\n",
       "      <td>69.532083</td>\n",
       "      <td>116.987103</td>\n",
       "      <td>255.963294</td>\n",
       "    </tr>\n",
       "    <tr>\n",
       "      <th>jobinvolvement</th>\n",
       "      <td>1678.0</td>\n",
       "      <td>2.740763</td>\n",
       "      <td>0.710359</td>\n",
       "      <td>1.000000</td>\n",
       "      <td>2.000000</td>\n",
       "      <td>3.000000</td>\n",
       "      <td>3.000000</td>\n",
       "      <td>4.000000</td>\n",
       "    </tr>\n",
       "    <tr>\n",
       "      <th>joblevel</th>\n",
       "      <td>1678.0</td>\n",
       "      <td>2.064362</td>\n",
       "      <td>1.099425</td>\n",
       "      <td>1.000000</td>\n",
       "      <td>1.000000</td>\n",
       "      <td>2.000000</td>\n",
       "      <td>3.000000</td>\n",
       "      <td>5.000000</td>\n",
       "    </tr>\n",
       "    <tr>\n",
       "      <th>jobsatisfaction</th>\n",
       "      <td>1678.0</td>\n",
       "      <td>2.743147</td>\n",
       "      <td>1.105172</td>\n",
       "      <td>1.000000</td>\n",
       "      <td>2.000000</td>\n",
       "      <td>3.000000</td>\n",
       "      <td>4.000000</td>\n",
       "      <td>4.000000</td>\n",
       "    </tr>\n",
       "    <tr>\n",
       "      <th>numcompaniesworked</th>\n",
       "      <td>1678.0</td>\n",
       "      <td>2.670441</td>\n",
       "      <td>2.501133</td>\n",
       "      <td>0.000000</td>\n",
       "      <td>1.000000</td>\n",
       "      <td>2.000000</td>\n",
       "      <td>4.000000</td>\n",
       "      <td>9.000000</td>\n",
       "    </tr>\n",
       "    <tr>\n",
       "      <th>percentsalaryhike</th>\n",
       "      <td>1678.0</td>\n",
       "      <td>15.154350</td>\n",
       "      <td>3.649607</td>\n",
       "      <td>11.000000</td>\n",
       "      <td>12.000000</td>\n",
       "      <td>14.000000</td>\n",
       "      <td>18.000000</td>\n",
       "      <td>25.000000</td>\n",
       "    </tr>\n",
       "    <tr>\n",
       "      <th>relationshipsatisfaction</th>\n",
       "      <td>1678.0</td>\n",
       "      <td>2.700238</td>\n",
       "      <td>1.079494</td>\n",
       "      <td>1.000000</td>\n",
       "      <td>2.000000</td>\n",
       "      <td>3.000000</td>\n",
       "      <td>4.000000</td>\n",
       "      <td>4.000000</td>\n",
       "    </tr>\n",
       "    <tr>\n",
       "      <th>stockoptionlevel</th>\n",
       "      <td>1678.0</td>\n",
       "      <td>0.787843</td>\n",
       "      <td>0.843252</td>\n",
       "      <td>0.000000</td>\n",
       "      <td>0.000000</td>\n",
       "      <td>1.000000</td>\n",
       "      <td>1.000000</td>\n",
       "      <td>3.000000</td>\n",
       "    </tr>\n",
       "    <tr>\n",
       "      <th>trainingtimeslastyear</th>\n",
       "      <td>1678.0</td>\n",
       "      <td>2.795590</td>\n",
       "      <td>1.288657</td>\n",
       "      <td>0.000000</td>\n",
       "      <td>2.000000</td>\n",
       "      <td>3.000000</td>\n",
       "      <td>3.000000</td>\n",
       "      <td>6.000000</td>\n",
       "    </tr>\n",
       "    <tr>\n",
       "      <th>yearsatcompany</th>\n",
       "      <td>1678.0</td>\n",
       "      <td>7.124553</td>\n",
       "      <td>6.173837</td>\n",
       "      <td>0.000000</td>\n",
       "      <td>3.000000</td>\n",
       "      <td>5.000000</td>\n",
       "      <td>9.000000</td>\n",
       "      <td>40.000000</td>\n",
       "    </tr>\n",
       "    <tr>\n",
       "      <th>yearssincelastpromotion</th>\n",
       "      <td>1678.0</td>\n",
       "      <td>2.241955</td>\n",
       "      <td>3.246554</td>\n",
       "      <td>0.000000</td>\n",
       "      <td>0.000000</td>\n",
       "      <td>1.000000</td>\n",
       "      <td>3.000000</td>\n",
       "      <td>15.000000</td>\n",
       "    </tr>\n",
       "    <tr>\n",
       "      <th>yearswithcurrmanager</th>\n",
       "      <td>1678.0</td>\n",
       "      <td>4.200238</td>\n",
       "      <td>3.554224</td>\n",
       "      <td>0.000000</td>\n",
       "      <td>2.000000</td>\n",
       "      <td>3.000000</td>\n",
       "      <td>7.000000</td>\n",
       "      <td>17.000000</td>\n",
       "    </tr>\n",
       "    <tr>\n",
       "      <th>datebirth</th>\n",
       "      <td>1678.0</td>\n",
       "      <td>1986.047080</td>\n",
       "      <td>9.154908</td>\n",
       "      <td>1963.000000</td>\n",
       "      <td>1980.000000</td>\n",
       "      <td>1987.000000</td>\n",
       "      <td>1993.000000</td>\n",
       "      <td>2005.000000</td>\n",
       "    </tr>\n",
       "    <tr>\n",
       "      <th>numberchildren</th>\n",
       "      <td>0.0</td>\n",
       "      <td>NaN</td>\n",
       "      <td>NaN</td>\n",
       "      <td>NaN</td>\n",
       "      <td>NaN</td>\n",
       "      <td>NaN</td>\n",
       "      <td>NaN</td>\n",
       "      <td>NaN</td>\n",
       "    </tr>\n",
       "  </tbody>\n",
       "</table>\n",
       "</div>"
      ],
      "text/plain": [
       "                           count         mean         std          min  \\\n",
       "Unnamed: 0                1678.0   838.500000  484.541192     0.000000   \n",
       "dailyrate                 1678.0   668.079714  470.787298   104.103175   \n",
       "distancefromhome          1678.0     4.504172   14.652066   -49.000000   \n",
       "education                 1678.0     2.932658    1.024270     1.000000   \n",
       "employeecount             1678.0     1.000000    0.000000     1.000000   \n",
       "employeenumber            1678.0   809.859952  467.084867     1.000000   \n",
       "environmentsatisfaction   1678.0     4.264005    6.912695     1.000000   \n",
       "gender                    1678.0     0.398689    0.489774     0.000000   \n",
       "hourlyrate                 411.0    83.140768   57.272101    13.012897   \n",
       "jobinvolvement            1678.0     2.740763    0.710359     1.000000   \n",
       "joblevel                  1678.0     2.064362    1.099425     1.000000   \n",
       "jobsatisfaction           1678.0     2.743147    1.105172     1.000000   \n",
       "numcompaniesworked        1678.0     2.670441    2.501133     0.000000   \n",
       "percentsalaryhike         1678.0    15.154350    3.649607    11.000000   \n",
       "relationshipsatisfaction  1678.0     2.700238    1.079494     1.000000   \n",
       "stockoptionlevel          1678.0     0.787843    0.843252     0.000000   \n",
       "trainingtimeslastyear     1678.0     2.795590    1.288657     0.000000   \n",
       "yearsatcompany            1678.0     7.124553    6.173837     0.000000   \n",
       "yearssincelastpromotion   1678.0     2.241955    3.246554     0.000000   \n",
       "yearswithcurrmanager      1678.0     4.200238    3.554224     0.000000   \n",
       "datebirth                 1678.0  1986.047080    9.154908  1963.000000   \n",
       "numberchildren               0.0          NaN         NaN          NaN   \n",
       "\n",
       "                                  25%          50%          75%          max  \n",
       "Unnamed: 0                 419.250000   838.500000  1257.750000  1677.000000  \n",
       "dailyrate                  290.035510   556.256661   971.956349  2063.388889  \n",
       "distancefromhome             2.000000     5.000000    11.000000    29.000000  \n",
       "education                    2.000000     3.000000     4.000000     5.000000  \n",
       "employeecount                1.000000     1.000000     1.000000     1.000000  \n",
       "employeenumber             403.250000   813.500000  1215.750000  1614.000000  \n",
       "environmentsatisfaction      2.000000     3.000000     4.000000    49.000000  \n",
       "gender                       0.000000     0.000000     1.000000     1.000000  \n",
       "hourlyrate                  36.254439    69.532083   116.987103   255.963294  \n",
       "jobinvolvement               2.000000     3.000000     3.000000     4.000000  \n",
       "joblevel                     1.000000     2.000000     3.000000     5.000000  \n",
       "jobsatisfaction              2.000000     3.000000     4.000000     4.000000  \n",
       "numcompaniesworked           1.000000     2.000000     4.000000     9.000000  \n",
       "percentsalaryhike           12.000000    14.000000    18.000000    25.000000  \n",
       "relationshipsatisfaction     2.000000     3.000000     4.000000     4.000000  \n",
       "stockoptionlevel             0.000000     1.000000     1.000000     3.000000  \n",
       "trainingtimeslastyear        2.000000     3.000000     3.000000     6.000000  \n",
       "yearsatcompany               3.000000     5.000000     9.000000    40.000000  \n",
       "yearssincelastpromotion      0.000000     1.000000     3.000000    15.000000  \n",
       "yearswithcurrmanager         2.000000     3.000000     7.000000    17.000000  \n",
       "datebirth                 1980.000000  1987.000000  1993.000000  2005.000000  \n",
       "numberchildren                    NaN          NaN          NaN          NaN  "
      ]
     },
     "execution_count": 12,
     "metadata": {},
     "output_type": "execute_result"
    }
   ],
   "source": [
    "df.describe().T"
   ]
  },
  {
   "cell_type": "code",
   "execution_count": 13,
   "id": "de5bd7c3",
   "metadata": {},
   "outputs": [
    {
     "data": {
      "application/vnd.microsoft.datawrangler.viewer.v0+json": {
       "columns": [
        {
         "name": "index",
         "rawType": "object",
         "type": "string"
        },
        {
         "name": "0",
         "rawType": "float64",
         "type": "float"
        }
       ],
       "ref": "a0f0d2b6-3e03-4df5-98dd-14c11515938a",
       "rows": [
        [
         "Unnamed: 0",
         "0.0"
        ],
        [
         "age",
         "0.0"
        ],
        [
         "attrition",
         "0.0"
        ],
        [
         "businesstravel",
         "47.735399284862936"
        ],
        [
         "dailyrate",
         "0.0"
        ],
        [
         "department",
         "81.40643623361144"
        ],
        [
         "distancefromhome",
         "0.0"
        ],
        [
         "education",
         "0.0"
        ],
        [
         "educationfield",
         "46.12634088200238"
        ],
        [
         "employeecount",
         "0.0"
        ],
        [
         "employeenumber",
         "0.0"
        ],
        [
         "environmentsatisfaction",
         "0.0"
        ],
        [
         "gender",
         "0.0"
        ],
        [
         "hourlyrate",
         "75.50655542312276"
        ],
        [
         "jobinvolvement",
         "0.0"
        ],
        [
         "joblevel",
         "0.0"
        ],
        [
         "jobrole",
         "0.0"
        ],
        [
         "jobsatisfaction",
         "0.0"
        ],
        [
         "maritalstatus",
         "40.226460071513706"
        ],
        [
         "monthlyincome",
         "29.141835518474373"
        ],
        [
         "monthlyrate",
         "0.0"
        ],
        [
         "numcompaniesworked",
         "0.0"
        ],
        [
         "over18",
         "55.899880810488675"
        ],
        [
         "overtime",
         "41.477949940405246"
        ],
        [
         "percentsalaryhike",
         "0.0"
        ],
        [
         "performancerating",
         "11.918951132300357"
        ],
        [
         "relationshipsatisfaction",
         "0.0"
        ],
        [
         "standardhours",
         "20.917759237187127"
        ],
        [
         "stockoptionlevel",
         "0.0"
        ],
        [
         "totalworkingyears",
         "32.717520858164484"
        ],
        [
         "trainingtimeslastyear",
         "0.0"
        ],
        [
         "worklifebalance",
         "6.793802145411204"
        ],
        [
         "yearsatcompany",
         "0.0"
        ],
        [
         "yearsincurrentrole",
         "97.91418355184743"
        ],
        [
         "yearssincelastpromotion",
         "0.0"
        ],
        [
         "yearswithcurrmanager",
         "0.0"
        ],
        [
         "sameasmonthlyincome",
         "29.141835518474373"
        ],
        [
         "datebirth",
         "0.0"
        ],
        [
         "salary",
         "16.98450536352801"
        ],
        [
         "roledepartament",
         "81.40643623361144"
        ],
        [
         "numberchildren",
         "100.0"
        ],
        [
         "remotework",
         "0.0"
        ]
       ],
       "shape": {
        "columns": 1,
        "rows": 42
       }
      },
      "text/plain": [
       "Unnamed: 0                    0.000000\n",
       "age                           0.000000\n",
       "attrition                     0.000000\n",
       "businesstravel               47.735399\n",
       "dailyrate                     0.000000\n",
       "department                   81.406436\n",
       "distancefromhome              0.000000\n",
       "education                     0.000000\n",
       "educationfield               46.126341\n",
       "employeecount                 0.000000\n",
       "employeenumber                0.000000\n",
       "environmentsatisfaction       0.000000\n",
       "gender                        0.000000\n",
       "hourlyrate                   75.506555\n",
       "jobinvolvement                0.000000\n",
       "joblevel                      0.000000\n",
       "jobrole                       0.000000\n",
       "jobsatisfaction               0.000000\n",
       "maritalstatus                40.226460\n",
       "monthlyincome                29.141836\n",
       "monthlyrate                   0.000000\n",
       "numcompaniesworked            0.000000\n",
       "over18                       55.899881\n",
       "overtime                     41.477950\n",
       "percentsalaryhike             0.000000\n",
       "performancerating            11.918951\n",
       "relationshipsatisfaction      0.000000\n",
       "standardhours                20.917759\n",
       "stockoptionlevel              0.000000\n",
       "totalworkingyears            32.717521\n",
       "trainingtimeslastyear         0.000000\n",
       "worklifebalance               6.793802\n",
       "yearsatcompany                0.000000\n",
       "yearsincurrentrole           97.914184\n",
       "yearssincelastpromotion       0.000000\n",
       "yearswithcurrmanager          0.000000\n",
       "sameasmonthlyincome          29.141836\n",
       "datebirth                     0.000000\n",
       "salary                       16.984505\n",
       "roledepartament              81.406436\n",
       "numberchildren              100.000000\n",
       "remotework                    0.000000\n",
       "dtype: float64"
      ]
     },
     "execution_count": 13,
     "metadata": {},
     "output_type": "execute_result"
    }
   ],
   "source": [
    "df.isnull().sum()/df.shape[0]*100"
   ]
  },
  {
   "cell_type": "code",
   "execution_count": 14,
   "id": "3d87a7c6",
   "metadata": {},
   "outputs": [],
   "source": [
    "# Variables con valores nulos\n",
    "def nulls(df,count=0,share=0):\n",
    "    \n",
    "    nulls = df.isnull().sum()\n",
    "    nulls_share = df.isnull().sum()/df.shape[0]*100\n",
    "    with_nulls_share = nulls_share[nulls_share > 0]\n",
    "    \n",
    "    if count == 1:\n",
    "        print('Count of nulls')\n",
    "        with_nulls = nulls[nulls > 0]\n",
    "        print (with_nulls.sort_values(ascending=False))\n",
    "        print('-----------------------------------')\n",
    "    \n",
    "    if share == 1:\n",
    "        print('share of nulls')\n",
    "        print (with_nulls_share.sort_values(ascending=False))\n",
    "    \n",
    "    nulls_list = with_nulls_share.to_frame(name='perc_nulos').reset_index().rename(columns={'index': 'var'})\n",
    "    \n",
    "    return nulls_list"
   ]
  },
  {
   "cell_type": "code",
   "execution_count": 15,
   "id": "1137ea97",
   "metadata": {},
   "outputs": [
    {
     "name": "stdout",
     "output_type": "stream",
     "text": [
      "Count of nulls\n",
      "numberchildren         1678\n",
      "yearsincurrentrole     1643\n",
      "roledepartament        1366\n",
      "department             1366\n",
      "hourlyrate             1267\n",
      "over18                  938\n",
      "businesstravel          801\n",
      "educationfield          774\n",
      "overtime                696\n",
      "maritalstatus           675\n",
      "totalworkingyears       549\n",
      "monthlyincome           489\n",
      "sameasmonthlyincome     489\n",
      "standardhours           351\n",
      "salary                  285\n",
      "performancerating       200\n",
      "worklifebalance         114\n",
      "dtype: int64\n",
      "-----------------------------------\n",
      "share of nulls\n",
      "numberchildren         100.000000\n",
      "yearsincurrentrole      97.914184\n",
      "roledepartament         81.406436\n",
      "department              81.406436\n",
      "hourlyrate              75.506555\n",
      "over18                  55.899881\n",
      "businesstravel          47.735399\n",
      "educationfield          46.126341\n",
      "overtime                41.477950\n",
      "maritalstatus           40.226460\n",
      "totalworkingyears       32.717521\n",
      "monthlyincome           29.141836\n",
      "sameasmonthlyincome     29.141836\n",
      "standardhours           20.917759\n",
      "salary                  16.984505\n",
      "performancerating       11.918951\n",
      "worklifebalance          6.793802\n",
      "dtype: float64\n"
     ]
    },
    {
     "data": {
      "application/vnd.microsoft.datawrangler.viewer.v0+json": {
       "columns": [
        {
         "name": "index",
         "rawType": "int64",
         "type": "integer"
        },
        {
         "name": "var",
         "rawType": "object",
         "type": "string"
        },
        {
         "name": "perc_nulos",
         "rawType": "float64",
         "type": "float"
        }
       ],
       "ref": "ba868958-b258-457c-b305-783e3e6d2c3b",
       "rows": [
        [
         "0",
         "businesstravel",
         "47.735399284862936"
        ],
        [
         "1",
         "department",
         "81.40643623361144"
        ],
        [
         "2",
         "educationfield",
         "46.12634088200238"
        ],
        [
         "3",
         "hourlyrate",
         "75.50655542312276"
        ],
        [
         "4",
         "maritalstatus",
         "40.226460071513706"
        ],
        [
         "5",
         "monthlyincome",
         "29.141835518474373"
        ],
        [
         "6",
         "over18",
         "55.899880810488675"
        ],
        [
         "7",
         "overtime",
         "41.477949940405246"
        ],
        [
         "8",
         "performancerating",
         "11.918951132300357"
        ],
        [
         "9",
         "standardhours",
         "20.917759237187127"
        ],
        [
         "10",
         "totalworkingyears",
         "32.717520858164484"
        ],
        [
         "11",
         "worklifebalance",
         "6.793802145411204"
        ],
        [
         "12",
         "yearsincurrentrole",
         "97.91418355184743"
        ],
        [
         "13",
         "sameasmonthlyincome",
         "29.141835518474373"
        ],
        [
         "14",
         "salary",
         "16.98450536352801"
        ],
        [
         "15",
         "roledepartament",
         "81.40643623361144"
        ],
        [
         "16",
         "numberchildren",
         "100.0"
        ]
       ],
       "shape": {
        "columns": 2,
        "rows": 17
       }
      },
      "text/html": [
       "<div>\n",
       "<style scoped>\n",
       "    .dataframe tbody tr th:only-of-type {\n",
       "        vertical-align: middle;\n",
       "    }\n",
       "\n",
       "    .dataframe tbody tr th {\n",
       "        vertical-align: top;\n",
       "    }\n",
       "\n",
       "    .dataframe thead th {\n",
       "        text-align: right;\n",
       "    }\n",
       "</style>\n",
       "<table border=\"1\" class=\"dataframe\">\n",
       "  <thead>\n",
       "    <tr style=\"text-align: right;\">\n",
       "      <th></th>\n",
       "      <th>var</th>\n",
       "      <th>perc_nulos</th>\n",
       "    </tr>\n",
       "  </thead>\n",
       "  <tbody>\n",
       "    <tr>\n",
       "      <th>0</th>\n",
       "      <td>businesstravel</td>\n",
       "      <td>47.735399</td>\n",
       "    </tr>\n",
       "    <tr>\n",
       "      <th>1</th>\n",
       "      <td>department</td>\n",
       "      <td>81.406436</td>\n",
       "    </tr>\n",
       "    <tr>\n",
       "      <th>2</th>\n",
       "      <td>educationfield</td>\n",
       "      <td>46.126341</td>\n",
       "    </tr>\n",
       "    <tr>\n",
       "      <th>3</th>\n",
       "      <td>hourlyrate</td>\n",
       "      <td>75.506555</td>\n",
       "    </tr>\n",
       "    <tr>\n",
       "      <th>4</th>\n",
       "      <td>maritalstatus</td>\n",
       "      <td>40.226460</td>\n",
       "    </tr>\n",
       "    <tr>\n",
       "      <th>5</th>\n",
       "      <td>monthlyincome</td>\n",
       "      <td>29.141836</td>\n",
       "    </tr>\n",
       "    <tr>\n",
       "      <th>6</th>\n",
       "      <td>over18</td>\n",
       "      <td>55.899881</td>\n",
       "    </tr>\n",
       "    <tr>\n",
       "      <th>7</th>\n",
       "      <td>overtime</td>\n",
       "      <td>41.477950</td>\n",
       "    </tr>\n",
       "    <tr>\n",
       "      <th>8</th>\n",
       "      <td>performancerating</td>\n",
       "      <td>11.918951</td>\n",
       "    </tr>\n",
       "    <tr>\n",
       "      <th>9</th>\n",
       "      <td>standardhours</td>\n",
       "      <td>20.917759</td>\n",
       "    </tr>\n",
       "    <tr>\n",
       "      <th>10</th>\n",
       "      <td>totalworkingyears</td>\n",
       "      <td>32.717521</td>\n",
       "    </tr>\n",
       "    <tr>\n",
       "      <th>11</th>\n",
       "      <td>worklifebalance</td>\n",
       "      <td>6.793802</td>\n",
       "    </tr>\n",
       "    <tr>\n",
       "      <th>12</th>\n",
       "      <td>yearsincurrentrole</td>\n",
       "      <td>97.914184</td>\n",
       "    </tr>\n",
       "    <tr>\n",
       "      <th>13</th>\n",
       "      <td>sameasmonthlyincome</td>\n",
       "      <td>29.141836</td>\n",
       "    </tr>\n",
       "    <tr>\n",
       "      <th>14</th>\n",
       "      <td>salary</td>\n",
       "      <td>16.984505</td>\n",
       "    </tr>\n",
       "    <tr>\n",
       "      <th>15</th>\n",
       "      <td>roledepartament</td>\n",
       "      <td>81.406436</td>\n",
       "    </tr>\n",
       "    <tr>\n",
       "      <th>16</th>\n",
       "      <td>numberchildren</td>\n",
       "      <td>100.000000</td>\n",
       "    </tr>\n",
       "  </tbody>\n",
       "</table>\n",
       "</div>"
      ],
      "text/plain": [
       "                    var  perc_nulos\n",
       "0        businesstravel   47.735399\n",
       "1            department   81.406436\n",
       "2        educationfield   46.126341\n",
       "3            hourlyrate   75.506555\n",
       "4         maritalstatus   40.226460\n",
       "5         monthlyincome   29.141836\n",
       "6                over18   55.899881\n",
       "7              overtime   41.477950\n",
       "8     performancerating   11.918951\n",
       "9         standardhours   20.917759\n",
       "10    totalworkingyears   32.717521\n",
       "11      worklifebalance    6.793802\n",
       "12   yearsincurrentrole   97.914184\n",
       "13  sameasmonthlyincome   29.141836\n",
       "14               salary   16.984505\n",
       "15      roledepartament   81.406436\n",
       "16       numberchildren  100.000000"
      ]
     },
     "execution_count": 15,
     "metadata": {},
     "output_type": "execute_result"
    }
   ],
   "source": [
    "nulls(df,1,1)"
   ]
  },
  {
   "cell_type": "code",
   "execution_count": 16,
   "id": "67f4f85d",
   "metadata": {},
   "outputs": [
    {
     "data": {
      "application/vnd.microsoft.datawrangler.viewer.v0+json": {
       "columns": [
        {
         "name": "index",
         "rawType": "object",
         "type": "string"
        },
        {
         "name": "department",
         "rawType": "object",
         "type": "unknown"
        }
       ],
       "ref": "6221cc67-4176-4200-9ebf-280030ae976b",
       "rows": [
        [
         "count",
         "312"
        ],
        [
         "unique",
         "3"
        ],
        [
         "top",
         " Research & Development "
        ],
        [
         "freq",
         "203"
        ]
       ],
       "shape": {
        "columns": 1,
        "rows": 4
       }
      },
      "text/plain": [
       "count                          312\n",
       "unique                           3\n",
       "top        Research & Development \n",
       "freq                           203\n",
       "Name: department, dtype: object"
      ]
     },
     "execution_count": 16,
     "metadata": {},
     "output_type": "execute_result"
    }
   ],
   "source": [
    "df['department'].describe()"
   ]
  },
  {
   "cell_type": "code",
   "execution_count": 17,
   "id": "d6ad72ae",
   "metadata": {},
   "outputs": [
    {
     "data": {
      "application/vnd.microsoft.datawrangler.viewer.v0+json": {
       "columns": [
        {
         "name": "department",
         "rawType": "object",
         "type": "string"
        },
        {
         "name": "count",
         "rawType": "int64",
         "type": "integer"
        }
       ],
       "ref": "154aee25-6d20-48b9-81cd-4085f31ed5d6",
       "rows": [
        [
         " Research & Development ",
         "203"
        ],
        [
         " Sales ",
         "93"
        ],
        [
         " Human Resources ",
         "16"
        ]
       ],
       "shape": {
        "columns": 1,
        "rows": 3
       }
      },
      "text/plain": [
       "department\n",
       "Research & Development     203\n",
       "Sales                       93\n",
       "Human Resources             16\n",
       "Name: count, dtype: int64"
      ]
     },
     "execution_count": 17,
     "metadata": {},
     "output_type": "execute_result"
    }
   ],
   "source": [
    "df['department'].value_counts()"
   ]
  },
  {
   "cell_type": "code",
   "execution_count": 18,
   "id": "2b19f674",
   "metadata": {},
   "outputs": [
    {
     "data": {
      "application/vnd.microsoft.datawrangler.viewer.v0+json": {
       "columns": [
        {
         "name": "roledepartament",
         "rawType": "object",
         "type": "string"
        },
        {
         "name": "count",
         "rawType": "int64",
         "type": "integer"
        }
       ],
       "ref": "6b530950-0082-4a53-be91-0041064b1e4d",
       "rows": [
        [
         " rESEArcH SCiEntIst  -  Research & Development ",
         "2"
        ],
        [
         " MaNAgeR  -  Sales ",
         "2"
        ],
        [
         " hEalthCaRe reprEseNTaTiVe  -  Research & Development ",
         "2"
        ],
        [
         " SaleS EXeCuTivE  -  Sales ",
         "2"
        ],
        [
         " labORAtoRy tEcHNICIAN  -  Research & Development ",
         "2"
        ],
        [
         " humAN resoURCEs  -  Human Resources ",
         "2"
        ],
        [
         " Sales exECutIVE  -  Sales ",
         "2"
        ],
        [
         " LABOrATOrY TEchnIcIAn  -  Research & Development ",
         "2"
        ],
        [
         " LaborAtorY Technician  -  Research & Development ",
         "2"
        ],
        [
         " resEaRcH scIENTiSt  -  Research & Development ",
         "2"
        ],
        [
         " LaBoratory TECHnICIAn  -  Research & Development ",
         "2"
        ],
        [
         " researCh SCientIsT  -  Research & Development ",
         "1"
        ],
        [
         " ReseaRch scIENTisT  -  Research & Development ",
         "1"
        ],
        [
         " lAboRaToRY teChNICIan  -  Research & Development ",
         "1"
        ],
        [
         " ReSEarch scIeNTIsT  -  Research & Development ",
         "1"
        ],
        [
         " laBoRatoRy TEChNICiAN  -  Research & Development ",
         "1"
        ],
        [
         " rEsEaRCh diReCtOR  -  Research & Development ",
         "1"
        ],
        [
         " sALES ReprEsentatiVE  -  Sales ",
         "1"
        ],
        [
         " laBOraTOrY TecHNIcIan  -  Research & Development ",
         "1"
        ],
        [
         " SAlES exeCutive  -  Sales ",
         "1"
        ],
        [
         " mANufActuRIng DirECTOR  -  Research & Development ",
         "1"
        ],
        [
         " ManufacTURInG DIRECtOR  -  Research & Development ",
         "1"
        ],
        [
         " ManaGER  -  Research & Development ",
         "1"
        ],
        [
         " sAles exEcUtIve  -  Sales ",
         "1"
        ],
        [
         " reseARCh SCieNTisT  -  Research & Development ",
         "1"
        ],
        [
         " SAles execUTIve  -  Sales ",
         "1"
        ],
        [
         " SAlES RepreSENtATiVe  -  Sales ",
         "1"
        ],
        [
         " rESeArcH sCientIST  -  Research & Development ",
         "1"
        ],
        [
         " Human REsouRCeS  -  Human Resources ",
         "1"
        ],
        [
         " sALeS eXECutivE  -  Sales ",
         "1"
        ],
        [
         " reseaRch DIrecTOr  -  Research & Development ",
         "1"
        ],
        [
         " sales rEpRESEnTatIve  -  Sales ",
         "1"
        ],
        [
         " reSEaRCH scIenTisT  -  Research & Development ",
         "1"
        ],
        [
         " Sales EXEcUTiVe  -  Sales ",
         "1"
        ],
        [
         " huMAn Resources  -  Human Resources ",
         "1"
        ],
        [
         " HuMan resoUrCes  -  Human Resources ",
         "1"
        ],
        [
         " MANuFaCturiNG dIRECTOR  -  Research & Development ",
         "1"
        ],
        [
         " reseArCH scIentISt  -  Research & Development ",
         "1"
        ],
        [
         " reSEarcH scIENtISt  -  Research & Development ",
         "1"
        ],
        [
         " LaBoRaTory techNICIAN  -  Research & Development ",
         "1"
        ],
        [
         " hEaLThcARE rEpresEntATiVE  -  Research & Development ",
         "1"
        ],
        [
         " ResEArch sCIEnTiST  -  Research & Development ",
         "1"
        ],
        [
         " ReSEArcH sCIeNtist  -  Research & Development ",
         "1"
        ],
        [
         " ResEArch SciEntiST  -  Research & Development ",
         "1"
        ],
        [
         " REseARCh scieNTIsT  -  Research & Development ",
         "1"
        ],
        [
         " rESeArCH sCIeNtISt  -  Research & Development ",
         "1"
        ],
        [
         " laBORATORY tECHNiciAN  -  Research & Development ",
         "1"
        ],
        [
         " ReSEarcH SCiEnTISt  -  Research & Development ",
         "1"
        ],
        [
         " ReseArch sCienTiST  -  Research & Development ",
         "1"
        ],
        [
         " ReseArCH scIenTIst  -  Research & Development ",
         "1"
        ]
       ],
       "shape": {
        "columns": 1,
        "rows": 301
       }
      },
      "text/plain": [
       "roledepartament\n",
       "rESEArcH SCiEntIst  -  Research & Development            2\n",
       "MaNAgeR  -  Sales                                        2\n",
       "hEalthCaRe reprEseNTaTiVe  -  Research & Development     2\n",
       "SaleS EXeCuTivE  -  Sales                                2\n",
       "labORAtoRy tEcHNICIAN  -  Research & Development         2\n",
       "                                                        ..\n",
       "labORaTORY teChNIcIaN  -  Research & Development         1\n",
       "saLES eXEcUTiVE  -  Sales                                1\n",
       "mANUfacTURiNG dIRectOR  -  Research & Development        1\n",
       "huMAn ResOurces  -  Human Resources                      1\n",
       "sAleS EXECUtIvE  -  Sales                                1\n",
       "Name: count, Length: 301, dtype: int64"
      ]
     },
     "execution_count": 18,
     "metadata": {},
     "output_type": "execute_result"
    }
   ],
   "source": [
    "df['roledepartament'].value_counts()"
   ]
  },
  {
   "cell_type": "code",
   "execution_count": 19,
   "id": "b1e4ff0e",
   "metadata": {},
   "outputs": [
    {
     "data": {
      "application/vnd.microsoft.datawrangler.viewer.v0+json": {
       "columns": [
        {
         "name": "yearsincurrentrole",
         "rawType": "object",
         "type": "string"
        },
        {
         "name": "count",
         "rawType": "int64",
         "type": "integer"
        }
       ],
       "ref": "8885cb0e-4d75-4d90-8059-ab3007c7832f",
       "rows": [
        [
         "2,0",
         "12"
        ],
        [
         "7,0",
         "5"
        ],
        [
         "0,0",
         "4"
        ],
        [
         "4,0",
         "3"
        ],
        [
         "1,0",
         "3"
        ],
        [
         "11,0",
         "2"
        ],
        [
         "6,0",
         "2"
        ],
        [
         "3,0",
         "2"
        ],
        [
         "13,0",
         "1"
        ],
        [
         "12,0",
         "1"
        ]
       ],
       "shape": {
        "columns": 1,
        "rows": 10
       }
      },
      "text/plain": [
       "yearsincurrentrole\n",
       "2,0     12\n",
       "7,0      5\n",
       "0,0      4\n",
       "4,0      3\n",
       "1,0      3\n",
       "11,0     2\n",
       "6,0      2\n",
       "3,0      2\n",
       "13,0     1\n",
       "12,0     1\n",
       "Name: count, dtype: int64"
      ]
     },
     "execution_count": 19,
     "metadata": {},
     "output_type": "execute_result"
    }
   ],
   "source": [
    "df['yearsincurrentrole'].value_counts()"
   ]
  },
  {
   "cell_type": "code",
   "execution_count": 20,
   "id": "cb246af1",
   "metadata": {},
   "outputs": [
    {
     "data": {
      "application/vnd.microsoft.datawrangler.viewer.v0+json": {
       "columns": [
        {
         "name": "index",
         "rawType": "object",
         "type": "string"
        },
        {
         "name": "hourlyrate",
         "rawType": "float64",
         "type": "float"
        }
       ],
       "ref": "f060daa3-d474-4eb3-b394-c2c24fc5b533",
       "rows": [
        [
         "count",
         "411.0"
        ],
        [
         "mean",
         "83.14076792768908"
        ],
        [
         "std",
         "57.27210125953146"
        ],
        [
         "min",
         "13.012896825396826"
        ],
        [
         "25%",
         "36.25443871706758"
        ],
        [
         "50%",
         "69.53208262471655"
        ],
        [
         "75%",
         "116.98710317460319"
        ],
        [
         "max",
         "255.96329365079364"
        ]
       ],
       "shape": {
        "columns": 1,
        "rows": 8
       }
      },
      "text/plain": [
       "count    411.000000\n",
       "mean      83.140768\n",
       "std       57.272101\n",
       "min       13.012897\n",
       "25%       36.254439\n",
       "50%       69.532083\n",
       "75%      116.987103\n",
       "max      255.963294\n",
       "Name: hourlyrate, dtype: float64"
      ]
     },
     "execution_count": 20,
     "metadata": {},
     "output_type": "execute_result"
    }
   ],
   "source": [
    "df['hourlyrate'].describe()"
   ]
  },
  {
   "cell_type": "code",
   "execution_count": 13,
   "id": "74a4dd09",
   "metadata": {},
   "outputs": [
    {
     "data": {
      "text/plain": [
       "0"
      ]
     },
     "execution_count": 13,
     "metadata": {},
     "output_type": "execute_result"
    }
   ],
   "source": [
    "df.duplicated().sum()"
   ]
  },
  {
   "cell_type": "code",
   "execution_count": 21,
   "id": "ee55ec57",
   "metadata": {},
   "outputs": [],
   "source": [
    "def unique(df):\n",
    "    coltypes = []\n",
    "    coltypes = df.dtypes.tolist()\n",
    "    \n",
    "    for i in range(len(coltypes)):\n",
    "        coltypes[i] = str(coltypes[i])\n",
    "    \n",
    "    unique_types = list(dict.fromkeys(coltypes))\n",
    "    print(unique_types)\n",
    "    return unique_types"
   ]
  },
  {
   "cell_type": "code",
   "execution_count": 24,
   "id": "9713bbb4",
   "metadata": {},
   "outputs": [
    {
     "name": "stdout",
     "output_type": "stream",
     "text": [
      "['int64', 'object', 'float64']\n"
     ]
    }
   ],
   "source": [
    "unique = unique(df)"
   ]
  },
  {
   "cell_type": "code",
   "execution_count": 23,
   "id": "a92dd1a4",
   "metadata": {},
   "outputs": [],
   "source": [
    "def description_by_type(df, types_list):\n",
    "    for type in types_list:\n",
    "        print('Description of variables of type', type)\n",
    "        print(df.describe(include=[type]).T)\n",
    "        print('-----------------------------------------')"
   ]
  },
  {
   "cell_type": "code",
   "execution_count": 25,
   "id": "69191c23",
   "metadata": {},
   "outputs": [
    {
     "name": "stdout",
     "output_type": "stream",
     "text": [
      "Description of variables of type int64\n",
      "                           count         mean         std     min      25%  \\\n",
      "Unnamed: 0                1678.0   838.500000  484.541192     0.0   419.25   \n",
      "distancefromhome          1678.0     4.504172   14.652066   -49.0     2.00   \n",
      "education                 1678.0     2.932658    1.024270     1.0     2.00   \n",
      "employeecount             1678.0     1.000000    0.000000     1.0     1.00   \n",
      "employeenumber            1678.0   809.859952  467.084867     1.0   403.25   \n",
      "environmentsatisfaction   1678.0     4.264005    6.912695     1.0     2.00   \n",
      "gender                    1678.0     0.398689    0.489774     0.0     0.00   \n",
      "jobinvolvement            1678.0     2.740763    0.710359     1.0     2.00   \n",
      "joblevel                  1678.0     2.064362    1.099425     1.0     1.00   \n",
      "jobsatisfaction           1678.0     2.743147    1.105172     1.0     2.00   \n",
      "numcompaniesworked        1678.0     2.670441    2.501133     0.0     1.00   \n",
      "percentsalaryhike         1678.0    15.154350    3.649607    11.0    12.00   \n",
      "relationshipsatisfaction  1678.0     2.700238    1.079494     1.0     2.00   \n",
      "stockoptionlevel          1678.0     0.787843    0.843252     0.0     0.00   \n",
      "trainingtimeslastyear     1678.0     2.795590    1.288657     0.0     2.00   \n",
      "yearsatcompany            1678.0     7.124553    6.173837     0.0     3.00   \n",
      "yearssincelastpromotion   1678.0     2.241955    3.246554     0.0     0.00   \n",
      "yearswithcurrmanager      1678.0     4.200238    3.554224     0.0     2.00   \n",
      "datebirth                 1678.0  1986.047080    9.154908  1963.0  1980.00   \n",
      "\n",
      "                             50%      75%     max  \n",
      "Unnamed: 0                 838.5  1257.75  1677.0  \n",
      "distancefromhome             5.0    11.00    29.0  \n",
      "education                    3.0     4.00     5.0  \n",
      "employeecount                1.0     1.00     1.0  \n",
      "employeenumber             813.5  1215.75  1614.0  \n",
      "environmentsatisfaction      3.0     4.00    49.0  \n",
      "gender                       0.0     1.00     1.0  \n",
      "jobinvolvement               3.0     3.00     4.0  \n",
      "joblevel                     2.0     3.00     5.0  \n",
      "jobsatisfaction              3.0     4.00     4.0  \n",
      "numcompaniesworked           2.0     4.00     9.0  \n",
      "percentsalaryhike           14.0    18.00    25.0  \n",
      "relationshipsatisfaction     3.0     4.00     4.0  \n",
      "stockoptionlevel             1.0     1.00     3.0  \n",
      "trainingtimeslastyear        3.0     3.00     6.0  \n",
      "yearsatcompany               5.0     9.00    40.0  \n",
      "yearssincelastpromotion      1.0     3.00    15.0  \n",
      "yearswithcurrmanager         3.0     7.00    17.0  \n",
      "datebirth                 1987.0  1993.00  2005.0  \n",
      "-----------------------------------------\n",
      "Description of variables of type object\n",
      "                    count unique  \\\n",
      "age                  1678     54   \n",
      "attrition            1678      2   \n",
      "businesstravel        877      3   \n",
      "department            312      3   \n",
      "educationfield        904      6   \n",
      "jobrole              1678   1579   \n",
      "maritalstatus        1003      5   \n",
      "monthlyincome        1189    493   \n",
      "monthlyrate          1678    673   \n",
      "over18                740      1   \n",
      "overtime              982      2   \n",
      "performancerating    1478      2   \n",
      "standardhours        1327      2   \n",
      "totalworkingyears    1129     40   \n",
      "worklifebalance      1564      4   \n",
      "yearsincurrentrole     35     10   \n",
      "sameasmonthlyincome  1189    493   \n",
      "salary               1393    583   \n",
      "roledepartament       312    301   \n",
      "remotework           1678      5   \n",
      "\n",
      "                                                                 top  freq  \n",
      "age                                                               35    88  \n",
      "attrition                                                         No  1406  \n",
      "businesstravel                                         travel_rarely   616  \n",
      "department                                   Research & Development    203  \n",
      "educationfield                                         Life Sciences   367  \n",
      "jobrole                                                     mANager      5  \n",
      "maritalstatus                                                Married   419  \n",
      "monthlyincome                                               2342,59$   228  \n",
      "monthlyrate                                                11681,39$   326  \n",
      "over18                                                             Y   740  \n",
      "overtime                                                          No   714  \n",
      "performancerating                                                3,0  1257  \n",
      "standardhours                                              Part Time   927  \n",
      "totalworkingyears                                               10,0   151  \n",
      "worklifebalance                                                  3,0   946  \n",
      "yearsincurrentrole                                               2,0    12  \n",
      "sameasmonthlyincome                                         2342,59$   228  \n",
      "salary                                                     53914,11$   270  \n",
      "roledepartament       rESEArcH SCiEntIst  -  Research & Development      2  \n",
      "remotework                                                         1   375  \n",
      "-----------------------------------------\n",
      "Description of variables of type float64\n",
      "                 count        mean         std         min         25%  \\\n",
      "dailyrate       1678.0  668.079714  470.787298  104.103175  290.035510   \n",
      "hourlyrate       411.0   83.140768   57.272101   13.012897   36.254439   \n",
      "numberchildren     0.0         NaN         NaN         NaN         NaN   \n",
      "\n",
      "                       50%         75%          max  \n",
      "dailyrate       556.256661  971.956349  2063.388889  \n",
      "hourlyrate       69.532083  116.987103   255.963294  \n",
      "numberchildren         NaN         NaN          NaN  \n",
      "-----------------------------------------\n"
     ]
    }
   ],
   "source": [
    "description_by_type(df,unique)"
   ]
  },
  {
   "cell_type": "code",
   "execution_count": 44,
   "id": "22ae91ad",
   "metadata": {},
   "outputs": [],
   "source": [
    "df = df.drop(columns=['numberchildren', 'over18', 'yearsincurrentrole'])"
   ]
  },
  {
   "cell_type": "code",
   "execution_count": 45,
   "id": "d07cf82f",
   "metadata": {},
   "outputs": [
    {
     "data": {
      "text/plain": [
       "Index(['Unnamed: 0', 'age', 'attrition', 'businesstravel', 'dailyrate',\n",
       "       'department', 'distancefromhome', 'education', 'educationfield',\n",
       "       'employeecount', 'employeenumber', 'environmentsatisfaction', 'gender',\n",
       "       'hourlyrate', 'jobinvolvement', 'joblevel', 'jobrole',\n",
       "       'jobsatisfaction', 'maritalstatus', 'monthlyincome', 'monthlyrate',\n",
       "       'numcompaniesworked', 'overtime', 'percentsalaryhike',\n",
       "       'performancerating', 'relationshipsatisfaction', 'standardhours',\n",
       "       'stockoptionlevel', 'totalworkingyears', 'trainingtimeslastyear',\n",
       "       'worklifebalance', 'yearsatcompany', 'yearssincelastpromotion',\n",
       "       'yearswithcurrmanager', 'sameasmonthlyincome', 'datebirth', 'salary',\n",
       "       'roledepartament', 'remotework'],\n",
       "      dtype='object')"
      ]
     },
     "execution_count": 45,
     "metadata": {},
     "output_type": "execute_result"
    }
   ],
   "source": [
    "df.columns"
   ]
  },
  {
   "cell_type": "code",
   "execution_count": 47,
   "id": "6c8b9541",
   "metadata": {},
   "outputs": [
    {
     "data": {
      "text/plain": [
       "(1678, 39)"
      ]
     },
     "execution_count": 47,
     "metadata": {},
     "output_type": "execute_result"
    }
   ],
   "source": [
    "df.shape"
   ]
  }
 ],
 "metadata": {
  "kernelspec": {
   "display_name": "base",
   "language": "python",
   "name": "python3"
  },
  "language_info": {
   "codemirror_mode": {
    "name": "ipython",
    "version": 3
   },
   "file_extension": ".py",
   "mimetype": "text/x-python",
   "name": "python",
   "nbconvert_exporter": "python",
   "pygments_lexer": "ipython3",
   "version": "3.12.7"
  }
 },
 "nbformat": 4,
 "nbformat_minor": 5
}
