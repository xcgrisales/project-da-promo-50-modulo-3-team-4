{
 "cells": [
  {
   "cell_type": "code",
   "execution_count": 133,
   "id": "6a79fcb6",
   "metadata": {},
   "outputs": [],
   "source": [
    "# Importamos las librerías que necesitamos\n",
    "\n",
    "# Tratamiento de datos\n",
    "import pandas as pd\n",
    "import numpy as np\n",
    "\n",
    "# Visualización\n",
    "import matplotlib.pyplot as plt\n",
    "import seaborn as sns\n",
    "\n",
    "# Ocultamos las advertencias para evitar mensajes innecesarios\n",
    "import warnings\n",
    "warnings.filterwarnings(\"ignore\")\n",
    "\n",
    "# Configuración\n",
    "pd.set_option('display.max_columns', None) # para poder visualizar todas las columnas de los DataFrames"
   ]
  },
  {
   "cell_type": "code",
   "execution_count": 134,
   "id": "7a64540b",
   "metadata": {},
   "outputs": [
    {
     "data": {
      "text/html": [
       "<div>\n",
       "<style scoped>\n",
       "    .dataframe tbody tr th:only-of-type {\n",
       "        vertical-align: middle;\n",
       "    }\n",
       "\n",
       "    .dataframe tbody tr th {\n",
       "        vertical-align: top;\n",
       "    }\n",
       "\n",
       "    .dataframe thead th {\n",
       "        text-align: right;\n",
       "    }\n",
       "</style>\n",
       "<table border=\"1\" class=\"dataframe\">\n",
       "  <thead>\n",
       "    <tr style=\"text-align: right;\">\n",
       "      <th></th>\n",
       "      <th>Unnamed: 0</th>\n",
       "      <th>age</th>\n",
       "      <th>attrition</th>\n",
       "      <th>businesstravel</th>\n",
       "      <th>dailyrate</th>\n",
       "      <th>department</th>\n",
       "      <th>distancefromhome</th>\n",
       "      <th>education</th>\n",
       "      <th>educationfield</th>\n",
       "      <th>employeecount</th>\n",
       "      <th>employeenumber</th>\n",
       "      <th>environmentsatisfaction</th>\n",
       "      <th>gender</th>\n",
       "      <th>hourlyrate</th>\n",
       "      <th>jobinvolvement</th>\n",
       "      <th>joblevel</th>\n",
       "      <th>jobrole</th>\n",
       "      <th>jobsatisfaction</th>\n",
       "      <th>maritalstatus</th>\n",
       "      <th>monthlyincome</th>\n",
       "      <th>monthlyrate</th>\n",
       "      <th>numcompaniesworked</th>\n",
       "      <th>over18</th>\n",
       "      <th>overtime</th>\n",
       "      <th>percentsalaryhike</th>\n",
       "      <th>performancerating</th>\n",
       "      <th>relationshipsatisfaction</th>\n",
       "      <th>standardhours</th>\n",
       "      <th>stockoptionlevel</th>\n",
       "      <th>totalworkingyears</th>\n",
       "      <th>trainingtimeslastyear</th>\n",
       "      <th>worklifebalance</th>\n",
       "      <th>yearsatcompany</th>\n",
       "      <th>yearsincurrentrole</th>\n",
       "      <th>yearssincelastpromotion</th>\n",
       "      <th>yearswithcurrmanager</th>\n",
       "      <th>sameasmonthlyincome</th>\n",
       "      <th>datebirth</th>\n",
       "      <th>salary</th>\n",
       "      <th>roledepartament</th>\n",
       "      <th>numberchildren</th>\n",
       "      <th>remotework</th>\n",
       "    </tr>\n",
       "  </thead>\n",
       "  <tbody>\n",
       "    <tr>\n",
       "      <th>0</th>\n",
       "      <td>0</td>\n",
       "      <td>51</td>\n",
       "      <td>No</td>\n",
       "      <td>NaN</td>\n",
       "      <td>2015.722222</td>\n",
       "      <td>NaN</td>\n",
       "      <td>6</td>\n",
       "      <td>3</td>\n",
       "      <td>NaN</td>\n",
       "      <td>1</td>\n",
       "      <td>1</td>\n",
       "      <td>1</td>\n",
       "      <td>0</td>\n",
       "      <td>NaN</td>\n",
       "      <td>3</td>\n",
       "      <td>5</td>\n",
       "      <td>resEArch DIREcToR</td>\n",
       "      <td>3</td>\n",
       "      <td>NaN</td>\n",
       "      <td>16280,83$</td>\n",
       "      <td>42330,17$</td>\n",
       "      <td>7</td>\n",
       "      <td>Y</td>\n",
       "      <td>No</td>\n",
       "      <td>13</td>\n",
       "      <td>3,0</td>\n",
       "      <td>3</td>\n",
       "      <td>Full Time</td>\n",
       "      <td>0</td>\n",
       "      <td>NaN</td>\n",
       "      <td>5</td>\n",
       "      <td>3,0</td>\n",
       "      <td>20</td>\n",
       "      <td>NaN</td>\n",
       "      <td>15</td>\n",
       "      <td>15</td>\n",
       "      <td>16280,83$</td>\n",
       "      <td>1972</td>\n",
       "      <td>195370,00$</td>\n",
       "      <td>NaN</td>\n",
       "      <td>NaN</td>\n",
       "      <td>Yes</td>\n",
       "    </tr>\n",
       "    <tr>\n",
       "      <th>1</th>\n",
       "      <td>1</td>\n",
       "      <td>52</td>\n",
       "      <td>No</td>\n",
       "      <td>NaN</td>\n",
       "      <td>2063.388889</td>\n",
       "      <td>NaN</td>\n",
       "      <td>1</td>\n",
       "      <td>4</td>\n",
       "      <td>Life Sciences</td>\n",
       "      <td>1</td>\n",
       "      <td>2</td>\n",
       "      <td>3</td>\n",
       "      <td>0</td>\n",
       "      <td>NaN</td>\n",
       "      <td>2</td>\n",
       "      <td>5</td>\n",
       "      <td>ManAGeR</td>\n",
       "      <td>3</td>\n",
       "      <td>NaN</td>\n",
       "      <td>NaN</td>\n",
       "      <td>43331,17$</td>\n",
       "      <td>0</td>\n",
       "      <td>NaN</td>\n",
       "      <td>NaN</td>\n",
       "      <td>14</td>\n",
       "      <td>3,0</td>\n",
       "      <td>1</td>\n",
       "      <td>NaN</td>\n",
       "      <td>1</td>\n",
       "      <td>34,0</td>\n",
       "      <td>5</td>\n",
       "      <td>3,0</td>\n",
       "      <td>33</td>\n",
       "      <td>NaN</td>\n",
       "      <td>11</td>\n",
       "      <td>9</td>\n",
       "      <td>NaN</td>\n",
       "      <td>1971</td>\n",
       "      <td>199990,00$</td>\n",
       "      <td>NaN</td>\n",
       "      <td>NaN</td>\n",
       "      <td>1</td>\n",
       "    </tr>\n",
       "    <tr>\n",
       "      <th>2</th>\n",
       "      <td>2</td>\n",
       "      <td>42</td>\n",
       "      <td>No</td>\n",
       "      <td>travel_rarely</td>\n",
       "      <td>1984.253968</td>\n",
       "      <td>Research &amp; Development</td>\n",
       "      <td>4</td>\n",
       "      <td>2</td>\n",
       "      <td>Technical Degree</td>\n",
       "      <td>1</td>\n",
       "      <td>3</td>\n",
       "      <td>3</td>\n",
       "      <td>0</td>\n",
       "      <td>NaN</td>\n",
       "      <td>3</td>\n",
       "      <td>5</td>\n",
       "      <td>ManaGER</td>\n",
       "      <td>4</td>\n",
       "      <td>Married</td>\n",
       "      <td>NaN</td>\n",
       "      <td>41669,33$</td>\n",
       "      <td>1</td>\n",
       "      <td>NaN</td>\n",
       "      <td>No</td>\n",
       "      <td>11</td>\n",
       "      <td>3,0</td>\n",
       "      <td>4</td>\n",
       "      <td>NaN</td>\n",
       "      <td>0</td>\n",
       "      <td>22,0</td>\n",
       "      <td>3</td>\n",
       "      <td>NaN</td>\n",
       "      <td>22</td>\n",
       "      <td>NaN</td>\n",
       "      <td>11</td>\n",
       "      <td>15</td>\n",
       "      <td>NaN</td>\n",
       "      <td>1981</td>\n",
       "      <td>192320,00$</td>\n",
       "      <td>ManaGER  -  Research &amp; Development</td>\n",
       "      <td>NaN</td>\n",
       "      <td>1</td>\n",
       "    </tr>\n",
       "    <tr>\n",
       "      <th>3</th>\n",
       "      <td>3</td>\n",
       "      <td>47</td>\n",
       "      <td>No</td>\n",
       "      <td>travel_rarely</td>\n",
       "      <td>1771.404762</td>\n",
       "      <td>NaN</td>\n",
       "      <td>2</td>\n",
       "      <td>4</td>\n",
       "      <td>Medical</td>\n",
       "      <td>1</td>\n",
       "      <td>4</td>\n",
       "      <td>1</td>\n",
       "      <td>1</td>\n",
       "      <td>NaN</td>\n",
       "      <td>3</td>\n",
       "      <td>4</td>\n",
       "      <td>ReseArCH DIrECtOr</td>\n",
       "      <td>3</td>\n",
       "      <td>Married</td>\n",
       "      <td>14307,50$</td>\n",
       "      <td>37199,50$</td>\n",
       "      <td>3</td>\n",
       "      <td>Y</td>\n",
       "      <td>NaN</td>\n",
       "      <td>19</td>\n",
       "      <td>3,0</td>\n",
       "      <td>2</td>\n",
       "      <td>Full Time</td>\n",
       "      <td>2</td>\n",
       "      <td>NaN</td>\n",
       "      <td>2</td>\n",
       "      <td>NaN</td>\n",
       "      <td>20</td>\n",
       "      <td>NaN</td>\n",
       "      <td>5</td>\n",
       "      <td>6</td>\n",
       "      <td>14307,50$</td>\n",
       "      <td>1976</td>\n",
       "      <td>171690,00$</td>\n",
       "      <td>NaN</td>\n",
       "      <td>NaN</td>\n",
       "      <td>False</td>\n",
       "    </tr>\n",
       "    <tr>\n",
       "      <th>4</th>\n",
       "      <td>4</td>\n",
       "      <td>46</td>\n",
       "      <td>No</td>\n",
       "      <td>NaN</td>\n",
       "      <td>1582.771346</td>\n",
       "      <td>NaN</td>\n",
       "      <td>3</td>\n",
       "      <td>3</td>\n",
       "      <td>Technical Degree</td>\n",
       "      <td>1</td>\n",
       "      <td>5</td>\n",
       "      <td>1</td>\n",
       "      <td>1</td>\n",
       "      <td>NaN</td>\n",
       "      <td>4</td>\n",
       "      <td>4</td>\n",
       "      <td>sAleS EXECUtIve</td>\n",
       "      <td>1</td>\n",
       "      <td>Divorced</td>\n",
       "      <td>12783,92$</td>\n",
       "      <td>33238,20$</td>\n",
       "      <td>2</td>\n",
       "      <td>Y</td>\n",
       "      <td>No</td>\n",
       "      <td>12</td>\n",
       "      <td>3,0</td>\n",
       "      <td>4</td>\n",
       "      <td>NaN</td>\n",
       "      <td>1</td>\n",
       "      <td>NaN</td>\n",
       "      <td>5</td>\n",
       "      <td>3,0</td>\n",
       "      <td>19</td>\n",
       "      <td>NaN</td>\n",
       "      <td>2</td>\n",
       "      <td>8</td>\n",
       "      <td>12783,92$</td>\n",
       "      <td>1977</td>\n",
       "      <td>NaN</td>\n",
       "      <td>NaN</td>\n",
       "      <td>NaN</td>\n",
       "      <td>0</td>\n",
       "    </tr>\n",
       "  </tbody>\n",
       "</table>\n",
       "</div>"
      ],
      "text/plain": [
       "   Unnamed: 0 age attrition businesstravel    dailyrate  \\\n",
       "0           0  51        No            NaN  2015.722222   \n",
       "1           1  52        No            NaN  2063.388889   \n",
       "2           2  42        No  travel_rarely  1984.253968   \n",
       "3           3  47        No  travel_rarely  1771.404762   \n",
       "4           4  46        No            NaN  1582.771346   \n",
       "\n",
       "                 department  distancefromhome  education    educationfield  \\\n",
       "0                       NaN                 6          3               NaN   \n",
       "1                       NaN                 1          4     Life Sciences   \n",
       "2   Research & Development                  4          2  Technical Degree   \n",
       "3                       NaN                 2          4           Medical   \n",
       "4                       NaN                 3          3  Technical Degree   \n",
       "\n",
       "   employeecount  employeenumber  environmentsatisfaction  gender  hourlyrate  \\\n",
       "0              1               1                        1       0         NaN   \n",
       "1              1               2                        3       0         NaN   \n",
       "2              1               3                        3       0         NaN   \n",
       "3              1               4                        1       1         NaN   \n",
       "4              1               5                        1       1         NaN   \n",
       "\n",
       "   jobinvolvement  joblevel              jobrole  jobsatisfaction  \\\n",
       "0               3         5   resEArch DIREcToR                 3   \n",
       "1               2         5             ManAGeR                 3   \n",
       "2               3         5             ManaGER                 4   \n",
       "3               3         4   ReseArCH DIrECtOr                 3   \n",
       "4               4         4     sAleS EXECUtIve                 1   \n",
       "\n",
       "  maritalstatus monthlyincome monthlyrate  numcompaniesworked over18 overtime  \\\n",
       "0           NaN     16280,83$   42330,17$                   7      Y       No   \n",
       "1           NaN           NaN   43331,17$                   0    NaN      NaN   \n",
       "2       Married           NaN   41669,33$                   1    NaN       No   \n",
       "3       Married     14307,50$   37199,50$                   3      Y      NaN   \n",
       "4      Divorced     12783,92$   33238,20$                   2      Y       No   \n",
       "\n",
       "   percentsalaryhike performancerating  relationshipsatisfaction  \\\n",
       "0                 13               3,0                         3   \n",
       "1                 14               3,0                         1   \n",
       "2                 11               3,0                         4   \n",
       "3                 19               3,0                         2   \n",
       "4                 12               3,0                         4   \n",
       "\n",
       "  standardhours  stockoptionlevel totalworkingyears  trainingtimeslastyear  \\\n",
       "0     Full Time                 0               NaN                      5   \n",
       "1           NaN                 1              34,0                      5   \n",
       "2           NaN                 0              22,0                      3   \n",
       "3     Full Time                 2               NaN                      2   \n",
       "4           NaN                 1               NaN                      5   \n",
       "\n",
       "  worklifebalance  yearsatcompany yearsincurrentrole  yearssincelastpromotion  \\\n",
       "0             3,0              20                NaN                       15   \n",
       "1             3,0              33                NaN                       11   \n",
       "2             NaN              22                NaN                       11   \n",
       "3             NaN              20                NaN                        5   \n",
       "4             3,0              19                NaN                        2   \n",
       "\n",
       "   yearswithcurrmanager sameasmonthlyincome  datebirth      salary  \\\n",
       "0                    15           16280,83$       1972  195370,00$   \n",
       "1                     9                 NaN       1971  199990,00$   \n",
       "2                    15                 NaN       1981  192320,00$   \n",
       "3                     6           14307,50$       1976  171690,00$   \n",
       "4                     8           12783,92$       1977         NaN   \n",
       "\n",
       "                        roledepartament  numberchildren remotework  \n",
       "0                                   NaN             NaN        Yes  \n",
       "1                                   NaN             NaN          1  \n",
       "2   ManaGER  -  Research & Development              NaN          1  \n",
       "3                                   NaN             NaN      False  \n",
       "4                                   NaN             NaN          0  "
      ]
     },
     "execution_count": 134,
     "metadata": {},
     "output_type": "execute_result"
    }
   ],
   "source": [
    "# Lo primero que hacemos es cargar el dataframe que vamos a usar\n",
    "df = pd.read_csv(\"spaces_hr_raw_data.csv\")\n",
    "df.head()"
   ]
  },
  {
   "cell_type": "code",
   "execution_count": 135,
   "id": "5c7b4ff0",
   "metadata": {},
   "outputs": [
    {
     "data": {
      "text/plain": [
       "Index(['Unnamed: 0', 'age', 'attrition', 'businesstravel', 'dailyrate',\n",
       "       'department', 'distancefromhome', 'education', 'educationfield',\n",
       "       'employeecount', 'employeenumber', 'environmentsatisfaction', 'gender',\n",
       "       'hourlyrate', 'jobinvolvement', 'joblevel', 'jobrole',\n",
       "       'jobsatisfaction', 'maritalstatus', 'monthlyincome', 'monthlyrate',\n",
       "       'numcompaniesworked', 'over18', 'overtime', 'percentsalaryhike',\n",
       "       'performancerating', 'relationshipsatisfaction', 'standardhours',\n",
       "       'stockoptionlevel', 'totalworkingyears', 'trainingtimeslastyear',\n",
       "       'worklifebalance', 'yearsatcompany', 'yearsincurrentrole',\n",
       "       'yearssincelastpromotion', 'yearswithcurrmanager',\n",
       "       'sameasmonthlyincome', 'datebirth', 'salary', 'roledepartament',\n",
       "       'numberchildren', 'remotework'],\n",
       "      dtype='object')"
      ]
     },
     "execution_count": 135,
     "metadata": {},
     "output_type": "execute_result"
    }
   ],
   "source": [
    "df.columns"
   ]
  },
  {
   "cell_type": "code",
   "execution_count": 136,
   "id": "b78a5820",
   "metadata": {},
   "outputs": [],
   "source": [
    "df = df.drop(columns=['numberchildren', 'over18', 'yearsincurrentrole'])"
   ]
  },
  {
   "cell_type": "code",
   "execution_count": 137,
   "id": "3a096c42",
   "metadata": {},
   "outputs": [
    {
     "data": {
      "text/plain": [
       "Index(['Unnamed: 0', 'age', 'attrition', 'businesstravel', 'dailyrate',\n",
       "       'department', 'distancefromhome', 'education', 'educationfield',\n",
       "       'employeecount', 'employeenumber', 'environmentsatisfaction', 'gender',\n",
       "       'hourlyrate', 'jobinvolvement', 'joblevel', 'jobrole',\n",
       "       'jobsatisfaction', 'maritalstatus', 'monthlyincome', 'monthlyrate',\n",
       "       'numcompaniesworked', 'overtime', 'percentsalaryhike',\n",
       "       'performancerating', 'relationshipsatisfaction', 'standardhours',\n",
       "       'stockoptionlevel', 'totalworkingyears', 'trainingtimeslastyear',\n",
       "       'worklifebalance', 'yearsatcompany', 'yearssincelastpromotion',\n",
       "       'yearswithcurrmanager', 'sameasmonthlyincome', 'datebirth', 'salary',\n",
       "       'roledepartament', 'remotework'],\n",
       "      dtype='object')"
      ]
     },
     "execution_count": 137,
     "metadata": {},
     "output_type": "execute_result"
    }
   ],
   "source": [
    "df.columns"
   ]
  },
  {
   "cell_type": "code",
   "execution_count": 138,
   "id": "4fb93d1e",
   "metadata": {},
   "outputs": [],
   "source": [
    "def exploracion_basica(df):\n",
    "    print(\"=== EXPLORACIÓN BÁSICA DEL DATASET ===\")\n",
    "    print(\"\\nPrimeras filas:\")\n",
    "    print(df.head())\n",
    "    print(\"\\nÚltimas filas:\")\n",
    "    print(df.tail())\n",
    "    print(\"\\nNúmero de filas y columnas:\")\n",
    "    print(df.shape)\n",
    "    print(\"\\nInformación general del DataFrame:\")\n",
    "    print(df.info())\n",
    "    print(\"\\nEstadísticas descriptivas:\")\n",
    "    print(df.describe())\n",
    "    print(\"\\nColumnas:\")\n",
    "    print(list(df.columns))"
   ]
  },
  {
   "cell_type": "code",
   "execution_count": 139,
   "id": "e23250bb",
   "metadata": {},
   "outputs": [
    {
     "name": "stdout",
     "output_type": "stream",
     "text": [
      "=== EXPLORACIÓN BÁSICA DEL DATASET ===\n",
      "\n",
      "Primeras filas:\n",
      "   Unnamed: 0 age attrition businesstravel    dailyrate  \\\n",
      "0           0  51        No            NaN  2015.722222   \n",
      "1           1  52        No            NaN  2063.388889   \n",
      "2           2  42        No  travel_rarely  1984.253968   \n",
      "3           3  47        No  travel_rarely  1771.404762   \n",
      "4           4  46        No            NaN  1582.771346   \n",
      "\n",
      "                 department  distancefromhome  education    educationfield  \\\n",
      "0                       NaN                 6          3               NaN   \n",
      "1                       NaN                 1          4     Life Sciences   \n",
      "2   Research & Development                  4          2  Technical Degree   \n",
      "3                       NaN                 2          4           Medical   \n",
      "4                       NaN                 3          3  Technical Degree   \n",
      "\n",
      "   employeecount  employeenumber  environmentsatisfaction  gender  hourlyrate  \\\n",
      "0              1               1                        1       0         NaN   \n",
      "1              1               2                        3       0         NaN   \n",
      "2              1               3                        3       0         NaN   \n",
      "3              1               4                        1       1         NaN   \n",
      "4              1               5                        1       1         NaN   \n",
      "\n",
      "   jobinvolvement  joblevel              jobrole  jobsatisfaction  \\\n",
      "0               3         5   resEArch DIREcToR                 3   \n",
      "1               2         5             ManAGeR                 3   \n",
      "2               3         5             ManaGER                 4   \n",
      "3               3         4   ReseArCH DIrECtOr                 3   \n",
      "4               4         4     sAleS EXECUtIve                 1   \n",
      "\n",
      "  maritalstatus monthlyincome monthlyrate  numcompaniesworked overtime  \\\n",
      "0           NaN     16280,83$   42330,17$                   7       No   \n",
      "1           NaN           NaN   43331,17$                   0      NaN   \n",
      "2       Married           NaN   41669,33$                   1       No   \n",
      "3       Married     14307,50$   37199,50$                   3      NaN   \n",
      "4      Divorced     12783,92$   33238,20$                   2       No   \n",
      "\n",
      "   percentsalaryhike performancerating  relationshipsatisfaction  \\\n",
      "0                 13               3,0                         3   \n",
      "1                 14               3,0                         1   \n",
      "2                 11               3,0                         4   \n",
      "3                 19               3,0                         2   \n",
      "4                 12               3,0                         4   \n",
      "\n",
      "  standardhours  stockoptionlevel totalworkingyears  trainingtimeslastyear  \\\n",
      "0     Full Time                 0               NaN                      5   \n",
      "1           NaN                 1              34,0                      5   \n",
      "2           NaN                 0              22,0                      3   \n",
      "3     Full Time                 2               NaN                      2   \n",
      "4           NaN                 1               NaN                      5   \n",
      "\n",
      "  worklifebalance  yearsatcompany  yearssincelastpromotion  \\\n",
      "0             3,0              20                       15   \n",
      "1             3,0              33                       11   \n",
      "2             NaN              22                       11   \n",
      "3             NaN              20                        5   \n",
      "4             3,0              19                        2   \n",
      "\n",
      "   yearswithcurrmanager sameasmonthlyincome  datebirth      salary  \\\n",
      "0                    15           16280,83$       1972  195370,00$   \n",
      "1                     9                 NaN       1971  199990,00$   \n",
      "2                    15                 NaN       1981  192320,00$   \n",
      "3                     6           14307,50$       1976  171690,00$   \n",
      "4                     8           12783,92$       1977         NaN   \n",
      "\n",
      "                        roledepartament remotework  \n",
      "0                                   NaN        Yes  \n",
      "1                                   NaN          1  \n",
      "2   ManaGER  -  Research & Development           1  \n",
      "3                                   NaN      False  \n",
      "4                                   NaN          0  \n",
      "\n",
      "Últimas filas:\n",
      "      Unnamed: 0 age attrition businesstravel    dailyrate department  \\\n",
      "1673        1673  43        No            NaN   488.944444        NaN   \n",
      "1674        1674  47        No            NaN  1973.984127        NaN   \n",
      "1675        1675  29        No  travel_rarely   290.035510        NaN   \n",
      "1676        1676  47        No  travel_rarely  1032.487286        NaN   \n",
      "1677        1677  32        No            NaN   556.256661        NaN   \n",
      "\n",
      "      distancefromhome  education educationfield  employeecount  \\\n",
      "1673               -26          3        Medical              1   \n",
      "1674                26          4            NaN              1   \n",
      "1675                15          3            NaN              1   \n",
      "1676                 4          3  Life Sciences              1   \n",
      "1677                 2          2  Life Sciences              1   \n",
      "\n",
      "      employeenumber  environmentsatisfaction  gender  hourlyrate  \\\n",
      "1673             824                        2       1         NaN   \n",
      "1674            1087                        4       1         NaN   \n",
      "1675             528                        3       0         NaN   \n",
      "1676              76                        3       1         NaN   \n",
      "1677             401                        4       1   69.532083   \n",
      "\n",
      "      jobinvolvement  joblevel                   jobrole  jobsatisfaction  \\\n",
      "1673               4         1       rESEaRcH SciEnTiST                 3   \n",
      "1674               3         5                  mANager                 3   \n",
      "1675               3         1       reSearch sCienTiSt                 4   \n",
      "1676               2         3   maNufACTURING DIREctOr                 2   \n",
      "1677               3         2       resEArch scIENTisT                 3   \n",
      "\n",
      "     maritalstatus monthlyincome monthlyrate  numcompaniesworked overtime  \\\n",
      "1673        Single      3949,17$   10267,83$                   4      NaN   \n",
      "1674       Married     15943,72$   41453,67$                   3       No   \n",
      "1675           NaN           NaN    6090,75$                   1       No   \n",
      "1676      Divorced      8339,32$   21682,23$                   8      Yes   \n",
      "1677        Single           NaN   11681,39$                   4      Yes   \n",
      "\n",
      "      percentsalaryhike performancerating  relationshipsatisfaction  \\\n",
      "1673                 12               3,0                         4   \n",
      "1674                 11               3,0                         3   \n",
      "1675                 19               3,0                         1   \n",
      "1676                 12               NaN                         3   \n",
      "1677                 14               3,0                         4   \n",
      "\n",
      "     standardhours  stockoptionlevel totalworkingyears  trainingtimeslastyear  \\\n",
      "1673           NaN                 0               NaN                      2   \n",
      "1674     Full Time                 1              27,0                      2   \n",
      "1675     Part Time                 0               6,0                      1   \n",
      "1676     Part Time                 1               NaN                      4   \n",
      "1677     Part Time                 0              10,0                      2   \n",
      "\n",
      "     worklifebalance  yearsatcompany  yearssincelastpromotion  \\\n",
      "1673             3,0               3                        1   \n",
      "1674             3,0               5                        1   \n",
      "1675             3,0               6                        1   \n",
      "1676             3,0              22                       14   \n",
      "1677             3,0               8                        0   \n",
      "\n",
      "      yearswithcurrmanager sameasmonthlyincome  datebirth      salary  \\\n",
      "1673                     2            3949,17$       1980         NaN   \n",
      "1674                     0           15943,72$       1976  191324,62$   \n",
      "1675                     5                 NaN       1994   28111,13$   \n",
      "1676                    10            8339,32$       1976  100071,84$   \n",
      "1677                     7                 NaN       1991   53914,11$   \n",
      "\n",
      "     roledepartament remotework  \n",
      "1673             NaN        Yes  \n",
      "1674             NaN      False  \n",
      "1675             NaN      False  \n",
      "1676             NaN        Yes  \n",
      "1677             NaN          0  \n",
      "\n",
      "Número de filas y columnas:\n",
      "(1678, 39)\n",
      "\n",
      "Información general del DataFrame:\n",
      "<class 'pandas.core.frame.DataFrame'>\n",
      "RangeIndex: 1678 entries, 0 to 1677\n",
      "Data columns (total 39 columns):\n",
      " #   Column                    Non-Null Count  Dtype  \n",
      "---  ------                    --------------  -----  \n",
      " 0   Unnamed: 0                1678 non-null   int64  \n",
      " 1   age                       1678 non-null   object \n",
      " 2   attrition                 1678 non-null   object \n",
      " 3   businesstravel            877 non-null    object \n",
      " 4   dailyrate                 1678 non-null   float64\n",
      " 5   department                312 non-null    object \n",
      " 6   distancefromhome          1678 non-null   int64  \n",
      " 7   education                 1678 non-null   int64  \n",
      " 8   educationfield            904 non-null    object \n",
      " 9   employeecount             1678 non-null   int64  \n",
      " 10  employeenumber            1678 non-null   int64  \n",
      " 11  environmentsatisfaction   1678 non-null   int64  \n",
      " 12  gender                    1678 non-null   int64  \n",
      " 13  hourlyrate                411 non-null    float64\n",
      " 14  jobinvolvement            1678 non-null   int64  \n",
      " 15  joblevel                  1678 non-null   int64  \n",
      " 16  jobrole                   1678 non-null   object \n",
      " 17  jobsatisfaction           1678 non-null   int64  \n",
      " 18  maritalstatus             1003 non-null   object \n",
      " 19  monthlyincome             1189 non-null   object \n",
      " 20  monthlyrate               1678 non-null   object \n",
      " 21  numcompaniesworked        1678 non-null   int64  \n",
      " 22  overtime                  982 non-null    object \n",
      " 23  percentsalaryhike         1678 non-null   int64  \n",
      " 24  performancerating         1478 non-null   object \n",
      " 25  relationshipsatisfaction  1678 non-null   int64  \n",
      " 26  standardhours             1327 non-null   object \n",
      " 27  stockoptionlevel          1678 non-null   int64  \n",
      " 28  totalworkingyears         1129 non-null   object \n",
      " 29  trainingtimeslastyear     1678 non-null   int64  \n",
      " 30  worklifebalance           1564 non-null   object \n",
      " 31  yearsatcompany            1678 non-null   int64  \n",
      " 32  yearssincelastpromotion   1678 non-null   int64  \n",
      " 33  yearswithcurrmanager      1678 non-null   int64  \n",
      " 34  sameasmonthlyincome       1189 non-null   object \n",
      " 35  datebirth                 1678 non-null   int64  \n",
      " 36  salary                    1393 non-null   object \n",
      " 37  roledepartament           312 non-null    object \n",
      " 38  remotework                1678 non-null   object \n",
      "dtypes: float64(2), int64(19), object(18)\n",
      "memory usage: 511.4+ KB\n",
      "None\n",
      "\n",
      "Estadísticas descriptivas:\n",
      "        Unnamed: 0    dailyrate  distancefromhome    education  employeecount  \\\n",
      "count  1678.000000  1678.000000       1678.000000  1678.000000         1678.0   \n",
      "mean    838.500000   668.079714          4.504172     2.932658            1.0   \n",
      "std     484.541192   470.787298         14.652066     1.024270            0.0   \n",
      "min       0.000000   104.103175        -49.000000     1.000000            1.0   \n",
      "25%     419.250000   290.035510          2.000000     2.000000            1.0   \n",
      "50%     838.500000   556.256661          5.000000     3.000000            1.0   \n",
      "75%    1257.750000   971.956349         11.000000     4.000000            1.0   \n",
      "max    1677.000000  2063.388889         29.000000     5.000000            1.0   \n",
      "\n",
      "       employeenumber  environmentsatisfaction       gender  hourlyrate  \\\n",
      "count     1678.000000              1678.000000  1678.000000  411.000000   \n",
      "mean       809.859952                 4.264005     0.398689   83.140768   \n",
      "std        467.084867                 6.912695     0.489774   57.272101   \n",
      "min          1.000000                 1.000000     0.000000   13.012897   \n",
      "25%        403.250000                 2.000000     0.000000   36.254439   \n",
      "50%        813.500000                 3.000000     0.000000   69.532083   \n",
      "75%       1215.750000                 4.000000     1.000000  116.987103   \n",
      "max       1614.000000                49.000000     1.000000  255.963294   \n",
      "\n",
      "       jobinvolvement     joblevel  jobsatisfaction  numcompaniesworked  \\\n",
      "count     1678.000000  1678.000000      1678.000000         1678.000000   \n",
      "mean         2.740763     2.064362         2.743147            2.670441   \n",
      "std          0.710359     1.099425         1.105172            2.501133   \n",
      "min          1.000000     1.000000         1.000000            0.000000   \n",
      "25%          2.000000     1.000000         2.000000            1.000000   \n",
      "50%          3.000000     2.000000         3.000000            2.000000   \n",
      "75%          3.000000     3.000000         4.000000            4.000000   \n",
      "max          4.000000     5.000000         4.000000            9.000000   \n",
      "\n",
      "       percentsalaryhike  relationshipsatisfaction  stockoptionlevel  \\\n",
      "count        1678.000000               1678.000000       1678.000000   \n",
      "mean           15.154350                  2.700238          0.787843   \n",
      "std             3.649607                  1.079494          0.843252   \n",
      "min            11.000000                  1.000000          0.000000   \n",
      "25%            12.000000                  2.000000          0.000000   \n",
      "50%            14.000000                  3.000000          1.000000   \n",
      "75%            18.000000                  4.000000          1.000000   \n",
      "max            25.000000                  4.000000          3.000000   \n",
      "\n",
      "       trainingtimeslastyear  yearsatcompany  yearssincelastpromotion  \\\n",
      "count            1678.000000     1678.000000              1678.000000   \n",
      "mean                2.795590        7.124553                 2.241955   \n",
      "std                 1.288657        6.173837                 3.246554   \n",
      "min                 0.000000        0.000000                 0.000000   \n",
      "25%                 2.000000        3.000000                 0.000000   \n",
      "50%                 3.000000        5.000000                 1.000000   \n",
      "75%                 3.000000        9.000000                 3.000000   \n",
      "max                 6.000000       40.000000                15.000000   \n",
      "\n",
      "       yearswithcurrmanager    datebirth  \n",
      "count           1678.000000  1678.000000  \n",
      "mean               4.200238  1986.047080  \n",
      "std                3.554224     9.154908  \n",
      "min                0.000000  1963.000000  \n",
      "25%                2.000000  1980.000000  \n",
      "50%                3.000000  1987.000000  \n",
      "75%                7.000000  1993.000000  \n",
      "max               17.000000  2005.000000  \n",
      "\n",
      "Columnas:\n",
      "['Unnamed: 0', 'age', 'attrition', 'businesstravel', 'dailyrate', 'department', 'distancefromhome', 'education', 'educationfield', 'employeecount', 'employeenumber', 'environmentsatisfaction', 'gender', 'hourlyrate', 'jobinvolvement', 'joblevel', 'jobrole', 'jobsatisfaction', 'maritalstatus', 'monthlyincome', 'monthlyrate', 'numcompaniesworked', 'overtime', 'percentsalaryhike', 'performancerating', 'relationshipsatisfaction', 'standardhours', 'stockoptionlevel', 'totalworkingyears', 'trainingtimeslastyear', 'worklifebalance', 'yearsatcompany', 'yearssincelastpromotion', 'yearswithcurrmanager', 'sameasmonthlyincome', 'datebirth', 'salary', 'roledepartament', 'remotework']\n"
     ]
    }
   ],
   "source": [
    "exploracion_basica(df)"
   ]
  },
  {
   "cell_type": "code",
   "execution_count": 140,
   "id": "81d1b7d8",
   "metadata": {},
   "outputs": [],
   "source": [
    "# Variables con valores nulos\n",
    "def nulls(df,count=0,share=0):\n",
    "    \n",
    "    nulls = df.isnull().sum()\n",
    "    nulls_share = df.isnull().sum()/df.shape[0]*100\n",
    "    with_nulls_share = nulls_share[nulls_share > 0]\n",
    "    \n",
    "    if count == 1:\n",
    "        print('Count of nulls')\n",
    "        with_nulls = nulls[nulls > 0]\n",
    "        print (with_nulls.sort_values(ascending=False))\n",
    "        print('-----------------------------------')\n",
    "    \n",
    "    if share == 1:\n",
    "        print('share of nulls')\n",
    "        print (with_nulls_share.sort_values(ascending=False))\n",
    "    \n",
    "    nulls_list = with_nulls_share.to_frame(name='perc_nulos').reset_index().rename(columns={'index': 'var'})\n",
    "    \n",
    "    return nulls_list"
   ]
  },
  {
   "cell_type": "code",
   "execution_count": 141,
   "id": "1cefdc8d",
   "metadata": {},
   "outputs": [
    {
     "name": "stdout",
     "output_type": "stream",
     "text": [
      "Count of nulls\n",
      "department             1366\n",
      "roledepartament        1366\n",
      "hourlyrate             1267\n",
      "businesstravel          801\n",
      "educationfield          774\n",
      "overtime                696\n",
      "maritalstatus           675\n",
      "totalworkingyears       549\n",
      "monthlyincome           489\n",
      "sameasmonthlyincome     489\n",
      "standardhours           351\n",
      "salary                  285\n",
      "performancerating       200\n",
      "worklifebalance         114\n",
      "dtype: int64\n",
      "-----------------------------------\n",
      "share of nulls\n",
      "department             81.406436\n",
      "roledepartament        81.406436\n",
      "hourlyrate             75.506555\n",
      "businesstravel         47.735399\n",
      "educationfield         46.126341\n",
      "overtime               41.477950\n",
      "maritalstatus          40.226460\n",
      "totalworkingyears      32.717521\n",
      "monthlyincome          29.141836\n",
      "sameasmonthlyincome    29.141836\n",
      "standardhours          20.917759\n",
      "salary                 16.984505\n",
      "performancerating      11.918951\n",
      "worklifebalance         6.793802\n",
      "dtype: float64\n"
     ]
    },
    {
     "data": {
      "text/html": [
       "<div>\n",
       "<style scoped>\n",
       "    .dataframe tbody tr th:only-of-type {\n",
       "        vertical-align: middle;\n",
       "    }\n",
       "\n",
       "    .dataframe tbody tr th {\n",
       "        vertical-align: top;\n",
       "    }\n",
       "\n",
       "    .dataframe thead th {\n",
       "        text-align: right;\n",
       "    }\n",
       "</style>\n",
       "<table border=\"1\" class=\"dataframe\">\n",
       "  <thead>\n",
       "    <tr style=\"text-align: right;\">\n",
       "      <th></th>\n",
       "      <th>var</th>\n",
       "      <th>perc_nulos</th>\n",
       "    </tr>\n",
       "  </thead>\n",
       "  <tbody>\n",
       "    <tr>\n",
       "      <th>0</th>\n",
       "      <td>businesstravel</td>\n",
       "      <td>47.735399</td>\n",
       "    </tr>\n",
       "    <tr>\n",
       "      <th>1</th>\n",
       "      <td>department</td>\n",
       "      <td>81.406436</td>\n",
       "    </tr>\n",
       "    <tr>\n",
       "      <th>2</th>\n",
       "      <td>educationfield</td>\n",
       "      <td>46.126341</td>\n",
       "    </tr>\n",
       "    <tr>\n",
       "      <th>3</th>\n",
       "      <td>hourlyrate</td>\n",
       "      <td>75.506555</td>\n",
       "    </tr>\n",
       "    <tr>\n",
       "      <th>4</th>\n",
       "      <td>maritalstatus</td>\n",
       "      <td>40.226460</td>\n",
       "    </tr>\n",
       "    <tr>\n",
       "      <th>5</th>\n",
       "      <td>monthlyincome</td>\n",
       "      <td>29.141836</td>\n",
       "    </tr>\n",
       "    <tr>\n",
       "      <th>6</th>\n",
       "      <td>overtime</td>\n",
       "      <td>41.477950</td>\n",
       "    </tr>\n",
       "    <tr>\n",
       "      <th>7</th>\n",
       "      <td>performancerating</td>\n",
       "      <td>11.918951</td>\n",
       "    </tr>\n",
       "    <tr>\n",
       "      <th>8</th>\n",
       "      <td>standardhours</td>\n",
       "      <td>20.917759</td>\n",
       "    </tr>\n",
       "    <tr>\n",
       "      <th>9</th>\n",
       "      <td>totalworkingyears</td>\n",
       "      <td>32.717521</td>\n",
       "    </tr>\n",
       "    <tr>\n",
       "      <th>10</th>\n",
       "      <td>worklifebalance</td>\n",
       "      <td>6.793802</td>\n",
       "    </tr>\n",
       "    <tr>\n",
       "      <th>11</th>\n",
       "      <td>sameasmonthlyincome</td>\n",
       "      <td>29.141836</td>\n",
       "    </tr>\n",
       "    <tr>\n",
       "      <th>12</th>\n",
       "      <td>salary</td>\n",
       "      <td>16.984505</td>\n",
       "    </tr>\n",
       "    <tr>\n",
       "      <th>13</th>\n",
       "      <td>roledepartament</td>\n",
       "      <td>81.406436</td>\n",
       "    </tr>\n",
       "  </tbody>\n",
       "</table>\n",
       "</div>"
      ],
      "text/plain": [
       "                    var  perc_nulos\n",
       "0        businesstravel   47.735399\n",
       "1            department   81.406436\n",
       "2        educationfield   46.126341\n",
       "3            hourlyrate   75.506555\n",
       "4         maritalstatus   40.226460\n",
       "5         monthlyincome   29.141836\n",
       "6              overtime   41.477950\n",
       "7     performancerating   11.918951\n",
       "8         standardhours   20.917759\n",
       "9     totalworkingyears   32.717521\n",
       "10      worklifebalance    6.793802\n",
       "11  sameasmonthlyincome   29.141836\n",
       "12               salary   16.984505\n",
       "13      roledepartament   81.406436"
      ]
     },
     "execution_count": 141,
     "metadata": {},
     "output_type": "execute_result"
    }
   ],
   "source": [
    "nulls(df,1,1)"
   ]
  },
  {
   "cell_type": "code",
   "execution_count": 142,
   "id": "4aace920",
   "metadata": {},
   "outputs": [],
   "source": [
    "def detectar_duplicados(df):\n",
    "    numero_duplicados = df.duplicated().sum()\n",
    "    print(f\"Filas duplicadas completas en el dataset: {numero_duplicados}\")\n",
    "    if numero_duplicados > 0:\n",
    "        print(\"Aquí tienes las filas duplicadas:\")\n",
    "        print(df[df.duplicated()])"
   ]
  },
  {
   "cell_type": "code",
   "execution_count": 143,
   "id": "f9d1a9a8",
   "metadata": {},
   "outputs": [
    {
     "name": "stdout",
     "output_type": "stream",
     "text": [
      "Filas duplicadas completas en el dataset: 0\n"
     ]
    }
   ],
   "source": [
    "detectar_duplicados(df)"
   ]
  },
  {
   "cell_type": "markdown",
   "id": "712bfe11",
   "metadata": {},
   "source": [
    "### Exploramos columna por columna"
   ]
  },
  {
   "cell_type": "code",
   "execution_count": 144,
   "id": "846aa118",
   "metadata": {},
   "outputs": [
    {
     "data": {
      "text/plain": [
       "Index(['Unnamed: 0', 'age', 'attrition', 'businesstravel', 'dailyrate',\n",
       "       'department', 'distancefromhome', 'education', 'educationfield',\n",
       "       'employeecount', 'employeenumber', 'environmentsatisfaction', 'gender',\n",
       "       'hourlyrate', 'jobinvolvement', 'joblevel', 'jobrole',\n",
       "       'jobsatisfaction', 'maritalstatus', 'monthlyincome', 'monthlyrate',\n",
       "       'numcompaniesworked', 'overtime', 'percentsalaryhike',\n",
       "       'performancerating', 'relationshipsatisfaction', 'standardhours',\n",
       "       'stockoptionlevel', 'totalworkingyears', 'trainingtimeslastyear',\n",
       "       'worklifebalance', 'yearsatcompany', 'yearssincelastpromotion',\n",
       "       'yearswithcurrmanager', 'sameasmonthlyincome', 'datebirth', 'salary',\n",
       "       'roledepartament', 'remotework'],\n",
       "      dtype='object')"
      ]
     },
     "execution_count": 144,
     "metadata": {},
     "output_type": "execute_result"
    }
   ],
   "source": [
    "df.columns"
   ]
  },
  {
   "cell_type": "code",
   "execution_count": 148,
   "id": "c590176a",
   "metadata": {},
   "outputs": [],
   "source": [
    "df.drop(columns='Unnamed: 0', inplace=True)"
   ]
  },
  {
   "cell_type": "markdown",
   "id": "bc0de065",
   "metadata": {},
   "source": [
    "### 'age'"
   ]
  },
  {
   "cell_type": "code",
   "execution_count": 149,
   "id": "cc773e48",
   "metadata": {},
   "outputs": [
    {
     "data": {
      "text/plain": [
       "age\n",
       "35              88\n",
       "31              88\n",
       "34              86\n",
       "29              82\n",
       "36              79\n",
       "32              66\n",
       "30              65\n",
       "38              64\n",
       "33              63\n",
       "40              60\n",
       "28              54\n",
       "37              54\n",
       "27              54\n",
       "45              50\n",
       "42              50\n",
       "41              48\n",
       "39              46\n",
       "26              46\n",
       "43              42\n",
       "46              38\n",
       "44              34\n",
       "50              34\n",
       "47              30\n",
       "24              29\n",
       "25              28\n",
       "49              26\n",
       "55              25\n",
       "51              22\n",
       "48              22\n",
       "53              20\n",
       "54              20\n",
       "52              18\n",
       "56              18\n",
       "21              17\n",
       "22              17\n",
       "58              16\n",
       "23              15\n",
       "59              11\n",
       "20              11\n",
       "18               9\n",
       "19               9\n",
       "57               6\n",
       "60               5\n",
       "thirty-two       2\n",
       "twenty-four      2\n",
       "thirty           1\n",
       "fifty-eight      1\n",
       "fifty-two        1\n",
       "twenty-six       1\n",
       "fifty-five       1\n",
       "thirty-seven     1\n",
       "thirty-six       1\n",
       "forty-seven      1\n",
       "thirty-one       1\n",
       "Name: count, dtype: int64"
      ]
     },
     "execution_count": 149,
     "metadata": {},
     "output_type": "execute_result"
    }
   ],
   "source": [
    "df['age'].value_counts()"
   ]
  },
  {
   "cell_type": "code",
   "execution_count": 150,
   "id": "a3d3ba1c",
   "metadata": {},
   "outputs": [],
   "source": [
    "# transformamos las edades escritas en palabras a números\n",
    "words_to_numbers = {\n",
    "    'eighteen': 18,\n",
    "    'nineteen': 19,\n",
    "    'twenty': 20,\n",
    "    'twenty-one': 21,\n",
    "    'twenty-two': 22,\n",
    "    'twenty-three': 23,\n",
    "    'twenty-four': 24,\n",
    "    'twenty-five': 25,\n",
    "    'twenty-six': 26,\n",
    "    'twenty-seven': 27,\n",
    "    'twenty-eight': 28,\n",
    "    'twenty-nine': 29,\n",
    "    'thirty': 30,\n",
    "    'thirty-one': 31,\n",
    "    'thirty-two': 32,\n",
    "    'thirty-three': 33,\n",
    "    'thirty-four': 34,\n",
    "    'thirty-five': 35,\n",
    "    'thirty-six': 36,\n",
    "    'thirty-seven': 37,\n",
    "    'forty-seven': 47,\n",
    "    'fifty-two': 52,\n",
    "    'fifty-five': 55,\n",
    "    'fifty-eight': 58\n",
    "}\n"
   ]
  },
  {
   "cell_type": "code",
   "execution_count": 151,
   "id": "50cdfbf6",
   "metadata": {},
   "outputs": [
    {
     "name": "stdout",
     "output_type": "stream",
     "text": [
      "int64\n",
      "age\n",
      "18     9\n",
      "19     9\n",
      "20    11\n",
      "21    17\n",
      "22    17\n",
      "23    15\n",
      "24    31\n",
      "25    28\n",
      "26    47\n",
      "27    54\n",
      "28    54\n",
      "29    82\n",
      "30    66\n",
      "31    89\n",
      "32    68\n",
      "33    63\n",
      "34    86\n",
      "35    88\n",
      "36    80\n",
      "37    55\n",
      "38    64\n",
      "39    46\n",
      "40    60\n",
      "41    48\n",
      "42    50\n",
      "43    42\n",
      "44    34\n",
      "45    50\n",
      "46    38\n",
      "47    31\n",
      "48    22\n",
      "49    26\n",
      "50    34\n",
      "51    22\n",
      "52    19\n",
      "53    20\n",
      "54    20\n",
      "55    26\n",
      "56    18\n",
      "57     6\n",
      "58    17\n",
      "59    11\n",
      "60     5\n",
      "Name: count, dtype: int64\n"
     ]
    }
   ],
   "source": [
    "# reemplazamos palabras por números, y convertimos la columna a tipo numérico\n",
    "df['age'] = df['age'].replace(words_to_numbers)\n",
    "df['age'] = pd.to_numeric(df['age'], errors='coerce')\n",
    "\n",
    "print(df['age'].dtype)\n",
    "print(df['age'].value_counts().sort_index())"
   ]
  },
  {
   "cell_type": "markdown",
   "id": "ff0b8f14",
   "metadata": {},
   "source": [
    "### 'attrition'"
   ]
  },
  {
   "cell_type": "code",
   "execution_count": 152,
   "id": "b6c9197e",
   "metadata": {},
   "outputs": [
    {
     "data": {
      "text/plain": [
       "attrition\n",
       "No     1406\n",
       "Yes     272\n",
       "Name: count, dtype: int64"
      ]
     },
     "execution_count": 152,
     "metadata": {},
     "output_type": "execute_result"
    }
   ],
   "source": [
    "df['attrition'].value_counts()"
   ]
  },
  {
   "cell_type": "code",
   "execution_count": 153,
   "id": "87e5ecb0",
   "metadata": {},
   "outputs": [
    {
     "name": "stdout",
     "output_type": "stream",
     "text": [
      "attrition\n",
      "no     1406\n",
      "yes     272\n",
      "Name: count, dtype: int64\n"
     ]
    }
   ],
   "source": [
    "df['attrition'] = df['attrition'].str.lower()\n",
    "print(df['attrition'].value_counts())"
   ]
  },
  {
   "cell_type": "markdown",
   "id": "2be9dace",
   "metadata": {},
   "source": [
    "### 'businesstravel'"
   ]
  },
  {
   "cell_type": "code",
   "execution_count": 154,
   "id": "648ca667",
   "metadata": {},
   "outputs": [
    {
     "data": {
      "text/plain": [
       "businesstravel\n",
       "travel_rarely        616\n",
       "travel_frequently    168\n",
       "non-travel            93\n",
       "Name: count, dtype: int64"
      ]
     },
     "execution_count": 154,
     "metadata": {},
     "output_type": "execute_result"
    }
   ],
   "source": [
    "df['businesstravel'].value_counts()"
   ]
  },
  {
   "cell_type": "code",
   "execution_count": 155,
   "id": "959218ac",
   "metadata": {},
   "outputs": [
    {
     "name": "stdout",
     "output_type": "stream",
     "text": [
      "businesstravel\n",
      "travel_rarely        616\n",
      "travel_frequently    168\n",
      "non_travel            93\n",
      "Name: count, dtype: int64\n"
     ]
    }
   ],
   "source": [
    "df['businesstravel'] = df['businesstravel'].str.replace(' ', '_', regex=False)\n",
    "df['businesstravel'] = df['businesstravel'].str.replace('-', '_', regex=False).str.lower()\n",
    "print(df['businesstravel'].value_counts())"
   ]
  },
  {
   "cell_type": "markdown",
   "id": "f11ab088",
   "metadata": {},
   "source": [
    "### 'dailyrate'"
   ]
  },
  {
   "cell_type": "code",
   "execution_count": 156,
   "id": "b86db5b1",
   "metadata": {},
   "outputs": [
    {
     "data": {
      "text/plain": [
       "dailyrate\n",
       "556.256661     326\n",
       "290.035510     308\n",
       "1032.487286    150\n",
       "1582.771346     55\n",
       "1973.984127     38\n",
       "              ... \n",
       "320.047619       1\n",
       "470.063492       1\n",
       "436.428571       1\n",
       "501.325397       1\n",
       "2004.785714      1\n",
       "Name: count, Length: 673, dtype: int64"
      ]
     },
     "execution_count": 156,
     "metadata": {},
     "output_type": "execute_result"
    }
   ],
   "source": [
    "df['dailyrate'].value_counts()"
   ]
  },
  {
   "cell_type": "code",
   "execution_count": 157,
   "id": "d5b1d41a",
   "metadata": {},
   "outputs": [
    {
     "name": "stdout",
     "output_type": "stream",
     "text": [
      "dailyrate\n",
      "556.26     326\n",
      "290.04     308\n",
      "1032.49    150\n",
      "1582.77     55\n",
      "1973.98     38\n",
      "          ... \n",
      "320.05       1\n",
      "470.06       1\n",
      "436.43       1\n",
      "501.33       1\n",
      "2004.79      1\n",
      "Name: count, Length: 673, dtype: int64\n"
     ]
    }
   ],
   "source": [
    "# reducimos a dos decimales los valores de la columna 'dailyrate'\n",
    "df['dailyrate'] = df['dailyrate'].round(2)\n",
    "print(df['dailyrate'].value_counts())"
   ]
  },
  {
   "cell_type": "markdown",
   "id": "d6b7c5af",
   "metadata": {},
   "source": [
    "### 'department'"
   ]
  },
  {
   "cell_type": "code",
   "execution_count": 158,
   "id": "bb454c74",
   "metadata": {},
   "outputs": [
    {
     "data": {
      "text/plain": [
       "department\n",
       "Research & Development     203\n",
       "Sales                       93\n",
       "Human Resources             16\n",
       "Name: count, dtype: int64"
      ]
     },
     "execution_count": 158,
     "metadata": {},
     "output_type": "execute_result"
    }
   ],
   "source": [
    "df['department'].value_counts()"
   ]
  },
  {
   "cell_type": "code",
   "execution_count": 159,
   "id": "3cef9611",
   "metadata": {},
   "outputs": [
    {
     "data": {
      "text/plain": [
       "array([nan, ' Research & Development ', ' Sales ', ' Human Resources '],\n",
       "      dtype=object)"
      ]
     },
     "execution_count": 159,
     "metadata": {},
     "output_type": "execute_result"
    }
   ],
   "source": [
    "df['department'].unique()"
   ]
  },
  {
   "cell_type": "code",
   "execution_count": 160,
   "id": "804a4e45",
   "metadata": {},
   "outputs": [
    {
     "name": "stdout",
     "output_type": "stream",
     "text": [
      "department\n",
      "research_&_development    203\n",
      "sales                      93\n",
      "human_resources            16\n",
      "Name: count, dtype: int64\n"
     ]
    }
   ],
   "source": [
    "df['department'] = df['department'].apply(\n",
    "    lambda x: x.strip().replace(' ', '_').lower() if pd.notna(x) else x\n",
    ")\n",
    "\n",
    "print(df['department'].value_counts())"
   ]
  },
  {
   "cell_type": "code",
   "execution_count": 161,
   "id": "1161e201",
   "metadata": {},
   "outputs": [
    {
     "data": {
      "text/plain": [
       "1366"
      ]
     },
     "execution_count": 161,
     "metadata": {},
     "output_type": "execute_result"
    }
   ],
   "source": [
    "df['department'].isnull().sum()"
   ]
  },
  {
   "cell_type": "code",
   "execution_count": 162,
   "id": "1ebfd3dd",
   "metadata": {},
   "outputs": [
    {
     "data": {
      "text/plain": [
       "array([nan, 'research_&_development', 'sales', 'human_resources'],\n",
       "      dtype=object)"
      ]
     },
     "execution_count": 162,
     "metadata": {},
     "output_type": "execute_result"
    }
   ],
   "source": [
    "df['department'].unique()"
   ]
  },
  {
   "cell_type": "markdown",
   "id": "20d566ae",
   "metadata": {},
   "source": [
    "### 'distancefromhome'"
   ]
  },
  {
   "cell_type": "code",
   "execution_count": 163,
   "id": "76e655c1",
   "metadata": {},
   "outputs": [
    {
     "data": {
      "text/plain": [
       "distancefromhome\n",
       " 2     228\n",
       " 1     209\n",
       " 9      89\n",
       " 10     86\n",
       " 8      85\n",
       "      ... \n",
       "-21      2\n",
       "-34      2\n",
       "-43      2\n",
       "-39      1\n",
       "-40      1\n",
       "Name: count, Length: 69, dtype: int64"
      ]
     },
     "execution_count": 163,
     "metadata": {},
     "output_type": "execute_result"
    }
   ],
   "source": [
    "df['distancefromhome'].value_counts()"
   ]
  },
  {
   "cell_type": "code",
   "execution_count": 164,
   "id": "de0c9236",
   "metadata": {},
   "outputs": [
    {
     "name": "stdout",
     "output_type": "stream",
     "text": [
      "distancefromhome\n",
      "2     228\n",
      "1     209\n",
      "10     92\n",
      "9      89\n",
      "8      85\n",
      "7      82\n",
      "3      79\n",
      "5      65\n",
      "4      64\n",
      "6      63\n",
      "24     37\n",
      "16     37\n",
      "12     33\n",
      "13     33\n",
      "11     33\n",
      "18     32\n",
      "15     31\n",
      "25     31\n",
      "26     30\n",
      "29     30\n",
      "23     30\n",
      "14     28\n",
      "19     23\n",
      "20     23\n",
      "17     22\n",
      "21     22\n",
      "22     21\n",
      "28     20\n",
      "27     18\n",
      "47      8\n",
      "35      8\n",
      "38      7\n",
      "31      6\n",
      "36      6\n",
      "42      6\n",
      "45      6\n",
      "48      5\n",
      "37      5\n",
      "46      5\n",
      "32      4\n",
      "41      4\n",
      "30      4\n",
      "33      3\n",
      "44      3\n",
      "34      2\n",
      "49      2\n",
      "43      2\n",
      "39      1\n",
      "40      1\n",
      "Name: count, dtype: int64\n"
     ]
    }
   ],
   "source": [
    "# pasamos la distancia a positivos, ya que hay valores negativos\n",
    "df['distancefromhome'] = df['distancefromhome'].abs()\n",
    "print(df['distancefromhome'].value_counts())"
   ]
  },
  {
   "cell_type": "markdown",
   "id": "63b93145",
   "metadata": {},
   "source": [
    "### 'education'"
   ]
  },
  {
   "cell_type": "code",
   "execution_count": 165,
   "id": "ba694a59",
   "metadata": {},
   "outputs": [
    {
     "data": {
      "text/plain": [
       "education\n",
       "3    649\n",
       "4    461\n",
       "2    322\n",
       "1    186\n",
       "5     60\n",
       "Name: count, dtype: int64"
      ]
     },
     "execution_count": 165,
     "metadata": {},
     "output_type": "execute_result"
    }
   ],
   "source": [
    "df['education'].value_counts()"
   ]
  },
  {
   "cell_type": "markdown",
   "id": "9ee09e98",
   "metadata": {},
   "source": [
    "### 'educationfield'"
   ]
  },
  {
   "cell_type": "code",
   "execution_count": 166,
   "id": "e9eeadc2",
   "metadata": {},
   "outputs": [
    {
     "data": {
      "text/plain": [
       "educationfield\n",
       "Life Sciences       367\n",
       "Medical             286\n",
       "Marketing           106\n",
       "Technical Degree     70\n",
       "Other                63\n",
       "Human Resources      12\n",
       "Name: count, dtype: int64"
      ]
     },
     "execution_count": 166,
     "metadata": {},
     "output_type": "execute_result"
    }
   ],
   "source": [
    "df['educationfield'].value_counts()"
   ]
  },
  {
   "cell_type": "code",
   "execution_count": 167,
   "id": "d3735e82",
   "metadata": {},
   "outputs": [
    {
     "name": "stdout",
     "output_type": "stream",
     "text": [
      "educationfield\n",
      "nan                 774\n",
      "life_sciences       367\n",
      "medical             286\n",
      "marketing           106\n",
      "technical_degree     70\n",
      "other                63\n",
      "human_resources      12\n",
      "Name: count, dtype: int64\n"
     ]
    }
   ],
   "source": [
    "df['educationfield'] = (\n",
    "    df['educationfield']\n",
    "    .astype(str)                      \n",
    "    .str.strip('_')                   \n",
    "    .str.replace('_', ' ', regex=False)  \n",
    "    .str.strip()                      \n",
    "    .str.lower()                     \n",
    "    .str.replace(' ', '_', regex=False)  \n",
    ")\n",
    "print(df['educationfield'].value_counts())"
   ]
  },
  {
   "cell_type": "markdown",
   "id": "75b1a697",
   "metadata": {},
   "source": [
    "### 'employeecount'"
   ]
  },
  {
   "cell_type": "code",
   "execution_count": 168,
   "id": "83c7daf6",
   "metadata": {},
   "outputs": [
    {
     "data": {
      "text/plain": [
       "employeecount\n",
       "1    1678\n",
       "Name: count, dtype: int64"
      ]
     },
     "execution_count": 168,
     "metadata": {},
     "output_type": "execute_result"
    }
   ],
   "source": [
    "df['employeecount'].value_counts()"
   ]
  },
  {
   "cell_type": "code",
   "execution_count": 169,
   "id": "58835324",
   "metadata": {},
   "outputs": [],
   "source": [
    "# no aporta información útil, la eliminamos\n",
    "df = df.drop(columns='employeecount')"
   ]
  },
  {
   "cell_type": "markdown",
   "id": "eb55ee18",
   "metadata": {},
   "source": [
    "### 'employeenumber'"
   ]
  },
  {
   "cell_type": "code",
   "execution_count": 170,
   "id": "d71ffe50",
   "metadata": {},
   "outputs": [
    {
     "data": {
      "text/plain": [
       "employeenumber\n",
       "300     2\n",
       "159     2\n",
       "271     2\n",
       "1158    2\n",
       "191     2\n",
       "       ..\n",
       "547     1\n",
       "546     1\n",
       "545     1\n",
       "544     1\n",
       "1614    1\n",
       "Name: count, Length: 1614, dtype: int64"
      ]
     },
     "execution_count": 170,
     "metadata": {},
     "output_type": "execute_result"
    }
   ],
   "source": [
    "df['employeenumber'].value_counts()"
   ]
  },
  {
   "cell_type": "code",
   "execution_count": 171,
   "id": "9432b04d",
   "metadata": {},
   "outputs": [
    {
     "data": {
      "text/html": [
       "<div>\n",
       "<style scoped>\n",
       "    .dataframe tbody tr th:only-of-type {\n",
       "        vertical-align: middle;\n",
       "    }\n",
       "\n",
       "    .dataframe tbody tr th {\n",
       "        vertical-align: top;\n",
       "    }\n",
       "\n",
       "    .dataframe thead th {\n",
       "        text-align: right;\n",
       "    }\n",
       "</style>\n",
       "<table border=\"1\" class=\"dataframe\">\n",
       "  <thead>\n",
       "    <tr style=\"text-align: right;\">\n",
       "      <th></th>\n",
       "      <th>age</th>\n",
       "      <th>attrition</th>\n",
       "      <th>businesstravel</th>\n",
       "      <th>dailyrate</th>\n",
       "      <th>department</th>\n",
       "      <th>distancefromhome</th>\n",
       "      <th>education</th>\n",
       "      <th>educationfield</th>\n",
       "      <th>employeenumber</th>\n",
       "      <th>environmentsatisfaction</th>\n",
       "      <th>gender</th>\n",
       "      <th>hourlyrate</th>\n",
       "      <th>jobinvolvement</th>\n",
       "      <th>joblevel</th>\n",
       "      <th>jobrole</th>\n",
       "      <th>jobsatisfaction</th>\n",
       "      <th>maritalstatus</th>\n",
       "      <th>monthlyincome</th>\n",
       "      <th>monthlyrate</th>\n",
       "      <th>numcompaniesworked</th>\n",
       "      <th>overtime</th>\n",
       "      <th>percentsalaryhike</th>\n",
       "      <th>performancerating</th>\n",
       "      <th>relationshipsatisfaction</th>\n",
       "      <th>standardhours</th>\n",
       "      <th>stockoptionlevel</th>\n",
       "      <th>totalworkingyears</th>\n",
       "      <th>trainingtimeslastyear</th>\n",
       "      <th>worklifebalance</th>\n",
       "      <th>yearsatcompany</th>\n",
       "      <th>yearssincelastpromotion</th>\n",
       "      <th>yearswithcurrmanager</th>\n",
       "      <th>sameasmonthlyincome</th>\n",
       "      <th>datebirth</th>\n",
       "      <th>salary</th>\n",
       "      <th>roledepartament</th>\n",
       "      <th>remotework</th>\n",
       "    </tr>\n",
       "  </thead>\n",
       "  <tbody>\n",
       "    <tr>\n",
       "      <th>8</th>\n",
       "      <td>41</td>\n",
       "      <td>no</td>\n",
       "      <td>NaN</td>\n",
       "      <td>1712.18</td>\n",
       "      <td>NaN</td>\n",
       "      <td>2</td>\n",
       "      <td>5</td>\n",
       "      <td>nan</td>\n",
       "      <td>9</td>\n",
       "      <td>2</td>\n",
       "      <td>1</td>\n",
       "      <td>NaN</td>\n",
       "      <td>3</td>\n",
       "      <td>4</td>\n",
       "      <td>mANAGEr</td>\n",
       "      <td>1</td>\n",
       "      <td>Married</td>\n",
       "      <td>13829,17$</td>\n",
       "      <td>35955,83$</td>\n",
       "      <td>7</td>\n",
       "      <td>No</td>\n",
       "      <td>16</td>\n",
       "      <td>3,0</td>\n",
       "      <td>2</td>\n",
       "      <td>Full Time</td>\n",
       "      <td>1</td>\n",
       "      <td>22,0</td>\n",
       "      <td>2</td>\n",
       "      <td>3,0</td>\n",
       "      <td>18</td>\n",
       "      <td>11</td>\n",
       "      <td>8</td>\n",
       "      <td>13829,17$</td>\n",
       "      <td>1982</td>\n",
       "      <td>165950,00$</td>\n",
       "      <td>NaN</td>\n",
       "      <td>True</td>\n",
       "    </tr>\n",
       "    <tr>\n",
       "      <th>1656</th>\n",
       "      <td>41</td>\n",
       "      <td>no</td>\n",
       "      <td>NaN</td>\n",
       "      <td>1712.18</td>\n",
       "      <td>NaN</td>\n",
       "      <td>2</td>\n",
       "      <td>5</td>\n",
       "      <td>nan</td>\n",
       "      <td>9</td>\n",
       "      <td>2</td>\n",
       "      <td>1</td>\n",
       "      <td>NaN</td>\n",
       "      <td>3</td>\n",
       "      <td>4</td>\n",
       "      <td>mANAGEr</td>\n",
       "      <td>1</td>\n",
       "      <td>Married</td>\n",
       "      <td>13829,17$</td>\n",
       "      <td>35955,83$</td>\n",
       "      <td>7</td>\n",
       "      <td>No</td>\n",
       "      <td>16</td>\n",
       "      <td>3,0</td>\n",
       "      <td>2</td>\n",
       "      <td>Full Time</td>\n",
       "      <td>1</td>\n",
       "      <td>22,0</td>\n",
       "      <td>2</td>\n",
       "      <td>3,0</td>\n",
       "      <td>18</td>\n",
       "      <td>11</td>\n",
       "      <td>8</td>\n",
       "      <td>13829,17$</td>\n",
       "      <td>1982</td>\n",
       "      <td>165950,00$</td>\n",
       "      <td>NaN</td>\n",
       "      <td>True</td>\n",
       "    </tr>\n",
       "    <tr>\n",
       "      <th>60</th>\n",
       "      <td>36</td>\n",
       "      <td>no</td>\n",
       "      <td>NaN</td>\n",
       "      <td>610.17</td>\n",
       "      <td>NaN</td>\n",
       "      <td>5</td>\n",
       "      <td>2</td>\n",
       "      <td>nan</td>\n",
       "      <td>61</td>\n",
       "      <td>4</td>\n",
       "      <td>0</td>\n",
       "      <td>NaN</td>\n",
       "      <td>3</td>\n",
       "      <td>2</td>\n",
       "      <td>lAboratORy TeChNiCiaN</td>\n",
       "      <td>2</td>\n",
       "      <td>Single</td>\n",
       "      <td>4928,33$</td>\n",
       "      <td>12813,67$</td>\n",
       "      <td>8</td>\n",
       "      <td>No</td>\n",
       "      <td>16</td>\n",
       "      <td>3,0</td>\n",
       "      <td>4</td>\n",
       "      <td>Full Time</td>\n",
       "      <td>0</td>\n",
       "      <td>16,0</td>\n",
       "      <td>3</td>\n",
       "      <td>4,0</td>\n",
       "      <td>13</td>\n",
       "      <td>3</td>\n",
       "      <td>7</td>\n",
       "      <td>4928,33$</td>\n",
       "      <td>1987</td>\n",
       "      <td>59140,00$</td>\n",
       "      <td>NaN</td>\n",
       "      <td>1</td>\n",
       "    </tr>\n",
       "    <tr>\n",
       "      <th>1652</th>\n",
       "      <td>36</td>\n",
       "      <td>no</td>\n",
       "      <td>NaN</td>\n",
       "      <td>610.17</td>\n",
       "      <td>NaN</td>\n",
       "      <td>5</td>\n",
       "      <td>2</td>\n",
       "      <td>nan</td>\n",
       "      <td>61</td>\n",
       "      <td>4</td>\n",
       "      <td>0</td>\n",
       "      <td>NaN</td>\n",
       "      <td>3</td>\n",
       "      <td>2</td>\n",
       "      <td>lAboratORy TeChNiCiaN</td>\n",
       "      <td>2</td>\n",
       "      <td>Single</td>\n",
       "      <td>4928,33$</td>\n",
       "      <td>12813,67$</td>\n",
       "      <td>8</td>\n",
       "      <td>No</td>\n",
       "      <td>16</td>\n",
       "      <td>3,0</td>\n",
       "      <td>4</td>\n",
       "      <td>Full Time</td>\n",
       "      <td>0</td>\n",
       "      <td>16,0</td>\n",
       "      <td>3</td>\n",
       "      <td>4,0</td>\n",
       "      <td>13</td>\n",
       "      <td>3</td>\n",
       "      <td>7</td>\n",
       "      <td>4928,33$</td>\n",
       "      <td>1987</td>\n",
       "      <td>59140,00$</td>\n",
       "      <td>NaN</td>\n",
       "      <td>1</td>\n",
       "    </tr>\n",
       "    <tr>\n",
       "      <th>1676</th>\n",
       "      <td>47</td>\n",
       "      <td>no</td>\n",
       "      <td>travel_rarely</td>\n",
       "      <td>1032.49</td>\n",
       "      <td>NaN</td>\n",
       "      <td>4</td>\n",
       "      <td>3</td>\n",
       "      <td>life_sciences</td>\n",
       "      <td>76</td>\n",
       "      <td>3</td>\n",
       "      <td>1</td>\n",
       "      <td>NaN</td>\n",
       "      <td>2</td>\n",
       "      <td>3</td>\n",
       "      <td>maNufACTURING DIREctOr</td>\n",
       "      <td>2</td>\n",
       "      <td>Divorced</td>\n",
       "      <td>8339,32$</td>\n",
       "      <td>21682,23$</td>\n",
       "      <td>8</td>\n",
       "      <td>Yes</td>\n",
       "      <td>12</td>\n",
       "      <td>NaN</td>\n",
       "      <td>3</td>\n",
       "      <td>Part Time</td>\n",
       "      <td>1</td>\n",
       "      <td>NaN</td>\n",
       "      <td>4</td>\n",
       "      <td>3,0</td>\n",
       "      <td>22</td>\n",
       "      <td>14</td>\n",
       "      <td>10</td>\n",
       "      <td>8339,32$</td>\n",
       "      <td>1976</td>\n",
       "      <td>100071,84$</td>\n",
       "      <td>NaN</td>\n",
       "      <td>Yes</td>\n",
       "    </tr>\n",
       "    <tr>\n",
       "      <th>...</th>\n",
       "      <td>...</td>\n",
       "      <td>...</td>\n",
       "      <td>...</td>\n",
       "      <td>...</td>\n",
       "      <td>...</td>\n",
       "      <td>...</td>\n",
       "      <td>...</td>\n",
       "      <td>...</td>\n",
       "      <td>...</td>\n",
       "      <td>...</td>\n",
       "      <td>...</td>\n",
       "      <td>...</td>\n",
       "      <td>...</td>\n",
       "      <td>...</td>\n",
       "      <td>...</td>\n",
       "      <td>...</td>\n",
       "      <td>...</td>\n",
       "      <td>...</td>\n",
       "      <td>...</td>\n",
       "      <td>...</td>\n",
       "      <td>...</td>\n",
       "      <td>...</td>\n",
       "      <td>...</td>\n",
       "      <td>...</td>\n",
       "      <td>...</td>\n",
       "      <td>...</td>\n",
       "      <td>...</td>\n",
       "      <td>...</td>\n",
       "      <td>...</td>\n",
       "      <td>...</td>\n",
       "      <td>...</td>\n",
       "      <td>...</td>\n",
       "      <td>...</td>\n",
       "      <td>...</td>\n",
       "      <td>...</td>\n",
       "      <td>...</td>\n",
       "      <td>...</td>\n",
       "    </tr>\n",
       "    <tr>\n",
       "      <th>1638</th>\n",
       "      <td>48</td>\n",
       "      <td>no</td>\n",
       "      <td>travel_rarely</td>\n",
       "      <td>417.96</td>\n",
       "      <td>NaN</td>\n",
       "      <td>2</td>\n",
       "      <td>5</td>\n",
       "      <td>nan</td>\n",
       "      <td>1568</td>\n",
       "      <td>2</td>\n",
       "      <td>1</td>\n",
       "      <td>NaN</td>\n",
       "      <td>3</td>\n",
       "      <td>2</td>\n",
       "      <td>sALES EXEcuTIVe</td>\n",
       "      <td>4</td>\n",
       "      <td>Married</td>\n",
       "      <td>3375,83$</td>\n",
       "      <td>8777,17$</td>\n",
       "      <td>2</td>\n",
       "      <td>No</td>\n",
       "      <td>14</td>\n",
       "      <td>3,0</td>\n",
       "      <td>1</td>\n",
       "      <td>Part Time</td>\n",
       "      <td>1</td>\n",
       "      <td>14,0</td>\n",
       "      <td>2</td>\n",
       "      <td>3,0</td>\n",
       "      <td>9</td>\n",
       "      <td>6</td>\n",
       "      <td>7</td>\n",
       "      <td>3375,83$</td>\n",
       "      <td>1975</td>\n",
       "      <td>40510,00$</td>\n",
       "      <td>NaN</td>\n",
       "      <td>True</td>\n",
       "    </tr>\n",
       "    <tr>\n",
       "      <th>1657</th>\n",
       "      <td>45</td>\n",
       "      <td>no</td>\n",
       "      <td>travel_rarely</td>\n",
       "      <td>495.75</td>\n",
       "      <td>NaN</td>\n",
       "      <td>2</td>\n",
       "      <td>3</td>\n",
       "      <td>other</td>\n",
       "      <td>1569</td>\n",
       "      <td>4</td>\n",
       "      <td>0</td>\n",
       "      <td>NaN</td>\n",
       "      <td>3</td>\n",
       "      <td>2</td>\n",
       "      <td>sAles executiVe</td>\n",
       "      <td>2</td>\n",
       "      <td>NaN</td>\n",
       "      <td>NaN</td>\n",
       "      <td>10410,83$</td>\n",
       "      <td>0</td>\n",
       "      <td>No</td>\n",
       "      <td>19</td>\n",
       "      <td>3,0</td>\n",
       "      <td>2</td>\n",
       "      <td>Part Time</td>\n",
       "      <td>1</td>\n",
       "      <td>NaN</td>\n",
       "      <td>3</td>\n",
       "      <td>4,0</td>\n",
       "      <td>8</td>\n",
       "      <td>3</td>\n",
       "      <td>7</td>\n",
       "      <td>NaN</td>\n",
       "      <td>1978</td>\n",
       "      <td>48050,00$</td>\n",
       "      <td>NaN</td>\n",
       "      <td>False</td>\n",
       "    </tr>\n",
       "    <tr>\n",
       "      <th>1568</th>\n",
       "      <td>45</td>\n",
       "      <td>no</td>\n",
       "      <td>travel_rarely</td>\n",
       "      <td>495.75</td>\n",
       "      <td>NaN</td>\n",
       "      <td>2</td>\n",
       "      <td>3</td>\n",
       "      <td>other</td>\n",
       "      <td>1569</td>\n",
       "      <td>4</td>\n",
       "      <td>0</td>\n",
       "      <td>NaN</td>\n",
       "      <td>3</td>\n",
       "      <td>2</td>\n",
       "      <td>sAles executiVe</td>\n",
       "      <td>2</td>\n",
       "      <td>NaN</td>\n",
       "      <td>NaN</td>\n",
       "      <td>10410,83$</td>\n",
       "      <td>0</td>\n",
       "      <td>No</td>\n",
       "      <td>19</td>\n",
       "      <td>3,0</td>\n",
       "      <td>2</td>\n",
       "      <td>Part Time</td>\n",
       "      <td>1</td>\n",
       "      <td>NaN</td>\n",
       "      <td>3</td>\n",
       "      <td>4,0</td>\n",
       "      <td>8</td>\n",
       "      <td>3</td>\n",
       "      <td>7</td>\n",
       "      <td>NaN</td>\n",
       "      <td>1978</td>\n",
       "      <td>48050,00$</td>\n",
       "      <td>NaN</td>\n",
       "      <td>False</td>\n",
       "    </tr>\n",
       "    <tr>\n",
       "      <th>1671</th>\n",
       "      <td>31</td>\n",
       "      <td>no</td>\n",
       "      <td>NaN</td>\n",
       "      <td>556.26</td>\n",
       "      <td>NaN</td>\n",
       "      <td>12</td>\n",
       "      <td>3</td>\n",
       "      <td>medical</td>\n",
       "      <td>1608</td>\n",
       "      <td>4</td>\n",
       "      <td>1</td>\n",
       "      <td>NaN</td>\n",
       "      <td>3</td>\n",
       "      <td>2</td>\n",
       "      <td>HEaltHCarE REPreSENtAtIve</td>\n",
       "      <td>4</td>\n",
       "      <td>NaN</td>\n",
       "      <td>NaN</td>\n",
       "      <td>11681,39$</td>\n",
       "      <td>0</td>\n",
       "      <td>NaN</td>\n",
       "      <td>11</td>\n",
       "      <td>3,0</td>\n",
       "      <td>3</td>\n",
       "      <td>Part Time</td>\n",
       "      <td>2</td>\n",
       "      <td>10,0</td>\n",
       "      <td>2</td>\n",
       "      <td>1,0</td>\n",
       "      <td>9</td>\n",
       "      <td>8</td>\n",
       "      <td>5</td>\n",
       "      <td>NaN</td>\n",
       "      <td>1992</td>\n",
       "      <td>53914,11$</td>\n",
       "      <td>NaN</td>\n",
       "      <td>True</td>\n",
       "    </tr>\n",
       "    <tr>\n",
       "      <th>1607</th>\n",
       "      <td>31</td>\n",
       "      <td>no</td>\n",
       "      <td>NaN</td>\n",
       "      <td>556.26</td>\n",
       "      <td>NaN</td>\n",
       "      <td>12</td>\n",
       "      <td>3</td>\n",
       "      <td>medical</td>\n",
       "      <td>1608</td>\n",
       "      <td>4</td>\n",
       "      <td>1</td>\n",
       "      <td>NaN</td>\n",
       "      <td>3</td>\n",
       "      <td>2</td>\n",
       "      <td>HEaltHCarE REPreSENtAtIve</td>\n",
       "      <td>4</td>\n",
       "      <td>NaN</td>\n",
       "      <td>NaN</td>\n",
       "      <td>11681,39$</td>\n",
       "      <td>0</td>\n",
       "      <td>NaN</td>\n",
       "      <td>11</td>\n",
       "      <td>3,0</td>\n",
       "      <td>3</td>\n",
       "      <td>Part Time</td>\n",
       "      <td>2</td>\n",
       "      <td>10,0</td>\n",
       "      <td>2</td>\n",
       "      <td>1,0</td>\n",
       "      <td>9</td>\n",
       "      <td>8</td>\n",
       "      <td>5</td>\n",
       "      <td>NaN</td>\n",
       "      <td>1992</td>\n",
       "      <td>53914,11$</td>\n",
       "      <td>NaN</td>\n",
       "      <td>True</td>\n",
       "    </tr>\n",
       "  </tbody>\n",
       "</table>\n",
       "<p>128 rows × 37 columns</p>\n",
       "</div>"
      ],
      "text/plain": [
       "      age attrition businesstravel  dailyrate department  distancefromhome  \\\n",
       "8      41        no            NaN    1712.18        NaN                 2   \n",
       "1656   41        no            NaN    1712.18        NaN                 2   \n",
       "60     36        no            NaN     610.17        NaN                 5   \n",
       "1652   36        no            NaN     610.17        NaN                 5   \n",
       "1676   47        no  travel_rarely    1032.49        NaN                 4   \n",
       "...   ...       ...            ...        ...        ...               ...   \n",
       "1638   48        no  travel_rarely     417.96        NaN                 2   \n",
       "1657   45        no  travel_rarely     495.75        NaN                 2   \n",
       "1568   45        no  travel_rarely     495.75        NaN                 2   \n",
       "1671   31        no            NaN     556.26        NaN                12   \n",
       "1607   31        no            NaN     556.26        NaN                12   \n",
       "\n",
       "      education educationfield  employeenumber  environmentsatisfaction  \\\n",
       "8             5            nan               9                        2   \n",
       "1656          5            nan               9                        2   \n",
       "60            2            nan              61                        4   \n",
       "1652          2            nan              61                        4   \n",
       "1676          3  life_sciences              76                        3   \n",
       "...         ...            ...             ...                      ...   \n",
       "1638          5            nan            1568                        2   \n",
       "1657          3          other            1569                        4   \n",
       "1568          3          other            1569                        4   \n",
       "1671          3        medical            1608                        4   \n",
       "1607          3        medical            1608                        4   \n",
       "\n",
       "      gender  hourlyrate  jobinvolvement  joblevel  \\\n",
       "8          1         NaN               3         4   \n",
       "1656       1         NaN               3         4   \n",
       "60         0         NaN               3         2   \n",
       "1652       0         NaN               3         2   \n",
       "1676       1         NaN               2         3   \n",
       "...      ...         ...             ...       ...   \n",
       "1638       1         NaN               3         2   \n",
       "1657       0         NaN               3         2   \n",
       "1568       0         NaN               3         2   \n",
       "1671       1         NaN               3         2   \n",
       "1607       1         NaN               3         2   \n",
       "\n",
       "                          jobrole  jobsatisfaction maritalstatus  \\\n",
       "8                        mANAGEr                 1       Married   \n",
       "1656                     mANAGEr                 1       Married   \n",
       "60         lAboratORy TeChNiCiaN                 2        Single   \n",
       "1652       lAboratORy TeChNiCiaN                 2        Single   \n",
       "1676      maNufACTURING DIREctOr                 2      Divorced   \n",
       "...                           ...              ...           ...   \n",
       "1638             sALES EXEcuTIVe                 4       Married   \n",
       "1657             sAles executiVe                 2           NaN   \n",
       "1568             sAles executiVe                 2           NaN   \n",
       "1671   HEaltHCarE REPreSENtAtIve                 4           NaN   \n",
       "1607   HEaltHCarE REPreSENtAtIve                 4           NaN   \n",
       "\n",
       "     monthlyincome monthlyrate  numcompaniesworked overtime  \\\n",
       "8        13829,17$   35955,83$                   7       No   \n",
       "1656     13829,17$   35955,83$                   7       No   \n",
       "60        4928,33$   12813,67$                   8       No   \n",
       "1652      4928,33$   12813,67$                   8       No   \n",
       "1676      8339,32$   21682,23$                   8      Yes   \n",
       "...            ...         ...                 ...      ...   \n",
       "1638      3375,83$    8777,17$                   2       No   \n",
       "1657           NaN   10410,83$                   0       No   \n",
       "1568           NaN   10410,83$                   0       No   \n",
       "1671           NaN   11681,39$                   0      NaN   \n",
       "1607           NaN   11681,39$                   0      NaN   \n",
       "\n",
       "      percentsalaryhike performancerating  relationshipsatisfaction  \\\n",
       "8                    16               3,0                         2   \n",
       "1656                 16               3,0                         2   \n",
       "60                   16               3,0                         4   \n",
       "1652                 16               3,0                         4   \n",
       "1676                 12               NaN                         3   \n",
       "...                 ...               ...                       ...   \n",
       "1638                 14               3,0                         1   \n",
       "1657                 19               3,0                         2   \n",
       "1568                 19               3,0                         2   \n",
       "1671                 11               3,0                         3   \n",
       "1607                 11               3,0                         3   \n",
       "\n",
       "     standardhours  stockoptionlevel totalworkingyears  trainingtimeslastyear  \\\n",
       "8        Full Time                 1              22,0                      2   \n",
       "1656     Full Time                 1              22,0                      2   \n",
       "60       Full Time                 0              16,0                      3   \n",
       "1652     Full Time                 0              16,0                      3   \n",
       "1676     Part Time                 1               NaN                      4   \n",
       "...            ...               ...               ...                    ...   \n",
       "1638     Part Time                 1              14,0                      2   \n",
       "1657     Part Time                 1               NaN                      3   \n",
       "1568     Part Time                 1               NaN                      3   \n",
       "1671     Part Time                 2              10,0                      2   \n",
       "1607     Part Time                 2              10,0                      2   \n",
       "\n",
       "     worklifebalance  yearsatcompany  yearssincelastpromotion  \\\n",
       "8                3,0              18                       11   \n",
       "1656             3,0              18                       11   \n",
       "60               4,0              13                        3   \n",
       "1652             4,0              13                        3   \n",
       "1676             3,0              22                       14   \n",
       "...              ...             ...                      ...   \n",
       "1638             3,0               9                        6   \n",
       "1657             4,0               8                        3   \n",
       "1568             4,0               8                        3   \n",
       "1671             1,0               9                        8   \n",
       "1607             1,0               9                        8   \n",
       "\n",
       "      yearswithcurrmanager sameasmonthlyincome  datebirth      salary  \\\n",
       "8                        8           13829,17$       1982  165950,00$   \n",
       "1656                     8           13829,17$       1982  165950,00$   \n",
       "60                       7            4928,33$       1987   59140,00$   \n",
       "1652                     7            4928,33$       1987   59140,00$   \n",
       "1676                    10            8339,32$       1976  100071,84$   \n",
       "...                    ...                 ...        ...         ...   \n",
       "1638                     7            3375,83$       1975   40510,00$   \n",
       "1657                     7                 NaN       1978   48050,00$   \n",
       "1568                     7                 NaN       1978   48050,00$   \n",
       "1671                     5                 NaN       1992   53914,11$   \n",
       "1607                     5                 NaN       1992   53914,11$   \n",
       "\n",
       "     roledepartament remotework  \n",
       "8                NaN       True  \n",
       "1656             NaN       True  \n",
       "60               NaN          1  \n",
       "1652             NaN          1  \n",
       "1676             NaN        Yes  \n",
       "...              ...        ...  \n",
       "1638             NaN       True  \n",
       "1657             NaN      False  \n",
       "1568             NaN      False  \n",
       "1671             NaN       True  \n",
       "1607             NaN       True  \n",
       "\n",
       "[128 rows x 37 columns]"
      ]
     },
     "execution_count": 171,
     "metadata": {},
     "output_type": "execute_result"
    }
   ],
   "source": [
    "df[df.duplicated(subset='employeenumber', keep=False)].sort_values('employeenumber')\n",
    "# si sacamos la columna Unnamed: 0 podemos identificar las filas duplicadas - creo\n",
    "    # voy a chequear -\n"
   ]
  },
  {
   "cell_type": "code",
   "execution_count": 172,
   "id": "0b14ce1b",
   "metadata": {},
   "outputs": [],
   "source": [
    "df = df.drop_duplicates()"
   ]
  },
  {
   "cell_type": "code",
   "execution_count": 173,
   "id": "189b3257",
   "metadata": {},
   "outputs": [
    {
     "data": {
      "text/plain": [
       "True"
      ]
     },
     "execution_count": 173,
     "metadata": {},
     "output_type": "execute_result"
    }
   ],
   "source": [
    "df['employeenumber'].is_unique"
   ]
  },
  {
   "cell_type": "code",
   "execution_count": 174,
   "id": "0f9ef710",
   "metadata": {},
   "outputs": [
    {
     "data": {
      "text/html": [
       "<div>\n",
       "<style scoped>\n",
       "    .dataframe tbody tr th:only-of-type {\n",
       "        vertical-align: middle;\n",
       "    }\n",
       "\n",
       "    .dataframe tbody tr th {\n",
       "        vertical-align: top;\n",
       "    }\n",
       "\n",
       "    .dataframe thead th {\n",
       "        text-align: right;\n",
       "    }\n",
       "</style>\n",
       "<table border=\"1\" class=\"dataframe\">\n",
       "  <thead>\n",
       "    <tr style=\"text-align: right;\">\n",
       "      <th></th>\n",
       "      <th>age</th>\n",
       "      <th>attrition</th>\n",
       "      <th>businesstravel</th>\n",
       "      <th>dailyrate</th>\n",
       "      <th>department</th>\n",
       "      <th>distancefromhome</th>\n",
       "      <th>education</th>\n",
       "      <th>educationfield</th>\n",
       "      <th>employeenumber</th>\n",
       "      <th>environmentsatisfaction</th>\n",
       "      <th>gender</th>\n",
       "      <th>hourlyrate</th>\n",
       "      <th>jobinvolvement</th>\n",
       "      <th>joblevel</th>\n",
       "      <th>jobrole</th>\n",
       "      <th>jobsatisfaction</th>\n",
       "      <th>maritalstatus</th>\n",
       "      <th>monthlyincome</th>\n",
       "      <th>monthlyrate</th>\n",
       "      <th>numcompaniesworked</th>\n",
       "      <th>overtime</th>\n",
       "      <th>percentsalaryhike</th>\n",
       "      <th>performancerating</th>\n",
       "      <th>relationshipsatisfaction</th>\n",
       "      <th>standardhours</th>\n",
       "      <th>stockoptionlevel</th>\n",
       "      <th>totalworkingyears</th>\n",
       "      <th>trainingtimeslastyear</th>\n",
       "      <th>worklifebalance</th>\n",
       "      <th>yearsatcompany</th>\n",
       "      <th>yearssincelastpromotion</th>\n",
       "      <th>yearswithcurrmanager</th>\n",
       "      <th>sameasmonthlyincome</th>\n",
       "      <th>datebirth</th>\n",
       "      <th>salary</th>\n",
       "      <th>roledepartament</th>\n",
       "      <th>remotework</th>\n",
       "    </tr>\n",
       "  </thead>\n",
       "  <tbody>\n",
       "  </tbody>\n",
       "</table>\n",
       "</div>"
      ],
      "text/plain": [
       "Empty DataFrame\n",
       "Columns: [age, attrition, businesstravel, dailyrate, department, distancefromhome, education, educationfield, employeenumber, environmentsatisfaction, gender, hourlyrate, jobinvolvement, joblevel, jobrole, jobsatisfaction, maritalstatus, monthlyincome, monthlyrate, numcompaniesworked, overtime, percentsalaryhike, performancerating, relationshipsatisfaction, standardhours, stockoptionlevel, totalworkingyears, trainingtimeslastyear, worklifebalance, yearsatcompany, yearssincelastpromotion, yearswithcurrmanager, sameasmonthlyincome, datebirth, salary, roledepartament, remotework]\n",
       "Index: []"
      ]
     },
     "execution_count": 174,
     "metadata": {},
     "output_type": "execute_result"
    }
   ],
   "source": [
    "df[df.duplicated(subset='employeenumber', keep=False)].sort_values('employeenumber')\n",
    "#obs . age = más de 100 borrarlos o emparejarlos con la edad menor de la base \n",
    "# y luego buscar los duplicados\n",
    "#age=unnamed"
   ]
  },
  {
   "cell_type": "code",
   "execution_count": 175,
   "id": "bd074fe2",
   "metadata": {},
   "outputs": [
    {
     "name": "stdout",
     "output_type": "stream",
     "text": [
      "Número de employeenumber duplicados: 0\n"
     ]
    }
   ],
   "source": [
    "print(f\"Número de employeenumber duplicados: {df.duplicated(subset='employeenumber').sum()}\")"
   ]
  },
  {
   "cell_type": "markdown",
   "id": "7edef499",
   "metadata": {},
   "source": [
    "### 'environmentsatisfaction'"
   ]
  },
  {
   "cell_type": "code",
   "execution_count": 176,
   "id": "4e45840d",
   "metadata": {},
   "outputs": [
    {
     "data": {
      "text/plain": [
       "environmentsatisfaction\n",
       "4     460\n",
       "3     459\n",
       "1     298\n",
       "2     297\n",
       "12      7\n",
       "35      6\n",
       "13      6\n",
       "14      5\n",
       "24      5\n",
       "47      5\n",
       "36      4\n",
       "48      4\n",
       "41      4\n",
       "46      4\n",
       "42      4\n",
       "45      3\n",
       "11      3\n",
       "22      3\n",
       "17      3\n",
       "18      3\n",
       "20      3\n",
       "25      3\n",
       "27      3\n",
       "37      2\n",
       "29      2\n",
       "19      2\n",
       "38      2\n",
       "31      2\n",
       "15      2\n",
       "16      2\n",
       "26      1\n",
       "39      1\n",
       "10      1\n",
       "49      1\n",
       "21      1\n",
       "28      1\n",
       "33      1\n",
       "43      1\n",
       "Name: count, dtype: int64"
      ]
     },
     "execution_count": 176,
     "metadata": {},
     "output_type": "execute_result"
    }
   ],
   "source": [
    "df['environmentsatisfaction'].value_counts()"
   ]
  },
  {
   "cell_type": "code",
   "execution_count": 177,
   "id": "5fdbeaca",
   "metadata": {},
   "outputs": [
    {
     "name": "stdout",
     "output_type": "stream",
     "text": [
      "environmentsatisfaction\n",
      "4.0    460\n",
      "3.0    459\n",
      "1.0    298\n",
      "2.0    297\n",
      "Name: count, dtype: int64\n"
     ]
    }
   ],
   "source": [
    "# detectamos valores no válidos, deberían ser del 1 al 4\n",
    "\n",
    "df['environmentsatisfaction'] = df['environmentsatisfaction'].apply(\n",
    "    lambda x: np.nan if x>4 else x\n",
    ")\n",
    "\n",
    "print(df['environmentsatisfaction'].value_counts())\n",
    "# puede ser que acá esté el problema - cambiamos los que no están en el rango por nan, \n",
    "# no los sacamos de la muestra "
   ]
  },
  {
   "cell_type": "code",
   "execution_count": 178,
   "id": "d7a3a10f",
   "metadata": {},
   "outputs": [
    {
     "data": {
      "text/plain": [
       "1312"
      ]
     },
     "execution_count": 178,
     "metadata": {},
     "output_type": "execute_result"
    }
   ],
   "source": [
    "df['department'].isnull().sum()"
   ]
  },
  {
   "cell_type": "code",
   "execution_count": 179,
   "id": "837acf9b",
   "metadata": {},
   "outputs": [
    {
     "name": "stdout",
     "output_type": "stream",
     "text": [
      "environmentsatisfaction\n",
      "Very High    460\n",
      "High         459\n",
      "Low          298\n",
      "Medium       297\n",
      "Name: count, dtype: int64\n"
     ]
    }
   ],
   "source": [
    "# sustituimos los valores numéricos por texto para una mejor comprensión\n",
    "satisfaction_map = {\n",
    "    1: 'Low',\n",
    "    2: 'Medium',\n",
    "    3: 'High',\n",
    "    4: 'Very High'\n",
    "}\n",
    "\n",
    "df['environmentsatisfaction'] = df['environmentsatisfaction'].replace(satisfaction_map)\n",
    "print(df['environmentsatisfaction'].value_counts())"
   ]
  },
  {
   "cell_type": "code",
   "execution_count": 180,
   "id": "a33bd8cc",
   "metadata": {},
   "outputs": [
    {
     "name": "stdout",
     "output_type": "stream",
     "text": [
      "environmentsatisfaction\n",
      "very_high    460\n",
      "high         459\n",
      "low          298\n",
      "medium       297\n",
      "nan          100\n",
      "Name: count, dtype: int64\n"
     ]
    }
   ],
   "source": [
    "df['environmentsatisfaction'] = (\n",
    "    df['environmentsatisfaction']\n",
    "    .astype(str)                      \n",
    "    .str.strip('_')                   \n",
    "    .str.replace('_', ' ', regex=False)  \n",
    "    .str.strip()                      \n",
    "    .str.lower()                     \n",
    "    .str.replace(' ', '_', regex=False)  \n",
    ")\n",
    "print(df['environmentsatisfaction'].value_counts())"
   ]
  },
  {
   "cell_type": "markdown",
   "id": "43c53846",
   "metadata": {},
   "source": [
    "### 'gender'"
   ]
  },
  {
   "cell_type": "code",
   "execution_count": 181,
   "id": "a56c3565",
   "metadata": {},
   "outputs": [
    {
     "data": {
      "text/plain": [
       "gender\n",
       "0    971\n",
       "1    643\n",
       "Name: count, dtype: int64"
      ]
     },
     "execution_count": 181,
     "metadata": {},
     "output_type": "execute_result"
    }
   ],
   "source": [
    "df['gender'].value_counts()"
   ]
  },
  {
   "cell_type": "code",
   "execution_count": 182,
   "id": "02952ee4",
   "metadata": {},
   "outputs": [
    {
     "data": {
      "text/plain": [
       "gender\n",
       "0    663.301771\n",
       "1    679.191711\n",
       "Name: dailyrate, dtype: float64"
      ]
     },
     "execution_count": 182,
     "metadata": {},
     "output_type": "execute_result"
    }
   ],
   "source": [
    "# típicamente, 0 es femenino y 1 es masculino. Aún así, comprobamos con la media de dailyrate, que suele ser más alta en hombres que en mujeres\n",
    "df.groupby('gender')['dailyrate'].mean()\n"
   ]
  },
  {
   "cell_type": "code",
   "execution_count": 183,
   "id": "2f5987e8",
   "metadata": {},
   "outputs": [
    {
     "data": {
      "text/plain": [
       "gender\n",
       "Female    971\n",
       "Male      643\n",
       "Name: count, dtype: int64"
      ]
     },
     "execution_count": 183,
     "metadata": {},
     "output_type": "execute_result"
    }
   ],
   "source": [
    "gender_map = {\n",
    "    0: 'Female',\n",
    "    1: 'Male'\n",
    "}\n",
    "\n",
    "df['gender'] = df['gender'].replace(gender_map)\n",
    "df['gender'].value_counts()"
   ]
  },
  {
   "cell_type": "code",
   "execution_count": 184,
   "id": "b15a9108",
   "metadata": {},
   "outputs": [
    {
     "name": "stdout",
     "output_type": "stream",
     "text": [
      "gender\n",
      "female    971\n",
      "male      643\n",
      "Name: count, dtype: int64\n"
     ]
    }
   ],
   "source": [
    "df['gender'] = df['gender'].astype(str).str.lower()\n",
    "print(df['gender'].value_counts())"
   ]
  },
  {
   "cell_type": "markdown",
   "id": "65fdc9e3",
   "metadata": {},
   "source": [
    "### 'hourlyrate'"
   ]
  },
  {
   "cell_type": "code",
   "execution_count": 185,
   "id": "a630fe82",
   "metadata": {},
   "outputs": [
    {
     "data": {
      "text/plain": [
       "hourlyrate\n",
       "36.254439     75\n",
       "69.532083     74\n",
       "129.060911    38\n",
       "197.846418    14\n",
       "246.748016     8\n",
       "              ..\n",
       "59.957341      1\n",
       "28.205357      1\n",
       "54.914683      1\n",
       "227.487103     1\n",
       "133.159722     1\n",
       "Name: count, Length: 194, dtype: int64"
      ]
     },
     "execution_count": 185,
     "metadata": {},
     "output_type": "execute_result"
    }
   ],
   "source": [
    "df['hourlyrate'].value_counts()"
   ]
  },
  {
   "cell_type": "code",
   "execution_count": 186,
   "id": "3950ffca",
   "metadata": {},
   "outputs": [],
   "source": [
    "df['hourlyrate'] = df['hourlyrate'].round(2)"
   ]
  },
  {
   "cell_type": "markdown",
   "id": "61c4c78b",
   "metadata": {},
   "source": [
    "### 'jobinvolvement'"
   ]
  },
  {
   "cell_type": "code",
   "execution_count": 187,
   "id": "e8f45e5e",
   "metadata": {},
   "outputs": [
    {
     "data": {
      "text/plain": [
       "jobinvolvement\n",
       "3    955\n",
       "2    406\n",
       "4    164\n",
       "1     89\n",
       "Name: count, dtype: int64"
      ]
     },
     "execution_count": 187,
     "metadata": {},
     "output_type": "execute_result"
    }
   ],
   "source": [
    "df['jobinvolvement'].value_counts()"
   ]
  },
  {
   "cell_type": "code",
   "execution_count": 188,
   "id": "601451e4",
   "metadata": {},
   "outputs": [
    {
     "name": "stdout",
     "output_type": "stream",
     "text": [
      "jobinvolvement\n",
      "High         955\n",
      "Medium       406\n",
      "Very High    164\n",
      "Low           89\n",
      "Name: count, dtype: int64\n"
     ]
    }
   ],
   "source": [
    "# sustituimos los valores numéricos por texto para una mejor comprensión\n",
    "jobinvolvement_map = {\n",
    "    1: 'Low',\n",
    "    2: 'Medium',\n",
    "    3: 'High',\n",
    "    4: 'Very High'\n",
    "}\n",
    "\n",
    "df['jobinvolvement'] = df['jobinvolvement'].replace(jobinvolvement_map)\n",
    "print(df['jobinvolvement'].value_counts())"
   ]
  },
  {
   "cell_type": "code",
   "execution_count": 189,
   "id": "a31becba",
   "metadata": {},
   "outputs": [
    {
     "name": "stdout",
     "output_type": "stream",
     "text": [
      "jobinvolvement\n",
      "high         955\n",
      "medium       406\n",
      "very_high    164\n",
      "low           89\n",
      "Name: count, dtype: int64\n"
     ]
    }
   ],
   "source": [
    "df['jobinvolvement'] = (\n",
    "    df['jobinvolvement']\n",
    "    .astype(str)                      \n",
    "    .str.strip('_')                   \n",
    "    .str.replace('_', ' ', regex=False)  \n",
    "    .str.strip()                      \n",
    "    .str.lower()                     \n",
    "    .str.replace(' ', '_', regex=False)  \n",
    ")\n",
    "print(df['jobinvolvement'].value_counts())"
   ]
  },
  {
   "cell_type": "markdown",
   "id": "e2638769",
   "metadata": {},
   "source": [
    "### 'joblevel'"
   ]
  },
  {
   "cell_type": "code",
   "execution_count": 190,
   "id": "fcc5e015",
   "metadata": {},
   "outputs": [
    {
     "data": {
      "text/plain": [
       "joblevel\n",
       "2    597\n",
       "1    586\n",
       "3    242\n",
       "4    113\n",
       "5     76\n",
       "Name: count, dtype: int64"
      ]
     },
     "execution_count": 190,
     "metadata": {},
     "output_type": "execute_result"
    }
   ],
   "source": [
    "df['joblevel'].value_counts()"
   ]
  },
  {
   "cell_type": "code",
   "execution_count": 191,
   "id": "4ceef6d1",
   "metadata": {},
   "outputs": [
    {
     "data": {
      "text/plain": [
       "joblevel\n",
       "1     290.037526\n",
       "2     556.258325\n",
       "3    1032.489174\n",
       "4    1582.770354\n",
       "5    1973.982237\n",
       "Name: dailyrate, dtype: float64"
      ]
     },
     "execution_count": 191,
     "metadata": {},
     "output_type": "execute_result"
    }
   ],
   "source": [
    "# comprobamos la media de dailyrate por joblevel, para establecer una relación entre el nivel de trabajo y la remuneración\n",
    "df.groupby('joblevel')['dailyrate'].mean()"
   ]
  },
  {
   "cell_type": "code",
   "execution_count": 192,
   "id": "c03c0cb7",
   "metadata": {},
   "outputs": [
    {
     "name": "stdout",
     "output_type": "stream",
     "text": [
      "joblevel\n",
      "Intermediate    597\n",
      "Entry Level     586\n",
      "Senior          242\n",
      "Manager         113\n",
      "Executive        76\n",
      "Name: count, dtype: int64\n"
     ]
    }
   ],
   "source": [
    "joblevel_map = {\n",
    "    1: 'Entry Level',\n",
    "    2: 'Intermediate',\n",
    "    3: 'Senior',\n",
    "    4: 'Manager',\n",
    "    5: 'Executive'\n",
    "}\n",
    "df['joblevel'] = df['joblevel'].replace(joblevel_map)\n",
    "print(df['joblevel'].value_counts())"
   ]
  },
  {
   "cell_type": "code",
   "execution_count": 193,
   "id": "657b5834",
   "metadata": {},
   "outputs": [
    {
     "name": "stdout",
     "output_type": "stream",
     "text": [
      "joblevel\n",
      "intermediate    597\n",
      "entry_level     586\n",
      "senior          242\n",
      "manager         113\n",
      "executive        76\n",
      "Name: count, dtype: int64\n"
     ]
    }
   ],
   "source": [
    "df['joblevel'] = (\n",
    "    df['joblevel']\n",
    "    .astype(str)                      \n",
    "    .str.strip('_')                   \n",
    "    .str.replace('_', ' ', regex=False)  \n",
    "    .str.strip()                      \n",
    "    .str.lower()                     \n",
    "    .str.replace(' ', '_', regex=False)  \n",
    ")\n",
    "print(df['joblevel'].value_counts())"
   ]
  },
  {
   "cell_type": "markdown",
   "id": "5344876e",
   "metadata": {},
   "source": [
    "### 'jobrole'"
   ]
  },
  {
   "cell_type": "code",
   "execution_count": 194,
   "id": "d405cd23",
   "metadata": {},
   "outputs": [
    {
     "data": {
      "text/plain": [
       "jobrole\n",
       "mANager                       4\n",
       "ManageR                       3\n",
       "ManagEr                       3\n",
       "mAnaGeR                       3\n",
       "MANAgER                       3\n",
       "                             ..\n",
       "ResEArch ScieNTiST            1\n",
       "HealthcARE RePreSENtAtiVe     1\n",
       "ReSearcH scIEntist            1\n",
       "LAbOrATOry techNicIan         1\n",
       "mAnUfactURInG DiRECTOr        1\n",
       "Name: count, Length: 1579, dtype: int64"
      ]
     },
     "execution_count": 194,
     "metadata": {},
     "output_type": "execute_result"
    }
   ],
   "source": [
    "df['jobrole'].value_counts()"
   ]
  },
  {
   "cell_type": "code",
   "execution_count": 195,
   "id": "67b96475",
   "metadata": {},
   "outputs": [
    {
     "data": {
      "text/plain": [
       "jobrole\n",
       "Sales Executive              369\n",
       "Research Scientist           314\n",
       "Laboratory Technician        278\n",
       "Manufacturing Director       158\n",
       "Healthcare Representative    149\n",
       "Manager                      111\n",
       "Sales Representative          90\n",
       "Research Director             88\n",
       "Human Resources               57\n",
       "Name: count, dtype: int64"
      ]
     },
     "execution_count": 195,
     "metadata": {},
     "output_type": "execute_result"
    }
   ],
   "source": [
    "df['jobrole'] = df['jobrole'].str.strip().str.lower().str.title()\n",
    "df['jobrole'].value_counts()"
   ]
  },
  {
   "cell_type": "code",
   "execution_count": 196,
   "id": "30ff06ff",
   "metadata": {},
   "outputs": [
    {
     "name": "stdout",
     "output_type": "stream",
     "text": [
      "jobrole\n",
      "sales_executive              369\n",
      "research_scientist           314\n",
      "laboratory_technician        278\n",
      "manufacturing_director       158\n",
      "healthcare_representative    149\n",
      "manager                      111\n",
      "sales_representative          90\n",
      "research_director             88\n",
      "human_resources               57\n",
      "Name: count, dtype: int64\n"
     ]
    }
   ],
   "source": [
    "df['jobrole'] = (\n",
    "    df['jobrole']\n",
    "    .astype(str)                      \n",
    "    .str.strip('_')                   \n",
    "    .str.replace('_', ' ', regex=False)  \n",
    "    .str.strip()                      \n",
    "    .str.lower()                     \n",
    "    .str.replace(' ', '_', regex=False)  \n",
    ")\n",
    "print(df['jobrole'].value_counts())"
   ]
  },
  {
   "cell_type": "markdown",
   "id": "a2b4313c",
   "metadata": {},
   "source": [
    "### 'jobsatisfaction'"
   ]
  },
  {
   "cell_type": "code",
   "execution_count": 197,
   "id": "937c8802",
   "metadata": {},
   "outputs": [
    {
     "data": {
      "text/plain": [
       "jobsatisfaction\n",
       "4    514\n",
       "3    481\n",
       "1    317\n",
       "2    302\n",
       "Name: count, dtype: int64"
      ]
     },
     "execution_count": 197,
     "metadata": {},
     "output_type": "execute_result"
    }
   ],
   "source": [
    "df['jobsatisfaction'].value_counts()"
   ]
  },
  {
   "cell_type": "code",
   "execution_count": 198,
   "id": "3f1d47ba",
   "metadata": {},
   "outputs": [
    {
     "name": "stdout",
     "output_type": "stream",
     "text": [
      "jobsatisfaction\n",
      "Very High    514\n",
      "High         481\n",
      "Low          317\n",
      "Medium       302\n",
      "Name: count, dtype: int64\n"
     ]
    }
   ],
   "source": [
    "satisfaction_map = {\n",
    "    1: 'Low',\n",
    "    2: 'Medium',\n",
    "    3: 'High',\n",
    "    4: 'Very High'\n",
    "}\n",
    "\n",
    "df['jobsatisfaction'] = df['jobsatisfaction'].replace(satisfaction_map)\n",
    "print(df['jobsatisfaction'].value_counts())"
   ]
  },
  {
   "cell_type": "code",
   "execution_count": 199,
   "id": "4a793559",
   "metadata": {},
   "outputs": [
    {
     "name": "stdout",
     "output_type": "stream",
     "text": [
      "jobsatisfaction\n",
      "very_high    514\n",
      "high         481\n",
      "low          317\n",
      "medium       302\n",
      "Name: count, dtype: int64\n"
     ]
    }
   ],
   "source": [
    "df['jobsatisfaction'] = (\n",
    "    df['jobsatisfaction']\n",
    "    .astype(str)                      \n",
    "    .str.strip('_')                   \n",
    "    .str.replace('_', ' ', regex=False)  \n",
    "    .str.strip()                      \n",
    "    .str.lower()                     \n",
    "    .str.replace(' ', '_', regex=False)  \n",
    ")\n",
    "print(df['jobsatisfaction'].value_counts())"
   ]
  },
  {
   "cell_type": "markdown",
   "id": "7a0170b4",
   "metadata": {},
   "source": [
    "### 'maritalstatus'"
   ]
  },
  {
   "cell_type": "code",
   "execution_count": 201,
   "id": "4e70d07a",
   "metadata": {},
   "outputs": [
    {
     "data": {
      "text/plain": [
       "maritalstatus\n",
       "Married     404\n",
       "Single      325\n",
       "Divorced    188\n",
       "Marreid      35\n",
       "divorced     11\n",
       "Name: count, dtype: int64"
      ]
     },
     "execution_count": 201,
     "metadata": {},
     "output_type": "execute_result"
    }
   ],
   "source": [
    "df['maritalstatus'].value_counts()"
   ]
  },
  {
   "cell_type": "code",
   "execution_count": 203,
   "id": "7dcd08eb",
   "metadata": {},
   "outputs": [
    {
     "name": "stdout",
     "output_type": "stream",
     "text": [
      "maritalstatus\n",
      "married     439\n",
      "single      325\n",
      "divorced    199\n",
      "Name: count, dtype: int64\n"
     ]
    }
   ],
   "source": [
    "df['maritalstatus'] = df['maritalstatus'].str.strip().str.lower()\n",
    "df['maritalstatus'] = df['maritalstatus'].replace({'marreid': 'married'})\n",
    "print(df['maritalstatus'].value_counts())"
   ]
  },
  {
   "cell_type": "markdown",
   "id": "8abd0cdf",
   "metadata": {},
   "source": [
    "### 'monthlyincome'"
   ]
  },
  {
   "cell_type": "code",
   "execution_count": 204,
   "id": "7e7ee9c5",
   "metadata": {},
   "outputs": [
    {
     "data": {
      "text/plain": [
       "monthlyincome\n",
       "4492,84$     224\n",
       "2342,59$     219\n",
       "8339,32$      98\n",
       "12783,92$     42\n",
       "15943,72$     24\n",
       "            ... \n",
       "5415,83$       1\n",
       "4994,17$       1\n",
       "3806,67$       1\n",
       "13920,00$      1\n",
       "3705,83$       1\n",
       "Name: count, Length: 493, dtype: int64"
      ]
     },
     "execution_count": 204,
     "metadata": {},
     "output_type": "execute_result"
    }
   ],
   "source": [
    "df['monthlyincome'].value_counts()"
   ]
  },
  {
   "cell_type": "code",
   "execution_count": 205,
   "id": "3ab1ef6c",
   "metadata": {},
   "outputs": [],
   "source": [
    "# transformamos la columna 'monthlyincome' para que sea numérica, eliminando el símbolo de dólar y la coma\n",
    "df['monthlyincome'] = df['monthlyincome'].str.replace('$', '', regex=False)\n",
    "df['monthlyincome'] = df['monthlyincome'].str.replace(',', '.', regex=False)\n",
    "df['monthlyincome'] = pd.to_numeric(df['monthlyincome'], errors='coerce')"
   ]
  },
  {
   "cell_type": "code",
   "execution_count": 206,
   "id": "43f8d4a9",
   "metadata": {},
   "outputs": [
    {
     "name": "stdout",
     "output_type": "stream",
     "text": [
      "float64\n"
     ]
    },
    {
     "data": {
      "text/plain": [
       "monthlyincome\n",
       "4492.84     224\n",
       "2342.59     219\n",
       "8339.32      98\n",
       "12783.92     42\n",
       "15943.72     24\n",
       "           ... \n",
       "5415.83       1\n",
       "4994.17       1\n",
       "3806.67       1\n",
       "13920.00      1\n",
       "3705.83       1\n",
       "Name: count, Length: 493, dtype: int64"
      ]
     },
     "execution_count": 206,
     "metadata": {},
     "output_type": "execute_result"
    }
   ],
   "source": [
    "print(df['monthlyincome'].dtype)\n",
    "df['monthlyincome'].describe()\n",
    "df['monthlyincome'].value_counts()"
   ]
  },
  {
   "cell_type": "markdown",
   "id": "8a641cd8",
   "metadata": {},
   "source": [
    "### 'monthlyrate'"
   ]
  },
  {
   "cell_type": "code",
   "execution_count": 207,
   "id": "92f5b523",
   "metadata": {},
   "outputs": [
    {
     "data": {
      "text/plain": [
       "monthlyrate\n",
       "11681,39$    317\n",
       "6090,75$     295\n",
       "21682,23$    139\n",
       "33238,20$     55\n",
       "41453,67$     37\n",
       "            ... \n",
       "6721,00$       1\n",
       "9871,33$       1\n",
       "9165,00$       1\n",
       "10527,83$      1\n",
       "42100,50$      1\n",
       "Name: count, Length: 673, dtype: int64"
      ]
     },
     "execution_count": 207,
     "metadata": {},
     "output_type": "execute_result"
    }
   ],
   "source": [
    "df['monthlyrate'].value_counts()"
   ]
  },
  {
   "cell_type": "code",
   "execution_count": 208,
   "id": "2be745f9",
   "metadata": {},
   "outputs": [
    {
     "name": "stdout",
     "output_type": "stream",
     "text": [
      "float64\n"
     ]
    }
   ],
   "source": [
    "# pasamos a str para corregir símbolos y puntos, luego convertimos a numérico\n",
    "df['monthlyrate'] = df['monthlyrate'].astype(str)\n",
    "df['monthlyrate'] = df['monthlyrate'].str.replace('$', '', regex=False)\n",
    "df['monthlyrate'] = df['monthlyrate'].str.replace(',', '.', regex=False)\n",
    "df['monthlyrate'] = pd.to_numeric(df['monthlyrate'], errors='coerce')\n",
    "print(df['monthlyrate'].dtype)"
   ]
  },
  {
   "cell_type": "code",
   "execution_count": 209,
   "id": "2d19b381",
   "metadata": {},
   "outputs": [
    {
     "data": {
      "text/plain": [
       "monthlyrate\n",
       "11681.39    317\n",
       "6090.75     295\n",
       "21682.23    139\n",
       "33238.20     55\n",
       "41453.67     37\n",
       "           ... \n",
       "6721.00       1\n",
       "9871.33       1\n",
       "9165.00       1\n",
       "10527.83      1\n",
       "42100.50      1\n",
       "Name: count, Length: 673, dtype: int64"
      ]
     },
     "execution_count": 209,
     "metadata": {},
     "output_type": "execute_result"
    }
   ],
   "source": [
    "df['monthlyrate'].value_counts()"
   ]
  },
  {
   "cell_type": "markdown",
   "id": "8a40e358",
   "metadata": {},
   "source": [
    "### 'numcompaniesworked'"
   ]
  },
  {
   "cell_type": "code",
   "execution_count": 210,
   "id": "256e329b",
   "metadata": {},
   "outputs": [
    {
     "data": {
      "text/plain": [
       "numcompaniesworked\n",
       "1    573\n",
       "0    226\n",
       "3    169\n",
       "4    157\n",
       "2    156\n",
       "7     84\n",
       "6     73\n",
       "5     66\n",
       "9     59\n",
       "8     51\n",
       "Name: count, dtype: int64"
      ]
     },
     "execution_count": 210,
     "metadata": {},
     "output_type": "execute_result"
    }
   ],
   "source": [
    "df['numcompaniesworked'].value_counts()"
   ]
  },
  {
   "cell_type": "markdown",
   "id": "63775a49",
   "metadata": {},
   "source": [
    "### 'overtime'"
   ]
  },
  {
   "cell_type": "code",
   "execution_count": 211,
   "id": "8052970a",
   "metadata": {},
   "outputs": [
    {
     "data": {
      "text/plain": [
       "overtime\n",
       "No     682\n",
       "Yes    256\n",
       "Name: count, dtype: int64"
      ]
     },
     "execution_count": 211,
     "metadata": {},
     "output_type": "execute_result"
    }
   ],
   "source": [
    "df['overtime'].value_counts()"
   ]
  },
  {
   "cell_type": "code",
   "execution_count": 212,
   "id": "f3ceba1e",
   "metadata": {},
   "outputs": [
    {
     "name": "stdout",
     "output_type": "stream",
     "text": [
      "overtime\n",
      "no     682\n",
      "yes    256\n",
      "Name: count, dtype: int64\n"
     ]
    }
   ],
   "source": [
    "df['overtime'] = df['overtime'].str.strip().str.lower()\n",
    "print(df['overtime'].value_counts())"
   ]
  },
  {
   "cell_type": "markdown",
   "id": "83b07e1d",
   "metadata": {},
   "source": [
    "### 'percentsalaryhike'"
   ]
  },
  {
   "cell_type": "code",
   "execution_count": 213,
   "id": "06f45d27",
   "metadata": {},
   "outputs": [
    {
     "data": {
      "text/plain": [
       "percentsalaryhike\n",
       "11    232\n",
       "13    230\n",
       "12    225\n",
       "14    220\n",
       "15    110\n",
       "18     98\n",
       "17     88\n",
       "16     86\n",
       "19     82\n",
       "20     60\n",
       "22     59\n",
       "21     51\n",
       "23     29\n",
       "24     25\n",
       "25     19\n",
       "Name: count, dtype: int64"
      ]
     },
     "execution_count": 213,
     "metadata": {},
     "output_type": "execute_result"
    }
   ],
   "source": [
    "# porcentaje de aumento salarial\n",
    "df['percentsalaryhike'].value_counts()"
   ]
  },
  {
   "cell_type": "markdown",
   "id": "15f17596",
   "metadata": {},
   "source": [
    "### 'performancerating'"
   ]
  },
  {
   "cell_type": "code",
   "execution_count": 214,
   "id": "462f325c",
   "metadata": {},
   "outputs": [
    {
     "data": {
      "text/plain": [
       "performancerating\n",
       "3,0    1205\n",
       "4,0     214\n",
       "Name: count, dtype: int64"
      ]
     },
     "execution_count": 214,
     "metadata": {},
     "output_type": "execute_result"
    }
   ],
   "source": [
    "df['performancerating'].value_counts()"
   ]
  },
  {
   "cell_type": "code",
   "execution_count": 215,
   "id": "b6a52771",
   "metadata": {},
   "outputs": [],
   "source": [
    "# puede servir para descartar una hipótesis, por ejemplo: \"¿El desempeño influye en que una persona se vaya o esté satisfecha?”"
   ]
  },
  {
   "cell_type": "markdown",
   "id": "5f00cf02",
   "metadata": {},
   "source": [
    "### 'standardhours'"
   ]
  },
  {
   "cell_type": "code",
   "execution_count": 216,
   "id": "eb0292d9",
   "metadata": {},
   "outputs": [
    {
     "data": {
      "text/plain": [
       "standardhours\n",
       "Part Time    888\n",
       "Full Time    388\n",
       "Name: count, dtype: int64"
      ]
     },
     "execution_count": 216,
     "metadata": {},
     "output_type": "execute_result"
    }
   ],
   "source": [
    "df['standardhours'].value_counts()"
   ]
  },
  {
   "cell_type": "code",
   "execution_count": 217,
   "id": "349ae53d",
   "metadata": {},
   "outputs": [
    {
     "name": "stdout",
     "output_type": "stream",
     "text": [
      "standardhours\n",
      "part_time    888\n",
      "full_time    388\n",
      "nan          338\n",
      "Name: count, dtype: int64\n"
     ]
    }
   ],
   "source": [
    "df['standardhours'] = (\n",
    "    df['standardhours']\n",
    "    .astype(str)                      \n",
    "    .str.strip('_')                   \n",
    "    .str.replace('_', ' ', regex=False)  \n",
    "    .str.strip()                      \n",
    "    .str.lower()                     \n",
    "    .str.replace(' ', '_', regex=False)  \n",
    ")\n",
    "print(df['standardhours'].value_counts())"
   ]
  },
  {
   "cell_type": "markdown",
   "id": "79c0f9ec",
   "metadata": {},
   "source": [
    "### 'relationshipsatisfaction'"
   ]
  },
  {
   "cell_type": "code",
   "execution_count": 218,
   "id": "8117c8cc",
   "metadata": {},
   "outputs": [
    {
     "name": "stdout",
     "output_type": "stream",
     "text": [
      "relationshipsatisfaction\n",
      "High         504\n",
      "Very High    468\n",
      "Medium       339\n",
      "Low          303\n",
      "Name: count, dtype: int64\n"
     ]
    }
   ],
   "source": [
    "rel_map = {\n",
    "    1: 'Low',\n",
    "    2: 'Medium',\n",
    "    3: 'High',\n",
    "    4: 'Very High'\n",
    "}\n",
    "df['relationshipsatisfaction'] = df['relationshipsatisfaction'].replace(rel_map)\n",
    "print(df['relationshipsatisfaction'].value_counts())"
   ]
  },
  {
   "cell_type": "code",
   "execution_count": 219,
   "id": "f9eb4a73",
   "metadata": {},
   "outputs": [
    {
     "name": "stdout",
     "output_type": "stream",
     "text": [
      "relationshipsatisfaction\n",
      "high         504\n",
      "very_high    468\n",
      "medium       339\n",
      "low          303\n",
      "Name: count, dtype: int64\n"
     ]
    }
   ],
   "source": [
    "df['relationshipsatisfaction'] = (\n",
    "    df['relationshipsatisfaction']\n",
    "    .astype(str)                      \n",
    "    .str.strip('_')                   \n",
    "    .str.replace('_', ' ', regex=False)  \n",
    "    .str.strip()                      \n",
    "    .str.lower()                     \n",
    "    .str.replace(' ', '_', regex=False)  \n",
    ")\n",
    "print(df['relationshipsatisfaction'].value_counts())"
   ]
  },
  {
   "cell_type": "markdown",
   "id": "46935132",
   "metadata": {},
   "source": [
    "### 'stockoptionlevel'"
   ]
  },
  {
   "cell_type": "code",
   "execution_count": 220,
   "id": "4cc9ae5d",
   "metadata": {},
   "outputs": [
    {
     "data": {
      "text/plain": [
       "stockoptionlevel\n",
       "0    687\n",
       "1    666\n",
       "2    172\n",
       "3     89\n",
       "Name: count, dtype: int64"
      ]
     },
     "execution_count": 220,
     "metadata": {},
     "output_type": "execute_result"
    }
   ],
   "source": [
    "df[ 'stockoptionlevel'].value_counts()"
   ]
  },
  {
   "cell_type": "code",
   "execution_count": 221,
   "id": "e90b38e1",
   "metadata": {},
   "outputs": [],
   "source": [
    "# Esta variable indica el nivel de opciones sobre acciones que tiene asignadas cada persona. Es decir, si reciben parte de su compensación en acciones de la empresa. Los niveles más altos suelen asignarse a empleados de mayor nivel o con mejor rendimiento.\n",
    "# 0: No stock options / 1-3: Diferentes niveles de acciones asignadas"
   ]
  },
  {
   "cell_type": "markdown",
   "id": "524c656b",
   "metadata": {},
   "source": [
    "### 'totalworkingyears'"
   ]
  },
  {
   "cell_type": "code",
   "execution_count": 222,
   "id": "f441a5a0",
   "metadata": {},
   "outputs": [
    {
     "data": {
      "text/plain": [
       "totalworkingyears\n",
       "10,0    144\n",
       "8,0      86\n",
       "6,0      84\n",
       "9,0      69\n",
       "5,0      66\n",
       "7,0      56\n",
       "4,0      54\n",
       "1,0      53\n",
       "12,0     34\n",
       "3,0      32\n",
       "14,0     30\n",
       "13,0     30\n",
       "11,0     29\n",
       "15,0     28\n",
       "16,0     28\n",
       "20,0     28\n",
       "18,0     27\n",
       "21,0     23\n",
       "17,0     22\n",
       "2,0      21\n",
       "22,0     18\n",
       "19,0     17\n",
       "24,0     14\n",
       "23,0     13\n",
       "28,0     13\n",
       "26,0      8\n",
       "0,0       8\n",
       "29,0      6\n",
       "36,0      6\n",
       "25,0      6\n",
       "33,0      6\n",
       "37,0      5\n",
       "27,0      5\n",
       "31,0      4\n",
       "30,0      3\n",
       "32,0      3\n",
       "35,0      3\n",
       "40,0      3\n",
       "34,0      2\n",
       "38,0      1\n",
       "Name: count, dtype: int64"
      ]
     },
     "execution_count": 222,
     "metadata": {},
     "output_type": "execute_result"
    }
   ],
   "source": [
    "df['totalworkingyears'].value_counts()"
   ]
  },
  {
   "cell_type": "code",
   "execution_count": 223,
   "id": "bffa3c60",
   "metadata": {},
   "outputs": [
    {
     "data": {
      "text/plain": [
       "526"
      ]
     },
     "execution_count": 223,
     "metadata": {},
     "output_type": "execute_result"
    }
   ],
   "source": [
    "df['totalworkingyears'].isna().sum()"
   ]
  },
  {
   "cell_type": "code",
   "execution_count": 224,
   "id": "531263d5",
   "metadata": {},
   "outputs": [
    {
     "name": "stdout",
     "output_type": "stream",
     "text": [
      "Int64\n",
      "totalworkingyears\n",
      "10    144\n",
      "8      86\n",
      "6      84\n",
      "9      69\n",
      "5      66\n",
      "7      56\n",
      "4      54\n",
      "1      53\n",
      "12     34\n",
      "3      32\n",
      "14     30\n",
      "13     30\n",
      "11     29\n",
      "15     28\n",
      "16     28\n",
      "20     28\n",
      "18     27\n",
      "21     23\n",
      "17     22\n",
      "2      21\n",
      "22     18\n",
      "19     17\n",
      "24     14\n",
      "23     13\n",
      "28     13\n",
      "26      8\n",
      "0       8\n",
      "29      6\n",
      "36      6\n",
      "25      6\n",
      "33      6\n",
      "37      5\n",
      "27      5\n",
      "31      4\n",
      "30      3\n",
      "32      3\n",
      "35      3\n",
      "40      3\n",
      "34      2\n",
      "38      1\n",
      "Name: count, dtype: Int64\n"
     ]
    }
   ],
   "source": [
    "df['totalworkingyears'] = (\n",
    "    df['totalworkingyears']\n",
    "    .astype(str)\n",
    "    .replace('<NA>', np.nan)                   \n",
    "    .str.replace(',', '.', regex=False)        \n",
    "    .astype(float)\n",
    "    .astype('Int64')                           \n",
    ")\n",
    "print(df['totalworkingyears'].dtype)\n",
    "print(df['totalworkingyears'].value_counts())"
   ]
  },
  {
   "cell_type": "markdown",
   "id": "2050bc0d",
   "metadata": {},
   "source": [
    "### 'trainingtimeslastyear'"
   ]
  },
  {
   "cell_type": "code",
   "execution_count": 225,
   "id": "1a76111b",
   "metadata": {},
   "outputs": [
    {
     "data": {
      "text/plain": [
       "trainingtimeslastyear\n",
       "2    598\n",
       "3    534\n",
       "4    137\n",
       "5    136\n",
       "1     77\n",
       "6     72\n",
       "0     60\n",
       "Name: count, dtype: int64"
      ]
     },
     "execution_count": 225,
     "metadata": {},
     "output_type": "execute_result"
    }
   ],
   "source": [
    "df['trainingtimeslastyear'].value_counts()"
   ]
  },
  {
   "cell_type": "markdown",
   "id": "4be7e6a9",
   "metadata": {},
   "source": [
    "### 'worklifebalance'"
   ]
  },
  {
   "cell_type": "code",
   "execution_count": 226,
   "id": "59120267",
   "metadata": {},
   "outputs": [
    {
     "data": {
      "text/plain": [
       "worklifebalance\n",
       "3,0    913\n",
       "2,0    359\n",
       "4,0    155\n",
       "1,0     79\n",
       "Name: count, dtype: int64"
      ]
     },
     "execution_count": 226,
     "metadata": {},
     "output_type": "execute_result"
    }
   ],
   "source": [
    "df['worklifebalance'].value_counts()"
   ]
  },
  {
   "cell_type": "code",
   "execution_count": 227,
   "id": "3693fbcd",
   "metadata": {},
   "outputs": [
    {
     "data": {
      "text/plain": [
       "108"
      ]
     },
     "execution_count": 227,
     "metadata": {},
     "output_type": "execute_result"
    }
   ],
   "source": [
    "df['worklifebalance'].isna().sum()"
   ]
  },
  {
   "cell_type": "code",
   "execution_count": 228,
   "id": "504cd834",
   "metadata": {},
   "outputs": [
    {
     "name": "stdout",
     "output_type": "stream",
     "text": [
      "worklifebalance\n",
      "good         913\n",
      "low          359\n",
      "excellent    155\n",
      "very_low      79\n",
      "Name: count, dtype: int64\n"
     ]
    }
   ],
   "source": [
    "df['worklifebalance'] = df['worklifebalance'].str.replace(',', '.').astype(float)\n",
    "\n",
    "df['worklifebalance'] = df['worklifebalance'].replace({\n",
    "    1.0: 'very_low',\n",
    "    2.0: 'low',\n",
    "    3.0: 'good',\n",
    "    4.0: 'excellent'\n",
    "})\n",
    "print(df['worklifebalance'].value_counts())"
   ]
  },
  {
   "cell_type": "markdown",
   "id": "b30d5542",
   "metadata": {},
   "source": [
    "### 'yearsatcompany'"
   ]
  },
  {
   "cell_type": "code",
   "execution_count": 229,
   "id": "b302540e",
   "metadata": {},
   "outputs": [
    {
     "data": {
      "text/plain": [
       "yearsatcompany\n",
       "5     208\n",
       "1     171\n",
       "3     141\n",
       "2     141\n",
       "10    133\n",
       "7     115\n",
       "4     114\n",
       "8     106\n",
       "9      94\n",
       "6      78\n",
       "0      44\n",
       "11     36\n",
       "20     29\n",
       "13     26\n",
       "15     21\n",
       "14     19\n",
       "22     17\n",
       "12     15\n",
       "18     15\n",
       "16     14\n",
       "21     14\n",
       "19     12\n",
       "17      9\n",
       "24      7\n",
       "25      5\n",
       "33      5\n",
       "26      4\n",
       "32      3\n",
       "27      3\n",
       "31      3\n",
       "36      3\n",
       "29      2\n",
       "23      2\n",
       "40      2\n",
       "34      1\n",
       "37      1\n",
       "30      1\n",
       "Name: count, dtype: int64"
      ]
     },
     "execution_count": 229,
     "metadata": {},
     "output_type": "execute_result"
    }
   ],
   "source": [
    "df['yearsatcompany'].value_counts()"
   ]
  },
  {
   "cell_type": "markdown",
   "id": "83ead82d",
   "metadata": {},
   "source": [
    "### 'yearssincelastpromotion'"
   ]
  },
  {
   "cell_type": "code",
   "execution_count": 230,
   "id": "d6a841cd",
   "metadata": {},
   "outputs": [
    {
     "data": {
      "text/plain": [
       "yearssincelastpromotion\n",
       "0     625\n",
       "1     384\n",
       "2     177\n",
       "7      93\n",
       "4      67\n",
       "3      62\n",
       "5      53\n",
       "6      37\n",
       "11     26\n",
       "8      20\n",
       "9      18\n",
       "15     15\n",
       "12     11\n",
       "13     10\n",
       "14     10\n",
       "10      6\n",
       "Name: count, dtype: int64"
      ]
     },
     "execution_count": 230,
     "metadata": {},
     "output_type": "execute_result"
    }
   ],
   "source": [
    "df['yearssincelastpromotion'].value_counts()"
   ]
  },
  {
   "cell_type": "markdown",
   "id": "e4d6ab35",
   "metadata": {},
   "source": [
    "### 'yearswithcurrmanager'"
   ]
  },
  {
   "cell_type": "code",
   "execution_count": 231,
   "id": "1777568d",
   "metadata": {},
   "outputs": [
    {
     "data": {
      "text/plain": [
       "yearswithcurrmanager\n",
       "2     380\n",
       "0     270\n",
       "7     267\n",
       "3     148\n",
       "8     115\n",
       "4     104\n",
       "1      84\n",
       "9      70\n",
       "5      36\n",
       "10     31\n",
       "6      30\n",
       "11     22\n",
       "12     20\n",
       "13     16\n",
       "17      8\n",
       "15      5\n",
       "14      5\n",
       "16      3\n",
       "Name: count, dtype: int64"
      ]
     },
     "execution_count": 231,
     "metadata": {},
     "output_type": "execute_result"
    }
   ],
   "source": [
    "df['yearswithcurrmanager'].value_counts()"
   ]
  },
  {
   "cell_type": "markdown",
   "id": "e2547c18",
   "metadata": {},
   "source": [
    "### 'sameasmonthlyincome'"
   ]
  },
  {
   "cell_type": "code",
   "execution_count": 232,
   "id": "7f772cca",
   "metadata": {},
   "outputs": [
    {
     "data": {
      "text/plain": [
       "sameasmonthlyincome\n",
       "4492,84$     224\n",
       "2342,59$     219\n",
       "8339,32$      98\n",
       "12783,92$     42\n",
       "15943,72$     24\n",
       "            ... \n",
       "5415,83$       1\n",
       "4994,17$       1\n",
       "3806,67$       1\n",
       "13920,00$      1\n",
       "3705,83$       1\n",
       "Name: count, Length: 493, dtype: int64"
      ]
     },
     "execution_count": 232,
     "metadata": {},
     "output_type": "execute_result"
    }
   ],
   "source": [
    "df['sameasmonthlyincome'].value_counts()"
   ]
  },
  {
   "cell_type": "code",
   "execution_count": 233,
   "id": "ab3f04e7",
   "metadata": {},
   "outputs": [],
   "source": [
    "# eliminamos porque es una copia de 'monthlyincome'\n",
    "df.drop(columns='sameasmonthlyincome', inplace=True)"
   ]
  },
  {
   "cell_type": "markdown",
   "id": "f62e8b43",
   "metadata": {},
   "source": [
    "### 'datebirth'"
   ]
  },
  {
   "cell_type": "code",
   "execution_count": 234,
   "id": "69528b6b",
   "metadata": {},
   "outputs": [
    {
     "data": {
      "text/plain": [
       "datebirth\n",
       "1988    84\n",
       "1992    83\n",
       "1989    83\n",
       "1994    78\n",
       "1987    75\n",
       "1991    65\n",
       "1985    64\n",
       "1993    64\n",
       "1990    61\n",
       "1983    60\n",
       "1986    55\n",
       "1996    54\n",
       "1995    53\n",
       "1981    50\n",
       "1978    48\n",
       "1982    46\n",
       "1997    46\n",
       "1984    45\n",
       "1980    40\n",
       "1977    38\n",
       "1979    34\n",
       "1973    31\n",
       "1999    27\n",
       "1976    27\n",
       "1998    27\n",
       "1968    25\n",
       "1974    25\n",
       "1969    20\n",
       "1972    20\n",
       "1970    20\n",
       "1975    20\n",
       "1971    19\n",
       "1967    17\n",
       "2001    16\n",
       "2002    16\n",
       "1965    15\n",
       "2000    15\n",
       "2003    11\n",
       "1964    10\n",
       "2004     9\n",
       "2005     8\n",
       "1963     5\n",
       "1966     5\n",
       "Name: count, dtype: int64"
      ]
     },
     "execution_count": 234,
     "metadata": {},
     "output_type": "execute_result"
    }
   ],
   "source": [
    "df['datebirth'].value_counts()"
   ]
  },
  {
   "cell_type": "code",
   "execution_count": 235,
   "id": "be8ed72d",
   "metadata": {},
   "outputs": [
    {
     "data": {
      "text/plain": [
       "count    1614.000000\n",
       "mean     1986.076208\n",
       "std         9.101332\n",
       "min      1963.000000\n",
       "25%      1980.000000\n",
       "50%      1987.000000\n",
       "75%      1993.000000\n",
       "max      2005.000000\n",
       "Name: datebirth, dtype: float64"
      ]
     },
     "execution_count": 235,
     "metadata": {},
     "output_type": "execute_result"
    }
   ],
   "source": [
    "df['datebirth'].describe()"
   ]
  },
  {
   "cell_type": "markdown",
   "id": "1e52d6e6",
   "metadata": {},
   "source": [
    "### 'salary'"
   ]
  },
  {
   "cell_type": "code",
   "execution_count": 236,
   "id": "1c04075d",
   "metadata": {},
   "outputs": [
    {
     "data": {
      "text/plain": [
       "salary\n",
       "53914,11$     261\n",
       "28111,13$     244\n",
       "100071,84$    115\n",
       "153407,07$     45\n",
       "191324,62$     27\n",
       "             ... \n",
       "42210,00$       1\n",
       "129360,00$      1\n",
       "53680,00$       1\n",
       "31960,00$       1\n",
       "42440,00$       1\n",
       "Name: count, Length: 583, dtype: int64"
      ]
     },
     "execution_count": 236,
     "metadata": {},
     "output_type": "execute_result"
    }
   ],
   "source": [
    "df['salary'].value_counts()"
   ]
  },
  {
   "cell_type": "code",
   "execution_count": 237,
   "id": "590c2b46",
   "metadata": {},
   "outputs": [
    {
     "name": "stdout",
     "output_type": "stream",
     "text": [
      "float64\n",
      "salary\n",
      "53914.11     261\n",
      "28111.13     244\n",
      "100071.84    115\n",
      "153407.07     45\n",
      "191324.62     27\n",
      "            ... \n",
      "42210.00       1\n",
      "129360.00      1\n",
      "53680.00       1\n",
      "31960.00       1\n",
      "42440.00       1\n",
      "Name: count, Length: 583, dtype: int64\n"
     ]
    }
   ],
   "source": [
    "# nos aseguramos de que sea tipo texto\n",
    "df['salary'] = df['salary'].astype(str)\n",
    "\n",
    "# eliminamos el símbolo $ y reemplazamos la coma por punto\n",
    "df['salary'] = df['salary'].str.replace('$', '', regex=False)\n",
    "df['salary'] = df['salary'].str.replace(',', '.', regex=False)\n",
    "\n",
    "# convertimos a número decimal (float)\n",
    "df['salary'] = pd.to_numeric(df['salary'], errors='coerce')\n",
    "print(df['salary'].dtype)\n",
    "print(df['salary'].value_counts())\n"
   ]
  },
  {
   "cell_type": "markdown",
   "id": "45fea340",
   "metadata": {},
   "source": [
    "### 'roledepartament'"
   ]
  },
  {
   "cell_type": "code",
   "execution_count": 238,
   "id": "2817d4f2",
   "metadata": {},
   "outputs": [
    {
     "data": {
      "text/plain": [
       "roledepartament\n",
       "MaNAgeR  -  Sales                                        2\n",
       "ManaGER  -  Research & Development                       1\n",
       "ReseaRch scIENTisT  -  Research & Development            1\n",
       "ManufacTURInG DIRECtOR  -  Research & Development        1\n",
       "hEalthCaRe reprEseNTaTiVe  -  Research & Development     1\n",
       "                                                        ..\n",
       "saLES eXEcUTiVE  -  Sales                                1\n",
       "mANUfacTURiNG dIRectOR  -  Research & Development        1\n",
       "huMAn ResOurces  -  Human Resources                      1\n",
       "HUMAN ResoURCeS  -  Human Resources                      1\n",
       "sAleS EXECUtIvE  -  Sales                                1\n",
       "Name: count, Length: 301, dtype: int64"
      ]
     },
     "execution_count": 238,
     "metadata": {},
     "output_type": "execute_result"
    }
   ],
   "source": [
    "df['roledepartament'].value_counts()"
   ]
  },
  {
   "cell_type": "code",
   "execution_count": 239,
   "id": "2d7451e7",
   "metadata": {},
   "outputs": [],
   "source": [
    "# ya tenemos las columnas 'jobrole' y 'department', así que eliminamos esta columna, que tiene un alto porcentaje de nulos\n",
    "df.drop(columns='roledepartament', inplace=True)"
   ]
  },
  {
   "cell_type": "markdown",
   "id": "15665759",
   "metadata": {},
   "source": [
    "### 'remotework'"
   ]
  },
  {
   "cell_type": "code",
   "execution_count": 240,
   "id": "7601111d",
   "metadata": {},
   "outputs": [
    {
     "data": {
      "text/plain": [
       "remotework\n",
       "1        360\n",
       "True     345\n",
       "0        309\n",
       "False    305\n",
       "Yes      295\n",
       "Name: count, dtype: int64"
      ]
     },
     "execution_count": 240,
     "metadata": {},
     "output_type": "execute_result"
    }
   ],
   "source": [
    "df['remotework'].value_counts()"
   ]
  },
  {
   "cell_type": "code",
   "execution_count": 241,
   "id": "650b146e",
   "metadata": {},
   "outputs": [
    {
     "name": "stdout",
     "output_type": "stream",
     "text": [
      "remotework\n",
      "yes    1000\n",
      "no      614\n",
      "Name: count, dtype: int64\n"
     ]
    }
   ],
   "source": [
    "# Convertimos todo a string para estandarizar\n",
    "df['remotework'] = df['remotework'].astype(str).str.strip().str.lower()\n",
    "\n",
    "# Reemplazamos todas las variantes por 'yes' o 'no'\n",
    "df['remotework'] = df['remotework'].replace({\n",
    "    '1': 'yes',\n",
    "    'true': 'yes',\n",
    "    'yes': 'yes',\n",
    "    '0': 'no',\n",
    "    'false': 'no'\n",
    "})\n",
    "print(df['remotework'].value_counts())"
   ]
  },
  {
   "cell_type": "code",
   "execution_count": 242,
   "id": "11c759c6",
   "metadata": {},
   "outputs": [
    {
     "data": {
      "text/plain": [
       "Index(['age', 'attrition', 'businesstravel', 'dailyrate', 'department',\n",
       "       'distancefromhome', 'education', 'educationfield', 'employeenumber',\n",
       "       'environmentsatisfaction', 'gender', 'hourlyrate', 'jobinvolvement',\n",
       "       'joblevel', 'jobrole', 'jobsatisfaction', 'maritalstatus',\n",
       "       'monthlyincome', 'monthlyrate', 'numcompaniesworked', 'overtime',\n",
       "       'percentsalaryhike', 'performancerating', 'relationshipsatisfaction',\n",
       "       'standardhours', 'stockoptionlevel', 'totalworkingyears',\n",
       "       'trainingtimeslastyear', 'worklifebalance', 'yearsatcompany',\n",
       "       'yearssincelastpromotion', 'yearswithcurrmanager', 'datebirth',\n",
       "       'salary', 'remotework'],\n",
       "      dtype='object')"
      ]
     },
     "execution_count": 242,
     "metadata": {},
     "output_type": "execute_result"
    }
   ],
   "source": [
    "df.columns"
   ]
  },
  {
   "cell_type": "code",
   "execution_count": 243,
   "id": "8966dd62",
   "metadata": {},
   "outputs": [],
   "source": [
    "df = df.rename(columns={'businesstravel': 'business_travel', \n",
    "                        'dailyrate': 'daily_rate',\n",
    "                        'distancefromhome': 'distance_from_home', \n",
    "                        'educationfield': 'education_field',\n",
    "                        'employeecount': 'employee_count',\n",
    "                        'employeenumber': 'employee_number',\n",
    "                        'environmentsatisfaction': 'environment_satisfaction',\n",
    "                        'hourlyrate': 'hourly_rate',\n",
    "                        'jobinvolvement': 'job_involvement',\n",
    "                        'joblevel': 'job_level',\n",
    "                        'jobrole': 'job_role',\n",
    "                        'jobsatisfaction': 'job_satisfaction',\n",
    "                        'maritalstatus': 'marital_status',\n",
    "                        'monthlyincome': 'monthly_income',\n",
    "                        'monthlyrate': 'monthly_rate',\n",
    "                        'numcompaniesworked': 'num_companies_worked',\n",
    "                        'percentsalaryhike': 'percent_salary_hike',\n",
    "                        'performancerating': 'performance_rating',\n",
    "                        'relationshipsatisfaction': 'relationship_satisfaction',\n",
    "                        'standardhours': 'standard_hours',\n",
    "                        'stockoptionlevel': 'stock_option_level',\n",
    "                        'totalworkingyears': 'total_working_years',\n",
    "                        'trainingtimeslastyear': 'training_times_last_year',\n",
    "                        'worklifebalance': 'work_life_balance',\n",
    "                        'yearsatcompany': 'years_at_company',\n",
    "                        'yearsincurrentrole': 'yearsincurrentrole',\n",
    "                        'yearssincelastpromotion': 'years_since_last_promotion',\n",
    "                        'yearswithcurrmanager': 'years_with_curr_manager',\n",
    "                        'datebirth': 'date_birth', \n",
    "                        'roledepartament': 'role_departament',\n",
    "                        'remotework': 'remote_work'})"
   ]
  },
  {
   "cell_type": "code",
   "execution_count": 244,
   "id": "54a0f13c",
   "metadata": {},
   "outputs": [
    {
     "data": {
      "text/plain": [
       "Index(['age', 'attrition', 'business_travel', 'daily_rate', 'department',\n",
       "       'distance_from_home', 'education', 'education_field', 'employee_number',\n",
       "       'environment_satisfaction', 'gender', 'hourly_rate', 'job_involvement',\n",
       "       'job_level', 'job_role', 'job_satisfaction', 'marital_status',\n",
       "       'monthly_income', 'monthly_rate', 'num_companies_worked', 'overtime',\n",
       "       'percent_salary_hike', 'performance_rating',\n",
       "       'relationship_satisfaction', 'standard_hours', 'stock_option_level',\n",
       "       'total_working_years', 'training_times_last_year', 'work_life_balance',\n",
       "       'years_at_company', 'years_since_last_promotion',\n",
       "       'years_with_curr_manager', 'date_birth', 'salary', 'remote_work'],\n",
       "      dtype='object')"
      ]
     },
     "execution_count": 244,
     "metadata": {},
     "output_type": "execute_result"
    }
   ],
   "source": [
    "df.columns"
   ]
  },
  {
   "cell_type": "code",
   "execution_count": 245,
   "id": "42cdf0f3",
   "metadata": {},
   "outputs": [
    {
     "name": "stdout",
     "output_type": "stream",
     "text": [
      "Count of nulls\n",
      "department             1312\n",
      "hourly_rate            1210\n",
      "business_travel         772\n",
      "overtime                676\n",
      "marital_status          651\n",
      "total_working_years     526\n",
      "monthly_income          468\n",
      "salary                  274\n",
      "performance_rating      195\n",
      "work_life_balance       108\n",
      "dtype: int64\n",
      "-----------------------------------\n",
      "share of nulls\n",
      "department             81.288724\n",
      "hourly_rate            74.969021\n",
      "business_travel        47.831475\n",
      "overtime               41.883519\n",
      "marital_status         40.334572\n",
      "total_working_years    32.589839\n",
      "monthly_income         28.996283\n",
      "salary                 16.976456\n",
      "performance_rating     12.081784\n",
      "work_life_balance       6.691450\n",
      "dtype: float64\n"
     ]
    },
    {
     "data": {
      "text/html": [
       "<div>\n",
       "<style scoped>\n",
       "    .dataframe tbody tr th:only-of-type {\n",
       "        vertical-align: middle;\n",
       "    }\n",
       "\n",
       "    .dataframe tbody tr th {\n",
       "        vertical-align: top;\n",
       "    }\n",
       "\n",
       "    .dataframe thead th {\n",
       "        text-align: right;\n",
       "    }\n",
       "</style>\n",
       "<table border=\"1\" class=\"dataframe\">\n",
       "  <thead>\n",
       "    <tr style=\"text-align: right;\">\n",
       "      <th></th>\n",
       "      <th>var</th>\n",
       "      <th>perc_nulos</th>\n",
       "    </tr>\n",
       "  </thead>\n",
       "  <tbody>\n",
       "    <tr>\n",
       "      <th>0</th>\n",
       "      <td>business_travel</td>\n",
       "      <td>47.831475</td>\n",
       "    </tr>\n",
       "    <tr>\n",
       "      <th>1</th>\n",
       "      <td>department</td>\n",
       "      <td>81.288724</td>\n",
       "    </tr>\n",
       "    <tr>\n",
       "      <th>2</th>\n",
       "      <td>hourly_rate</td>\n",
       "      <td>74.969021</td>\n",
       "    </tr>\n",
       "    <tr>\n",
       "      <th>3</th>\n",
       "      <td>marital_status</td>\n",
       "      <td>40.334572</td>\n",
       "    </tr>\n",
       "    <tr>\n",
       "      <th>4</th>\n",
       "      <td>monthly_income</td>\n",
       "      <td>28.996283</td>\n",
       "    </tr>\n",
       "    <tr>\n",
       "      <th>5</th>\n",
       "      <td>overtime</td>\n",
       "      <td>41.883519</td>\n",
       "    </tr>\n",
       "    <tr>\n",
       "      <th>6</th>\n",
       "      <td>performance_rating</td>\n",
       "      <td>12.081784</td>\n",
       "    </tr>\n",
       "    <tr>\n",
       "      <th>7</th>\n",
       "      <td>total_working_years</td>\n",
       "      <td>32.589839</td>\n",
       "    </tr>\n",
       "    <tr>\n",
       "      <th>8</th>\n",
       "      <td>work_life_balance</td>\n",
       "      <td>6.691450</td>\n",
       "    </tr>\n",
       "    <tr>\n",
       "      <th>9</th>\n",
       "      <td>salary</td>\n",
       "      <td>16.976456</td>\n",
       "    </tr>\n",
       "  </tbody>\n",
       "</table>\n",
       "</div>"
      ],
      "text/plain": [
       "                   var  perc_nulos\n",
       "0      business_travel   47.831475\n",
       "1           department   81.288724\n",
       "2          hourly_rate   74.969021\n",
       "3       marital_status   40.334572\n",
       "4       monthly_income   28.996283\n",
       "5             overtime   41.883519\n",
       "6   performance_rating   12.081784\n",
       "7  total_working_years   32.589839\n",
       "8    work_life_balance    6.691450\n",
       "9               salary   16.976456"
      ]
     },
     "execution_count": 245,
     "metadata": {},
     "output_type": "execute_result"
    }
   ],
   "source": [
    "nulls(df,1,1)"
   ]
  },
  {
   "cell_type": "code",
   "execution_count": 246,
   "id": "e0d28401",
   "metadata": {},
   "outputs": [
    {
     "data": {
      "text/plain": [
       "array([nan, 'research_&_development', 'sales', 'human_resources'],\n",
       "      dtype=object)"
      ]
     },
     "execution_count": 246,
     "metadata": {},
     "output_type": "execute_result"
    }
   ],
   "source": [
    "df['department'].unique()"
   ]
  },
  {
   "cell_type": "code",
   "execution_count": 247,
   "id": "63950315",
   "metadata": {},
   "outputs": [
    {
     "data": {
      "text/plain": [
       "Index(['age', 'attrition', 'business_travel', 'daily_rate', 'department',\n",
       "       'distance_from_home', 'education', 'education_field', 'employee_number',\n",
       "       'environment_satisfaction', 'gender', 'hourly_rate', 'job_involvement',\n",
       "       'job_level', 'job_role', 'job_satisfaction', 'marital_status',\n",
       "       'monthly_income', 'monthly_rate', 'num_companies_worked', 'overtime',\n",
       "       'percent_salary_hike', 'performance_rating',\n",
       "       'relationship_satisfaction', 'standard_hours', 'stock_option_level',\n",
       "       'total_working_years', 'training_times_last_year', 'work_life_balance',\n",
       "       'years_at_company', 'years_since_last_promotion',\n",
       "       'years_with_curr_manager', 'date_birth', 'salary', 'remote_work'],\n",
       "      dtype='object')"
      ]
     },
     "execution_count": 247,
     "metadata": {},
     "output_type": "execute_result"
    }
   ],
   "source": [
    "df.columns"
   ]
  },
  {
   "cell_type": "code",
   "execution_count": 248,
   "id": "faa63d01",
   "metadata": {},
   "outputs": [],
   "source": [
    "df.to_csv(\"df_transformado.csv\", index=False)"
   ]
  }
 ],
 "metadata": {
  "kernelspec": {
   "display_name": "base",
   "language": "python",
   "name": "python3"
  },
  "language_info": {
   "codemirror_mode": {
    "name": "ipython",
    "version": 3
   },
   "file_extension": ".py",
   "mimetype": "text/x-python",
   "name": "python",
   "nbconvert_exporter": "python",
   "pygments_lexer": "ipython3",
   "version": "3.12.7"
  }
 },
 "nbformat": 4,
 "nbformat_minor": 5
}
