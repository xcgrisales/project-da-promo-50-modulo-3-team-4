{
 "cells": [
  {
   "cell_type": "code",
   "execution_count": 74,
   "id": "997b66b0",
   "metadata": {},
   "outputs": [],
   "source": [
    "# Importamos las librerías que necesitamos\n",
    "\n",
    "# Tratamiento de datos\n",
    "import pandas as pd\n",
    "import numpy as np\n",
    "\n",
    "# Visualización\n",
    "import matplotlib.pyplot as plt\n",
    "import seaborn as sns\n",
    "\n",
    "# Ocultamos las advertencias para evitar mensajes innecesarios\n",
    "import warnings\n",
    "warnings.filterwarnings(\"ignore\")\n",
    "\n",
    "# Configuración\n",
    "pd.set_option('display.max_columns', None) # para poder visualizar todas las columnas de los DataFrames"
   ]
  },
  {
   "cell_type": "code",
   "execution_count": 75,
   "id": "59c393ca",
   "metadata": {},
   "outputs": [
    {
     "data": {
      "text/html": [
       "<div>\n",
       "<style scoped>\n",
       "    .dataframe tbody tr th:only-of-type {\n",
       "        vertical-align: middle;\n",
       "    }\n",
       "\n",
       "    .dataframe tbody tr th {\n",
       "        vertical-align: top;\n",
       "    }\n",
       "\n",
       "    .dataframe thead th {\n",
       "        text-align: right;\n",
       "    }\n",
       "</style>\n",
       "<table border=\"1\" class=\"dataframe\">\n",
       "  <thead>\n",
       "    <tr style=\"text-align: right;\">\n",
       "      <th></th>\n",
       "      <th>age</th>\n",
       "      <th>attrition</th>\n",
       "      <th>business_travel</th>\n",
       "      <th>daily_rate</th>\n",
       "      <th>department</th>\n",
       "      <th>distance_from_home</th>\n",
       "      <th>education</th>\n",
       "      <th>education_field</th>\n",
       "      <th>employee_number</th>\n",
       "      <th>environment_satisfaction</th>\n",
       "      <th>gender</th>\n",
       "      <th>hourly_rate</th>\n",
       "      <th>job_involvement</th>\n",
       "      <th>job_level</th>\n",
       "      <th>job_role</th>\n",
       "      <th>job_satisfaction</th>\n",
       "      <th>marital_status</th>\n",
       "      <th>monthly_income</th>\n",
       "      <th>monthly_rate</th>\n",
       "      <th>num_companies_worked</th>\n",
       "      <th>overtime</th>\n",
       "      <th>percent_salary_hike</th>\n",
       "      <th>performance_rating</th>\n",
       "      <th>relationship_satisfaction</th>\n",
       "      <th>standard_hours</th>\n",
       "      <th>stock_option_level</th>\n",
       "      <th>total_working_years</th>\n",
       "      <th>training_times_last_year</th>\n",
       "      <th>work_life_balance</th>\n",
       "      <th>years_at_company</th>\n",
       "      <th>years_since_last_promotion</th>\n",
       "      <th>years_with_curr_manager</th>\n",
       "      <th>date_birth</th>\n",
       "      <th>salary</th>\n",
       "      <th>role_departament</th>\n",
       "      <th>remote_work</th>\n",
       "    </tr>\n",
       "  </thead>\n",
       "  <tbody>\n",
       "    <tr>\n",
       "      <th>0</th>\n",
       "      <td>51</td>\n",
       "      <td>no</td>\n",
       "      <td>NaN</td>\n",
       "      <td>2015.72</td>\n",
       "      <td>NaN</td>\n",
       "      <td>6</td>\n",
       "      <td>3</td>\n",
       "      <td>NaN</td>\n",
       "      <td>1</td>\n",
       "      <td>low</td>\n",
       "      <td>female</td>\n",
       "      <td>NaN</td>\n",
       "      <td>high</td>\n",
       "      <td>executive</td>\n",
       "      <td>research_director</td>\n",
       "      <td>high</td>\n",
       "      <td>NaN</td>\n",
       "      <td>16280.83</td>\n",
       "      <td>42330.17</td>\n",
       "      <td>7</td>\n",
       "      <td>no</td>\n",
       "      <td>13</td>\n",
       "      <td>3,0</td>\n",
       "      <td>high</td>\n",
       "      <td>full_time</td>\n",
       "      <td>0</td>\n",
       "      <td>NaN</td>\n",
       "      <td>5</td>\n",
       "      <td>good</td>\n",
       "      <td>20</td>\n",
       "      <td>15</td>\n",
       "      <td>15</td>\n",
       "      <td>1972</td>\n",
       "      <td>195370.0</td>\n",
       "      <td>NaN</td>\n",
       "      <td>yes</td>\n",
       "    </tr>\n",
       "    <tr>\n",
       "      <th>1</th>\n",
       "      <td>52</td>\n",
       "      <td>no</td>\n",
       "      <td>NaN</td>\n",
       "      <td>2063.39</td>\n",
       "      <td>NaN</td>\n",
       "      <td>1</td>\n",
       "      <td>4</td>\n",
       "      <td>life_sciences</td>\n",
       "      <td>2</td>\n",
       "      <td>high</td>\n",
       "      <td>female</td>\n",
       "      <td>NaN</td>\n",
       "      <td>medium</td>\n",
       "      <td>executive</td>\n",
       "      <td>manager</td>\n",
       "      <td>high</td>\n",
       "      <td>NaN</td>\n",
       "      <td>NaN</td>\n",
       "      <td>43331.17</td>\n",
       "      <td>0</td>\n",
       "      <td>NaN</td>\n",
       "      <td>14</td>\n",
       "      <td>3,0</td>\n",
       "      <td>low</td>\n",
       "      <td>NaN</td>\n",
       "      <td>1</td>\n",
       "      <td>34.0</td>\n",
       "      <td>5</td>\n",
       "      <td>good</td>\n",
       "      <td>33</td>\n",
       "      <td>11</td>\n",
       "      <td>9</td>\n",
       "      <td>1971</td>\n",
       "      <td>199990.0</td>\n",
       "      <td>NaN</td>\n",
       "      <td>yes</td>\n",
       "    </tr>\n",
       "    <tr>\n",
       "      <th>2</th>\n",
       "      <td>42</td>\n",
       "      <td>no</td>\n",
       "      <td>travel_rarely</td>\n",
       "      <td>1984.25</td>\n",
       "      <td>research_&amp;_development</td>\n",
       "      <td>4</td>\n",
       "      <td>2</td>\n",
       "      <td>technical_degree</td>\n",
       "      <td>3</td>\n",
       "      <td>high</td>\n",
       "      <td>female</td>\n",
       "      <td>NaN</td>\n",
       "      <td>high</td>\n",
       "      <td>executive</td>\n",
       "      <td>manager</td>\n",
       "      <td>very_high</td>\n",
       "      <td>married</td>\n",
       "      <td>NaN</td>\n",
       "      <td>41669.33</td>\n",
       "      <td>1</td>\n",
       "      <td>no</td>\n",
       "      <td>11</td>\n",
       "      <td>3,0</td>\n",
       "      <td>very_high</td>\n",
       "      <td>NaN</td>\n",
       "      <td>0</td>\n",
       "      <td>22.0</td>\n",
       "      <td>3</td>\n",
       "      <td>NaN</td>\n",
       "      <td>22</td>\n",
       "      <td>11</td>\n",
       "      <td>15</td>\n",
       "      <td>1981</td>\n",
       "      <td>192320.0</td>\n",
       "      <td>ManaGER  -  Research &amp; Development</td>\n",
       "      <td>yes</td>\n",
       "    </tr>\n",
       "    <tr>\n",
       "      <th>3</th>\n",
       "      <td>47</td>\n",
       "      <td>no</td>\n",
       "      <td>travel_rarely</td>\n",
       "      <td>1771.40</td>\n",
       "      <td>NaN</td>\n",
       "      <td>2</td>\n",
       "      <td>4</td>\n",
       "      <td>medical</td>\n",
       "      <td>4</td>\n",
       "      <td>low</td>\n",
       "      <td>male</td>\n",
       "      <td>NaN</td>\n",
       "      <td>high</td>\n",
       "      <td>manager</td>\n",
       "      <td>research_director</td>\n",
       "      <td>high</td>\n",
       "      <td>married</td>\n",
       "      <td>14307.50</td>\n",
       "      <td>37199.50</td>\n",
       "      <td>3</td>\n",
       "      <td>NaN</td>\n",
       "      <td>19</td>\n",
       "      <td>3,0</td>\n",
       "      <td>medium</td>\n",
       "      <td>full_time</td>\n",
       "      <td>2</td>\n",
       "      <td>NaN</td>\n",
       "      <td>2</td>\n",
       "      <td>NaN</td>\n",
       "      <td>20</td>\n",
       "      <td>5</td>\n",
       "      <td>6</td>\n",
       "      <td>1976</td>\n",
       "      <td>171690.0</td>\n",
       "      <td>NaN</td>\n",
       "      <td>no</td>\n",
       "    </tr>\n",
       "    <tr>\n",
       "      <th>4</th>\n",
       "      <td>46</td>\n",
       "      <td>no</td>\n",
       "      <td>NaN</td>\n",
       "      <td>1582.77</td>\n",
       "      <td>NaN</td>\n",
       "      <td>3</td>\n",
       "      <td>3</td>\n",
       "      <td>technical_degree</td>\n",
       "      <td>5</td>\n",
       "      <td>low</td>\n",
       "      <td>male</td>\n",
       "      <td>NaN</td>\n",
       "      <td>very_high</td>\n",
       "      <td>manager</td>\n",
       "      <td>sales_executive</td>\n",
       "      <td>low</td>\n",
       "      <td>divorced</td>\n",
       "      <td>12783.92</td>\n",
       "      <td>33238.20</td>\n",
       "      <td>2</td>\n",
       "      <td>no</td>\n",
       "      <td>12</td>\n",
       "      <td>3,0</td>\n",
       "      <td>very_high</td>\n",
       "      <td>NaN</td>\n",
       "      <td>1</td>\n",
       "      <td>NaN</td>\n",
       "      <td>5</td>\n",
       "      <td>good</td>\n",
       "      <td>19</td>\n",
       "      <td>2</td>\n",
       "      <td>8</td>\n",
       "      <td>1977</td>\n",
       "      <td>NaN</td>\n",
       "      <td>NaN</td>\n",
       "      <td>no</td>\n",
       "    </tr>\n",
       "  </tbody>\n",
       "</table>\n",
       "</div>"
      ],
      "text/plain": [
       "   age attrition business_travel  daily_rate              department  \\\n",
       "0   51        no             NaN     2015.72                     NaN   \n",
       "1   52        no             NaN     2063.39                     NaN   \n",
       "2   42        no   travel_rarely     1984.25  research_&_development   \n",
       "3   47        no   travel_rarely     1771.40                     NaN   \n",
       "4   46        no             NaN     1582.77                     NaN   \n",
       "\n",
       "   distance_from_home  education   education_field  employee_number  \\\n",
       "0                   6          3               NaN                1   \n",
       "1                   1          4     life_sciences                2   \n",
       "2                   4          2  technical_degree                3   \n",
       "3                   2          4           medical                4   \n",
       "4                   3          3  technical_degree                5   \n",
       "\n",
       "  environment_satisfaction  gender  hourly_rate job_involvement  job_level  \\\n",
       "0                      low  female          NaN            high  executive   \n",
       "1                     high  female          NaN          medium  executive   \n",
       "2                     high  female          NaN            high  executive   \n",
       "3                      low    male          NaN            high    manager   \n",
       "4                      low    male          NaN       very_high    manager   \n",
       "\n",
       "            job_role job_satisfaction marital_status  monthly_income  \\\n",
       "0  research_director             high            NaN        16280.83   \n",
       "1            manager             high            NaN             NaN   \n",
       "2            manager        very_high        married             NaN   \n",
       "3  research_director             high        married        14307.50   \n",
       "4    sales_executive              low       divorced        12783.92   \n",
       "\n",
       "   monthly_rate  num_companies_worked overtime  percent_salary_hike  \\\n",
       "0      42330.17                     7       no                   13   \n",
       "1      43331.17                     0      NaN                   14   \n",
       "2      41669.33                     1       no                   11   \n",
       "3      37199.50                     3      NaN                   19   \n",
       "4      33238.20                     2       no                   12   \n",
       "\n",
       "  performance_rating relationship_satisfaction standard_hours  \\\n",
       "0                3,0                      high      full_time   \n",
       "1                3,0                       low            NaN   \n",
       "2                3,0                 very_high            NaN   \n",
       "3                3,0                    medium      full_time   \n",
       "4                3,0                 very_high            NaN   \n",
       "\n",
       "   stock_option_level  total_working_years  training_times_last_year  \\\n",
       "0                   0                  NaN                         5   \n",
       "1                   1                 34.0                         5   \n",
       "2                   0                 22.0                         3   \n",
       "3                   2                  NaN                         2   \n",
       "4                   1                  NaN                         5   \n",
       "\n",
       "  work_life_balance  years_at_company  years_since_last_promotion  \\\n",
       "0              good                20                          15   \n",
       "1              good                33                          11   \n",
       "2               NaN                22                          11   \n",
       "3               NaN                20                           5   \n",
       "4              good                19                           2   \n",
       "\n",
       "   years_with_curr_manager  date_birth    salary  \\\n",
       "0                       15        1972  195370.0   \n",
       "1                        9        1971  199990.0   \n",
       "2                       15        1981  192320.0   \n",
       "3                        6        1976  171690.0   \n",
       "4                        8        1977       NaN   \n",
       "\n",
       "                       role_departament remote_work  \n",
       "0                                   NaN         yes  \n",
       "1                                   NaN         yes  \n",
       "2   ManaGER  -  Research & Development          yes  \n",
       "3                                   NaN          no  \n",
       "4                                   NaN          no  "
      ]
     },
     "execution_count": 75,
     "metadata": {},
     "output_type": "execute_result"
    }
   ],
   "source": [
    "# Lo primero que hacemos es cargar el dataframe que vamos a usar\n",
    "df = pd.read_csv(\"df_transformado.csv\")\n",
    "df.head()"
   ]
  },
  {
   "cell_type": "code",
   "execution_count": 76,
   "id": "3400e305",
   "metadata": {},
   "outputs": [
    {
     "data": {
      "text/plain": [
       "(1614, 36)"
      ]
     },
     "execution_count": 76,
     "metadata": {},
     "output_type": "execute_result"
    }
   ],
   "source": [
    "df.shape"
   ]
  },
  {
   "cell_type": "code",
   "execution_count": 77,
   "id": "4ad08e6a",
   "metadata": {},
   "outputs": [
    {
     "data": {
      "text/plain": [
       "Index(['age', 'attrition', 'business_travel', 'daily_rate', 'department',\n",
       "       'distance_from_home', 'education', 'education_field', 'employee_number',\n",
       "       'environment_satisfaction', 'gender', 'hourly_rate', 'job_involvement',\n",
       "       'job_level', 'job_role', 'job_satisfaction', 'marital_status',\n",
       "       'monthly_income', 'monthly_rate', 'num_companies_worked', 'overtime',\n",
       "       'percent_salary_hike', 'performance_rating',\n",
       "       'relationship_satisfaction', 'standard_hours', 'stock_option_level',\n",
       "       'total_working_years', 'training_times_last_year', 'work_life_balance',\n",
       "       'years_at_company', 'years_since_last_promotion',\n",
       "       'years_with_curr_manager', 'date_birth', 'salary', 'role_departament',\n",
       "       'remote_work'],\n",
       "      dtype='object')"
      ]
     },
     "execution_count": 77,
     "metadata": {},
     "output_type": "execute_result"
    }
   ],
   "source": [
    "df.columns"
   ]
  },
  {
   "cell_type": "code",
   "execution_count": 78,
   "id": "34af5791",
   "metadata": {},
   "outputs": [
    {
     "name": "stdout",
     "output_type": "stream",
     "text": [
      "business_travel: 772 nulos\n",
      "department: 1312 nulos\n",
      "education_field: 745 nulos\n",
      "environment_satisfaction: 100 nulos\n",
      "hourly_rate: 1210 nulos\n",
      "marital_status: 651 nulos\n",
      "monthly_income: 468 nulos\n",
      "overtime: 676 nulos\n",
      "performance_rating: 195 nulos\n",
      "standard_hours: 338 nulos\n",
      "total_working_years: 526 nulos\n",
      "work_life_balance: 108 nulos\n",
      "salary: 274 nulos\n",
      "role_departament: 1312 nulos\n"
     ]
    }
   ],
   "source": [
    "for col in df.columns:\n",
    "    nulos = df[col].isnull().sum()\n",
    "    if nulos > 0:\n",
    "        print(f\"{col}: {nulos} nulos\")"
   ]
  },
  {
   "cell_type": "code",
   "execution_count": 79,
   "id": "b851fd6a",
   "metadata": {},
   "outputs": [
    {
     "name": "stdout",
     "output_type": "stream",
     "text": [
      "\n",
      "--- age ---\n",
      "count    1614.000000\n",
      "mean       36.920694\n",
      "std         9.102157\n",
      "min        18.000000\n",
      "25%        30.000000\n",
      "50%        36.000000\n",
      "75%        43.000000\n",
      "max        60.000000\n",
      "Name: age, dtype: float64\n",
      "\n",
      "--- attrition ---\n",
      "count     1614\n",
      "unique       2\n",
      "top         no\n",
      "freq      1355\n",
      "Name: attrition, dtype: object\n",
      "\n",
      "--- business_travel ---\n",
      "count               842\n",
      "unique                3\n",
      "top       travel_rarely\n",
      "freq                586\n",
      "Name: business_travel, dtype: object\n",
      "\n",
      "--- daily_rate ---\n",
      "count    1614.000000\n",
      "mean      669.632150\n",
      "std       472.352414\n",
      "min       104.100000\n",
      "25%       290.040000\n",
      "50%       556.260000\n",
      "75%       967.315000\n",
      "max      2063.390000\n",
      "Name: daily_rate, dtype: float64\n",
      "\n",
      "--- department ---\n",
      "count                        302\n",
      "unique                         3\n",
      "top       research_&_development\n",
      "freq                         196\n",
      "Name: department, dtype: object\n",
      "\n",
      "--- distance_from_home ---\n",
      "count    1614.000000\n",
      "mean       11.141884\n",
      "std        10.450560\n",
      "min         1.000000\n",
      "25%         2.000000\n",
      "50%         8.000000\n",
      "75%        17.000000\n",
      "max        49.000000\n",
      "Name: distance_from_home, dtype: float64\n",
      "\n",
      "--- education ---\n",
      "count    1614.000000\n",
      "mean        2.925031\n",
      "std         1.022357\n",
      "min         1.000000\n",
      "25%         2.000000\n",
      "50%         3.000000\n",
      "75%         4.000000\n",
      "max         5.000000\n",
      "Name: education, dtype: float64\n",
      "\n",
      "--- education_field ---\n",
      "count               869\n",
      "unique                6\n",
      "top       life_sciences\n",
      "freq                349\n",
      "Name: education_field, dtype: object\n",
      "\n",
      "--- employee_number ---\n",
      "count    1614.000000\n",
      "mean      807.500000\n",
      "std       466.065982\n",
      "min         1.000000\n",
      "25%       404.250000\n",
      "50%       807.500000\n",
      "75%      1210.750000\n",
      "max      1614.000000\n",
      "Name: employee_number, dtype: float64\n",
      "\n",
      "--- environment_satisfaction ---\n",
      "count          1514\n",
      "unique            4\n",
      "top       very_high\n",
      "freq            460\n",
      "Name: environment_satisfaction, dtype: object\n",
      "\n",
      "--- gender ---\n",
      "count       1614\n",
      "unique         2\n",
      "top       female\n",
      "freq         971\n",
      "Name: gender, dtype: object\n",
      "\n",
      "--- hourly_rate ---\n",
      "count    404.000000\n",
      "mean      83.042302\n",
      "std       57.548806\n",
      "min       13.010000\n",
      "25%       36.250000\n",
      "50%       69.530000\n",
      "75%      114.160000\n",
      "max      255.960000\n",
      "Name: hourly_rate, dtype: float64\n",
      "\n",
      "--- job_involvement ---\n",
      "count     1614\n",
      "unique       4\n",
      "top       high\n",
      "freq       955\n",
      "Name: job_involvement, dtype: object\n",
      "\n",
      "--- job_level ---\n",
      "count             1614\n",
      "unique               5\n",
      "top       intermediate\n",
      "freq               597\n",
      "Name: job_level, dtype: object\n",
      "\n",
      "--- job_role ---\n",
      "count                1614\n",
      "unique                  9\n",
      "top       sales_executive\n",
      "freq                  369\n",
      "Name: job_role, dtype: object\n",
      "\n",
      "--- job_satisfaction ---\n",
      "count          1614\n",
      "unique            4\n",
      "top       very_high\n",
      "freq            514\n",
      "Name: job_satisfaction, dtype: object\n",
      "\n",
      "--- marital_status ---\n",
      "count         963\n",
      "unique          4\n",
      "top       married\n",
      "freq          404\n",
      "Name: marital_status, dtype: object\n",
      "\n",
      "--- monthly_income ---\n",
      "count     1146.000000\n",
      "mean      5697.600227\n",
      "std       6234.554870\n",
      "min       1000.000000\n",
      "25%       2342.590000\n",
      "50%       4492.840000\n",
      "75%       7861.670000\n",
      "max      94083.000000\n",
      "Name: monthly_income, dtype: float64\n",
      "\n",
      "--- monthly_rate ---\n",
      "count     1614.000000\n",
      "mean     14062.244901\n",
      "std       9919.419454\n",
      "min       2186.170000\n",
      "25%       6090.750000\n",
      "50%      11681.390000\n",
      "75%      20313.580000\n",
      "max      43331.170000\n",
      "Name: monthly_rate, dtype: float64\n",
      "\n",
      "--- num_companies_worked ---\n",
      "count    1614.000000\n",
      "mean        2.673482\n",
      "std         2.506152\n",
      "min         0.000000\n",
      "25%         1.000000\n",
      "50%         2.000000\n",
      "75%         4.000000\n",
      "max         9.000000\n",
      "Name: num_companies_worked, dtype: float64\n",
      "\n",
      "--- overtime ---\n",
      "count     938\n",
      "unique      2\n",
      "top        no\n",
      "freq      682\n",
      "Name: overtime, dtype: object\n",
      "\n",
      "--- percent_salary_hike ---\n",
      "count    1614.000000\n",
      "mean       15.165428\n",
      "std         3.648610\n",
      "min        11.000000\n",
      "25%        12.000000\n",
      "50%        14.000000\n",
      "75%        18.000000\n",
      "max        25.000000\n",
      "Name: percent_salary_hike, dtype: float64\n",
      "\n",
      "--- performance_rating ---\n",
      "count     1419\n",
      "unique       2\n",
      "top        3,0\n",
      "freq      1205\n",
      "Name: performance_rating, dtype: object\n",
      "\n",
      "--- relationship_satisfaction ---\n",
      "count     1614\n",
      "unique       4\n",
      "top       high\n",
      "freq       504\n",
      "Name: relationship_satisfaction, dtype: object\n",
      "\n",
      "--- standard_hours ---\n",
      "count          1276\n",
      "unique            2\n",
      "top       part_time\n",
      "freq            888\n",
      "Name: standard_hours, dtype: object\n",
      "\n",
      "--- stock_option_level ---\n",
      "count    1614.000000\n",
      "mean        0.791202\n",
      "std         0.842396\n",
      "min         0.000000\n",
      "25%         0.000000\n",
      "50%         1.000000\n",
      "75%         1.000000\n",
      "max         3.000000\n",
      "Name: stock_option_level, dtype: float64\n",
      "\n",
      "--- total_working_years ---\n",
      "count    1088.000000\n",
      "mean       11.318934\n",
      "std         7.727675\n",
      "min         0.000000\n",
      "25%         6.000000\n",
      "50%        10.000000\n",
      "75%        15.000000\n",
      "max        40.000000\n",
      "Name: total_working_years, dtype: float64\n",
      "\n",
      "--- training_times_last_year ---\n",
      "count    1614.000000\n",
      "mean        2.809789\n",
      "std         1.297765\n",
      "min         0.000000\n",
      "25%         2.000000\n",
      "50%         3.000000\n",
      "75%         3.000000\n",
      "max         6.000000\n",
      "Name: training_times_last_year, dtype: float64\n",
      "\n",
      "--- work_life_balance ---\n",
      "count     1506\n",
      "unique       4\n",
      "top       good\n",
      "freq       913\n",
      "Name: work_life_balance, dtype: object\n",
      "\n",
      "--- years_at_company ---\n",
      "count    1614.000000\n",
      "mean        7.132590\n",
      "std         6.124237\n",
      "min         0.000000\n",
      "25%         3.000000\n",
      "50%         5.000000\n",
      "75%         9.000000\n",
      "max        40.000000\n",
      "Name: years_at_company, dtype: float64\n",
      "\n",
      "--- years_since_last_promotion ---\n",
      "count    1614.000000\n",
      "mean        2.245973\n",
      "std         3.235665\n",
      "min         0.000000\n",
      "25%         0.000000\n",
      "50%         1.000000\n",
      "75%         3.000000\n",
      "max        15.000000\n",
      "Name: years_since_last_promotion, dtype: float64\n",
      "\n",
      "--- years_with_curr_manager ---\n",
      "count    1614.000000\n",
      "mean        4.220570\n",
      "std         3.562695\n",
      "min         0.000000\n",
      "25%         2.000000\n",
      "50%         3.000000\n",
      "75%         7.000000\n",
      "max        17.000000\n",
      "Name: years_with_curr_manager, dtype: float64\n",
      "\n",
      "--- date_birth ---\n",
      "count    1614.000000\n",
      "mean     1986.076208\n",
      "std         9.101332\n",
      "min      1963.000000\n",
      "25%      1980.000000\n",
      "50%      1987.000000\n",
      "75%      1993.000000\n",
      "max      2005.000000\n",
      "Name: date_birth, dtype: float64\n",
      "\n",
      "--- salary ---\n",
      "count      1340.000000\n",
      "mean      65245.875313\n",
      "std       45933.029687\n",
      "min       10090.000000\n",
      "25%       28111.130000\n",
      "50%       53914.110000\n",
      "75%       94607.500000\n",
      "max      199990.000000\n",
      "Name: salary, dtype: float64\n",
      "\n",
      "--- role_departament ---\n",
      "count                     302\n",
      "unique                    301\n",
      "top        MaNAgeR  -  Sales \n",
      "freq                        2\n",
      "Name: role_departament, dtype: object\n",
      "\n",
      "--- remote_work ---\n",
      "count     1614\n",
      "unique       2\n",
      "top        yes\n",
      "freq      1000\n",
      "Name: remote_work, dtype: object\n"
     ]
    }
   ],
   "source": [
    "for col in df.columns:\n",
    "    print(f\"\\n--- {col} ---\")\n",
    "    print(df[col].describe(include='all'))"
   ]
  },
  {
   "cell_type": "code",
   "execution_count": 80,
   "id": "9984c422",
   "metadata": {},
   "outputs": [
    {
     "data": {
      "image/png": "[encoded data removed]",
      "text/plain": [
       "<Figure size 1500x800 with 1 Axes>"
      ]
     },
     "metadata": {},
     "output_type": "display_data"
    }
   ],
   "source": [
    "plt.figure(figsize=(15, 8))\n",
    "sns.heatmap(df.isnull(), cbar=False, cmap=\"viridis\")\n",
    "plt.title(\"Mapa de calor de valores nulos\")\n",
    "plt.show()"
   ]
  },
  {
   "cell_type": "code",
   "execution_count": 81,
   "id": "242f0e89",
   "metadata": {},
   "outputs": [
    {
     "name": "stdout",
     "output_type": "stream",
     "text": [
      "department                  81.288724\n",
      "role_departament            81.288724\n",
      "hourly_rate                 74.969021\n",
      "business_travel             47.831475\n",
      "education_field             46.158612\n",
      "overtime                    41.883519\n",
      "marital_status              40.334572\n",
      "total_working_years         32.589839\n",
      "monthly_income              28.996283\n",
      "standard_hours              20.941760\n",
      "salary                      16.976456\n",
      "performance_rating          12.081784\n",
      "work_life_balance            6.691450\n",
      "environment_satisfaction     6.195787\n",
      "dtype: float64\n"
     ]
    }
   ],
   "source": [
    "nulos_porcentaje = df.isnull().mean() * 100\n",
    "print(nulos_porcentaje[nulos_porcentaje > 0].sort_values(ascending=False))"
   ]
  },
  {
   "cell_type": "code",
   "execution_count": 82,
   "id": "ee568dd7",
   "metadata": {},
   "outputs": [
    {
     "name": "stdout",
     "output_type": "stream",
     "text": [
      "department                  81.288724\n",
      "role_departament            81.288724\n",
      "hourly_rate                 74.969021\n",
      "business_travel             47.831475\n",
      "education_field             46.158612\n",
      "overtime                    41.883519\n",
      "marital_status              40.334572\n",
      "total_working_years         32.589839\n",
      "monthly_income              28.996283\n",
      "standard_hours              20.941760\n",
      "salary                      16.976456\n",
      "performance_rating          12.081784\n",
      "work_life_balance            6.691450\n",
      "environment_satisfaction     6.195787\n",
      "dtype: float64\n"
     ]
    }
   ],
   "source": [
    "nulos_porcentaje = df.isnull().mean() * 100\n",
    "print(nulos_porcentaje[nulos_porcentaje > 0].sort_values(ascending=False))"
   ]
  },
  {
   "cell_type": "code",
   "execution_count": 83,
   "id": "e1615a92",
   "metadata": {},
   "outputs": [
    {
     "name": "stdout",
     "output_type": "stream",
     "text": [
      "==================================================\n",
      "Columna: department\n",
      "Tipo de dato: object\n",
      "Nulos: 1312 (81.29%)\n",
      "\n",
      "Frecuencia de valores:\n",
      "department\n",
      "NaN                       1312\n",
      "research_&_development     196\n",
      "sales                       91\n",
      "human_resources             15\n",
      "Name: count, dtype: int64\n",
      "==================================================\n",
      "Columna: role_departament\n",
      "Tipo de dato: object\n",
      "Nulos: 1312 (81.29%)\n",
      "\n",
      "Frecuencia de valores:\n",
      "role_departament\n",
      "NaN                                                       1312\n",
      " MaNAgeR  -  Sales                                           2\n",
      " ReseaRch scIENTisT  -  Research & Development               1\n",
      " ManufacTURInG DIRECtOR  -  Research & Development           1\n",
      " hEalthCaRe reprEseNTaTiVe  -  Research & Development        1\n",
      " SAlES exeCutive  -  Sales                                   1\n",
      " labORAtoRy tEcHNICIAN  -  Research & Development            1\n",
      " rEsEaRCh diReCtOR  -  Research & Development                1\n",
      " lAboRaToRY teChNICIan  -  Research & Development            1\n",
      " researCh SCientIsT  -  Research & Development               1\n",
      "Name: count, dtype: int64\n",
      "==================================================\n",
      "Columna: hourly_rate\n",
      "Tipo de dato: float64\n",
      "Nulos: 1210 (74.97%)\n",
      "\n",
      "Estadísticas numéricas:\n",
      "count    404.000000\n",
      "mean      83.042302\n",
      "std       57.548806\n",
      "min       13.010000\n",
      "25%       36.250000\n",
      "50%       69.530000\n",
      "75%      114.160000\n",
      "max      255.960000\n",
      "Name: hourly_rate, dtype: float64\n",
      "==================================================\n",
      "Columna: business_travel\n",
      "Tipo de dato: object\n",
      "Nulos: 772 (47.83%)\n",
      "\n",
      "Frecuencia de valores:\n",
      "business_travel\n",
      "NaN                  772\n",
      "travel_rarely        586\n",
      "travel_frequently    165\n",
      "non_travel            91\n",
      "Name: count, dtype: int64\n",
      "==================================================\n",
      "Columna: education_field\n",
      "Tipo de dato: object\n",
      "Nulos: 745 (46.16%)\n",
      "\n",
      "Frecuencia de valores:\n",
      "education_field\n",
      "NaN                 745\n",
      "life_sciences       349\n",
      "medical             276\n",
      "marketing           104\n",
      "technical_degree     69\n",
      "other                59\n",
      "human_resources      12\n",
      "Name: count, dtype: int64\n",
      "==================================================\n",
      "Columna: overtime\n",
      "Tipo de dato: object\n",
      "Nulos: 676 (41.88%)\n",
      "\n",
      "Frecuencia de valores:\n",
      "overtime\n",
      "no     682\n",
      "NaN    676\n",
      "yes    256\n",
      "Name: count, dtype: int64\n",
      "==================================================\n",
      "Columna: marital_status\n",
      "Tipo de dato: object\n",
      "Nulos: 651 (40.33%)\n",
      "\n",
      "Frecuencia de valores:\n",
      "marital_status\n",
      "NaN         651\n",
      "married     404\n",
      "single      325\n",
      "divorced    199\n",
      "marreid      35\n",
      "Name: count, dtype: int64\n",
      "==================================================\n",
      "Columna: total_working_years\n",
      "Tipo de dato: float64\n",
      "Nulos: 526 (32.59%)\n",
      "\n",
      "Estadísticas numéricas:\n",
      "count    1088.000000\n",
      "mean       11.318934\n",
      "std         7.727675\n",
      "min         0.000000\n",
      "25%         6.000000\n",
      "50%        10.000000\n",
      "75%        15.000000\n",
      "max        40.000000\n",
      "Name: total_working_years, dtype: float64\n",
      "==================================================\n",
      "Columna: monthly_income\n",
      "Tipo de dato: float64\n",
      "Nulos: 468 (29.00%)\n",
      "\n",
      "Estadísticas numéricas:\n",
      "count     1146.000000\n",
      "mean      5697.600227\n",
      "std       6234.554870\n",
      "min       1000.000000\n",
      "25%       2342.590000\n",
      "50%       4492.840000\n",
      "75%       7861.670000\n",
      "max      94083.000000\n",
      "Name: monthly_income, dtype: float64\n",
      "==================================================\n",
      "Columna: standard_hours\n",
      "Tipo de dato: object\n",
      "Nulos: 338 (20.94%)\n",
      "\n",
      "Frecuencia de valores:\n",
      "standard_hours\n",
      "part_time    888\n",
      "full_time    388\n",
      "NaN          338\n",
      "Name: count, dtype: int64\n",
      "==================================================\n",
      "Columna: salary\n",
      "Tipo de dato: float64\n",
      "Nulos: 274 (16.98%)\n",
      "\n",
      "Estadísticas numéricas:\n",
      "count      1340.000000\n",
      "mean      65245.875313\n",
      "std       45933.029687\n",
      "min       10090.000000\n",
      "25%       28111.130000\n",
      "50%       53914.110000\n",
      "75%       94607.500000\n",
      "max      199990.000000\n",
      "Name: salary, dtype: float64\n",
      "==================================================\n",
      "Columna: performance_rating\n",
      "Tipo de dato: object\n",
      "Nulos: 195 (12.08%)\n",
      "\n",
      "Frecuencia de valores:\n",
      "performance_rating\n",
      "3,0    1205\n",
      "4,0     214\n",
      "NaN     195\n",
      "Name: count, dtype: int64\n",
      "==================================================\n",
      "Columna: work_life_balance\n",
      "Tipo de dato: object\n",
      "Nulos: 108 (6.69%)\n",
      "\n",
      "Frecuencia de valores:\n",
      "work_life_balance\n",
      "good         913\n",
      "low          359\n",
      "excellent    155\n",
      "NaN          108\n",
      "very_low      79\n",
      "Name: count, dtype: int64\n",
      "==================================================\n",
      "Columna: environment_satisfaction\n",
      "Tipo de dato: object\n",
      "Nulos: 100 (6.20%)\n",
      "\n",
      "Frecuencia de valores:\n",
      "environment_satisfaction\n",
      "very_high    460\n",
      "high         459\n",
      "low          298\n",
      "medium       297\n",
      "NaN          100\n",
      "Name: count, dtype: int64\n"
     ]
    }
   ],
   "source": [
    "# Obtener columnas con nulos\n",
    "nulos = df.isnull().sum()\n",
    "nulos = nulos[nulos > 0].sort_values(ascending=False)\n",
    "\n",
    "for col in nulos.index:\n",
    "    print(\"=\"*50)\n",
    "    print(f\"Columna: {col}\")\n",
    "    print(f\"Tipo de dato: {df[col].dtype}\")\n",
    "    print(f\"Nulos: {df[col].isnull().sum()} ({df[col].isnull().mean() * 100:.2f}%)\")\n",
    "\n",
    "    # Mostrar estadísticas según tipo de dato\n",
    "    if df[col].dtype == 'object':\n",
    "        print(\"\\nFrecuencia de valores:\")\n",
    "        print(df[col].value_counts(dropna=False).head(10))\n",
    "    else:\n",
    "        print(\"\\nEstadísticas numéricas:\")\n",
    "        print(df[col].describe())\n",
    "\n",
    "    # Pausa para evaluar cada columna antes de continuar\n",
    "    input(\"\\nPresiona Enter para continuar con la siguiente columna...\")\n"
   ]
  },
  {
   "cell_type": "code",
   "execution_count": 84,
   "id": "4b4c0029",
   "metadata": {},
   "outputs": [
    {
     "data": {
      "text/plain": [
       "['age',\n",
       " 'daily_rate',\n",
       " 'distance_from_home',\n",
       " 'education',\n",
       " 'employee_number',\n",
       " 'hourly_rate',\n",
       " 'monthly_income',\n",
       " 'monthly_rate',\n",
       " 'num_companies_worked',\n",
       " 'percent_salary_hike',\n",
       " 'stock_option_level',\n",
       " 'total_working_years',\n",
       " 'training_times_last_year',\n",
       " 'years_at_company',\n",
       " 'years_since_last_promotion',\n",
       " 'years_with_curr_manager',\n",
       " 'date_birth',\n",
       " 'salary']"
      ]
     },
     "execution_count": 84,
     "metadata": {},
     "output_type": "execute_result"
    }
   ],
   "source": [
    "# Ver variables numéricas\n",
    "df.select_dtypes(include='number').columns.tolist()"
   ]
  },
  {
   "cell_type": "code",
   "execution_count": 95,
   "id": "65447b00",
   "metadata": {},
   "outputs": [
    {
     "data": {
      "text/plain": [
       "['attrition',\n",
       " 'business_travel',\n",
       " 'department',\n",
       " 'education_field',\n",
       " 'environment_satisfaction',\n",
       " 'gender',\n",
       " 'job_involvement',\n",
       " 'job_level',\n",
       " 'job_role',\n",
       " 'job_satisfaction',\n",
       " 'marital_status',\n",
       " 'overtime',\n",
       " 'performance_rating',\n",
       " 'relationship_satisfaction',\n",
       " 'standard_hours',\n",
       " 'work_life_balance',\n",
       " 'role_departament',\n",
       " 'remote_work']"
      ]
     },
     "execution_count": 95,
     "metadata": {},
     "output_type": "execute_result"
    }
   ],
   "source": [
    "# Ver variables categóricas\n",
    "df.select_dtypes(include='object').columns.tolist()"
   ]
  },
  {
   "cell_type": "code",
   "execution_count": 94,
   "id": "79e5bbc9",
   "metadata": {},
   "outputs": [
    {
     "data": {
      "text/plain": [
       "[]"
      ]
     },
     "execution_count": 94,
     "metadata": {},
     "output_type": "execute_result"
    }
   ],
   "source": [
    "# Ver variables con fechas\n",
    "df.select_dtypes(include='datetime').columns.tolist()"
   ]
  },
  {
   "cell_type": "markdown",
   "id": "8549d8c4",
   "metadata": {},
   "source": [
    "## REVISON COLUMNA A COLUMNA"
   ]
  },
  {
   "cell_type": "code",
   "execution_count": null,
   "id": "6cdbaf7a",
   "metadata": {},
   "outputs": [],
   "source": [
    "## COLUMNAS CATEGÓRICAS"
   ]
  },
  {
   "cell_type": "code",
   "execution_count": 96,
   "id": "02e7c18f",
   "metadata": {},
   "outputs": [
    {
     "name": "stdout",
     "output_type": "stream",
     "text": [
      "<class 'pandas.core.series.Series'>\n",
      "RangeIndex: 1614 entries, 0 to 1613\n",
      "Series name: attrition\n",
      "Non-Null Count  Dtype \n",
      "--------------  ----- \n",
      "1614 non-null   object\n",
      "dtypes: object(1)\n",
      "memory usage: 12.7+ KB\n",
      "attrition\n",
      "no     1355\n",
      "yes     259\n",
      "Name: count, dtype: int64\n"
     ]
    }
   ],
   "source": [
    "df[\"attrition\"].info()\n",
    "print(df[\"attrition\"].value_counts(dropna=False))"
   ]
  },
  {
   "cell_type": "code",
   "execution_count": 97,
   "id": "cc3a11bf",
   "metadata": {},
   "outputs": [
    {
     "name": "stdout",
     "output_type": "stream",
     "text": [
      "<class 'pandas.core.series.Series'>\n",
      "RangeIndex: 1614 entries, 0 to 1613\n",
      "Series name: business_travel\n",
      "Non-Null Count  Dtype \n",
      "--------------  ----- \n",
      "842 non-null    object\n",
      "dtypes: object(1)\n",
      "memory usage: 12.7+ KB\n",
      "business_travel\n",
      "NaN                  772\n",
      "travel_rarely        586\n",
      "travel_frequently    165\n",
      "non_travel            91\n",
      "Name: count, dtype: int64\n"
     ]
    }
   ],
   "source": [
    "df[\"business_travel\"].info()\n",
    "print(df[\"business_travel\"].value_counts(dropna=False))"
   ]
  },
  {
   "cell_type": "code",
   "execution_count": 98,
   "id": "54e75352",
   "metadata": {},
   "outputs": [
    {
     "name": "stdout",
     "output_type": "stream",
     "text": [
      "<class 'pandas.core.series.Series'>\n",
      "RangeIndex: 1614 entries, 0 to 1613\n",
      "Series name: department\n",
      "Non-Null Count  Dtype \n",
      "--------------  ----- \n",
      "302 non-null    object\n",
      "dtypes: object(1)\n",
      "memory usage: 12.7+ KB\n",
      "department\n",
      "NaN                       1312\n",
      "research_&_development     196\n",
      "sales                       91\n",
      "human_resources             15\n",
      "Name: count, dtype: int64\n"
     ]
    }
   ],
   "source": [
    "df[\"department\"].info()\n",
    "print(df[\"department\"].value_counts(dropna=False))"
   ]
  },
  {
   "cell_type": "code",
   "execution_count": 99,
   "id": "e7a07ffb",
   "metadata": {},
   "outputs": [
    {
     "name": "stdout",
     "output_type": "stream",
     "text": [
      "<class 'pandas.core.series.Series'>\n",
      "RangeIndex: 1614 entries, 0 to 1613\n",
      "Series name: education_field\n",
      "Non-Null Count  Dtype \n",
      "--------------  ----- \n",
      "869 non-null    object\n",
      "dtypes: object(1)\n",
      "memory usage: 12.7+ KB\n",
      "education_field\n",
      "NaN                 745\n",
      "life_sciences       349\n",
      "medical             276\n",
      "marketing           104\n",
      "technical_degree     69\n",
      "other                59\n",
      "human_resources      12\n",
      "Name: count, dtype: int64\n"
     ]
    }
   ],
   "source": [
    "df[\"education_field\"].info()\n",
    "print(df[\"education_field\"].value_counts(dropna=False))"
   ]
  },
  {
   "cell_type": "code",
   "execution_count": 100,
   "id": "9fd91e78",
   "metadata": {},
   "outputs": [
    {
     "name": "stdout",
     "output_type": "stream",
     "text": [
      "<class 'pandas.core.series.Series'>\n",
      "RangeIndex: 1614 entries, 0 to 1613\n",
      "Series name: job_role\n",
      "Non-Null Count  Dtype \n",
      "--------------  ----- \n",
      "1614 non-null   object\n",
      "dtypes: object(1)\n",
      "memory usage: 12.7+ KB\n",
      "job_role\n",
      "sales_executive              369\n",
      "research_scientist           314\n",
      "laboratory_technician        278\n",
      "manufacturing_director       158\n",
      "healthcare_representative    149\n",
      "manager                      111\n",
      "sales_representative          90\n",
      "research_director             88\n",
      "human_resources               57\n",
      "Name: count, dtype: int64\n"
     ]
    }
   ],
   "source": [
    "df[\"job_role\"].info()\n",
    "print(df[\"job_role\"].value_counts(dropna=False))"
   ]
  },
  {
   "cell_type": "code",
   "execution_count": 101,
   "id": "344e10bf",
   "metadata": {},
   "outputs": [
    {
     "name": "stdout",
     "output_type": "stream",
     "text": [
      "<class 'pandas.core.series.Series'>\n",
      "RangeIndex: 1614 entries, 0 to 1613\n",
      "Series name: marital_status\n",
      "Non-Null Count  Dtype \n",
      "--------------  ----- \n",
      "963 non-null    object\n",
      "dtypes: object(1)\n",
      "memory usage: 12.7+ KB\n",
      "marital_status\n",
      "NaN         651\n",
      "married     404\n",
      "single      325\n",
      "divorced    199\n",
      "marreid      35\n",
      "Name: count, dtype: int64\n"
     ]
    }
   ],
   "source": [
    "df[\"marital_status\"].info()\n",
    "print(df[\"marital_status\"].value_counts(dropna=False))"
   ]
  },
  {
   "cell_type": "code",
   "execution_count": 102,
   "id": "187f940a",
   "metadata": {},
   "outputs": [
    {
     "name": "stdout",
     "output_type": "stream",
     "text": [
      "<class 'pandas.core.series.Series'>\n",
      "RangeIndex: 1614 entries, 0 to 1613\n",
      "Series name: overtime\n",
      "Non-Null Count  Dtype \n",
      "--------------  ----- \n",
      "938 non-null    object\n",
      "dtypes: object(1)\n",
      "memory usage: 12.7+ KB\n",
      "overtime\n",
      "no     682\n",
      "NaN    676\n",
      "yes    256\n",
      "Name: count, dtype: int64\n"
     ]
    }
   ],
   "source": [
    "df[\"overtime\"].info()\n",
    "print(df[\"overtime\"].value_counts(dropna=False))"
   ]
  },
  {
   "cell_type": "code",
   "execution_count": 103,
   "id": "ae7433c4",
   "metadata": {},
   "outputs": [
    {
     "name": "stdout",
     "output_type": "stream",
     "text": [
      "<class 'pandas.core.series.Series'>\n",
      "RangeIndex: 1614 entries, 0 to 1613\n",
      "Series name: performance_rating\n",
      "Non-Null Count  Dtype \n",
      "--------------  ----- \n",
      "1419 non-null   object\n",
      "dtypes: object(1)\n",
      "memory usage: 12.7+ KB\n",
      "performance_rating\n",
      "3,0    1205\n",
      "4,0     214\n",
      "NaN     195\n",
      "Name: count, dtype: int64\n"
     ]
    }
   ],
   "source": [
    "df[\"performance_rating\"].info()\n",
    "print(df[\"performance_rating\"].value_counts(dropna=False))"
   ]
  },
  {
   "cell_type": "code",
   "execution_count": 104,
   "id": "49194729",
   "metadata": {},
   "outputs": [
    {
     "name": "stdout",
     "output_type": "stream",
     "text": [
      "<class 'pandas.core.series.Series'>\n",
      "RangeIndex: 1614 entries, 0 to 1613\n",
      "Series name: standard_hours\n",
      "Non-Null Count  Dtype \n",
      "--------------  ----- \n",
      "1276 non-null   object\n",
      "dtypes: object(1)\n",
      "memory usage: 12.7+ KB\n",
      "standard_hours\n",
      "part_time    888\n",
      "full_time    388\n",
      "NaN          338\n",
      "Name: count, dtype: int64\n"
     ]
    }
   ],
   "source": [
    "df[\"standard_hours\"].info()\n",
    "print(df[\"standard_hours\"].value_counts(dropna=False))"
   ]
  },
  {
   "cell_type": "code",
   "execution_count": 105,
   "id": "bd7d612d",
   "metadata": {},
   "outputs": [
    {
     "name": "stdout",
     "output_type": "stream",
     "text": [
      "<class 'pandas.core.series.Series'>\n",
      "RangeIndex: 1614 entries, 0 to 1613\n",
      "Series name: work_life_balance\n",
      "Non-Null Count  Dtype \n",
      "--------------  ----- \n",
      "1506 non-null   object\n",
      "dtypes: object(1)\n",
      "memory usage: 12.7+ KB\n",
      "work_life_balance\n",
      "good         913\n",
      "low          359\n",
      "excellent    155\n",
      "NaN          108\n",
      "very_low      79\n",
      "Name: count, dtype: int64\n"
     ]
    }
   ],
   "source": [
    "df[\"work_life_balance\"].info()\n",
    "print(df[\"work_life_balance\"].value_counts(dropna=False))"
   ]
  },
  {
   "cell_type": "code",
   "execution_count": 106,
   "id": "f46aa20d",
   "metadata": {},
   "outputs": [
    {
     "name": "stdout",
     "output_type": "stream",
     "text": [
      "<class 'pandas.core.series.Series'>\n",
      "RangeIndex: 1614 entries, 0 to 1613\n",
      "Series name: role_departament\n",
      "Non-Null Count  Dtype \n",
      "--------------  ----- \n",
      "302 non-null    object\n",
      "dtypes: object(1)\n",
      "memory usage: 12.7+ KB\n",
      "role_departament\n",
      "NaN                                                       1312\n",
      " MaNAgeR  -  Sales                                           2\n",
      " ReseaRch scIENTisT  -  Research & Development               1\n",
      " ManufacTURInG DIRECtOR  -  Research & Development           1\n",
      " hEalthCaRe reprEseNTaTiVe  -  Research & Development        1\n",
      "                                                          ... \n",
      " saLES eXEcUTiVE  -  Sales                                   1\n",
      " mANUfacTURiNG dIRectOR  -  Research & Development           1\n",
      " huMAn ResOurces  -  Human Resources                         1\n",
      " HUMAN ResoURCeS  -  Human Resources                         1\n",
      " sAleS EXECUtIvE  -  Sales                                   1\n",
      "Name: count, Length: 302, dtype: int64\n"
     ]
    }
   ],
   "source": [
    "df[\"role_departament\"].info()\n",
    "print(df[\"role_departament\"].value_counts(dropna=False))"
   ]
  },
  {
   "cell_type": "code",
   "execution_count": 107,
   "id": "b88b34ce",
   "metadata": {},
   "outputs": [
    {
     "name": "stdout",
     "output_type": "stream",
     "text": [
      "<class 'pandas.core.series.Series'>\n",
      "RangeIndex: 1614 entries, 0 to 1613\n",
      "Series name: remote_work\n",
      "Non-Null Count  Dtype \n",
      "--------------  ----- \n",
      "1614 non-null   object\n",
      "dtypes: object(1)\n",
      "memory usage: 12.7+ KB\n",
      "remote_work\n",
      "yes    1000\n",
      "no      614\n",
      "Name: count, dtype: int64\n"
     ]
    }
   ],
   "source": [
    "df[\"remote_work\"].info()\n",
    "print(df[\"remote_work\"].value_counts(dropna=False))"
   ]
  },
  {
   "cell_type": "code",
   "execution_count": 108,
   "id": "7cb0a92a",
   "metadata": {},
   "outputs": [
    {
     "name": "stdout",
     "output_type": "stream",
     "text": [
      "<class 'pandas.core.series.Series'>\n",
      "RangeIndex: 1614 entries, 0 to 1613\n",
      "Series name: environment_satisfaction\n",
      "Non-Null Count  Dtype \n",
      "--------------  ----- \n",
      "1514 non-null   object\n",
      "dtypes: object(1)\n",
      "memory usage: 12.7+ KB\n",
      "environment_satisfaction\n",
      "very_high    460\n",
      "high         459\n",
      "low          298\n",
      "medium       297\n",
      "NaN          100\n",
      "Name: count, dtype: int64\n"
     ]
    }
   ],
   "source": [
    "df[\"environment_satisfaction\"].info()\n",
    "print(df[\"environment_satisfaction\"].value_counts(dropna=False))"
   ]
  },
  {
   "cell_type": "code",
   "execution_count": 109,
   "id": "fc6a4b60",
   "metadata": {},
   "outputs": [
    {
     "name": "stdout",
     "output_type": "stream",
     "text": [
      "<class 'pandas.core.series.Series'>\n",
      "RangeIndex: 1614 entries, 0 to 1613\n",
      "Series name: gender\n",
      "Non-Null Count  Dtype \n",
      "--------------  ----- \n",
      "1614 non-null   object\n",
      "dtypes: object(1)\n",
      "memory usage: 12.7+ KB\n",
      "gender\n",
      "female    971\n",
      "male      643\n",
      "Name: count, dtype: int64\n"
     ]
    }
   ],
   "source": [
    "df[\"gender\"].info()\n",
    "print(df[\"gender\"].value_counts(dropna=False))"
   ]
  },
  {
   "cell_type": "code",
   "execution_count": 110,
   "id": "97752095",
   "metadata": {},
   "outputs": [
    {
     "name": "stdout",
     "output_type": "stream",
     "text": [
      "<class 'pandas.core.series.Series'>\n",
      "RangeIndex: 1614 entries, 0 to 1613\n",
      "Series name: job_involvement\n",
      "Non-Null Count  Dtype \n",
      "--------------  ----- \n",
      "1614 non-null   object\n",
      "dtypes: object(1)\n",
      "memory usage: 12.7+ KB\n",
      "job_involvement\n",
      "high         955\n",
      "medium       406\n",
      "very_high    164\n",
      "low           89\n",
      "Name: count, dtype: int64\n"
     ]
    }
   ],
   "source": [
    "df[\"job_involvement\"].info()\n",
    "print(df[\"job_involvement\"].value_counts(dropna=False))"
   ]
  },
  {
   "cell_type": "code",
   "execution_count": 111,
   "id": "9bf286a0",
   "metadata": {},
   "outputs": [
    {
     "name": "stdout",
     "output_type": "stream",
     "text": [
      "<class 'pandas.core.series.Series'>\n",
      "RangeIndex: 1614 entries, 0 to 1613\n",
      "Series name: job_level\n",
      "Non-Null Count  Dtype \n",
      "--------------  ----- \n",
      "1614 non-null   object\n",
      "dtypes: object(1)\n",
      "memory usage: 12.7+ KB\n",
      "job_level\n",
      "intermediate    597\n",
      "entry_level     586\n",
      "senior          242\n",
      "manager         113\n",
      "executive        76\n",
      "Name: count, dtype: int64\n"
     ]
    }
   ],
   "source": [
    "df[\"job_level\"].info()\n",
    "print(df[\"job_level\"].value_counts(dropna=False))"
   ]
  },
  {
   "cell_type": "code",
   "execution_count": 113,
   "id": "3df24b55",
   "metadata": {},
   "outputs": [
    {
     "name": "stdout",
     "output_type": "stream",
     "text": [
      "<class 'pandas.core.series.Series'>\n",
      "RangeIndex: 1614 entries, 0 to 1613\n",
      "Series name: relationship_satisfaction\n",
      "Non-Null Count  Dtype \n",
      "--------------  ----- \n",
      "1614 non-null   object\n",
      "dtypes: object(1)\n",
      "memory usage: 12.7+ KB\n",
      "relationship_satisfaction\n",
      "high         504\n",
      "very_high    468\n",
      "medium       339\n",
      "low          303\n",
      "Name: count, dtype: int64\n"
     ]
    }
   ],
   "source": [
    "df[\"relationship_satisfaction\"].info()\n",
    "print(df[\"relationship_satisfaction\"].value_counts(dropna=False))"
   ]
  },
  {
   "cell_type": "code",
   "execution_count": null,
   "id": "51874ba1",
   "metadata": {},
   "outputs": [],
   "source": [
    "## COLUMNAS NUMÉRICAS"
   ]
  },
  {
   "cell_type": "code",
   "execution_count": 115,
   "id": "0c03d654",
   "metadata": {},
   "outputs": [
    {
     "data": {
      "text/plain": [
       "count    1614.000000\n",
       "mean      669.632150\n",
       "std       472.352414\n",
       "min       104.100000\n",
       "25%       290.040000\n",
       "50%       556.260000\n",
       "75%       967.315000\n",
       "max      2063.390000\n",
       "Name: daily_rate, dtype: float64"
      ]
     },
     "execution_count": 115,
     "metadata": {},
     "output_type": "execute_result"
    }
   ],
   "source": [
    "df[\"daily_rate\"].describe()"
   ]
  },
  {
   "cell_type": "code",
   "execution_count": 116,
   "id": "d1480c4b",
   "metadata": {},
   "outputs": [
    {
     "data": {
      "text/plain": [
       "count    1614.000000\n",
       "mean       11.141884\n",
       "std        10.450560\n",
       "min         1.000000\n",
       "25%         2.000000\n",
       "50%         8.000000\n",
       "75%        17.000000\n",
       "max        49.000000\n",
       "Name: distance_from_home, dtype: float64"
      ]
     },
     "execution_count": 116,
     "metadata": {},
     "output_type": "execute_result"
    }
   ],
   "source": [
    "df[\"distance_from_home\"].describe()"
   ]
  },
  {
   "cell_type": "code",
   "execution_count": 117,
   "id": "bfb7da3a",
   "metadata": {},
   "outputs": [
    {
     "data": {
      "text/plain": [
       "count    1614.000000\n",
       "mean        2.925031\n",
       "std         1.022357\n",
       "min         1.000000\n",
       "25%         2.000000\n",
       "50%         3.000000\n",
       "75%         4.000000\n",
       "max         5.000000\n",
       "Name: education, dtype: float64"
      ]
     },
     "execution_count": 117,
     "metadata": {},
     "output_type": "execute_result"
    }
   ],
   "source": [
    "df[\"education\"].describe()"
   ]
  },
  {
   "cell_type": "code",
   "execution_count": 119,
   "id": "3567d0aa",
   "metadata": {},
   "outputs": [
    {
     "data": {
      "text/plain": [
       "count    1614.000000\n",
       "mean      807.500000\n",
       "std       466.065982\n",
       "min         1.000000\n",
       "25%       404.250000\n",
       "50%       807.500000\n",
       "75%      1210.750000\n",
       "max      1614.000000\n",
       "Name: employee_number, dtype: float64"
      ]
     },
     "execution_count": 119,
     "metadata": {},
     "output_type": "execute_result"
    }
   ],
   "source": [
    "df[\"employee_number\"].describe()"
   ]
  },
  {
   "cell_type": "code",
   "execution_count": 120,
   "id": "4f350f1e",
   "metadata": {},
   "outputs": [
    {
     "data": {
      "text/plain": [
       "count    404.000000\n",
       "mean      83.042302\n",
       "std       57.548806\n",
       "min       13.010000\n",
       "25%       36.250000\n",
       "50%       69.530000\n",
       "75%      114.160000\n",
       "max      255.960000\n",
       "Name: hourly_rate, dtype: float64"
      ]
     },
     "execution_count": 120,
     "metadata": {},
     "output_type": "execute_result"
    }
   ],
   "source": [
    "df[\"hourly_rate\"].describe()"
   ]
  },
  {
   "cell_type": "code",
   "execution_count": 122,
   "id": "9e5d8d65",
   "metadata": {},
   "outputs": [
    {
     "data": {
      "text/plain": [
       "count    1614.000000\n",
       "mean        2.673482\n",
       "std         2.506152\n",
       "min         0.000000\n",
       "25%         1.000000\n",
       "50%         2.000000\n",
       "75%         4.000000\n",
       "max         9.000000\n",
       "Name: num_companies_worked, dtype: float64"
      ]
     },
     "execution_count": 122,
     "metadata": {},
     "output_type": "execute_result"
    }
   ],
   "source": [
    "df[\"num_companies_worked\"].describe()"
   ]
  },
  {
   "cell_type": "code",
   "execution_count": 123,
   "id": "f86d72c6",
   "metadata": {},
   "outputs": [
    {
     "data": {
      "text/plain": [
       "count    1614.000000\n",
       "mean       15.165428\n",
       "std         3.648610\n",
       "min        11.000000\n",
       "25%        12.000000\n",
       "50%        14.000000\n",
       "75%        18.000000\n",
       "max        25.000000\n",
       "Name: percent_salary_hike, dtype: float64"
      ]
     },
     "execution_count": 123,
     "metadata": {},
     "output_type": "execute_result"
    }
   ],
   "source": [
    "df[\"percent_salary_hike\"].describe()"
   ]
  },
  {
   "cell_type": "code",
   "execution_count": 124,
   "id": "762e9611",
   "metadata": {},
   "outputs": [
    {
     "data": {
      "text/plain": [
       "count    1614.000000\n",
       "mean        0.791202\n",
       "std         0.842396\n",
       "min         0.000000\n",
       "25%         0.000000\n",
       "50%         1.000000\n",
       "75%         1.000000\n",
       "max         3.000000\n",
       "Name: stock_option_level, dtype: float64"
      ]
     },
     "execution_count": 124,
     "metadata": {},
     "output_type": "execute_result"
    }
   ],
   "source": [
    "df[\"stock_option_level\"].describe()"
   ]
  },
  {
   "cell_type": "code",
   "execution_count": 125,
   "id": "d7f93af2",
   "metadata": {},
   "outputs": [
    {
     "data": {
      "text/plain": [
       "count    1614.000000\n",
       "mean        2.809789\n",
       "std         1.297765\n",
       "min         0.000000\n",
       "25%         2.000000\n",
       "50%         3.000000\n",
       "75%         3.000000\n",
       "max         6.000000\n",
       "Name: training_times_last_year, dtype: float64"
      ]
     },
     "execution_count": 125,
     "metadata": {},
     "output_type": "execute_result"
    }
   ],
   "source": [
    "df[\"training_times_last_year\"].describe()"
   ]
  },
  {
   "cell_type": "code",
   "execution_count": 126,
   "id": "2d7fe93a",
   "metadata": {},
   "outputs": [
    {
     "data": {
      "text/plain": [
       "count    1614.000000\n",
       "mean        7.132590\n",
       "std         6.124237\n",
       "min         0.000000\n",
       "25%         3.000000\n",
       "50%         5.000000\n",
       "75%         9.000000\n",
       "max        40.000000\n",
       "Name: years_at_company, dtype: float64"
      ]
     },
     "execution_count": 126,
     "metadata": {},
     "output_type": "execute_result"
    }
   ],
   "source": [
    "df[\"years_at_company\"].describe()"
   ]
  },
  {
   "cell_type": "code",
   "execution_count": 127,
   "id": "cc2ea4af",
   "metadata": {},
   "outputs": [
    {
     "data": {
      "text/plain": [
       "count    1614.000000\n",
       "mean        2.245973\n",
       "std         3.235665\n",
       "min         0.000000\n",
       "25%         0.000000\n",
       "50%         1.000000\n",
       "75%         3.000000\n",
       "max        15.000000\n",
       "Name: years_since_last_promotion, dtype: float64"
      ]
     },
     "execution_count": 127,
     "metadata": {},
     "output_type": "execute_result"
    }
   ],
   "source": [
    "df[\"years_since_last_promotion\"].describe()"
   ]
  },
  {
   "cell_type": "code",
   "execution_count": 128,
   "id": "abfea8a8",
   "metadata": {},
   "outputs": [
    {
     "data": {
      "text/plain": [
       "count    1614.000000\n",
       "mean        4.220570\n",
       "std         3.562695\n",
       "min         0.000000\n",
       "25%         2.000000\n",
       "50%         3.000000\n",
       "75%         7.000000\n",
       "max        17.000000\n",
       "Name: years_with_curr_manager, dtype: float64"
      ]
     },
     "execution_count": 128,
     "metadata": {},
     "output_type": "execute_result"
    }
   ],
   "source": [
    "df[\"years_with_curr_manager\"].describe()"
   ]
  },
  {
   "cell_type": "code",
   "execution_count": 129,
   "id": "e7966bde",
   "metadata": {},
   "outputs": [
    {
     "data": {
      "text/plain": [
       "count    1614.000000\n",
       "mean     1986.076208\n",
       "std         9.101332\n",
       "min      1963.000000\n",
       "25%      1980.000000\n",
       "50%      1987.000000\n",
       "75%      1993.000000\n",
       "max      2005.000000\n",
       "Name: date_birth, dtype: float64"
      ]
     },
     "execution_count": 129,
     "metadata": {},
     "output_type": "execute_result"
    }
   ],
   "source": [
    "df[\"date_birth\"].describe()"
   ]
  },
  {
   "cell_type": "code",
   "execution_count": 130,
   "id": "47d7b26f",
   "metadata": {},
   "outputs": [
    {
     "data": {
      "text/plain": [
       "count    1614.000000\n",
       "mean       36.920694\n",
       "std         9.102157\n",
       "min        18.000000\n",
       "25%        30.000000\n",
       "50%        36.000000\n",
       "75%        43.000000\n",
       "max        60.000000\n",
       "Name: age, dtype: float64"
      ]
     },
     "execution_count": 130,
     "metadata": {},
     "output_type": "execute_result"
    }
   ],
   "source": [
    "df[\"age\"].describe()"
   ]
  },
  {
   "cell_type": "code",
   "execution_count": 131,
   "id": "8dad585e",
   "metadata": {},
   "outputs": [
    {
     "data": {
      "text/plain": [
       "count     1146.000000\n",
       "mean      5697.600227\n",
       "std       6234.554870\n",
       "min       1000.000000\n",
       "25%       2342.590000\n",
       "50%       4492.840000\n",
       "75%       7861.670000\n",
       "max      94083.000000\n",
       "Name: monthly_income, dtype: float64"
      ]
     },
     "execution_count": 131,
     "metadata": {},
     "output_type": "execute_result"
    }
   ],
   "source": [
    "df[\"monthly_income\"].describe()"
   ]
  },
  {
   "cell_type": "code",
   "execution_count": 132,
   "id": "bdf4e5d4",
   "metadata": {},
   "outputs": [
    {
     "data": {
      "text/plain": [
       "count     1614.000000\n",
       "mean     14062.244901\n",
       "std       9919.419454\n",
       "min       2186.170000\n",
       "25%       6090.750000\n",
       "50%      11681.390000\n",
       "75%      20313.580000\n",
       "max      43331.170000\n",
       "Name: monthly_rate, dtype: float64"
      ]
     },
     "execution_count": 132,
     "metadata": {},
     "output_type": "execute_result"
    }
   ],
   "source": [
    "df[\"monthly_rate\"].describe()"
   ]
  },
  {
   "cell_type": "code",
   "execution_count": 133,
   "id": "485cd441",
   "metadata": {},
   "outputs": [
    {
     "data": {
      "text/plain": [
       "count    1088.000000\n",
       "mean       11.318934\n",
       "std         7.727675\n",
       "min         0.000000\n",
       "25%         6.000000\n",
       "50%        10.000000\n",
       "75%        15.000000\n",
       "max        40.000000\n",
       "Name: total_working_years, dtype: float64"
      ]
     },
     "execution_count": 133,
     "metadata": {},
     "output_type": "execute_result"
    }
   ],
   "source": [
    "df[\"total_working_years\"].describe()"
   ]
  },
  {
   "cell_type": "code",
   "execution_count": 134,
   "id": "8caee440",
   "metadata": {},
   "outputs": [
    {
     "data": {
      "text/plain": [
       "count      1340.000000\n",
       "mean      65245.875313\n",
       "std       45933.029687\n",
       "min       10090.000000\n",
       "25%       28111.130000\n",
       "50%       53914.110000\n",
       "75%       94607.500000\n",
       "max      199990.000000\n",
       "Name: salary, dtype: float64"
      ]
     },
     "execution_count": 134,
     "metadata": {},
     "output_type": "execute_result"
    }
   ],
   "source": [
    "df[\"salary\"].describe()"
   ]
  },
  {
   "cell_type": "code",
   "execution_count": 135,
   "id": "17bfc6a7",
   "metadata": {},
   "outputs": [
    {
     "data": {
      "image/png": "[encoded data removed]",
      "text/plain": [
       "<Figure size 640x480 with 1 Axes>"
      ]
     },
     "metadata": {},
     "output_type": "display_data"
    }
   ],
   "source": [
    "# Histograma\n",
    "plt.hist(df[\"salary\"].dropna(), bins=30)\n",
    "plt.title(\"Distribución de 'salary'\")\n",
    "plt.xlabel(\"Salario\")\n",
    "plt.ylabel(\"Frecuencia\")\n",
    "plt.show()"
   ]
  },
  {
   "cell_type": "code",
   "execution_count": 136,
   "id": "f7b07230",
   "metadata": {},
   "outputs": [
    {
     "data": {
      "image/png": "[encoded data removed]",
      "text/plain": [
       "<Figure size 640x480 with 1 Axes>"
      ]
     },
     "metadata": {},
     "output_type": "display_data"
    }
   ],
   "source": [
    "# Boxplot\n",
    "plt.boxplot(df[\"salary\"].dropna())\n",
    "plt.title(\"Boxplot de 'salary'\")\n",
    "plt.show()"
   ]
  }
 ],
 "metadata": {
  "kernelspec": {
   "display_name": "base",
   "language": "python",
   "name": "python3"
  },
  "language_info": {
   "codemirror_mode": {
    "name": "ipython",
    "version": 3
   },
   "file_extension": ".py",
   "mimetype": "text/x-python",
   "name": "python",
   "nbconvert_exporter": "python",
   "pygments_lexer": "ipython3",
   "version": "3.12.7"
  }
 },
 "nbformat": 4,
 "nbformat_minor": 5
}
