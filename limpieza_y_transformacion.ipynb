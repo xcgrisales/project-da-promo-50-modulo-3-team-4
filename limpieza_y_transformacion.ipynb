{
 "cells": [
  {
   "cell_type": "code",
   "execution_count": 1,
   "id": "6a79fcb6",
   "metadata": {},
   "outputs": [],
   "source": [
    "# Importamos las librerías que necesitamos\n",
    "\n",
    "# Tratamiento de datos\n",
    "import pandas as pd\n",
    "import numpy as np\n",
    "\n",
    "# Visualización\n",
    "import matplotlib.pyplot as plt\n",
    "import seaborn as sns\n",
    "\n",
    "# Ocultamos las advertencias para evitar mensajes innecesarios\n",
    "import warnings\n",
    "warnings.filterwarnings(\"ignore\")\n",
    "\n",
    "# Configuración\n",
    "pd.set_option('display.max_columns', None) # para poder visualizar todas las columnas de los DataFrames"
   ]
  },
  {
   "cell_type": "code",
   "execution_count": 2,
   "id": "7a64540b",
   "metadata": {},
   "outputs": [
    {
     "data": {
      "application/vnd.microsoft.datawrangler.viewer.v0+json": {
       "columns": [
        {
         "name": "index",
         "rawType": "int64",
         "type": "integer"
        },
        {
         "name": "Unnamed: 0",
         "rawType": "int64",
         "type": "integer"
        },
        {
         "name": "age",
         "rawType": "object",
         "type": "string"
        },
        {
         "name": "attrition",
         "rawType": "object",
         "type": "string"
        },
        {
         "name": "businesstravel",
         "rawType": "object",
         "type": "unknown"
        },
        {
         "name": "dailyrate",
         "rawType": "float64",
         "type": "float"
        },
        {
         "name": "department",
         "rawType": "object",
         "type": "unknown"
        },
        {
         "name": "distancefromhome",
         "rawType": "int64",
         "type": "integer"
        },
        {
         "name": "education",
         "rawType": "int64",
         "type": "integer"
        },
        {
         "name": "educationfield",
         "rawType": "object",
         "type": "unknown"
        },
        {
         "name": "employeecount",
         "rawType": "int64",
         "type": "integer"
        },
        {
         "name": "employeenumber",
         "rawType": "int64",
         "type": "integer"
        },
        {
         "name": "environmentsatisfaction",
         "rawType": "int64",
         "type": "integer"
        },
        {
         "name": "gender",
         "rawType": "int64",
         "type": "integer"
        },
        {
         "name": "hourlyrate",
         "rawType": "float64",
         "type": "float"
        },
        {
         "name": "jobinvolvement",
         "rawType": "int64",
         "type": "integer"
        },
        {
         "name": "joblevel",
         "rawType": "int64",
         "type": "integer"
        },
        {
         "name": "jobrole",
         "rawType": "object",
         "type": "string"
        },
        {
         "name": "jobsatisfaction",
         "rawType": "int64",
         "type": "integer"
        },
        {
         "name": "maritalstatus",
         "rawType": "object",
         "type": "unknown"
        },
        {
         "name": "monthlyincome",
         "rawType": "object",
         "type": "unknown"
        },
        {
         "name": "monthlyrate",
         "rawType": "object",
         "type": "string"
        },
        {
         "name": "numcompaniesworked",
         "rawType": "int64",
         "type": "integer"
        },
        {
         "name": "over18",
         "rawType": "object",
         "type": "unknown"
        },
        {
         "name": "overtime",
         "rawType": "object",
         "type": "unknown"
        },
        {
         "name": "percentsalaryhike",
         "rawType": "int64",
         "type": "integer"
        },
        {
         "name": "performancerating",
         "rawType": "object",
         "type": "string"
        },
        {
         "name": "relationshipsatisfaction",
         "rawType": "int64",
         "type": "integer"
        },
        {
         "name": "standardhours",
         "rawType": "object",
         "type": "unknown"
        },
        {
         "name": "stockoptionlevel",
         "rawType": "int64",
         "type": "integer"
        },
        {
         "name": "totalworkingyears",
         "rawType": "object",
         "type": "unknown"
        },
        {
         "name": "trainingtimeslastyear",
         "rawType": "int64",
         "type": "integer"
        },
        {
         "name": "worklifebalance",
         "rawType": "object",
         "type": "unknown"
        },
        {
         "name": "yearsatcompany",
         "rawType": "int64",
         "type": "integer"
        },
        {
         "name": "yearsincurrentrole",
         "rawType": "object",
         "type": "unknown"
        },
        {
         "name": "yearssincelastpromotion",
         "rawType": "int64",
         "type": "integer"
        },
        {
         "name": "yearswithcurrmanager",
         "rawType": "int64",
         "type": "integer"
        },
        {
         "name": "sameasmonthlyincome",
         "rawType": "object",
         "type": "unknown"
        },
        {
         "name": "datebirth",
         "rawType": "int64",
         "type": "integer"
        },
        {
         "name": "salary",
         "rawType": "object",
         "type": "unknown"
        },
        {
         "name": "roledepartament",
         "rawType": "object",
         "type": "unknown"
        },
        {
         "name": "numberchildren",
         "rawType": "float64",
         "type": "float"
        },
        {
         "name": "remotework",
         "rawType": "object",
         "type": "string"
        }
       ],
       "ref": "f2d0ef96-5fe5-45e2-9c2e-ef58d1c65615",
       "rows": [
        [
         "0",
         "0",
         "51",
         "No",
         null,
         "2015.7222222222224",
         null,
         "6",
         "3",
         null,
         "1",
         "1",
         "1",
         "0",
         null,
         "3",
         "5",
         " resEArch DIREcToR ",
         "3",
         null,
         "16280,83$",
         "42330,17$",
         "7",
         "Y",
         "No",
         "13",
         "3,0",
         "3",
         "Full Time",
         "0",
         null,
         "5",
         "3,0",
         "20",
         null,
         "15",
         "15",
         "16280,83$",
         "1972",
         "195370,00$",
         null,
         null,
         "Yes"
        ],
        [
         "1",
         "1",
         "52",
         "No",
         null,
         "2063.3888888888887",
         null,
         "1",
         "4",
         "Life Sciences",
         "1",
         "2",
         "3",
         "0",
         null,
         "2",
         "5",
         " ManAGeR ",
         "3",
         null,
         null,
         "43331,17$",
         "0",
         null,
         null,
         "14",
         "3,0",
         "1",
         null,
         "1",
         "34,0",
         "5",
         "3,0",
         "33",
         null,
         "11",
         "9",
         null,
         "1971",
         "199990,00$",
         null,
         null,
         "1"
        ],
        [
         "2",
         "2",
         "42",
         "No",
         "travel_rarely",
         "1984.253968253968",
         " Research & Development ",
         "4",
         "2",
         "Technical Degree",
         "1",
         "3",
         "3",
         "0",
         null,
         "3",
         "5",
         " ManaGER ",
         "4",
         "Married",
         null,
         "41669,33$",
         "1",
         null,
         "No",
         "11",
         "3,0",
         "4",
         null,
         "0",
         "22,0",
         "3",
         null,
         "22",
         null,
         "11",
         "15",
         null,
         "1981",
         "192320,00$",
         " ManaGER  -  Research & Development ",
         null,
         "1"
        ],
        [
         "3",
         "3",
         "47",
         "No",
         "travel_rarely",
         "1771.4047619047622",
         null,
         "2",
         "4",
         "Medical",
         "1",
         "4",
         "1",
         "1",
         null,
         "3",
         "4",
         " ReseArCH DIrECtOr ",
         "3",
         "Married",
         "14307,50$",
         "37199,50$",
         "3",
         "Y",
         null,
         "19",
         "3,0",
         "2",
         "Full Time",
         "2",
         null,
         "2",
         null,
         "20",
         null,
         "5",
         "6",
         "14307,50$",
         "1976",
         "171690,00$",
         null,
         null,
         "False"
        ],
        [
         "4",
         "4",
         "46",
         "No",
         null,
         "1582.7713464696226",
         null,
         "3",
         "3",
         "Technical Degree",
         "1",
         "5",
         "1",
         "1",
         null,
         "4",
         "4",
         " sAleS EXECUtIve ",
         "1",
         "Divorced",
         "12783,92$",
         "33238,20$",
         "2",
         "Y",
         "No",
         "12",
         "3,0",
         "4",
         null,
         "1",
         null,
         "5",
         "3,0",
         "19",
         null,
         "2",
         "8",
         "12783,92$",
         "1977",
         null,
         null,
         null,
         "0"
        ]
       ],
       "shape": {
        "columns": 42,
        "rows": 5
       }
      },
      "text/html": [
       "<div>\n",
       "<style scoped>\n",
       "    .dataframe tbody tr th:only-of-type {\n",
       "        vertical-align: middle;\n",
       "    }\n",
       "\n",
       "    .dataframe tbody tr th {\n",
       "        vertical-align: top;\n",
       "    }\n",
       "\n",
       "    .dataframe thead th {\n",
       "        text-align: right;\n",
       "    }\n",
       "</style>\n",
       "<table border=\"1\" class=\"dataframe\">\n",
       "  <thead>\n",
       "    <tr style=\"text-align: right;\">\n",
       "      <th></th>\n",
       "      <th>Unnamed: 0</th>\n",
       "      <th>age</th>\n",
       "      <th>attrition</th>\n",
       "      <th>businesstravel</th>\n",
       "      <th>dailyrate</th>\n",
       "      <th>department</th>\n",
       "      <th>distancefromhome</th>\n",
       "      <th>education</th>\n",
       "      <th>educationfield</th>\n",
       "      <th>employeecount</th>\n",
       "      <th>employeenumber</th>\n",
       "      <th>environmentsatisfaction</th>\n",
       "      <th>gender</th>\n",
       "      <th>hourlyrate</th>\n",
       "      <th>jobinvolvement</th>\n",
       "      <th>joblevel</th>\n",
       "      <th>jobrole</th>\n",
       "      <th>jobsatisfaction</th>\n",
       "      <th>maritalstatus</th>\n",
       "      <th>monthlyincome</th>\n",
       "      <th>monthlyrate</th>\n",
       "      <th>numcompaniesworked</th>\n",
       "      <th>over18</th>\n",
       "      <th>overtime</th>\n",
       "      <th>percentsalaryhike</th>\n",
       "      <th>performancerating</th>\n",
       "      <th>relationshipsatisfaction</th>\n",
       "      <th>standardhours</th>\n",
       "      <th>stockoptionlevel</th>\n",
       "      <th>totalworkingyears</th>\n",
       "      <th>trainingtimeslastyear</th>\n",
       "      <th>worklifebalance</th>\n",
       "      <th>yearsatcompany</th>\n",
       "      <th>yearsincurrentrole</th>\n",
       "      <th>yearssincelastpromotion</th>\n",
       "      <th>yearswithcurrmanager</th>\n",
       "      <th>sameasmonthlyincome</th>\n",
       "      <th>datebirth</th>\n",
       "      <th>salary</th>\n",
       "      <th>roledepartament</th>\n",
       "      <th>numberchildren</th>\n",
       "      <th>remotework</th>\n",
       "    </tr>\n",
       "  </thead>\n",
       "  <tbody>\n",
       "    <tr>\n",
       "      <th>0</th>\n",
       "      <td>0</td>\n",
       "      <td>51</td>\n",
       "      <td>No</td>\n",
       "      <td>NaN</td>\n",
       "      <td>2015.722222</td>\n",
       "      <td>NaN</td>\n",
       "      <td>6</td>\n",
       "      <td>3</td>\n",
       "      <td>NaN</td>\n",
       "      <td>1</td>\n",
       "      <td>1</td>\n",
       "      <td>1</td>\n",
       "      <td>0</td>\n",
       "      <td>NaN</td>\n",
       "      <td>3</td>\n",
       "      <td>5</td>\n",
       "      <td>resEArch DIREcToR</td>\n",
       "      <td>3</td>\n",
       "      <td>NaN</td>\n",
       "      <td>16280,83$</td>\n",
       "      <td>42330,17$</td>\n",
       "      <td>7</td>\n",
       "      <td>Y</td>\n",
       "      <td>No</td>\n",
       "      <td>13</td>\n",
       "      <td>3,0</td>\n",
       "      <td>3</td>\n",
       "      <td>Full Time</td>\n",
       "      <td>0</td>\n",
       "      <td>NaN</td>\n",
       "      <td>5</td>\n",
       "      <td>3,0</td>\n",
       "      <td>20</td>\n",
       "      <td>NaN</td>\n",
       "      <td>15</td>\n",
       "      <td>15</td>\n",
       "      <td>16280,83$</td>\n",
       "      <td>1972</td>\n",
       "      <td>195370,00$</td>\n",
       "      <td>NaN</td>\n",
       "      <td>NaN</td>\n",
       "      <td>Yes</td>\n",
       "    </tr>\n",
       "    <tr>\n",
       "      <th>1</th>\n",
       "      <td>1</td>\n",
       "      <td>52</td>\n",
       "      <td>No</td>\n",
       "      <td>NaN</td>\n",
       "      <td>2063.388889</td>\n",
       "      <td>NaN</td>\n",
       "      <td>1</td>\n",
       "      <td>4</td>\n",
       "      <td>Life Sciences</td>\n",
       "      <td>1</td>\n",
       "      <td>2</td>\n",
       "      <td>3</td>\n",
       "      <td>0</td>\n",
       "      <td>NaN</td>\n",
       "      <td>2</td>\n",
       "      <td>5</td>\n",
       "      <td>ManAGeR</td>\n",
       "      <td>3</td>\n",
       "      <td>NaN</td>\n",
       "      <td>NaN</td>\n",
       "      <td>43331,17$</td>\n",
       "      <td>0</td>\n",
       "      <td>NaN</td>\n",
       "      <td>NaN</td>\n",
       "      <td>14</td>\n",
       "      <td>3,0</td>\n",
       "      <td>1</td>\n",
       "      <td>NaN</td>\n",
       "      <td>1</td>\n",
       "      <td>34,0</td>\n",
       "      <td>5</td>\n",
       "      <td>3,0</td>\n",
       "      <td>33</td>\n",
       "      <td>NaN</td>\n",
       "      <td>11</td>\n",
       "      <td>9</td>\n",
       "      <td>NaN</td>\n",
       "      <td>1971</td>\n",
       "      <td>199990,00$</td>\n",
       "      <td>NaN</td>\n",
       "      <td>NaN</td>\n",
       "      <td>1</td>\n",
       "    </tr>\n",
       "    <tr>\n",
       "      <th>2</th>\n",
       "      <td>2</td>\n",
       "      <td>42</td>\n",
       "      <td>No</td>\n",
       "      <td>travel_rarely</td>\n",
       "      <td>1984.253968</td>\n",
       "      <td>Research &amp; Development</td>\n",
       "      <td>4</td>\n",
       "      <td>2</td>\n",
       "      <td>Technical Degree</td>\n",
       "      <td>1</td>\n",
       "      <td>3</td>\n",
       "      <td>3</td>\n",
       "      <td>0</td>\n",
       "      <td>NaN</td>\n",
       "      <td>3</td>\n",
       "      <td>5</td>\n",
       "      <td>ManaGER</td>\n",
       "      <td>4</td>\n",
       "      <td>Married</td>\n",
       "      <td>NaN</td>\n",
       "      <td>41669,33$</td>\n",
       "      <td>1</td>\n",
       "      <td>NaN</td>\n",
       "      <td>No</td>\n",
       "      <td>11</td>\n",
       "      <td>3,0</td>\n",
       "      <td>4</td>\n",
       "      <td>NaN</td>\n",
       "      <td>0</td>\n",
       "      <td>22,0</td>\n",
       "      <td>3</td>\n",
       "      <td>NaN</td>\n",
       "      <td>22</td>\n",
       "      <td>NaN</td>\n",
       "      <td>11</td>\n",
       "      <td>15</td>\n",
       "      <td>NaN</td>\n",
       "      <td>1981</td>\n",
       "      <td>192320,00$</td>\n",
       "      <td>ManaGER  -  Research &amp; Development</td>\n",
       "      <td>NaN</td>\n",
       "      <td>1</td>\n",
       "    </tr>\n",
       "    <tr>\n",
       "      <th>3</th>\n",
       "      <td>3</td>\n",
       "      <td>47</td>\n",
       "      <td>No</td>\n",
       "      <td>travel_rarely</td>\n",
       "      <td>1771.404762</td>\n",
       "      <td>NaN</td>\n",
       "      <td>2</td>\n",
       "      <td>4</td>\n",
       "      <td>Medical</td>\n",
       "      <td>1</td>\n",
       "      <td>4</td>\n",
       "      <td>1</td>\n",
       "      <td>1</td>\n",
       "      <td>NaN</td>\n",
       "      <td>3</td>\n",
       "      <td>4</td>\n",
       "      <td>ReseArCH DIrECtOr</td>\n",
       "      <td>3</td>\n",
       "      <td>Married</td>\n",
       "      <td>14307,50$</td>\n",
       "      <td>37199,50$</td>\n",
       "      <td>3</td>\n",
       "      <td>Y</td>\n",
       "      <td>NaN</td>\n",
       "      <td>19</td>\n",
       "      <td>3,0</td>\n",
       "      <td>2</td>\n",
       "      <td>Full Time</td>\n",
       "      <td>2</td>\n",
       "      <td>NaN</td>\n",
       "      <td>2</td>\n",
       "      <td>NaN</td>\n",
       "      <td>20</td>\n",
       "      <td>NaN</td>\n",
       "      <td>5</td>\n",
       "      <td>6</td>\n",
       "      <td>14307,50$</td>\n",
       "      <td>1976</td>\n",
       "      <td>171690,00$</td>\n",
       "      <td>NaN</td>\n",
       "      <td>NaN</td>\n",
       "      <td>False</td>\n",
       "    </tr>\n",
       "    <tr>\n",
       "      <th>4</th>\n",
       "      <td>4</td>\n",
       "      <td>46</td>\n",
       "      <td>No</td>\n",
       "      <td>NaN</td>\n",
       "      <td>1582.771346</td>\n",
       "      <td>NaN</td>\n",
       "      <td>3</td>\n",
       "      <td>3</td>\n",
       "      <td>Technical Degree</td>\n",
       "      <td>1</td>\n",
       "      <td>5</td>\n",
       "      <td>1</td>\n",
       "      <td>1</td>\n",
       "      <td>NaN</td>\n",
       "      <td>4</td>\n",
       "      <td>4</td>\n",
       "      <td>sAleS EXECUtIve</td>\n",
       "      <td>1</td>\n",
       "      <td>Divorced</td>\n",
       "      <td>12783,92$</td>\n",
       "      <td>33238,20$</td>\n",
       "      <td>2</td>\n",
       "      <td>Y</td>\n",
       "      <td>No</td>\n",
       "      <td>12</td>\n",
       "      <td>3,0</td>\n",
       "      <td>4</td>\n",
       "      <td>NaN</td>\n",
       "      <td>1</td>\n",
       "      <td>NaN</td>\n",
       "      <td>5</td>\n",
       "      <td>3,0</td>\n",
       "      <td>19</td>\n",
       "      <td>NaN</td>\n",
       "      <td>2</td>\n",
       "      <td>8</td>\n",
       "      <td>12783,92$</td>\n",
       "      <td>1977</td>\n",
       "      <td>NaN</td>\n",
       "      <td>NaN</td>\n",
       "      <td>NaN</td>\n",
       "      <td>0</td>\n",
       "    </tr>\n",
       "  </tbody>\n",
       "</table>\n",
       "</div>"
      ],
      "text/plain": [
       "   Unnamed: 0 age attrition businesstravel    dailyrate  \\\n",
       "0           0  51        No            NaN  2015.722222   \n",
       "1           1  52        No            NaN  2063.388889   \n",
       "2           2  42        No  travel_rarely  1984.253968   \n",
       "3           3  47        No  travel_rarely  1771.404762   \n",
       "4           4  46        No            NaN  1582.771346   \n",
       "\n",
       "                 department  distancefromhome  education    educationfield  \\\n",
       "0                       NaN                 6          3               NaN   \n",
       "1                       NaN                 1          4     Life Sciences   \n",
       "2   Research & Development                  4          2  Technical Degree   \n",
       "3                       NaN                 2          4           Medical   \n",
       "4                       NaN                 3          3  Technical Degree   \n",
       "\n",
       "   employeecount  employeenumber  environmentsatisfaction  gender  hourlyrate  \\\n",
       "0              1               1                        1       0         NaN   \n",
       "1              1               2                        3       0         NaN   \n",
       "2              1               3                        3       0         NaN   \n",
       "3              1               4                        1       1         NaN   \n",
       "4              1               5                        1       1         NaN   \n",
       "\n",
       "   jobinvolvement  joblevel              jobrole  jobsatisfaction  \\\n",
       "0               3         5   resEArch DIREcToR                 3   \n",
       "1               2         5             ManAGeR                 3   \n",
       "2               3         5             ManaGER                 4   \n",
       "3               3         4   ReseArCH DIrECtOr                 3   \n",
       "4               4         4     sAleS EXECUtIve                 1   \n",
       "\n",
       "  maritalstatus monthlyincome monthlyrate  numcompaniesworked over18 overtime  \\\n",
       "0           NaN     16280,83$   42330,17$                   7      Y       No   \n",
       "1           NaN           NaN   43331,17$                   0    NaN      NaN   \n",
       "2       Married           NaN   41669,33$                   1    NaN       No   \n",
       "3       Married     14307,50$   37199,50$                   3      Y      NaN   \n",
       "4      Divorced     12783,92$   33238,20$                   2      Y       No   \n",
       "\n",
       "   percentsalaryhike performancerating  relationshipsatisfaction  \\\n",
       "0                 13               3,0                         3   \n",
       "1                 14               3,0                         1   \n",
       "2                 11               3,0                         4   \n",
       "3                 19               3,0                         2   \n",
       "4                 12               3,0                         4   \n",
       "\n",
       "  standardhours  stockoptionlevel totalworkingyears  trainingtimeslastyear  \\\n",
       "0     Full Time                 0               NaN                      5   \n",
       "1           NaN                 1              34,0                      5   \n",
       "2           NaN                 0              22,0                      3   \n",
       "3     Full Time                 2               NaN                      2   \n",
       "4           NaN                 1               NaN                      5   \n",
       "\n",
       "  worklifebalance  yearsatcompany yearsincurrentrole  yearssincelastpromotion  \\\n",
       "0             3,0              20                NaN                       15   \n",
       "1             3,0              33                NaN                       11   \n",
       "2             NaN              22                NaN                       11   \n",
       "3             NaN              20                NaN                        5   \n",
       "4             3,0              19                NaN                        2   \n",
       "\n",
       "   yearswithcurrmanager sameasmonthlyincome  datebirth      salary  \\\n",
       "0                    15           16280,83$       1972  195370,00$   \n",
       "1                     9                 NaN       1971  199990,00$   \n",
       "2                    15                 NaN       1981  192320,00$   \n",
       "3                     6           14307,50$       1976  171690,00$   \n",
       "4                     8           12783,92$       1977         NaN   \n",
       "\n",
       "                        roledepartament  numberchildren remotework  \n",
       "0                                   NaN             NaN        Yes  \n",
       "1                                   NaN             NaN          1  \n",
       "2   ManaGER  -  Research & Development              NaN          1  \n",
       "3                                   NaN             NaN      False  \n",
       "4                                   NaN             NaN          0  "
      ]
     },
     "execution_count": 2,
     "metadata": {},
     "output_type": "execute_result"
    }
   ],
   "source": [
    "# Lo primero que hacemos es cargar el dataframe que vamos a usar\n",
    "df = pd.read_csv(\"spaces_hr_raw_data.csv\")\n",
    "df.head()"
   ]
  },
  {
   "cell_type": "code",
   "execution_count": 3,
   "id": "5c7b4ff0",
   "metadata": {},
   "outputs": [
    {
     "data": {
      "text/plain": [
       "Index(['Unnamed: 0', 'age', 'attrition', 'businesstravel', 'dailyrate',\n",
       "       'department', 'distancefromhome', 'education', 'educationfield',\n",
       "       'employeecount', 'employeenumber', 'environmentsatisfaction', 'gender',\n",
       "       'hourlyrate', 'jobinvolvement', 'joblevel', 'jobrole',\n",
       "       'jobsatisfaction', 'maritalstatus', 'monthlyincome', 'monthlyrate',\n",
       "       'numcompaniesworked', 'over18', 'overtime', 'percentsalaryhike',\n",
       "       'performancerating', 'relationshipsatisfaction', 'standardhours',\n",
       "       'stockoptionlevel', 'totalworkingyears', 'trainingtimeslastyear',\n",
       "       'worklifebalance', 'yearsatcompany', 'yearsincurrentrole',\n",
       "       'yearssincelastpromotion', 'yearswithcurrmanager',\n",
       "       'sameasmonthlyincome', 'datebirth', 'salary', 'roledepartament',\n",
       "       'numberchildren', 'remotework'],\n",
       "      dtype='object')"
      ]
     },
     "execution_count": 3,
     "metadata": {},
     "output_type": "execute_result"
    }
   ],
   "source": [
    "df.columns"
   ]
  },
  {
   "cell_type": "code",
   "execution_count": 4,
   "id": "b78a5820",
   "metadata": {},
   "outputs": [],
   "source": [
    "df = df.drop(columns=['numberchildren', 'over18', 'yearsincurrentrole'])"
   ]
  },
  {
   "cell_type": "code",
   "execution_count": 5,
   "id": "3a096c42",
   "metadata": {},
   "outputs": [
    {
     "data": {
      "text/plain": [
       "Index(['Unnamed: 0', 'age', 'attrition', 'businesstravel', 'dailyrate',\n",
       "       'department', 'distancefromhome', 'education', 'educationfield',\n",
       "       'employeecount', 'employeenumber', 'environmentsatisfaction', 'gender',\n",
       "       'hourlyrate', 'jobinvolvement', 'joblevel', 'jobrole',\n",
       "       'jobsatisfaction', 'maritalstatus', 'monthlyincome', 'monthlyrate',\n",
       "       'numcompaniesworked', 'overtime', 'percentsalaryhike',\n",
       "       'performancerating', 'relationshipsatisfaction', 'standardhours',\n",
       "       'stockoptionlevel', 'totalworkingyears', 'trainingtimeslastyear',\n",
       "       'worklifebalance', 'yearsatcompany', 'yearssincelastpromotion',\n",
       "       'yearswithcurrmanager', 'sameasmonthlyincome', 'datebirth', 'salary',\n",
       "       'roledepartament', 'remotework'],\n",
       "      dtype='object')"
      ]
     },
     "execution_count": 5,
     "metadata": {},
     "output_type": "execute_result"
    }
   ],
   "source": [
    "df.columns"
   ]
  },
  {
   "cell_type": "code",
   "execution_count": 6,
   "id": "4fb93d1e",
   "metadata": {},
   "outputs": [],
   "source": [
    "def exploracion_basica(df):\n",
    "    print(\"=== EXPLORACIÓN BÁSICA DEL DATASET ===\")\n",
    "    print(\"\\nPrimeras filas:\")\n",
    "    print(df.head())\n",
    "    print(\"\\nÚltimas filas:\")\n",
    "    print(df.tail())\n",
    "    print(\"\\nNúmero de filas y columnas:\")\n",
    "    print(df.shape)\n",
    "    print(\"\\nInformación general del DataFrame:\")\n",
    "    print(df.info())\n",
    "    print(\"\\nEstadísticas descriptivas:\")\n",
    "    print(df.describe())\n",
    "    print(\"\\nColumnas:\")\n",
    "    print(list(df.columns))"
   ]
  },
  {
   "cell_type": "code",
   "execution_count": 7,
   "id": "e23250bb",
   "metadata": {},
   "outputs": [
    {
     "name": "stdout",
     "output_type": "stream",
     "text": [
      "=== EXPLORACIÓN BÁSICA DEL DATASET ===\n",
      "\n",
      "Primeras filas:\n",
      "   Unnamed: 0 age attrition businesstravel    dailyrate  \\\n",
      "0           0  51        No            NaN  2015.722222   \n",
      "1           1  52        No            NaN  2063.388889   \n",
      "2           2  42        No  travel_rarely  1984.253968   \n",
      "3           3  47        No  travel_rarely  1771.404762   \n",
      "4           4  46        No            NaN  1582.771346   \n",
      "\n",
      "                 department  distancefromhome  education    educationfield  \\\n",
      "0                       NaN                 6          3               NaN   \n",
      "1                       NaN                 1          4     Life Sciences   \n",
      "2   Research & Development                  4          2  Technical Degree   \n",
      "3                       NaN                 2          4           Medical   \n",
      "4                       NaN                 3          3  Technical Degree   \n",
      "\n",
      "   employeecount  employeenumber  environmentsatisfaction  gender  hourlyrate  \\\n",
      "0              1               1                        1       0         NaN   \n",
      "1              1               2                        3       0         NaN   \n",
      "2              1               3                        3       0         NaN   \n",
      "3              1               4                        1       1         NaN   \n",
      "4              1               5                        1       1         NaN   \n",
      "\n",
      "   jobinvolvement  joblevel              jobrole  jobsatisfaction  \\\n",
      "0               3         5   resEArch DIREcToR                 3   \n",
      "1               2         5             ManAGeR                 3   \n",
      "2               3         5             ManaGER                 4   \n",
      "3               3         4   ReseArCH DIrECtOr                 3   \n",
      "4               4         4     sAleS EXECUtIve                 1   \n",
      "\n",
      "  maritalstatus monthlyincome monthlyrate  numcompaniesworked overtime  \\\n",
      "0           NaN     16280,83$   42330,17$                   7       No   \n",
      "1           NaN           NaN   43331,17$                   0      NaN   \n",
      "2       Married           NaN   41669,33$                   1       No   \n",
      "3       Married     14307,50$   37199,50$                   3      NaN   \n",
      "4      Divorced     12783,92$   33238,20$                   2       No   \n",
      "\n",
      "   percentsalaryhike performancerating  relationshipsatisfaction  \\\n",
      "0                 13               3,0                         3   \n",
      "1                 14               3,0                         1   \n",
      "2                 11               3,0                         4   \n",
      "3                 19               3,0                         2   \n",
      "4                 12               3,0                         4   \n",
      "\n",
      "  standardhours  stockoptionlevel totalworkingyears  trainingtimeslastyear  \\\n",
      "0     Full Time                 0               NaN                      5   \n",
      "1           NaN                 1              34,0                      5   \n",
      "2           NaN                 0              22,0                      3   \n",
      "3     Full Time                 2               NaN                      2   \n",
      "4           NaN                 1               NaN                      5   \n",
      "\n",
      "  worklifebalance  yearsatcompany  yearssincelastpromotion  \\\n",
      "0             3,0              20                       15   \n",
      "1             3,0              33                       11   \n",
      "2             NaN              22                       11   \n",
      "3             NaN              20                        5   \n",
      "4             3,0              19                        2   \n",
      "\n",
      "   yearswithcurrmanager sameasmonthlyincome  datebirth      salary  \\\n",
      "0                    15           16280,83$       1972  195370,00$   \n",
      "1                     9                 NaN       1971  199990,00$   \n",
      "2                    15                 NaN       1981  192320,00$   \n",
      "3                     6           14307,50$       1976  171690,00$   \n",
      "4                     8           12783,92$       1977         NaN   \n",
      "\n",
      "                        roledepartament remotework  \n",
      "0                                   NaN        Yes  \n",
      "1                                   NaN          1  \n",
      "2   ManaGER  -  Research & Development           1  \n",
      "3                                   NaN      False  \n",
      "4                                   NaN          0  \n",
      "\n",
      "Últimas filas:\n",
      "      Unnamed: 0 age attrition businesstravel    dailyrate department  \\\n",
      "1673        1673  43        No            NaN   488.944444        NaN   \n",
      "1674        1674  47        No            NaN  1973.984127        NaN   \n",
      "1675        1675  29        No  travel_rarely   290.035510        NaN   \n",
      "1676        1676  47        No  travel_rarely  1032.487286        NaN   \n",
      "1677        1677  32        No            NaN   556.256661        NaN   \n",
      "\n",
      "      distancefromhome  education educationfield  employeecount  \\\n",
      "1673               -26          3        Medical              1   \n",
      "1674                26          4            NaN              1   \n",
      "1675                15          3            NaN              1   \n",
      "1676                 4          3  Life Sciences              1   \n",
      "1677                 2          2  Life Sciences              1   \n",
      "\n",
      "      employeenumber  environmentsatisfaction  gender  hourlyrate  \\\n",
      "1673             824                        2       1         NaN   \n",
      "1674            1087                        4       1         NaN   \n",
      "1675             528                        3       0         NaN   \n",
      "1676              76                        3       1         NaN   \n",
      "1677             401                        4       1   69.532083   \n",
      "\n",
      "      jobinvolvement  joblevel                   jobrole  jobsatisfaction  \\\n",
      "1673               4         1       rESEaRcH SciEnTiST                 3   \n",
      "1674               3         5                  mANager                 3   \n",
      "1675               3         1       reSearch sCienTiSt                 4   \n",
      "1676               2         3   maNufACTURING DIREctOr                 2   \n",
      "1677               3         2       resEArch scIENTisT                 3   \n",
      "\n",
      "     maritalstatus monthlyincome monthlyrate  numcompaniesworked overtime  \\\n",
      "1673        Single      3949,17$   10267,83$                   4      NaN   \n",
      "1674       Married     15943,72$   41453,67$                   3       No   \n",
      "1675           NaN           NaN    6090,75$                   1       No   \n",
      "1676      Divorced      8339,32$   21682,23$                   8      Yes   \n",
      "1677        Single           NaN   11681,39$                   4      Yes   \n",
      "\n",
      "      percentsalaryhike performancerating  relationshipsatisfaction  \\\n",
      "1673                 12               3,0                         4   \n",
      "1674                 11               3,0                         3   \n",
      "1675                 19               3,0                         1   \n",
      "1676                 12               NaN                         3   \n",
      "1677                 14               3,0                         4   \n",
      "\n",
      "     standardhours  stockoptionlevel totalworkingyears  trainingtimeslastyear  \\\n",
      "1673           NaN                 0               NaN                      2   \n",
      "1674     Full Time                 1              27,0                      2   \n",
      "1675     Part Time                 0               6,0                      1   \n",
      "1676     Part Time                 1               NaN                      4   \n",
      "1677     Part Time                 0              10,0                      2   \n",
      "\n",
      "     worklifebalance  yearsatcompany  yearssincelastpromotion  \\\n",
      "1673             3,0               3                        1   \n",
      "1674             3,0               5                        1   \n",
      "1675             3,0               6                        1   \n",
      "1676             3,0              22                       14   \n",
      "1677             3,0               8                        0   \n",
      "\n",
      "      yearswithcurrmanager sameasmonthlyincome  datebirth      salary  \\\n",
      "1673                     2            3949,17$       1980         NaN   \n",
      "1674                     0           15943,72$       1976  191324,62$   \n",
      "1675                     5                 NaN       1994   28111,13$   \n",
      "1676                    10            8339,32$       1976  100071,84$   \n",
      "1677                     7                 NaN       1991   53914,11$   \n",
      "\n",
      "     roledepartament remotework  \n",
      "1673             NaN        Yes  \n",
      "1674             NaN      False  \n",
      "1675             NaN      False  \n",
      "1676             NaN        Yes  \n",
      "1677             NaN          0  \n",
      "\n",
      "Número de filas y columnas:\n",
      "(1678, 39)\n",
      "\n",
      "Información general del DataFrame:\n",
      "<class 'pandas.core.frame.DataFrame'>\n",
      "RangeIndex: 1678 entries, 0 to 1677\n",
      "Data columns (total 39 columns):\n",
      " #   Column                    Non-Null Count  Dtype  \n",
      "---  ------                    --------------  -----  \n",
      " 0   Unnamed: 0                1678 non-null   int64  \n",
      " 1   age                       1678 non-null   object \n",
      " 2   attrition                 1678 non-null   object \n",
      " 3   businesstravel            877 non-null    object \n",
      " 4   dailyrate                 1678 non-null   float64\n",
      " 5   department                312 non-null    object \n",
      " 6   distancefromhome          1678 non-null   int64  \n",
      " 7   education                 1678 non-null   int64  \n",
      " 8   educationfield            904 non-null    object \n",
      " 9   employeecount             1678 non-null   int64  \n",
      " 10  employeenumber            1678 non-null   int64  \n",
      " 11  environmentsatisfaction   1678 non-null   int64  \n",
      " 12  gender                    1678 non-null   int64  \n",
      " 13  hourlyrate                411 non-null    float64\n",
      " 14  jobinvolvement            1678 non-null   int64  \n",
      " 15  joblevel                  1678 non-null   int64  \n",
      " 16  jobrole                   1678 non-null   object \n",
      " 17  jobsatisfaction           1678 non-null   int64  \n",
      " 18  maritalstatus             1003 non-null   object \n",
      " 19  monthlyincome             1189 non-null   object \n",
      " 20  monthlyrate               1678 non-null   object \n",
      " 21  numcompaniesworked        1678 non-null   int64  \n",
      " 22  overtime                  982 non-null    object \n",
      " 23  percentsalaryhike         1678 non-null   int64  \n",
      " 24  performancerating         1478 non-null   object \n",
      " 25  relationshipsatisfaction  1678 non-null   int64  \n",
      " 26  standardhours             1327 non-null   object \n",
      " 27  stockoptionlevel          1678 non-null   int64  \n",
      " 28  totalworkingyears         1129 non-null   object \n",
      " 29  trainingtimeslastyear     1678 non-null   int64  \n",
      " 30  worklifebalance           1564 non-null   object \n",
      " 31  yearsatcompany            1678 non-null   int64  \n",
      " 32  yearssincelastpromotion   1678 non-null   int64  \n",
      " 33  yearswithcurrmanager      1678 non-null   int64  \n",
      " 34  sameasmonthlyincome       1189 non-null   object \n",
      " 35  datebirth                 1678 non-null   int64  \n",
      " 36  salary                    1393 non-null   object \n",
      " 37  roledepartament           312 non-null    object \n",
      " 38  remotework                1678 non-null   object \n",
      "dtypes: float64(2), int64(19), object(18)\n",
      "memory usage: 511.4+ KB\n",
      "None\n",
      "\n",
      "Estadísticas descriptivas:\n",
      "        Unnamed: 0    dailyrate  distancefromhome    education  employeecount  \\\n",
      "count  1678.000000  1678.000000       1678.000000  1678.000000         1678.0   \n",
      "mean    838.500000   668.079714          4.504172     2.932658            1.0   \n",
      "std     484.541192   470.787298         14.652066     1.024270            0.0   \n",
      "min       0.000000   104.103175        -49.000000     1.000000            1.0   \n",
      "25%     419.250000   290.035510          2.000000     2.000000            1.0   \n",
      "50%     838.500000   556.256661          5.000000     3.000000            1.0   \n",
      "75%    1257.750000   971.956349         11.000000     4.000000            1.0   \n",
      "max    1677.000000  2063.388889         29.000000     5.000000            1.0   \n",
      "\n",
      "       employeenumber  environmentsatisfaction       gender  hourlyrate  \\\n",
      "count     1678.000000              1678.000000  1678.000000  411.000000   \n",
      "mean       809.859952                 4.264005     0.398689   83.140768   \n",
      "std        467.084867                 6.912695     0.489774   57.272101   \n",
      "min          1.000000                 1.000000     0.000000   13.012897   \n",
      "25%        403.250000                 2.000000     0.000000   36.254439   \n",
      "50%        813.500000                 3.000000     0.000000   69.532083   \n",
      "75%       1215.750000                 4.000000     1.000000  116.987103   \n",
      "max       1614.000000                49.000000     1.000000  255.963294   \n",
      "\n",
      "       jobinvolvement     joblevel  jobsatisfaction  numcompaniesworked  \\\n",
      "count     1678.000000  1678.000000      1678.000000         1678.000000   \n",
      "mean         2.740763     2.064362         2.743147            2.670441   \n",
      "std          0.710359     1.099425         1.105172            2.501133   \n",
      "min          1.000000     1.000000         1.000000            0.000000   \n",
      "25%          2.000000     1.000000         2.000000            1.000000   \n",
      "50%          3.000000     2.000000         3.000000            2.000000   \n",
      "75%          3.000000     3.000000         4.000000            4.000000   \n",
      "max          4.000000     5.000000         4.000000            9.000000   \n",
      "\n",
      "       percentsalaryhike  relationshipsatisfaction  stockoptionlevel  \\\n",
      "count        1678.000000               1678.000000       1678.000000   \n",
      "mean           15.154350                  2.700238          0.787843   \n",
      "std             3.649607                  1.079494          0.843252   \n",
      "min            11.000000                  1.000000          0.000000   \n",
      "25%            12.000000                  2.000000          0.000000   \n",
      "50%            14.000000                  3.000000          1.000000   \n",
      "75%            18.000000                  4.000000          1.000000   \n",
      "max            25.000000                  4.000000          3.000000   \n",
      "\n",
      "       trainingtimeslastyear  yearsatcompany  yearssincelastpromotion  \\\n",
      "count            1678.000000     1678.000000              1678.000000   \n",
      "mean                2.795590        7.124553                 2.241955   \n",
      "std                 1.288657        6.173837                 3.246554   \n",
      "min                 0.000000        0.000000                 0.000000   \n",
      "25%                 2.000000        3.000000                 0.000000   \n",
      "50%                 3.000000        5.000000                 1.000000   \n",
      "75%                 3.000000        9.000000                 3.000000   \n",
      "max                 6.000000       40.000000                15.000000   \n",
      "\n",
      "       yearswithcurrmanager    datebirth  \n",
      "count           1678.000000  1678.000000  \n",
      "mean               4.200238  1986.047080  \n",
      "std                3.554224     9.154908  \n",
      "min                0.000000  1963.000000  \n",
      "25%                2.000000  1980.000000  \n",
      "50%                3.000000  1987.000000  \n",
      "75%                7.000000  1993.000000  \n",
      "max               17.000000  2005.000000  \n",
      "\n",
      "Columnas:\n",
      "['Unnamed: 0', 'age', 'attrition', 'businesstravel', 'dailyrate', 'department', 'distancefromhome', 'education', 'educationfield', 'employeecount', 'employeenumber', 'environmentsatisfaction', 'gender', 'hourlyrate', 'jobinvolvement', 'joblevel', 'jobrole', 'jobsatisfaction', 'maritalstatus', 'monthlyincome', 'monthlyrate', 'numcompaniesworked', 'overtime', 'percentsalaryhike', 'performancerating', 'relationshipsatisfaction', 'standardhours', 'stockoptionlevel', 'totalworkingyears', 'trainingtimeslastyear', 'worklifebalance', 'yearsatcompany', 'yearssincelastpromotion', 'yearswithcurrmanager', 'sameasmonthlyincome', 'datebirth', 'salary', 'roledepartament', 'remotework']\n"
     ]
    }
   ],
   "source": [
    "exploracion_basica(df)"
   ]
  },
  {
   "cell_type": "code",
   "execution_count": 8,
   "id": "81d1b7d8",
   "metadata": {},
   "outputs": [],
   "source": [
    "# Variables con valores nulos\n",
    "def nulls(df,count=0,share=0):\n",
    "    \n",
    "    nulls = df.isnull().sum()\n",
    "    nulls_share = df.isnull().sum()/df.shape[0]*100\n",
    "    with_nulls_share = nulls_share[nulls_share > 0]\n",
    "    \n",
    "    if count == 1:\n",
    "        print('Count of nulls')\n",
    "        with_nulls = nulls[nulls > 0]\n",
    "        print (with_nulls.sort_values(ascending=False))\n",
    "        print('-----------------------------------')\n",
    "    \n",
    "    if share == 1:\n",
    "        print('share of nulls')\n",
    "        print (with_nulls_share.sort_values(ascending=False))\n",
    "    \n",
    "    nulls_list = with_nulls_share.to_frame(name='perc_nulos').reset_index().rename(columns={'index': 'var'})\n",
    "    \n",
    "    return nulls_list"
   ]
  },
  {
   "cell_type": "code",
   "execution_count": 9,
   "id": "1cefdc8d",
   "metadata": {},
   "outputs": [
    {
     "name": "stdout",
     "output_type": "stream",
     "text": [
      "Count of nulls\n",
      "department             1366\n",
      "roledepartament        1366\n",
      "hourlyrate             1267\n",
      "businesstravel          801\n",
      "educationfield          774\n",
      "overtime                696\n",
      "maritalstatus           675\n",
      "totalworkingyears       549\n",
      "monthlyincome           489\n",
      "sameasmonthlyincome     489\n",
      "standardhours           351\n",
      "salary                  285\n",
      "performancerating       200\n",
      "worklifebalance         114\n",
      "dtype: int64\n",
      "-----------------------------------\n",
      "share of nulls\n",
      "department             81.406436\n",
      "roledepartament        81.406436\n",
      "hourlyrate             75.506555\n",
      "businesstravel         47.735399\n",
      "educationfield         46.126341\n",
      "overtime               41.477950\n",
      "maritalstatus          40.226460\n",
      "totalworkingyears      32.717521\n",
      "monthlyincome          29.141836\n",
      "sameasmonthlyincome    29.141836\n",
      "standardhours          20.917759\n",
      "salary                 16.984505\n",
      "performancerating      11.918951\n",
      "worklifebalance         6.793802\n",
      "dtype: float64\n"
     ]
    },
    {
     "data": {
      "application/vnd.microsoft.datawrangler.viewer.v0+json": {
       "columns": [
        {
         "name": "index",
         "rawType": "int64",
         "type": "integer"
        },
        {
         "name": "var",
         "rawType": "object",
         "type": "string"
        },
        {
         "name": "perc_nulos",
         "rawType": "float64",
         "type": "float"
        }
       ],
       "ref": "cfe79785-208e-4af7-8515-38e312b877b6",
       "rows": [
        [
         "0",
         "businesstravel",
         "47.735399284862936"
        ],
        [
         "1",
         "department",
         "81.40643623361144"
        ],
        [
         "2",
         "educationfield",
         "46.12634088200238"
        ],
        [
         "3",
         "hourlyrate",
         "75.50655542312276"
        ],
        [
         "4",
         "maritalstatus",
         "40.226460071513706"
        ],
        [
         "5",
         "monthlyincome",
         "29.141835518474373"
        ],
        [
         "6",
         "overtime",
         "41.477949940405246"
        ],
        [
         "7",
         "performancerating",
         "11.918951132300357"
        ],
        [
         "8",
         "standardhours",
         "20.917759237187127"
        ],
        [
         "9",
         "totalworkingyears",
         "32.717520858164484"
        ],
        [
         "10",
         "worklifebalance",
         "6.793802145411204"
        ],
        [
         "11",
         "sameasmonthlyincome",
         "29.141835518474373"
        ],
        [
         "12",
         "salary",
         "16.98450536352801"
        ],
        [
         "13",
         "roledepartament",
         "81.40643623361144"
        ]
       ],
       "shape": {
        "columns": 2,
        "rows": 14
       }
      },
      "text/html": [
       "<div>\n",
       "<style scoped>\n",
       "    .dataframe tbody tr th:only-of-type {\n",
       "        vertical-align: middle;\n",
       "    }\n",
       "\n",
       "    .dataframe tbody tr th {\n",
       "        vertical-align: top;\n",
       "    }\n",
       "\n",
       "    .dataframe thead th {\n",
       "        text-align: right;\n",
       "    }\n",
       "</style>\n",
       "<table border=\"1\" class=\"dataframe\">\n",
       "  <thead>\n",
       "    <tr style=\"text-align: right;\">\n",
       "      <th></th>\n",
       "      <th>var</th>\n",
       "      <th>perc_nulos</th>\n",
       "    </tr>\n",
       "  </thead>\n",
       "  <tbody>\n",
       "    <tr>\n",
       "      <th>0</th>\n",
       "      <td>businesstravel</td>\n",
       "      <td>47.735399</td>\n",
       "    </tr>\n",
       "    <tr>\n",
       "      <th>1</th>\n",
       "      <td>department</td>\n",
       "      <td>81.406436</td>\n",
       "    </tr>\n",
       "    <tr>\n",
       "      <th>2</th>\n",
       "      <td>educationfield</td>\n",
       "      <td>46.126341</td>\n",
       "    </tr>\n",
       "    <tr>\n",
       "      <th>3</th>\n",
       "      <td>hourlyrate</td>\n",
       "      <td>75.506555</td>\n",
       "    </tr>\n",
       "    <tr>\n",
       "      <th>4</th>\n",
       "      <td>maritalstatus</td>\n",
       "      <td>40.226460</td>\n",
       "    </tr>\n",
       "    <tr>\n",
       "      <th>5</th>\n",
       "      <td>monthlyincome</td>\n",
       "      <td>29.141836</td>\n",
       "    </tr>\n",
       "    <tr>\n",
       "      <th>6</th>\n",
       "      <td>overtime</td>\n",
       "      <td>41.477950</td>\n",
       "    </tr>\n",
       "    <tr>\n",
       "      <th>7</th>\n",
       "      <td>performancerating</td>\n",
       "      <td>11.918951</td>\n",
       "    </tr>\n",
       "    <tr>\n",
       "      <th>8</th>\n",
       "      <td>standardhours</td>\n",
       "      <td>20.917759</td>\n",
       "    </tr>\n",
       "    <tr>\n",
       "      <th>9</th>\n",
       "      <td>totalworkingyears</td>\n",
       "      <td>32.717521</td>\n",
       "    </tr>\n",
       "    <tr>\n",
       "      <th>10</th>\n",
       "      <td>worklifebalance</td>\n",
       "      <td>6.793802</td>\n",
       "    </tr>\n",
       "    <tr>\n",
       "      <th>11</th>\n",
       "      <td>sameasmonthlyincome</td>\n",
       "      <td>29.141836</td>\n",
       "    </tr>\n",
       "    <tr>\n",
       "      <th>12</th>\n",
       "      <td>salary</td>\n",
       "      <td>16.984505</td>\n",
       "    </tr>\n",
       "    <tr>\n",
       "      <th>13</th>\n",
       "      <td>roledepartament</td>\n",
       "      <td>81.406436</td>\n",
       "    </tr>\n",
       "  </tbody>\n",
       "</table>\n",
       "</div>"
      ],
      "text/plain": [
       "                    var  perc_nulos\n",
       "0        businesstravel   47.735399\n",
       "1            department   81.406436\n",
       "2        educationfield   46.126341\n",
       "3            hourlyrate   75.506555\n",
       "4         maritalstatus   40.226460\n",
       "5         monthlyincome   29.141836\n",
       "6              overtime   41.477950\n",
       "7     performancerating   11.918951\n",
       "8         standardhours   20.917759\n",
       "9     totalworkingyears   32.717521\n",
       "10      worklifebalance    6.793802\n",
       "11  sameasmonthlyincome   29.141836\n",
       "12               salary   16.984505\n",
       "13      roledepartament   81.406436"
      ]
     },
     "execution_count": 9,
     "metadata": {},
     "output_type": "execute_result"
    }
   ],
   "source": [
    "nulls(df,1,1)"
   ]
  },
  {
   "cell_type": "code",
   "execution_count": 10,
   "id": "4aace920",
   "metadata": {},
   "outputs": [],
   "source": [
    "def detectar_duplicados(df):\n",
    "    numero_duplicados = df.duplicated().sum()\n",
    "    print(f\"Filas duplicadas completas en el dataset: {numero_duplicados}\")\n",
    "    if numero_duplicados > 0:\n",
    "        print(\"Aquí tienes las filas duplicadas:\")\n",
    "        print(df[df.duplicated()])"
   ]
  },
  {
   "cell_type": "code",
   "execution_count": 11,
   "id": "f9d1a9a8",
   "metadata": {},
   "outputs": [
    {
     "name": "stdout",
     "output_type": "stream",
     "text": [
      "Filas duplicadas completas en el dataset: 0\n"
     ]
    }
   ],
   "source": [
    "detectar_duplicados(df)"
   ]
  },
  {
   "cell_type": "markdown",
   "id": "712bfe11",
   "metadata": {},
   "source": [
    "### Exploramos columna por columna"
   ]
  },
  {
   "cell_type": "code",
   "execution_count": 12,
   "id": "846aa118",
   "metadata": {},
   "outputs": [
    {
     "data": {
      "text/plain": [
       "Index(['Unnamed: 0', 'age', 'attrition', 'businesstravel', 'dailyrate',\n",
       "       'department', 'distancefromhome', 'education', 'educationfield',\n",
       "       'employeecount', 'employeenumber', 'environmentsatisfaction', 'gender',\n",
       "       'hourlyrate', 'jobinvolvement', 'joblevel', 'jobrole',\n",
       "       'jobsatisfaction', 'maritalstatus', 'monthlyincome', 'monthlyrate',\n",
       "       'numcompaniesworked', 'overtime', 'percentsalaryhike',\n",
       "       'performancerating', 'relationshipsatisfaction', 'standardhours',\n",
       "       'stockoptionlevel', 'totalworkingyears', 'trainingtimeslastyear',\n",
       "       'worklifebalance', 'yearsatcompany', 'yearssincelastpromotion',\n",
       "       'yearswithcurrmanager', 'sameasmonthlyincome', 'datebirth', 'salary',\n",
       "       'roledepartament', 'remotework'],\n",
       "      dtype='object')"
      ]
     },
     "execution_count": 12,
     "metadata": {},
     "output_type": "execute_result"
    }
   ],
   "source": [
    "df.columns"
   ]
  },
  {
   "cell_type": "markdown",
   "id": "bc0de065",
   "metadata": {},
   "source": [
    "### 'age'"
   ]
  },
  {
   "cell_type": "code",
   "execution_count": 13,
   "id": "cc773e48",
   "metadata": {},
   "outputs": [
    {
     "data": {
      "application/vnd.microsoft.datawrangler.viewer.v0+json": {
       "columns": [
        {
         "name": "age",
         "rawType": "object",
         "type": "string"
        },
        {
         "name": "count",
         "rawType": "int64",
         "type": "integer"
        }
       ],
       "ref": "e36c8bc2-3a08-45d5-a7b5-af416604e3ee",
       "rows": [
        [
         "35",
         "88"
        ],
        [
         "31",
         "88"
        ],
        [
         "34",
         "86"
        ],
        [
         "29",
         "82"
        ],
        [
         "36",
         "79"
        ],
        [
         "32",
         "66"
        ],
        [
         "30",
         "65"
        ],
        [
         "38",
         "64"
        ],
        [
         "33",
         "63"
        ],
        [
         "40",
         "60"
        ],
        [
         "28",
         "54"
        ],
        [
         "37",
         "54"
        ],
        [
         "27",
         "54"
        ],
        [
         "45",
         "50"
        ],
        [
         "42",
         "50"
        ],
        [
         "41",
         "48"
        ],
        [
         "39",
         "46"
        ],
        [
         "26",
         "46"
        ],
        [
         "43",
         "42"
        ],
        [
         "46",
         "38"
        ],
        [
         "44",
         "34"
        ],
        [
         "50",
         "34"
        ],
        [
         "47",
         "30"
        ],
        [
         "24",
         "29"
        ],
        [
         "25",
         "28"
        ],
        [
         "49",
         "26"
        ],
        [
         "55",
         "25"
        ],
        [
         "51",
         "22"
        ],
        [
         "48",
         "22"
        ],
        [
         "53",
         "20"
        ],
        [
         "54",
         "20"
        ],
        [
         "52",
         "18"
        ],
        [
         "56",
         "18"
        ],
        [
         "21",
         "17"
        ],
        [
         "22",
         "17"
        ],
        [
         "58",
         "16"
        ],
        [
         "23",
         "15"
        ],
        [
         "59",
         "11"
        ],
        [
         "20",
         "11"
        ],
        [
         "18",
         "9"
        ],
        [
         "19",
         "9"
        ],
        [
         "57",
         "6"
        ],
        [
         "60",
         "5"
        ],
        [
         "thirty-two",
         "2"
        ],
        [
         "twenty-four",
         "2"
        ],
        [
         "thirty",
         "1"
        ],
        [
         "fifty-eight",
         "1"
        ],
        [
         "fifty-two",
         "1"
        ],
        [
         "twenty-six",
         "1"
        ],
        [
         "fifty-five",
         "1"
        ]
       ],
       "shape": {
        "columns": 1,
        "rows": 54
       }
      },
      "text/plain": [
       "age\n",
       "35              88\n",
       "31              88\n",
       "34              86\n",
       "29              82\n",
       "36              79\n",
       "32              66\n",
       "30              65\n",
       "38              64\n",
       "33              63\n",
       "40              60\n",
       "28              54\n",
       "37              54\n",
       "27              54\n",
       "45              50\n",
       "42              50\n",
       "41              48\n",
       "39              46\n",
       "26              46\n",
       "43              42\n",
       "46              38\n",
       "44              34\n",
       "50              34\n",
       "47              30\n",
       "24              29\n",
       "25              28\n",
       "49              26\n",
       "55              25\n",
       "51              22\n",
       "48              22\n",
       "53              20\n",
       "54              20\n",
       "52              18\n",
       "56              18\n",
       "21              17\n",
       "22              17\n",
       "58              16\n",
       "23              15\n",
       "59              11\n",
       "20              11\n",
       "18               9\n",
       "19               9\n",
       "57               6\n",
       "60               5\n",
       "thirty-two       2\n",
       "twenty-four      2\n",
       "thirty           1\n",
       "fifty-eight      1\n",
       "fifty-two        1\n",
       "twenty-six       1\n",
       "fifty-five       1\n",
       "thirty-seven     1\n",
       "thirty-six       1\n",
       "forty-seven      1\n",
       "thirty-one       1\n",
       "Name: count, dtype: int64"
      ]
     },
     "execution_count": 13,
     "metadata": {},
     "output_type": "execute_result"
    }
   ],
   "source": [
    "df['age'].value_counts()"
   ]
  },
  {
   "cell_type": "code",
   "execution_count": 14,
   "id": "a3d3ba1c",
   "metadata": {},
   "outputs": [],
   "source": [
    "# transformamos las edades escritas en palabras a números\n",
    "words_to_numbers = {\n",
    "    'eighteen': 18,\n",
    "    'nineteen': 19,\n",
    "    'twenty': 20,\n",
    "    'twenty-one': 21,\n",
    "    'twenty-two': 22,\n",
    "    'twenty-three': 23,\n",
    "    'twenty-four': 24,\n",
    "    'twenty-five': 25,\n",
    "    'twenty-six': 26,\n",
    "    'twenty-seven': 27,\n",
    "    'twenty-eight': 28,\n",
    "    'twenty-nine': 29,\n",
    "    'thirty': 30,\n",
    "    'thirty-one': 31,\n",
    "    'thirty-two': 32,\n",
    "    'thirty-three': 33,\n",
    "    'thirty-four': 34,\n",
    "    'thirty-five': 35,\n",
    "    'thirty-six': 36,\n",
    "    'thirty-seven': 37,\n",
    "    'forty-seven': 47,\n",
    "    'fifty-two': 52,\n",
    "    'fifty-five': 55,\n",
    "    'fifty-eight': 58\n",
    "}\n"
   ]
  },
  {
   "cell_type": "code",
   "execution_count": 15,
   "id": "50cdfbf6",
   "metadata": {},
   "outputs": [
    {
     "name": "stdout",
     "output_type": "stream",
     "text": [
      "int64\n",
      "age\n",
      "18     9\n",
      "19     9\n",
      "20    11\n",
      "21    17\n",
      "22    17\n",
      "23    15\n",
      "24    31\n",
      "25    28\n",
      "26    47\n",
      "27    54\n",
      "28    54\n",
      "29    82\n",
      "30    66\n",
      "31    89\n",
      "32    68\n",
      "33    63\n",
      "34    86\n",
      "35    88\n",
      "36    80\n",
      "37    55\n",
      "38    64\n",
      "39    46\n",
      "40    60\n",
      "41    48\n",
      "42    50\n",
      "43    42\n",
      "44    34\n",
      "45    50\n",
      "46    38\n",
      "47    31\n",
      "48    22\n",
      "49    26\n",
      "50    34\n",
      "51    22\n",
      "52    19\n",
      "53    20\n",
      "54    20\n",
      "55    26\n",
      "56    18\n",
      "57     6\n",
      "58    17\n",
      "59    11\n",
      "60     5\n",
      "Name: count, dtype: int64\n"
     ]
    }
   ],
   "source": [
    "# reemplazamos palabras por números, y convertimos la columna a tipo numérico\n",
    "df['age'] = df['age'].replace(words_to_numbers)\n",
    "df['age'] = pd.to_numeric(df['age'], errors='coerce')\n",
    "\n",
    "print(df['age'].dtype)\n",
    "print(df['age'].value_counts().sort_index())"
   ]
  },
  {
   "cell_type": "markdown",
   "id": "ff0b8f14",
   "metadata": {},
   "source": [
    "### 'attrition'"
   ]
  },
  {
   "cell_type": "code",
   "execution_count": 16,
   "id": "b6c9197e",
   "metadata": {},
   "outputs": [
    {
     "data": {
      "application/vnd.microsoft.datawrangler.viewer.v0+json": {
       "columns": [
        {
         "name": "attrition",
         "rawType": "object",
         "type": "string"
        },
        {
         "name": "count",
         "rawType": "int64",
         "type": "integer"
        }
       ],
       "ref": "4edbf44a-c4b8-44c3-9774-ec8c5ba995fd",
       "rows": [
        [
         "No",
         "1406"
        ],
        [
         "Yes",
         "272"
        ]
       ],
       "shape": {
        "columns": 1,
        "rows": 2
       }
      },
      "text/plain": [
       "attrition\n",
       "No     1406\n",
       "Yes     272\n",
       "Name: count, dtype: int64"
      ]
     },
     "execution_count": 16,
     "metadata": {},
     "output_type": "execute_result"
    }
   ],
   "source": [
    "df['attrition'].value_counts()"
   ]
  },
  {
   "cell_type": "code",
   "execution_count": 17,
   "id": "87e5ecb0",
   "metadata": {},
   "outputs": [
    {
     "name": "stdout",
     "output_type": "stream",
     "text": [
      "attrition\n",
      "no     1406\n",
      "yes     272\n",
      "Name: count, dtype: int64\n"
     ]
    }
   ],
   "source": [
    "df['attrition'] = df['attrition'].str.lower()\n",
    "print(df['attrition'].value_counts())"
   ]
  },
  {
   "cell_type": "markdown",
   "id": "2be9dace",
   "metadata": {},
   "source": [
    "### 'businesstravel'"
   ]
  },
  {
   "cell_type": "code",
   "execution_count": 18,
   "id": "648ca667",
   "metadata": {},
   "outputs": [
    {
     "data": {
      "application/vnd.microsoft.datawrangler.viewer.v0+json": {
       "columns": [
        {
         "name": "businesstravel",
         "rawType": "object",
         "type": "string"
        },
        {
         "name": "count",
         "rawType": "int64",
         "type": "integer"
        }
       ],
       "ref": "064c2ebb-59c0-414e-b265-9d3dbb4865e7",
       "rows": [
        [
         "travel_rarely",
         "616"
        ],
        [
         "travel_frequently",
         "168"
        ],
        [
         "non-travel",
         "93"
        ]
       ],
       "shape": {
        "columns": 1,
        "rows": 3
       }
      },
      "text/plain": [
       "businesstravel\n",
       "travel_rarely        616\n",
       "travel_frequently    168\n",
       "non-travel            93\n",
       "Name: count, dtype: int64"
      ]
     },
     "execution_count": 18,
     "metadata": {},
     "output_type": "execute_result"
    }
   ],
   "source": [
    "df['businesstravel'].value_counts()"
   ]
  },
  {
   "cell_type": "code",
   "execution_count": 19,
   "id": "959218ac",
   "metadata": {},
   "outputs": [
    {
     "name": "stdout",
     "output_type": "stream",
     "text": [
      "businesstravel\n",
      "travel_rarely        616\n",
      "travel_frequently    168\n",
      "non_travel            93\n",
      "Name: count, dtype: int64\n"
     ]
    }
   ],
   "source": [
    "df['businesstravel'] = df['businesstravel'].str.replace(' ', '_', regex=False)\n",
    "df['businesstravel'] = df['businesstravel'].str.replace('-', '_', regex=False).str.lower()\n",
    "print(df['businesstravel'].value_counts())"
   ]
  },
  {
   "cell_type": "markdown",
   "id": "f11ab088",
   "metadata": {},
   "source": [
    "### 'dailyrate'"
   ]
  },
  {
   "cell_type": "code",
   "execution_count": 20,
   "id": "b86db5b1",
   "metadata": {},
   "outputs": [
    {
     "data": {
      "application/vnd.microsoft.datawrangler.viewer.v0+json": {
       "columns": [
        {
         "name": "dailyrate",
         "rawType": "float64",
         "type": "float"
        },
        {
         "name": "count",
         "rawType": "int64",
         "type": "integer"
        }
       ],
       "ref": "e69752cd-f356-4570-ae20-4a5bcacdce08",
       "rows": [
        [
         "556.2566609977324",
         "326"
        ],
        [
         "290.03550973654063",
         "308"
        ],
        [
         "1032.4872861766066",
         "150"
        ],
        [
         "1582.7713464696226",
         "55"
        ],
        [
         "1973.9841269841268",
         "38"
        ],
        [
         "547.2380952380953",
         "5"
        ],
        [
         "654.8492063492064",
         "4"
        ],
        [
         "601.3015873015873",
         "3"
        ],
        [
         "410.9444444444444",
         "3"
        ],
        [
         "696.9444444444445",
         "3"
        ],
        [
         "447.2619047619048",
         "3"
        ],
        [
         "232.968253968254",
         "3"
        ],
        [
         "365.1349206349206",
         "3"
        ],
        [
         "356.1587301587302",
         "3"
        ],
        [
         "417.9603174603175",
         "3"
        ],
        [
         "274.13492063492066",
         "3"
        ],
        [
         "495.75396825396825",
         "3"
        ],
        [
         "1964.9603174603176",
         "3"
        ],
        [
         "209.75396825396828",
         "3"
        ],
        [
         "220.8968253968254",
         "2"
        ],
        [
         "800.2222222222223",
         "2"
        ],
        [
         "848.5079365079365",
         "2"
        ],
        [
         "287.96031746031747",
         "2"
        ],
        [
         "591.2936507936508",
         "2"
        ],
        [
         "429.4126984126984",
         "2"
        ],
        [
         "213.57142857142856",
         "2"
        ],
        [
         "261.96031746031747",
         "2"
        ],
        [
         "240.2936507936508",
         "2"
        ],
        [
         "269.2857142857143",
         "2"
        ],
        [
         "443.031746031746",
         "2"
        ],
        [
         "693.8492063492063",
         "2"
        ],
        [
         "277.95238095238096",
         "2"
        ],
        [
         "528.3571428571429",
         "2"
        ],
        [
         "1874.888888888889",
         "2"
        ],
        [
         "245.2460317460317",
         "2"
        ],
        [
         "248.031746031746",
         "2"
        ],
        [
         "201.2936507936508",
         "2"
        ],
        [
         "333.1507936507937",
         "2"
        ],
        [
         "1003.2698412698412",
         "2"
        ],
        [
         "1118.928571428571",
         "2"
        ],
        [
         "458.8174603174604",
         "2"
        ],
        [
         "1842.801587301588",
         "2"
        ],
        [
         "1065.2777777777778",
         "2"
        ],
        [
         "210.6825396825397",
         "2"
        ],
        [
         "433.0238095238095",
         "2"
        ],
        [
         "291.05555555555554",
         "2"
        ],
        [
         "245.1428571428572",
         "2"
        ],
        [
         "456.4444444444444",
         "2"
        ],
        [
         "244.11111111111111",
         "2"
        ],
        [
         "253.2936507936508",
         "2"
        ]
       ],
       "shape": {
        "columns": 1,
        "rows": 673
       }
      },
      "text/plain": [
       "dailyrate\n",
       "556.256661     326\n",
       "290.035510     308\n",
       "1032.487286    150\n",
       "1582.771346     55\n",
       "1973.984127     38\n",
       "              ... \n",
       "320.047619       1\n",
       "470.063492       1\n",
       "436.428571       1\n",
       "501.325397       1\n",
       "2004.785714      1\n",
       "Name: count, Length: 673, dtype: int64"
      ]
     },
     "execution_count": 20,
     "metadata": {},
     "output_type": "execute_result"
    }
   ],
   "source": [
    "df['dailyrate'].value_counts()"
   ]
  },
  {
   "cell_type": "code",
   "execution_count": 21,
   "id": "d5b1d41a",
   "metadata": {},
   "outputs": [
    {
     "name": "stdout",
     "output_type": "stream",
     "text": [
      "dailyrate\n",
      "556.26     326\n",
      "290.04     308\n",
      "1032.49    150\n",
      "1582.77     55\n",
      "1973.98     38\n",
      "          ... \n",
      "320.05       1\n",
      "470.06       1\n",
      "436.43       1\n",
      "501.33       1\n",
      "2004.79      1\n",
      "Name: count, Length: 673, dtype: int64\n"
     ]
    }
   ],
   "source": [
    "# reducimos a dos decimales los valores de la columna 'dailyrate'\n",
    "df['dailyrate'] = df['dailyrate'].round(2)\n",
    "print(df['dailyrate'].value_counts())"
   ]
  },
  {
   "cell_type": "markdown",
   "id": "d6b7c5af",
   "metadata": {},
   "source": [
    "### 'department'"
   ]
  },
  {
   "cell_type": "code",
   "execution_count": 22,
   "id": "bb454c74",
   "metadata": {},
   "outputs": [
    {
     "data": {
      "application/vnd.microsoft.datawrangler.viewer.v0+json": {
       "columns": [
        {
         "name": "department",
         "rawType": "object",
         "type": "string"
        },
        {
         "name": "count",
         "rawType": "int64",
         "type": "integer"
        }
       ],
       "ref": "b70695d2-c522-40f5-a070-57159c1868b8",
       "rows": [
        [
         " Research & Development ",
         "203"
        ],
        [
         " Sales ",
         "93"
        ],
        [
         " Human Resources ",
         "16"
        ]
       ],
       "shape": {
        "columns": 1,
        "rows": 3
       }
      },
      "text/plain": [
       "department\n",
       "Research & Development     203\n",
       "Sales                       93\n",
       "Human Resources             16\n",
       "Name: count, dtype: int64"
      ]
     },
     "execution_count": 22,
     "metadata": {},
     "output_type": "execute_result"
    }
   ],
   "source": [
    "df['department'].value_counts()"
   ]
  },
  {
   "cell_type": "code",
   "execution_count": 23,
   "id": "3cef9611",
   "metadata": {},
   "outputs": [
    {
     "data": {
      "text/plain": [
       "array([nan, ' Research & Development ', ' Sales ', ' Human Resources '],\n",
       "      dtype=object)"
      ]
     },
     "execution_count": 23,
     "metadata": {},
     "output_type": "execute_result"
    }
   ],
   "source": [
    "df['department'].unique()"
   ]
  },
  {
   "cell_type": "code",
   "execution_count": 24,
   "id": "804a4e45",
   "metadata": {},
   "outputs": [
    {
     "name": "stdout",
     "output_type": "stream",
     "text": [
      "department\n",
      "research_&_development    203\n",
      "sales                      93\n",
      "human_resources            16\n",
      "Name: count, dtype: int64\n"
     ]
    }
   ],
   "source": [
    "df['department'] = df['department'].apply(\n",
    "    lambda x: x.strip().replace(' ', '_').lower() if pd.notna(x) else x\n",
    ")\n",
    "\n",
    "print(df['department'].value_counts())"
   ]
  },
  {
   "cell_type": "code",
   "execution_count": 25,
   "id": "1161e201",
   "metadata": {},
   "outputs": [
    {
     "data": {
      "text/plain": [
       "1366"
      ]
     },
     "execution_count": 25,
     "metadata": {},
     "output_type": "execute_result"
    }
   ],
   "source": [
    "df['department'].isnull().sum()"
   ]
  },
  {
   "cell_type": "code",
   "execution_count": 26,
   "id": "1ebfd3dd",
   "metadata": {},
   "outputs": [
    {
     "data": {
      "text/plain": [
       "array([nan, 'research_&_development', 'sales', 'human_resources'],\n",
       "      dtype=object)"
      ]
     },
     "execution_count": 26,
     "metadata": {},
     "output_type": "execute_result"
    }
   ],
   "source": [
    "df['department'].unique()"
   ]
  },
  {
   "cell_type": "markdown",
   "id": "20d566ae",
   "metadata": {},
   "source": [
    "### 'distancefromhome'"
   ]
  },
  {
   "cell_type": "code",
   "execution_count": 27,
   "id": "76e655c1",
   "metadata": {},
   "outputs": [
    {
     "data": {
      "application/vnd.microsoft.datawrangler.viewer.v0+json": {
       "columns": [
        {
         "name": "distancefromhome",
         "rawType": "int64",
         "type": "integer"
        },
        {
         "name": "count",
         "rawType": "int64",
         "type": "integer"
        }
       ],
       "ref": "20b1de26-7bea-41ab-a8fc-8ccd80ffdab7",
       "rows": [
        [
         "2",
         "228"
        ],
        [
         "1",
         "209"
        ],
        [
         "9",
         "89"
        ],
        [
         "10",
         "86"
        ],
        [
         "8",
         "85"
        ],
        [
         "7",
         "82"
        ],
        [
         "3",
         "79"
        ],
        [
         "5",
         "65"
        ],
        [
         "4",
         "64"
        ],
        [
         "6",
         "63"
        ],
        [
         "16",
         "31"
        ],
        [
         "11",
         "30"
        ],
        [
         "15",
         "28"
        ],
        [
         "23",
         "27"
        ],
        [
         "29",
         "26"
        ],
        [
         "25",
         "25"
        ],
        [
         "24",
         "25"
        ],
        [
         "18",
         "24"
        ],
        [
         "26",
         "23"
        ],
        [
         "12",
         "22"
        ],
        [
         "13",
         "21"
        ],
        [
         "14",
         "21"
        ],
        [
         "21",
         "20"
        ],
        [
         "17",
         "19"
        ],
        [
         "20",
         "19"
        ],
        [
         "28",
         "18"
        ],
        [
         "19",
         "17"
        ],
        [
         "22",
         "16"
        ],
        [
         "27",
         "14"
        ],
        [
         "-24",
         "12"
        ],
        [
         "-13",
         "12"
        ],
        [
         "-12",
         "11"
        ],
        [
         "-35",
         "8"
        ],
        [
         "-18",
         "8"
        ],
        [
         "-47",
         "8"
        ],
        [
         "-14",
         "7"
        ],
        [
         "-38",
         "7"
        ],
        [
         "-26",
         "7"
        ],
        [
         "-19",
         "6"
        ],
        [
         "-16",
         "6"
        ],
        [
         "-36",
         "6"
        ],
        [
         "-45",
         "6"
        ],
        [
         "-31",
         "6"
        ],
        [
         "-25",
         "6"
        ],
        [
         "-42",
         "6"
        ],
        [
         "-10",
         "6"
        ],
        [
         "-22",
         "5"
        ],
        [
         "-46",
         "5"
        ],
        [
         "-48",
         "5"
        ],
        [
         "-37",
         "5"
        ]
       ],
       "shape": {
        "columns": 1,
        "rows": 69
       }
      },
      "text/plain": [
       "distancefromhome\n",
       " 2     228\n",
       " 1     209\n",
       " 9      89\n",
       " 10     86\n",
       " 8      85\n",
       "      ... \n",
       "-21      2\n",
       "-34      2\n",
       "-43      2\n",
       "-39      1\n",
       "-40      1\n",
       "Name: count, Length: 69, dtype: int64"
      ]
     },
     "execution_count": 27,
     "metadata": {},
     "output_type": "execute_result"
    }
   ],
   "source": [
    "df['distancefromhome'].value_counts()"
   ]
  },
  {
   "cell_type": "code",
   "execution_count": 28,
   "id": "de0c9236",
   "metadata": {},
   "outputs": [
    {
     "name": "stdout",
     "output_type": "stream",
     "text": [
      "distancefromhome\n",
      "2     228\n",
      "1     209\n",
      "10     92\n",
      "9      89\n",
      "8      85\n",
      "7      82\n",
      "3      79\n",
      "5      65\n",
      "4      64\n",
      "6      63\n",
      "24     37\n",
      "16     37\n",
      "12     33\n",
      "13     33\n",
      "11     33\n",
      "18     32\n",
      "15     31\n",
      "25     31\n",
      "26     30\n",
      "29     30\n",
      "23     30\n",
      "14     28\n",
      "19     23\n",
      "20     23\n",
      "17     22\n",
      "21     22\n",
      "22     21\n",
      "28     20\n",
      "27     18\n",
      "47      8\n",
      "35      8\n",
      "38      7\n",
      "31      6\n",
      "36      6\n",
      "42      6\n",
      "45      6\n",
      "48      5\n",
      "37      5\n",
      "46      5\n",
      "32      4\n",
      "41      4\n",
      "30      4\n",
      "33      3\n",
      "44      3\n",
      "34      2\n",
      "49      2\n",
      "43      2\n",
      "39      1\n",
      "40      1\n",
      "Name: count, dtype: int64\n"
     ]
    }
   ],
   "source": [
    "# pasamos la distancia a positivos, ya que hay valores negativos\n",
    "df['distancefromhome'] = df['distancefromhome'].abs()\n",
    "print(df['distancefromhome'].value_counts())"
   ]
  },
  {
   "cell_type": "markdown",
   "id": "63b93145",
   "metadata": {},
   "source": [
    "### 'education'"
   ]
  },
  {
   "cell_type": "code",
   "execution_count": 29,
   "id": "ba694a59",
   "metadata": {},
   "outputs": [
    {
     "data": {
      "application/vnd.microsoft.datawrangler.viewer.v0+json": {
       "columns": [
        {
         "name": "education",
         "rawType": "int64",
         "type": "integer"
        },
        {
         "name": "count",
         "rawType": "int64",
         "type": "integer"
        }
       ],
       "ref": "e2a1c4ce-6c37-4005-b66f-cb753c72d0cf",
       "rows": [
        [
         "3",
         "649"
        ],
        [
         "4",
         "461"
        ],
        [
         "2",
         "322"
        ],
        [
         "1",
         "186"
        ],
        [
         "5",
         "60"
        ]
       ],
       "shape": {
        "columns": 1,
        "rows": 5
       }
      },
      "text/plain": [
       "education\n",
       "3    649\n",
       "4    461\n",
       "2    322\n",
       "1    186\n",
       "5     60\n",
       "Name: count, dtype: int64"
      ]
     },
     "execution_count": 29,
     "metadata": {},
     "output_type": "execute_result"
    }
   ],
   "source": [
    "df['education'].value_counts()"
   ]
  },
  {
   "cell_type": "markdown",
   "id": "9ee09e98",
   "metadata": {},
   "source": [
    "### 'educationfield'"
   ]
  },
  {
   "cell_type": "code",
   "execution_count": 30,
   "id": "e9eeadc2",
   "metadata": {},
   "outputs": [
    {
     "data": {
      "application/vnd.microsoft.datawrangler.viewer.v0+json": {
       "columns": [
        {
         "name": "educationfield",
         "rawType": "object",
         "type": "string"
        },
        {
         "name": "count",
         "rawType": "int64",
         "type": "integer"
        }
       ],
       "ref": "3ddc445c-c4b1-48a5-bd16-00436ef867a3",
       "rows": [
        [
         "Life Sciences",
         "367"
        ],
        [
         "Medical",
         "286"
        ],
        [
         "Marketing",
         "106"
        ],
        [
         "Technical Degree",
         "70"
        ],
        [
         "Other",
         "63"
        ],
        [
         "Human Resources",
         "12"
        ]
       ],
       "shape": {
        "columns": 1,
        "rows": 6
       }
      },
      "text/plain": [
       "educationfield\n",
       "Life Sciences       367\n",
       "Medical             286\n",
       "Marketing           106\n",
       "Technical Degree     70\n",
       "Other                63\n",
       "Human Resources      12\n",
       "Name: count, dtype: int64"
      ]
     },
     "execution_count": 30,
     "metadata": {},
     "output_type": "execute_result"
    }
   ],
   "source": [
    "df['educationfield'].value_counts()"
   ]
  },
  {
   "cell_type": "code",
   "execution_count": 31,
   "id": "d3735e82",
   "metadata": {},
   "outputs": [
    {
     "name": "stdout",
     "output_type": "stream",
     "text": [
      "educationfield\n",
      "nan                 774\n",
      "life_sciences       367\n",
      "medical             286\n",
      "marketing           106\n",
      "technical_degree     70\n",
      "other                63\n",
      "human_resources      12\n",
      "Name: count, dtype: int64\n"
     ]
    }
   ],
   "source": [
    "df['educationfield'] = (\n",
    "    df['educationfield']\n",
    "    .astype(str)                      \n",
    "    .str.strip('_')                   \n",
    "    .str.replace('_', ' ', regex=False)  \n",
    "    .str.strip()                      \n",
    "    .str.lower()                     \n",
    "    .str.replace(' ', '_', regex=False)  \n",
    ")\n",
    "print(df['educationfield'].value_counts())"
   ]
  },
  {
   "cell_type": "markdown",
   "id": "75b1a697",
   "metadata": {},
   "source": [
    "### 'employeecount'"
   ]
  },
  {
   "cell_type": "code",
   "execution_count": 32,
   "id": "83c7daf6",
   "metadata": {},
   "outputs": [
    {
     "data": {
      "application/vnd.microsoft.datawrangler.viewer.v0+json": {
       "columns": [
        {
         "name": "employeecount",
         "rawType": "int64",
         "type": "integer"
        },
        {
         "name": "count",
         "rawType": "int64",
         "type": "integer"
        }
       ],
       "ref": "821ac0d0-1354-42b1-b6e1-7fd832697dd1",
       "rows": [
        [
         "1",
         "1678"
        ]
       ],
       "shape": {
        "columns": 1,
        "rows": 1
       }
      },
      "text/plain": [
       "employeecount\n",
       "1    1678\n",
       "Name: count, dtype: int64"
      ]
     },
     "execution_count": 32,
     "metadata": {},
     "output_type": "execute_result"
    }
   ],
   "source": [
    "df['employeecount'].value_counts()"
   ]
  },
  {
   "cell_type": "code",
   "execution_count": 33,
   "id": "58835324",
   "metadata": {},
   "outputs": [],
   "source": [
    "# no aporta información útil, la eliminamos\n",
    "df = df.drop(columns='employeecount')"
   ]
  },
  {
   "cell_type": "markdown",
   "id": "eb55ee18",
   "metadata": {},
   "source": [
    "### 'employeenumber'"
   ]
  },
  {
   "cell_type": "code",
   "execution_count": null,
   "id": "d71ffe50",
   "metadata": {},
   "outputs": [],
   "source": [
    "df['employeenumber'].value_counts()"
   ]
  },
  {
   "cell_type": "code",
   "execution_count": null,
   "id": "9432b04d",
   "metadata": {},
   "outputs": [],
   "source": [
    "df[df.duplicated(subset='employeenumber', keep=False)].sort_values('employeenumber')\n"
   ]
  },
  {
   "cell_type": "code",
   "execution_count": null,
   "id": "0b14ce1b",
   "metadata": {},
   "outputs": [],
   "source": [
    "df = df.drop_duplicates()"
   ]
  },
  {
   "cell_type": "code",
   "execution_count": null,
   "id": "189b3257",
   "metadata": {},
   "outputs": [],
   "source": [
    "df['employeenumber'].is_unique"
   ]
  },
  {
   "cell_type": "code",
   "execution_count": null,
   "id": "0f9ef710",
   "metadata": {},
   "outputs": [],
   "source": [
    "df[df.duplicated(subset='employeenumber', keep=False)].sort_values('employeenumber')\n",
    "#obs . age = más de 100 borrarlos o emparejarlos con la edad menor de la base \n",
    "# y luego buscar los duplicados\n",
    "#age=unnamed"
   ]
  },
  {
   "cell_type": "code",
   "execution_count": null,
   "id": "bd074fe2",
   "metadata": {},
   "outputs": [],
   "source": [
    "print(f\"Número de employeenumber duplicados: {df.duplicated(subset='employeenumber').sum()}\")\n"
   ]
  },
  {
   "cell_type": "markdown",
   "id": "7edef499",
   "metadata": {},
   "source": [
    "### 'environmentsatisfaction'"
   ]
  },
  {
   "cell_type": "code",
   "execution_count": null,
   "id": "4e45840d",
   "metadata": {},
   "outputs": [],
   "source": [
    "df['environmentsatisfaction'].value_counts()"
   ]
  },
  {
   "cell_type": "code",
   "execution_count": null,
   "id": "5fdbeaca",
   "metadata": {},
   "outputs": [],
   "source": [
    "# detectamos valores no válidos, deberían ser del 1 al 4\n",
    "\n",
    "df['environmentsatisfaction'] = df['environmentsatisfaction'].apply(\n",
    "    lambda x: np.nan if x>4 else x\n",
    ")\n",
    "\n",
    "print(df['environmentsatisfaction'].value_counts())\n",
    "# puede ser que acá esté el problema - cambiamos los que no están en el rango por nan, \n",
    "# no los sacamos de la muestra "
   ]
  },
  {
   "cell_type": "code",
   "execution_count": null,
   "id": "d7a3a10f",
   "metadata": {},
   "outputs": [],
   "source": [
    "df['department'].isnull().sum()"
   ]
  },
  {
   "cell_type": "code",
   "execution_count": null,
   "id": "837acf9b",
   "metadata": {},
   "outputs": [],
   "source": [
    "# sustituimos los valores numéricos por texto para una mejor comprensión\n",
    "satisfaction_map = {\n",
    "    1: 'Low',\n",
    "    2: 'Medium',\n",
    "    3: 'High',\n",
    "    4: 'Very High'\n",
    "}\n",
    "\n",
    "df['environmentsatisfaction'] = df['environmentsatisfaction'].replace(satisfaction_map)\n",
    "print(df['environmentsatisfaction'].value_counts())"
   ]
  },
  {
   "cell_type": "code",
   "execution_count": null,
   "id": "a33bd8cc",
   "metadata": {},
   "outputs": [],
   "source": [
    "df['environmentsatisfaction'] = (\n",
    "    df['environmentsatisfaction']\n",
    "    .astype(str)                      \n",
    "    .str.strip('_')                   \n",
    "    .str.replace('_', ' ', regex=False)  \n",
    "    .str.strip()                      \n",
    "    .str.lower()                     \n",
    "    .str.replace(' ', '_', regex=False)  \n",
    ")\n",
    "print(df['environmentsatisfaction'].value_counts())"
   ]
  },
  {
   "cell_type": "markdown",
   "id": "43c53846",
   "metadata": {},
   "source": [
    "### 'gender'"
   ]
  },
  {
   "cell_type": "code",
   "execution_count": null,
   "id": "a56c3565",
   "metadata": {},
   "outputs": [],
   "source": [
    "df['gender'].value_counts()"
   ]
  },
  {
   "cell_type": "code",
   "execution_count": null,
   "id": "02952ee4",
   "metadata": {},
   "outputs": [],
   "source": [
    "# típicamente, 0 es femenino y 1 es masculino. Aún así, comprobamos con la media de dailyrate, que suele ser más alta en hombres que en mujeres\n",
    "df.groupby('gender')['dailyrate'].mean()\n"
   ]
  },
  {
   "cell_type": "code",
   "execution_count": null,
   "id": "2f5987e8",
   "metadata": {},
   "outputs": [],
   "source": [
    "gender_map = {\n",
    "    0: 'Female',\n",
    "    1: 'Male'\n",
    "}\n",
    "\n",
    "df['gender'] = df['gender'].replace(gender_map)\n",
    "df['gender'].value_counts()"
   ]
  },
  {
   "cell_type": "code",
   "execution_count": null,
   "id": "b15a9108",
   "metadata": {},
   "outputs": [],
   "source": [
    "df['gender'] = df['gender'].astype(str).str.lower()\n",
    "print(df['gender'].value_counts())"
   ]
  },
  {
   "cell_type": "markdown",
   "id": "65fdc9e3",
   "metadata": {},
   "source": [
    "### 'hourlyrate'"
   ]
  },
  {
   "cell_type": "code",
   "execution_count": null,
   "id": "a630fe82",
   "metadata": {},
   "outputs": [],
   "source": [
    "df['hourlyrate'].value_counts()"
   ]
  },
  {
   "cell_type": "code",
   "execution_count": null,
   "id": "3950ffca",
   "metadata": {},
   "outputs": [],
   "source": [
    "df['hourlyrate'] = df['hourlyrate'].round(2)"
   ]
  },
  {
   "cell_type": "markdown",
   "id": "61c4c78b",
   "metadata": {},
   "source": [
    "### 'jobinvolvement'"
   ]
  },
  {
   "cell_type": "code",
   "execution_count": null,
   "id": "e8f45e5e",
   "metadata": {},
   "outputs": [],
   "source": [
    "df['jobinvolvement'].value_counts()"
   ]
  },
  {
   "cell_type": "code",
   "execution_count": null,
   "id": "601451e4",
   "metadata": {},
   "outputs": [],
   "source": [
    "# sustituimos los valores numéricos por texto para una mejor comprensión\n",
    "jobinvolvement_map = {\n",
    "    1: 'Low',\n",
    "    2: 'Medium',\n",
    "    3: 'High',\n",
    "    4: 'Very High'\n",
    "}\n",
    "\n",
    "df['jobinvolvement'] = df['jobinvolvement'].replace(jobinvolvement_map)\n",
    "print(df['jobinvolvement'].value_counts())"
   ]
  },
  {
   "cell_type": "code",
   "execution_count": null,
   "id": "a31becba",
   "metadata": {},
   "outputs": [],
   "source": [
    "df['jobinvolvement'] = (\n",
    "    df['jobinvolvement']\n",
    "    .astype(str)                      \n",
    "    .str.strip('_')                   \n",
    "    .str.replace('_', ' ', regex=False)  \n",
    "    .str.strip()                      \n",
    "    .str.lower()                     \n",
    "    .str.replace(' ', '_', regex=False)  \n",
    ")\n",
    "print(df['jobinvolvement'].value_counts())"
   ]
  },
  {
   "cell_type": "markdown",
   "id": "e2638769",
   "metadata": {},
   "source": [
    "### 'joblevel'"
   ]
  },
  {
   "cell_type": "code",
   "execution_count": null,
   "id": "fcc5e015",
   "metadata": {},
   "outputs": [],
   "source": [
    "df['joblevel'].value_counts()"
   ]
  },
  {
   "cell_type": "code",
   "execution_count": null,
   "id": "4ceef6d1",
   "metadata": {},
   "outputs": [],
   "source": [
    "# comprobamos la media de dailyrate por joblevel, para establecer una relación entre el nivel de trabajo y la remuneración\n",
    "df.groupby('joblevel')['dailyrate'].mean()\n"
   ]
  },
  {
   "cell_type": "code",
   "execution_count": null,
   "id": "c03c0cb7",
   "metadata": {},
   "outputs": [],
   "source": [
    "joblevel_map = {\n",
    "    1: 'Entry Level',\n",
    "    2: 'Intermediate',\n",
    "    3: 'Senior',\n",
    "    4: 'Manager',\n",
    "    5: 'Executive'\n",
    "}\n",
    "df['joblevel'] = df['joblevel'].replace(joblevel_map)\n",
    "print(df['joblevel'].value_counts())"
   ]
  },
  {
   "cell_type": "code",
   "execution_count": null,
   "id": "657b5834",
   "metadata": {},
   "outputs": [],
   "source": [
    "df['joblevel'] = (\n",
    "    df['joblevel']\n",
    "    .astype(str)                      \n",
    "    .str.strip('_')                   \n",
    "    .str.replace('_', ' ', regex=False)  \n",
    "    .str.strip()                      \n",
    "    .str.lower()                     \n",
    "    .str.replace(' ', '_', regex=False)  \n",
    ")\n",
    "print(df['joblevel'].value_counts())"
   ]
  },
  {
   "cell_type": "markdown",
   "id": "5344876e",
   "metadata": {},
   "source": [
    "### 'jobrole'"
   ]
  },
  {
   "cell_type": "code",
   "execution_count": null,
   "id": "d405cd23",
   "metadata": {},
   "outputs": [],
   "source": [
    "df['jobrole'].value_counts()"
   ]
  },
  {
   "cell_type": "code",
   "execution_count": null,
   "id": "67b96475",
   "metadata": {},
   "outputs": [],
   "source": [
    "df['jobrole'] = df['jobrole'].str.strip().str.lower().str.title()\n",
    "df['jobrole'].value_counts()"
   ]
  },
  {
   "cell_type": "code",
   "execution_count": null,
   "id": "30ff06ff",
   "metadata": {},
   "outputs": [],
   "source": [
    "df['jobrole'] = (\n",
    "    df['jobrole']\n",
    "    .astype(str)                      \n",
    "    .str.strip('_')                   \n",
    "    .str.replace('_', ' ', regex=False)  \n",
    "    .str.strip()                      \n",
    "    .str.lower()                     \n",
    "    .str.replace(' ', '_', regex=False)  \n",
    ")\n",
    "print(df['jobrole'].value_counts())"
   ]
  },
  {
   "cell_type": "markdown",
   "id": "a2b4313c",
   "metadata": {},
   "source": [
    "### 'jobsatisfaction'"
   ]
  },
  {
   "cell_type": "code",
   "execution_count": null,
   "id": "937c8802",
   "metadata": {},
   "outputs": [],
   "source": [
    "df['jobsatisfaction'].value_counts()"
   ]
  },
  {
   "cell_type": "code",
   "execution_count": null,
   "id": "3f1d47ba",
   "metadata": {},
   "outputs": [],
   "source": [
    "satisfaction_map = {\n",
    "    1: 'Low',\n",
    "    2: 'Medium',\n",
    "    3: 'High',\n",
    "    4: 'Very High'\n",
    "}\n",
    "\n",
    "df['jobsatisfaction'] = df['jobsatisfaction'].replace(satisfaction_map)\n",
    "print(df['jobsatisfaction'].value_counts())"
   ]
  },
  {
   "cell_type": "code",
   "execution_count": null,
   "id": "4a793559",
   "metadata": {},
   "outputs": [],
   "source": [
    "df['jobsatisfaction'] = (\n",
    "    df['jobsatisfaction']\n",
    "    .astype(str)                      \n",
    "    .str.strip('_')                   \n",
    "    .str.replace('_', ' ', regex=False)  \n",
    "    .str.strip()                      \n",
    "    .str.lower()                     \n",
    "    .str.replace(' ', '_', regex=False)  \n",
    ")\n",
    "print(df['jobsatisfaction'].value_counts())"
   ]
  },
  {
   "cell_type": "markdown",
   "id": "7a0170b4",
   "metadata": {},
   "source": [
    "### 'maritalstatus'"
   ]
  },
  {
   "cell_type": "code",
   "execution_count": null,
   "id": "4e70d07a",
   "metadata": {},
   "outputs": [],
   "source": [
    "df['maritalstatus'].value_counts()"
   ]
  },
  {
   "cell_type": "code",
   "execution_count": null,
   "id": "7dcd08eb",
   "metadata": {},
   "outputs": [],
   "source": [
    "df['maritalstatus'] = df['maritalstatus'].str.strip().str.lower()\n",
    "print(df['maritalstatus'].value_counts())"
   ]
  },
  {
   "cell_type": "markdown",
   "id": "8abd0cdf",
   "metadata": {},
   "source": [
    "### 'monthlyincome'"
   ]
  },
  {
   "cell_type": "code",
   "execution_count": null,
   "id": "7e7ee9c5",
   "metadata": {},
   "outputs": [],
   "source": [
    "df['monthlyincome'].value_counts()"
   ]
  },
  {
   "cell_type": "code",
   "execution_count": null,
   "id": "3ab1ef6c",
   "metadata": {},
   "outputs": [],
   "source": [
    "# transformamos la columna 'monthlyincome' para que sea numérica, eliminando el símbolo de dólar y la coma\n",
    "df['monthlyincome'] = df['monthlyincome'].str.replace('$', '', regex=False)\n",
    "df['monthlyincome'] = df['monthlyincome'].str.replace(',', '.', regex=False)\n",
    "df['monthlyincome'] = pd.to_numeric(df['monthlyincome'], errors='coerce')"
   ]
  },
  {
   "cell_type": "code",
   "execution_count": null,
   "id": "43f8d4a9",
   "metadata": {},
   "outputs": [],
   "source": [
    "print(df['monthlyincome'].dtype)\n",
    "df['monthlyincome'].describe()\n",
    "df['monthlyincome'].value_counts()"
   ]
  },
  {
   "cell_type": "markdown",
   "id": "8a641cd8",
   "metadata": {},
   "source": [
    "### 'monthlyrate'"
   ]
  },
  {
   "cell_type": "code",
   "execution_count": null,
   "id": "92f5b523",
   "metadata": {},
   "outputs": [],
   "source": [
    "df['monthlyrate'].value_counts()"
   ]
  },
  {
   "cell_type": "code",
   "execution_count": null,
   "id": "2be745f9",
   "metadata": {},
   "outputs": [],
   "source": [
    "# pasamos a str para corregir símbolos y puntos, luego convertimos a numérico\n",
    "df['monthlyrate'] = df['monthlyrate'].astype(str)\n",
    "df['monthlyrate'] = df['monthlyrate'].str.replace('$', '', regex=False)\n",
    "df['monthlyrate'] = df['monthlyrate'].str.replace(',', '.', regex=False)\n",
    "df['monthlyrate'] = pd.to_numeric(df['monthlyrate'], errors='coerce')\n",
    "print(df['monthlyrate'].dtype)"
   ]
  },
  {
   "cell_type": "code",
   "execution_count": null,
   "id": "2d19b381",
   "metadata": {},
   "outputs": [],
   "source": [
    "df['monthlyrate'].value_counts()"
   ]
  },
  {
   "cell_type": "markdown",
   "id": "8a40e358",
   "metadata": {},
   "source": [
    "### 'numcompaniesworked'"
   ]
  },
  {
   "cell_type": "code",
   "execution_count": null,
   "id": "256e329b",
   "metadata": {},
   "outputs": [],
   "source": [
    "df['numcompaniesworked'].value_counts()"
   ]
  },
  {
   "cell_type": "markdown",
   "id": "63775a49",
   "metadata": {},
   "source": [
    "### 'overtime'"
   ]
  },
  {
   "cell_type": "code",
   "execution_count": null,
   "id": "8052970a",
   "metadata": {},
   "outputs": [],
   "source": [
    "df['overtime'].value_counts()"
   ]
  },
  {
   "cell_type": "code",
   "execution_count": null,
   "id": "f3ceba1e",
   "metadata": {},
   "outputs": [],
   "source": [
    "df['overtime'] = df['overtime'].str.strip().str.lower()\n",
    "print(df['overtime'].value_counts())"
   ]
  },
  {
   "cell_type": "markdown",
   "id": "83b07e1d",
   "metadata": {},
   "source": [
    "### 'percentsalaryhike'"
   ]
  },
  {
   "cell_type": "code",
   "execution_count": null,
   "id": "06f45d27",
   "metadata": {},
   "outputs": [],
   "source": [
    "# porcentaje de aumento salarial\n",
    "df['percentsalaryhike'].value_counts()"
   ]
  },
  {
   "cell_type": "markdown",
   "id": "15f17596",
   "metadata": {},
   "source": [
    "### 'performancerating'"
   ]
  },
  {
   "cell_type": "code",
   "execution_count": null,
   "id": "462f325c",
   "metadata": {},
   "outputs": [],
   "source": [
    "df['performancerating'].value_counts()"
   ]
  },
  {
   "cell_type": "code",
   "execution_count": null,
   "id": "b6a52771",
   "metadata": {},
   "outputs": [],
   "source": [
    "# puede servir para descartar una hipótesis, por ejemplo: \"¿El desempeño influye en que una persona se vaya o esté satisfecha?”"
   ]
  },
  {
   "cell_type": "markdown",
   "id": "5f00cf02",
   "metadata": {},
   "source": [
    "### 'standardhours'"
   ]
  },
  {
   "cell_type": "code",
   "execution_count": null,
   "id": "eb0292d9",
   "metadata": {},
   "outputs": [],
   "source": [
    "df['standardhours'].value_counts()"
   ]
  },
  {
   "cell_type": "code",
   "execution_count": null,
   "id": "349ae53d",
   "metadata": {},
   "outputs": [],
   "source": [
    "df['standardhours'] = (\n",
    "    df['standardhours']\n",
    "    .astype(str)                      \n",
    "    .str.strip('_')                   \n",
    "    .str.replace('_', ' ', regex=False)  \n",
    "    .str.strip()                      \n",
    "    .str.lower()                     \n",
    "    .str.replace(' ', '_', regex=False)  \n",
    ")\n",
    "print(df['standardhours'].value_counts())"
   ]
  },
  {
   "cell_type": "markdown",
   "id": "79c0f9ec",
   "metadata": {},
   "source": [
    "### 'relationshipsatisfaction'"
   ]
  },
  {
   "cell_type": "code",
   "execution_count": null,
   "id": "8117c8cc",
   "metadata": {},
   "outputs": [],
   "source": [
    "rel_map = {\n",
    "    1: 'Low',\n",
    "    2: 'Medium',\n",
    "    3: 'High',\n",
    "    4: 'Very High'\n",
    "}\n",
    "df['relationshipsatisfaction'] = df['relationshipsatisfaction'].replace(rel_map)\n",
    "print(df['relationshipsatisfaction'].value_counts())"
   ]
  },
  {
   "cell_type": "code",
   "execution_count": null,
   "id": "f9eb4a73",
   "metadata": {},
   "outputs": [],
   "source": [
    "df['relationshipsatisfaction'] = (\n",
    "    df['relationshipsatisfaction']\n",
    "    .astype(str)                      \n",
    "    .str.strip('_')                   \n",
    "    .str.replace('_', ' ', regex=False)  \n",
    "    .str.strip()                      \n",
    "    .str.lower()                     \n",
    "    .str.replace(' ', '_', regex=False)  \n",
    ")\n",
    "print(df['relationshipsatisfaction'].value_counts())"
   ]
  },
  {
   "cell_type": "markdown",
   "id": "46935132",
   "metadata": {},
   "source": [
    "### 'stockoptionlevel'"
   ]
  },
  {
   "cell_type": "code",
   "execution_count": null,
   "id": "4cc9ae5d",
   "metadata": {},
   "outputs": [],
   "source": [
    "df[ 'stockoptionlevel'].value_counts()"
   ]
  },
  {
   "cell_type": "code",
   "execution_count": null,
   "id": "e90b38e1",
   "metadata": {},
   "outputs": [],
   "source": [
    "# Esta variable indica el nivel de opciones sobre acciones que tiene asignadas cada persona. Es decir, si reciben parte de su compensación en acciones de la empresa. Los niveles más altos suelen asignarse a empleados de mayor nivel o con mejor rendimiento.\n",
    "# 0: No stock options / 1-3: Diferentes niveles de acciones asignadas"
   ]
  },
  {
   "cell_type": "markdown",
   "id": "524c656b",
   "metadata": {},
   "source": [
    "### 'totalworkingyears'"
   ]
  },
  {
   "cell_type": "code",
   "execution_count": null,
   "id": "f441a5a0",
   "metadata": {},
   "outputs": [],
   "source": [
    "df['totalworkingyears'].value_counts()"
   ]
  },
  {
   "cell_type": "code",
   "execution_count": null,
   "id": "bffa3c60",
   "metadata": {},
   "outputs": [],
   "source": [
    "df['totalworkingyears'].isna().sum()"
   ]
  },
  {
   "cell_type": "code",
   "execution_count": null,
   "id": "531263d5",
   "metadata": {},
   "outputs": [],
   "source": [
    "df['totalworkingyears'] = (\n",
    "    df['totalworkingyears']\n",
    "    .astype(str)\n",
    "    .replace('<NA>', np.nan)                   \n",
    "    .str.replace(',', '.', regex=False)        \n",
    "    .astype(float)\n",
    "    .astype('Int64')                           \n",
    ")\n",
    "print(df['totalworkingyears'].dtype)\n",
    "print(df['totalworkingyears'].value_counts())"
   ]
  },
  {
   "cell_type": "markdown",
   "id": "2050bc0d",
   "metadata": {},
   "source": [
    "### 'trainingtimeslastyear'"
   ]
  },
  {
   "cell_type": "code",
   "execution_count": null,
   "id": "1a76111b",
   "metadata": {},
   "outputs": [],
   "source": [
    "df['trainingtimeslastyear'].value_counts()"
   ]
  },
  {
   "cell_type": "markdown",
   "id": "4be7e6a9",
   "metadata": {},
   "source": [
    "### 'worklifebalance'"
   ]
  },
  {
   "cell_type": "code",
   "execution_count": null,
   "id": "59120267",
   "metadata": {},
   "outputs": [],
   "source": [
    "df['worklifebalance'].value_counts()"
   ]
  },
  {
   "cell_type": "code",
   "execution_count": null,
   "id": "3693fbcd",
   "metadata": {},
   "outputs": [],
   "source": [
    "df['worklifebalance'].isna().sum()"
   ]
  },
  {
   "cell_type": "code",
   "execution_count": null,
   "id": "504cd834",
   "metadata": {},
   "outputs": [],
   "source": [
    "df['worklifebalance'] = df['worklifebalance'].str.replace(',', '.').astype(float)\n",
    "\n",
    "df['worklifebalance'] = df['worklifebalance'].replace({\n",
    "    1.0: 'very_low',\n",
    "    2.0: 'low',\n",
    "    3.0: 'good',\n",
    "    4.0: 'excellent'\n",
    "})\n",
    "print(df['worklifebalance'].value_counts())"
   ]
  },
  {
   "cell_type": "markdown",
   "id": "b30d5542",
   "metadata": {},
   "source": [
    "### 'yearsatcompany'"
   ]
  },
  {
   "cell_type": "code",
   "execution_count": null,
   "id": "b302540e",
   "metadata": {},
   "outputs": [],
   "source": [
    "df['yearsatcompany'].value_counts()"
   ]
  },
  {
   "cell_type": "markdown",
   "id": "83ead82d",
   "metadata": {},
   "source": [
    "### 'yearssincelastpromotion'"
   ]
  },
  {
   "cell_type": "code",
   "execution_count": null,
   "id": "d6a841cd",
   "metadata": {},
   "outputs": [],
   "source": [
    "df['yearssincelastpromotion'].value_counts()"
   ]
  },
  {
   "cell_type": "markdown",
   "id": "e4d6ab35",
   "metadata": {},
   "source": [
    "### 'yearswithcurrmanager'"
   ]
  },
  {
   "cell_type": "code",
   "execution_count": null,
   "id": "1777568d",
   "metadata": {},
   "outputs": [],
   "source": [
    "df['yearswithcurrmanager'].value_counts()"
   ]
  },
  {
   "cell_type": "markdown",
   "id": "e2547c18",
   "metadata": {},
   "source": [
    "### 'sameasmonthlyincome'"
   ]
  },
  {
   "cell_type": "code",
   "execution_count": null,
   "id": "7f772cca",
   "metadata": {},
   "outputs": [],
   "source": [
    "df['sameasmonthlyincome'].value_counts()"
   ]
  },
  {
   "cell_type": "code",
   "execution_count": null,
   "id": "ab3f04e7",
   "metadata": {},
   "outputs": [],
   "source": [
    "# eliminamos porque es una copia de 'monthlyincome'\n",
    "df.drop(columns='sameasmonthlyincome', inplace=True)"
   ]
  },
  {
   "cell_type": "markdown",
   "id": "f62e8b43",
   "metadata": {},
   "source": [
    "### 'datebirth'"
   ]
  },
  {
   "cell_type": "code",
   "execution_count": null,
   "id": "69528b6b",
   "metadata": {},
   "outputs": [],
   "source": [
    "df['datebirth'].value_counts()"
   ]
  },
  {
   "cell_type": "code",
   "execution_count": null,
   "id": "be8ed72d",
   "metadata": {},
   "outputs": [],
   "source": [
    "df['datebirth'].describe()"
   ]
  },
  {
   "cell_type": "markdown",
   "id": "1e52d6e6",
   "metadata": {},
   "source": [
    "### 'salary'"
   ]
  },
  {
   "cell_type": "code",
   "execution_count": null,
   "id": "1c04075d",
   "metadata": {},
   "outputs": [],
   "source": [
    "df['salary'].value_counts()"
   ]
  },
  {
   "cell_type": "code",
   "execution_count": null,
   "id": "590c2b46",
   "metadata": {},
   "outputs": [],
   "source": [
    "# nos aseguramos de que sea tipo texto\n",
    "df['salary'] = df['salary'].astype(str)\n",
    "\n",
    "# eliminamos el símbolo $ y reemplazamos la coma por punto\n",
    "df['salary'] = df['salary'].str.replace('$', '', regex=False)\n",
    "df['salary'] = df['salary'].str.replace(',', '.', regex=False)\n",
    "\n",
    "# convertimos a número decimal (float)\n",
    "df['salary'] = pd.to_numeric(df['salary'], errors='coerce')\n",
    "print(df['salary'].dtype)\n",
    "print(df['salary'].value_counts())\n"
   ]
  },
  {
   "cell_type": "markdown",
   "id": "45fea340",
   "metadata": {},
   "source": [
    "### 'roledepartament'"
   ]
  },
  {
   "cell_type": "code",
   "execution_count": null,
   "id": "2817d4f2",
   "metadata": {},
   "outputs": [],
   "source": [
    "df['roledepartament'].value_counts()"
   ]
  },
  {
   "cell_type": "code",
   "execution_count": null,
   "id": "2d7451e7",
   "metadata": {},
   "outputs": [],
   "source": [
    "# ya tenemos las columnas 'jobrole' y 'department', así que eliminamos esta columna, que tiene un alto porcentaje de nulos\n",
    "# df.drop(columns='roledepartament', inplace=True)"
   ]
  },
  {
   "cell_type": "markdown",
   "id": "15665759",
   "metadata": {},
   "source": [
    "### 'remotework'"
   ]
  },
  {
   "cell_type": "code",
   "execution_count": null,
   "id": "7601111d",
   "metadata": {},
   "outputs": [],
   "source": [
    "df['remotework'].value_counts()"
   ]
  },
  {
   "cell_type": "code",
   "execution_count": null,
   "id": "650b146e",
   "metadata": {},
   "outputs": [],
   "source": [
    "# Convertimos todo a string para estandarizar\n",
    "df['remotework'] = df['remotework'].astype(str).str.strip().str.lower()\n",
    "\n",
    "# Reemplazamos todas las variantes por 'yes' o 'no'\n",
    "df['remotework'] = df['remotework'].replace({\n",
    "    '1': 'yes',\n",
    "    'true': 'yes',\n",
    "    'yes': 'yes',\n",
    "    '0': 'no',\n",
    "    'false': 'no'\n",
    "})\n",
    "print(df['remotework'].value_counts())"
   ]
  },
  {
   "cell_type": "code",
   "execution_count": null,
   "id": "32897758",
   "metadata": {},
   "outputs": [],
   "source": [
    "df = df.drop(columns=['Unnamed: 0'])"
   ]
  },
  {
   "cell_type": "code",
   "execution_count": null,
   "id": "11c759c6",
   "metadata": {},
   "outputs": [],
   "source": [
    "df.columns"
   ]
  },
  {
   "cell_type": "code",
   "execution_count": null,
   "id": "8966dd62",
   "metadata": {},
   "outputs": [],
   "source": [
    "df = df.rename(columns={'businesstravel': 'business_travel', \n",
    "                        'dailyrate': 'daily_rate',\n",
    "                        'distancefromhome': 'distance_from_home', \n",
    "                        'educationfield': 'education_field',\n",
    "                        'employeecount': 'employee_count',\n",
    "                        'employeenumber': 'employee_number',\n",
    "                        'environmentsatisfaction': 'environment_satisfaction',\n",
    "                        'hourlyrate': 'hourly_rate',\n",
    "                        'jobinvolvement': 'job_involvement',\n",
    "                        'joblevel': 'job_level',\n",
    "                        'jobrole': 'job_role',\n",
    "                        'jobsatisfaction': 'job_satisfaction',\n",
    "                        'maritalstatus': 'marital_status',\n",
    "                        'monthlyincome': 'monthly_income',\n",
    "                        'monthlyrate': 'monthly_rate',\n",
    "                        'numcompaniesworked': 'num_companies_worked',\n",
    "                        'percentsalaryhike': 'percent_salary_hike',\n",
    "                        'performancerating': 'performance_rating',\n",
    "                        'relationshipsatisfaction': 'relationship_satisfaction',\n",
    "                        'standardhours': 'standard_hours',\n",
    "                        'stockoptionlevel': 'stock_option_level',\n",
    "                        'totalworkingyears': 'total_working_years',\n",
    "                        'trainingtimeslastyear': 'training_times_last_year',\n",
    "                        'worklifebalance': 'work_life_balance',\n",
    "                        'yearsatcompany': 'years_at_company',\n",
    "                        'yearsincurrentrole': 'yearsincurrentrole',\n",
    "                        'yearssincelastpromotion': 'years_since_last_promotion',\n",
    "                        'yearswithcurrmanager': 'years_with_curr_manager',\n",
    "                        'datebirth': 'date_birth', \n",
    "                        'roledepartament': 'role_departament',\n",
    "                        'remotework': 'remote_work'})"
   ]
  },
  {
   "cell_type": "code",
   "execution_count": null,
   "id": "54a0f13c",
   "metadata": {},
   "outputs": [],
   "source": [
    "df.columns"
   ]
  },
  {
   "cell_type": "code",
   "execution_count": null,
   "id": "42cdf0f3",
   "metadata": {},
   "outputs": [],
   "source": [
    "nulls(df,1,1)"
   ]
  },
  {
   "cell_type": "code",
   "execution_count": null,
   "id": "e0d28401",
   "metadata": {},
   "outputs": [],
   "source": [
    "df['department'].unique()"
   ]
  },
  {
   "cell_type": "code",
   "execution_count": null,
   "id": "63950315",
   "metadata": {},
   "outputs": [],
   "source": [
    "df.columns"
   ]
  }
 ],
 "metadata": {
  "kernelspec": {
   "display_name": "base",
   "language": "python",
   "name": "python3"
  },
  "language_info": {
   "codemirror_mode": {
    "name": "ipython",
    "version": 3
   },
   "file_extension": ".py",
   "mimetype": "text/x-python",
   "name": "python",
   "nbconvert_exporter": "python",
   "pygments_lexer": "ipython3",
   "version": "3.12.7"
  }
 },
 "nbformat": 4,
 "nbformat_minor": 5
}
